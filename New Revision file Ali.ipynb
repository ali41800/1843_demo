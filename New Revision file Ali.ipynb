{
 "cells": [
  {
   "cell_type": "code",
   "execution_count": 1,
   "metadata": {},
   "outputs": [],
   "source": [
    "import numpy as np"
   ]
  },
  {
   "cell_type": "code",
   "execution_count": 2,
   "metadata": {},
   "outputs": [],
   "source": [
    "import pandas as pd"
   ]
  },
  {
   "cell_type": "code",
   "execution_count": 4,
   "metadata": {},
   "outputs": [],
   "source": [
    "a=10"
   ]
  },
  {
   "cell_type": "code",
   "execution_count": 5,
   "metadata": {},
   "outputs": [],
   "source": [
    "b=20"
   ]
  },
  {
   "cell_type": "code",
   "execution_count": 6,
   "metadata": {},
   "outputs": [
    {
     "data": {
      "text/plain": [
       "30"
      ]
     },
     "execution_count": 6,
     "metadata": {},
     "output_type": "execute_result"
    }
   ],
   "source": [
    "a+b"
   ]
  },
  {
   "cell_type": "code",
   "execution_count": 7,
   "metadata": {},
   "outputs": [
    {
     "data": {
      "text/plain": [
       "200"
      ]
     },
     "execution_count": 7,
     "metadata": {},
     "output_type": "execute_result"
    }
   ],
   "source": [
    "a*b"
   ]
  },
  {
   "cell_type": "code",
   "execution_count": 8,
   "metadata": {},
   "outputs": [],
   "source": [
    "a1=\"ali \""
   ]
  },
  {
   "cell_type": "code",
   "execution_count": 9,
   "metadata": {},
   "outputs": [],
   "source": [
    "a2=\"khan\""
   ]
  },
  {
   "cell_type": "code",
   "execution_count": 10,
   "metadata": {},
   "outputs": [
    {
     "data": {
      "text/plain": [
       "'ali khan'"
      ]
     },
     "execution_count": 10,
     "metadata": {},
     "output_type": "execute_result"
    }
   ],
   "source": [
    "a1+a2"
   ]
  },
  {
   "cell_type": "code",
   "execution_count": 11,
   "metadata": {},
   "outputs": [],
   "source": [
    "c=a*b"
   ]
  },
  {
   "cell_type": "code",
   "execution_count": 12,
   "metadata": {},
   "outputs": [
    {
     "data": {
      "text/plain": [
       "200"
      ]
     },
     "execution_count": 12,
     "metadata": {},
     "output_type": "execute_result"
    }
   ],
   "source": [
    "c"
   ]
  },
  {
   "cell_type": "code",
   "execution_count": 13,
   "metadata": {},
   "outputs": [],
   "source": [
    "d=a/b"
   ]
  },
  {
   "cell_type": "code",
   "execution_count": 14,
   "metadata": {},
   "outputs": [
    {
     "data": {
      "text/plain": [
       "0.5"
      ]
     },
     "execution_count": 14,
     "metadata": {},
     "output_type": "execute_result"
    }
   ],
   "source": [
    "d"
   ]
  },
  {
   "cell_type": "code",
   "execution_count": 15,
   "metadata": {},
   "outputs": [],
   "source": [
    "e=c*d"
   ]
  },
  {
   "cell_type": "code",
   "execution_count": 16,
   "metadata": {},
   "outputs": [
    {
     "data": {
      "text/plain": [
       "100.0"
      ]
     },
     "execution_count": 16,
     "metadata": {},
     "output_type": "execute_result"
    }
   ],
   "source": [
    "e"
   ]
  },
  {
   "cell_type": "code",
   "execution_count": 17,
   "metadata": {},
   "outputs": [
    {
     "name": "stdout",
     "output_type": "stream",
     "text": [
      "e=\n"
     ]
    }
   ],
   "source": [
    "print('e=')"
   ]
  },
  {
   "cell_type": "code",
   "execution_count": 18,
   "metadata": {},
   "outputs": [
    {
     "name": "stdout",
     "output_type": "stream",
     "text": [
      "e= 100.0\n"
     ]
    }
   ],
   "source": [
    "print('e=',e)"
   ]
  },
  {
   "cell_type": "code",
   "execution_count": 20,
   "metadata": {},
   "outputs": [
    {
     "name": "stdout",
     "output_type": "stream",
     "text": [
      "d= 0.5\n"
     ]
    }
   ],
   "source": [
    "print('d=',d)"
   ]
  },
  {
   "cell_type": "code",
   "execution_count": 21,
   "metadata": {},
   "outputs": [
    {
     "data": {
      "text/plain": [
       "300"
      ]
     },
     "execution_count": 21,
     "metadata": {},
     "output_type": "execute_result"
    }
   ],
   "source": [
    "#Area of rectangle\n",
    "#Area=lenght*Breadth\n",
    "\n",
    "lenght=10\n",
    "breadth=30\n",
    "area=lenght*breadth\n",
    "area"
   ]
  },
  {
   "cell_type": "code",
   "execution_count": 23,
   "metadata": {},
   "outputs": [
    {
     "name": "stdout",
     "output_type": "stream",
     "text": [
      "The area of rectrangle = 300\n"
     ]
    }
   ],
   "source": [
    "print('The area of rectrangle =',area)"
   ]
  },
  {
   "cell_type": "code",
   "execution_count": 25,
   "metadata": {},
   "outputs": [],
   "source": [
    "#perimeter of rectangle\n",
    "#peri=2(lenght*breadth)\n",
    "\n",
    "peri=2*(lenght*breadth)"
   ]
  },
  {
   "cell_type": "code",
   "execution_count": 26,
   "metadata": {},
   "outputs": [
    {
     "name": "stdout",
     "output_type": "stream",
     "text": [
      "Perimeter of Rectraingle = 600\n"
     ]
    }
   ],
   "source": [
    "print('Perimeter of Rectraingle =',peri)"
   ]
  },
  {
   "cell_type": "code",
   "execution_count": 27,
   "metadata": {},
   "outputs": [],
   "source": [
    "pi=3.50\n",
    "\n",
    "#area=pi*(radius**2)\n",
    "\n",
    "radius=5\n",
    "\n",
    "area=pi*(radius**2)"
   ]
  },
  {
   "cell_type": "code",
   "execution_count": 28,
   "metadata": {},
   "outputs": [
    {
     "data": {
      "text/plain": [
       "87.5"
      ]
     },
     "execution_count": 28,
     "metadata": {},
     "output_type": "execute_result"
    }
   ],
   "source": [
    "area"
   ]
  },
  {
   "cell_type": "code",
   "execution_count": 29,
   "metadata": {},
   "outputs": [
    {
     "data": {
      "text/plain": [
       "35.0"
      ]
     },
     "execution_count": 29,
     "metadata": {},
     "output_type": "execute_result"
    }
   ],
   "source": [
    "#circumference of circle\n",
    "#ci=2pi*radius\n",
    "\n",
    "ci=2*pi*radius\n",
    "ci"
   ]
  },
  {
   "cell_type": "markdown",
   "metadata": {},
   "source": [
    "## Boolean operation"
   ]
  },
  {
   "cell_type": "code",
   "execution_count": 30,
   "metadata": {},
   "outputs": [
    {
     "data": {
      "text/plain": [
       "True"
      ]
     },
     "execution_count": 30,
     "metadata": {},
     "output_type": "execute_result"
    }
   ],
   "source": [
    "9>4"
   ]
  },
  {
   "cell_type": "code",
   "execution_count": 31,
   "metadata": {},
   "outputs": [
    {
     "data": {
      "text/plain": [
       "True"
      ]
     },
     "execution_count": 31,
     "metadata": {},
     "output_type": "execute_result"
    }
   ],
   "source": [
    "18>10"
   ]
  },
  {
   "cell_type": "code",
   "execution_count": 32,
   "metadata": {},
   "outputs": [
    {
     "data": {
      "text/plain": [
       "True"
      ]
     },
     "execution_count": 32,
     "metadata": {},
     "output_type": "execute_result"
    }
   ],
   "source": [
    "5*2==10"
   ]
  },
  {
   "cell_type": "code",
   "execution_count": 33,
   "metadata": {},
   "outputs": [
    {
     "data": {
      "text/plain": [
       "True"
      ]
     },
     "execution_count": 33,
     "metadata": {},
     "output_type": "execute_result"
    }
   ],
   "source": [
    "10!=8\n",
    "#  ! =not equal sign"
   ]
  },
  {
   "cell_type": "markdown",
   "metadata": {},
   "source": [
    "## Concatenation of string"
   ]
  },
  {
   "cell_type": "code",
   "execution_count": 34,
   "metadata": {},
   "outputs": [
    {
     "data": {
      "text/plain": [
       "'happybirthday'"
      ]
     },
     "execution_count": 34,
     "metadata": {},
     "output_type": "execute_result"
    }
   ],
   "source": [
    "\"happy\"+\"birthday\""
   ]
  },
  {
   "cell_type": "code",
   "execution_count": 36,
   "metadata": {},
   "outputs": [
    {
     "data": {
      "text/plain": [
       "'happy ❤ birthday'"
      ]
     },
     "execution_count": 36,
     "metadata": {},
     "output_type": "execute_result"
    }
   ],
   "source": [
    "\"happy ❤ \"+\"birthday\""
   ]
  },
  {
   "cell_type": "markdown",
   "metadata": {},
   "source": [
    "## Input Function"
   ]
  },
  {
   "cell_type": "code",
   "execution_count": 37,
   "metadata": {},
   "outputs": [
    {
     "name": "stdout",
     "output_type": "stream",
     "text": [
      "entername  Ali😎\n"
     ]
    }
   ],
   "source": [
    "A1=input('entername')"
   ]
  },
  {
   "cell_type": "code",
   "execution_count": 38,
   "metadata": {},
   "outputs": [
    {
     "data": {
      "text/plain": [
       "'  Ali😎'"
      ]
     },
     "execution_count": 38,
     "metadata": {},
     "output_type": "execute_result"
    }
   ],
   "source": [
    "A1"
   ]
  },
  {
   "cell_type": "markdown",
   "metadata": {},
   "source": [
    "##  Type Function(it tell which type it is)"
   ]
  },
  {
   "cell_type": "code",
   "execution_count": 40,
   "metadata": {},
   "outputs": [
    {
     "data": {
      "text/plain": [
       "str"
      ]
     },
     "execution_count": 40,
     "metadata": {},
     "output_type": "execute_result"
    }
   ],
   "source": [
    "type(A1)"
   ]
  },
  {
   "cell_type": "code",
   "execution_count": 42,
   "metadata": {},
   "outputs": [
    {
     "data": {
      "text/plain": [
       "int"
      ]
     },
     "execution_count": 42,
     "metadata": {},
     "output_type": "execute_result"
    }
   ],
   "source": [
    "x=120\n",
    "type(x)\n",
    "\n"
   ]
  },
  {
   "cell_type": "code",
   "execution_count": 43,
   "metadata": {},
   "outputs": [
    {
     "data": {
      "text/plain": [
       "float"
      ]
     },
     "execution_count": 43,
     "metadata": {},
     "output_type": "execute_result"
    }
   ],
   "source": [
    "height=4.16\n",
    "type(height)"
   ]
  },
  {
   "cell_type": "markdown",
   "metadata": {},
   "source": [
    "## Type Casting (kisi bhi type ko hum kaise dikhana chahte hain)"
   ]
  },
  {
   "cell_type": "code",
   "execution_count": 45,
   "metadata": {},
   "outputs": [
    {
     "data": {
      "text/plain": [
       "120.0"
      ]
     },
     "execution_count": 45,
     "metadata": {},
     "output_type": "execute_result"
    }
   ],
   "source": [
    "float(x)"
   ]
  },
  {
   "cell_type": "code",
   "execution_count": 46,
   "metadata": {},
   "outputs": [
    {
     "data": {
      "text/plain": [
       "4"
      ]
     },
     "execution_count": 46,
     "metadata": {},
     "output_type": "execute_result"
    }
   ],
   "source": [
    "int(height)"
   ]
  },
  {
   "cell_type": "code",
   "execution_count": 47,
   "metadata": {},
   "outputs": [
    {
     "data": {
      "text/plain": [
       "str"
      ]
     },
     "execution_count": 47,
     "metadata": {},
     "output_type": "execute_result"
    }
   ],
   "source": [
    "t='45'\n",
    "type(t)"
   ]
  },
  {
   "cell_type": "code",
   "execution_count": 48,
   "metadata": {},
   "outputs": [
    {
     "data": {
      "text/plain": [
       "45"
      ]
     },
     "execution_count": 48,
     "metadata": {},
     "output_type": "execute_result"
    }
   ],
   "source": [
    "int(t)"
   ]
  },
  {
   "cell_type": "markdown",
   "metadata": {},
   "source": [
    "#### User_Input"
   ]
  },
  {
   "cell_type": "code",
   "execution_count": 50,
   "metadata": {},
   "outputs": [
    {
     "name": "stdout",
     "output_type": "stream",
     "text": [
      "entry 40\n"
     ]
    }
   ],
   "source": [
    "v=input('entry')"
   ]
  },
  {
   "cell_type": "code",
   "execution_count": 51,
   "metadata": {},
   "outputs": [
    {
     "name": "stdout",
     "output_type": "stream",
     "text": [
      "entry 50\n"
     ]
    }
   ],
   "source": [
    "b=input('entry')"
   ]
  },
  {
   "cell_type": "code",
   "execution_count": 52,
   "metadata": {},
   "outputs": [
    {
     "data": {
      "text/plain": [
       "str"
      ]
     },
     "execution_count": 52,
     "metadata": {},
     "output_type": "execute_result"
    }
   ],
   "source": [
    "type(v)\n",
    "# v aise to 40 hai joki integer hai per 'entry' me bracket lga hai isiliye wo string hai"
   ]
  },
  {
   "cell_type": "code",
   "execution_count": 53,
   "metadata": {},
   "outputs": [
    {
     "data": {
      "text/plain": [
       "str"
      ]
     },
     "execution_count": 53,
     "metadata": {},
     "output_type": "execute_result"
    }
   ],
   "source": [
    "type(b)"
   ]
  },
  {
   "cell_type": "code",
   "execution_count": 54,
   "metadata": {},
   "outputs": [
    {
     "data": {
      "text/plain": [
       "' 40 50'"
      ]
     },
     "execution_count": 54,
     "metadata": {},
     "output_type": "execute_result"
    }
   ],
   "source": [
    "v+b"
   ]
  },
  {
   "cell_type": "code",
   "execution_count": 55,
   "metadata": {},
   "outputs": [
    {
     "data": {
      "text/plain": [
       "90"
      ]
     },
     "execution_count": 55,
     "metadata": {},
     "output_type": "execute_result"
    }
   ],
   "source": [
    "int(v)+int(b)"
   ]
  },
  {
   "cell_type": "code",
   "execution_count": 57,
   "metadata": {},
   "outputs": [
    {
     "data": {
      "text/plain": [
       "10"
      ]
     },
     "execution_count": 57,
     "metadata": {},
     "output_type": "execute_result"
    }
   ],
   "source": [
    "len(\"menchester\")"
   ]
  },
  {
   "cell_type": "code",
   "execution_count": 58,
   "metadata": {},
   "outputs": [
    {
     "data": {
      "text/plain": [
       "8"
      ]
     },
     "execution_count": 58,
     "metadata": {},
     "output_type": "execute_result"
    }
   ],
   "source": [
    "len('new york')"
   ]
  },
  {
   "cell_type": "code",
   "execution_count": 59,
   "metadata": {},
   "outputs": [
    {
     "data": {
      "text/plain": [
       "37"
      ]
     },
     "execution_count": 59,
     "metadata": {},
     "output_type": "execute_result"
    }
   ],
   "source": [
    "len('my name is ali khan and i am a pathan')"
   ]
  },
  {
   "cell_type": "markdown",
   "metadata": {},
   "source": [
    "# Python data structure"
   ]
  },
  {
   "cell_type": "markdown",
   "metadata": {},
   "source": [
    "#data structure are of 4 types namely:\n",
    "\n",
    "1:list\n",
    "\n",
    "2:tuples\n",
    "\n",
    "3:dictionary\n",
    "\n",
    "4:sets"
   ]
  },
  {
   "cell_type": "code",
   "execution_count": 1,
   "metadata": {},
   "outputs": [],
   "source": [
    "l1=[1,2,3,4,5,6]\n",
    "#integer"
   ]
  },
  {
   "cell_type": "code",
   "execution_count": 2,
   "metadata": {},
   "outputs": [],
   "source": [
    "l2=[3.4,5.6,78.2,90.3,67.2]\n",
    "#float"
   ]
  },
  {
   "cell_type": "code",
   "execution_count": 3,
   "metadata": {},
   "outputs": [],
   "source": [
    "l3=[\"tony\",\"new york\",\"dubai\"]\n",
    "#string"
   ]
  },
  {
   "cell_type": "code",
   "execution_count": 4,
   "metadata": {},
   "outputs": [],
   "source": [
    "l4=[\"brussel\",78,99,23.5,\"true\"]\n",
    "#mixed of every type"
   ]
  },
  {
   "cell_type": "code",
   "execution_count": 6,
   "metadata": {},
   "outputs": [
    {
     "data": {
      "text/plain": [
       "5"
      ]
     },
     "execution_count": 6,
     "metadata": {},
     "output_type": "execute_result"
    }
   ],
   "source": [
    "len(l4)"
   ]
  },
  {
   "cell_type": "code",
   "execution_count": 7,
   "metadata": {},
   "outputs": [
    {
     "data": {
      "text/plain": [
       "5"
      ]
     },
     "execution_count": 7,
     "metadata": {},
     "output_type": "execute_result"
    }
   ],
   "source": [
    "len(l2)"
   ]
  },
  {
   "cell_type": "code",
   "execution_count": 8,
   "metadata": {},
   "outputs": [],
   "source": [
    "import pandas \n",
    "import numpy"
   ]
  },
  {
   "cell_type": "code",
   "execution_count": 9,
   "metadata": {},
   "outputs": [
    {
     "data": {
      "text/plain": [
       "78"
      ]
     },
     "execution_count": 9,
     "metadata": {},
     "output_type": "execute_result"
    }
   ],
   "source": [
    "l4[1]"
   ]
  },
  {
   "cell_type": "code",
   "execution_count": 10,
   "metadata": {},
   "outputs": [
    {
     "data": {
      "text/plain": [
       "'brussel'"
      ]
     },
     "execution_count": 10,
     "metadata": {},
     "output_type": "execute_result"
    }
   ],
   "source": [
    "l4[0]"
   ]
  },
  {
   "cell_type": "code",
   "execution_count": 12,
   "metadata": {},
   "outputs": [
    {
     "data": {
      "text/plain": [
       "'dubai'"
      ]
     },
     "execution_count": 12,
     "metadata": {},
     "output_type": "execute_result"
    }
   ],
   "source": [
    "l3[2]"
   ]
  },
  {
   "cell_type": "code",
   "execution_count": 13,
   "metadata": {},
   "outputs": [
    {
     "data": {
      "text/plain": [
       "['brussel', 78]"
      ]
     },
     "execution_count": 13,
     "metadata": {},
     "output_type": "execute_result"
    }
   ],
   "source": [
    "l4[0:2]\n",
    "#last ke ek digit se pehle ka dikhaega bas,jaise yaha 2 diya hai last to bss 1st tak dikhaega"
   ]
  },
  {
   "cell_type": "code",
   "execution_count": 15,
   "metadata": {},
   "outputs": [
    {
     "data": {
      "text/plain": [
       "[99, 23.5]"
      ]
     },
     "execution_count": 15,
     "metadata": {},
     "output_type": "execute_result"
    }
   ],
   "source": [
    "l4[-3:-1]\n",
    "#minus waale case me last digit ka jo number hai wo exact same rahega per jo 1st waala haii wo ek digit pehle show karega agar minus me hai to"
   ]
  },
  {
   "cell_type": "code",
   "execution_count": 16,
   "metadata": {},
   "outputs": [
    {
     "data": {
      "text/plain": [
       "['brussel', 78, 99, 23.5]"
      ]
     },
     "execution_count": 16,
     "metadata": {},
     "output_type": "execute_result"
    }
   ],
   "source": [
    "l4[0:-1]"
   ]
  },
  {
   "cell_type": "markdown",
   "metadata": {},
   "source": [
    "#### #there are certain method inside the list :\n",
    "1:append\n",
    "\n",
    "2:remove\n",
    "\n",
    "3:pop\n",
    "\n",
    "4:sort \n",
    "\n",
    "5:reverse \n",
    "\n",
    "6:insert"
   ]
  },
  {
   "cell_type": "code",
   "execution_count": 17,
   "metadata": {},
   "outputs": [],
   "source": [
    "citylist=[\"delhi\",\"london\",\"dubai\"]"
   ]
  },
  {
   "cell_type": "code",
   "execution_count": 18,
   "metadata": {},
   "outputs": [
    {
     "data": {
      "text/plain": [
       "['delhi', 'london', 'dubai']"
      ]
     },
     "execution_count": 18,
     "metadata": {},
     "output_type": "execute_result"
    }
   ],
   "source": [
    "citylist"
   ]
  },
  {
   "cell_type": "code",
   "execution_count": 19,
   "metadata": {},
   "outputs": [
    {
     "data": {
      "text/plain": [
       "3"
      ]
     },
     "execution_count": 19,
     "metadata": {},
     "output_type": "execute_result"
    }
   ],
   "source": [
    "len(citylist)"
   ]
  },
  {
   "cell_type": "code",
   "execution_count": 20,
   "metadata": {},
   "outputs": [],
   "source": [
    "citylist.append('Malta')"
   ]
  },
  {
   "cell_type": "code",
   "execution_count": 21,
   "metadata": {},
   "outputs": [
    {
     "data": {
      "text/plain": [
       "['delhi', 'london', 'dubai', 'Malta']"
      ]
     },
     "execution_count": 21,
     "metadata": {},
     "output_type": "execute_result"
    }
   ],
   "source": [
    "citylist"
   ]
  },
  {
   "cell_type": "code",
   "execution_count": 22,
   "metadata": {},
   "outputs": [],
   "source": [
    "citylist.append('Santorini')"
   ]
  },
  {
   "cell_type": "code",
   "execution_count": 23,
   "metadata": {},
   "outputs": [
    {
     "data": {
      "text/plain": [
       "['delhi', 'london', 'dubai', 'Malta', 'Santorini']"
      ]
     },
     "execution_count": 23,
     "metadata": {},
     "output_type": "execute_result"
    }
   ],
   "source": [
    "citylist"
   ]
  },
  {
   "cell_type": "code",
   "execution_count": 24,
   "metadata": {},
   "outputs": [
    {
     "data": {
      "text/plain": [
       "5"
      ]
     },
     "execution_count": 24,
     "metadata": {},
     "output_type": "execute_result"
    }
   ],
   "source": [
    "len(citylist)"
   ]
  },
  {
   "cell_type": "markdown",
   "metadata": {},
   "source": [
    "###### If we do append comm. ,result is usually added to last row,but by insert command we can add at any specific place where we want.."
   ]
  },
  {
   "cell_type": "code",
   "execution_count": 25,
   "metadata": {},
   "outputs": [],
   "source": [
    "citylist.insert(2,'New york')"
   ]
  },
  {
   "cell_type": "code",
   "execution_count": 26,
   "metadata": {},
   "outputs": [
    {
     "data": {
      "text/plain": [
       "['delhi', 'london', 'New york', 'dubai', 'Malta', 'Santorini']"
      ]
     },
     "execution_count": 26,
     "metadata": {},
     "output_type": "execute_result"
    }
   ],
   "source": [
    "citylist\n"
   ]
  },
  {
   "cell_type": "code",
   "execution_count": 27,
   "metadata": {},
   "outputs": [],
   "source": [
    "citylist.insert(5,'Tunisia')"
   ]
  },
  {
   "cell_type": "code",
   "execution_count": 28,
   "metadata": {},
   "outputs": [
    {
     "data": {
      "text/plain": [
       "['delhi', 'london', 'New york', 'dubai', 'Malta', 'Tunisia', 'Santorini']"
      ]
     },
     "execution_count": 28,
     "metadata": {},
     "output_type": "execute_result"
    }
   ],
   "source": [
    "citylist"
   ]
  },
  {
   "cell_type": "code",
   "execution_count": 29,
   "metadata": {},
   "outputs": [],
   "source": [
    "citylist.sort()\n",
    "#sort comm. arrange all the data into alphabetical order"
   ]
  },
  {
   "cell_type": "code",
   "execution_count": 30,
   "metadata": {},
   "outputs": [
    {
     "data": {
      "text/plain": [
       "['Malta', 'New york', 'Santorini', 'Tunisia', 'delhi', 'dubai', 'london']"
      ]
     },
     "execution_count": 30,
     "metadata": {},
     "output_type": "execute_result"
    }
   ],
   "source": [
    "citylist"
   ]
  },
  {
   "cell_type": "code",
   "execution_count": 31,
   "metadata": {},
   "outputs": [],
   "source": [
    "citylist.reverse()"
   ]
  },
  {
   "cell_type": "code",
   "execution_count": 32,
   "metadata": {},
   "outputs": [
    {
     "data": {
      "text/plain": [
       "['london', 'dubai', 'delhi', 'Tunisia', 'Santorini', 'New york', 'Malta']"
      ]
     },
     "execution_count": 32,
     "metadata": {},
     "output_type": "execute_result"
    }
   ],
   "source": [
    "citylist"
   ]
  },
  {
   "cell_type": "code",
   "execution_count": 33,
   "metadata": {},
   "outputs": [
    {
     "data": {
      "text/plain": [
       "'Malta'"
      ]
     },
     "execution_count": 33,
     "metadata": {},
     "output_type": "execute_result"
    }
   ],
   "source": [
    "citylist.pop()\n",
    "\n",
    "# here it will delete any item from the list randomly"
   ]
  },
  {
   "cell_type": "code",
   "execution_count": 34,
   "metadata": {},
   "outputs": [
    {
     "data": {
      "text/plain": [
       "'delhi'"
      ]
     },
     "execution_count": 34,
     "metadata": {},
     "output_type": "execute_result"
    }
   ],
   "source": [
    "citylist.pop(2)\n",
    "#here we have given index to pop command"
   ]
  },
  {
   "cell_type": "code",
   "execution_count": 35,
   "metadata": {},
   "outputs": [
    {
     "data": {
      "text/plain": [
       "['london', 'dubai', 'Tunisia', 'Santorini', 'New york']"
      ]
     },
     "execution_count": 35,
     "metadata": {},
     "output_type": "execute_result"
    }
   ],
   "source": [
    "citylist"
   ]
  },
  {
   "cell_type": "code",
   "execution_count": 37,
   "metadata": {},
   "outputs": [],
   "source": [
    "citylist.remove(\"london\")\n",
    "\n",
    "#here in remove statement we have to specifically define what we have to remove"
   ]
  },
  {
   "cell_type": "code",
   "execution_count": 39,
   "metadata": {},
   "outputs": [
    {
     "data": {
      "text/plain": [
       "'dubai'"
      ]
     },
     "execution_count": 39,
     "metadata": {},
     "output_type": "execute_result"
    }
   ],
   "source": [
    "citylist[0]"
   ]
  },
  {
   "cell_type": "code",
   "execution_count": 40,
   "metadata": {},
   "outputs": [],
   "source": [
    "# LIST ARE MUTABLE\n",
    "citylist[0]='Russia'"
   ]
  },
  {
   "cell_type": "code",
   "execution_count": 41,
   "metadata": {},
   "outputs": [
    {
     "data": {
      "text/plain": [
       "['Russia', 'Tunisia', 'Santorini', 'New york']"
      ]
     },
     "execution_count": 41,
     "metadata": {},
     "output_type": "execute_result"
    }
   ],
   "source": [
    "citylist"
   ]
  },
  {
   "cell_type": "code",
   "execution_count": 42,
   "metadata": {},
   "outputs": [],
   "source": [
    "# so here we can see in place of dubai we have given a value as russia✔"
   ]
  },
  {
   "cell_type": "code",
   "execution_count": 43,
   "metadata": {},
   "outputs": [],
   "source": [
    "# by CLEAR command we can clear whole list at once\n",
    "\n",
    "citylist.clear()"
   ]
  },
  {
   "cell_type": "code",
   "execution_count": 44,
   "metadata": {},
   "outputs": [
    {
     "data": {
      "text/plain": [
       "[]"
      ]
     },
     "execution_count": 44,
     "metadata": {},
     "output_type": "execute_result"
    }
   ],
   "source": [
    "citylist"
   ]
  },
  {
   "cell_type": "markdown",
   "metadata": {},
   "source": [
    "### List can be concatenated"
   ]
  },
  {
   "cell_type": "code",
   "execution_count": 1,
   "metadata": {},
   "outputs": [],
   "source": [
    "import numpy as np\n",
    "import pandas as pd"
   ]
  },
  {
   "cell_type": "code",
   "execution_count": 2,
   "metadata": {},
   "outputs": [],
   "source": [
    "fruit=['Apple🍎','grape🍇','strawberry🍓','watermelon🍉']\n",
    "veggie=['corn🌽','brinjal🍆','potatoes🥔','onion🧅']\n",
    "grocerrylist=fruit + veggie"
   ]
  },
  {
   "cell_type": "code",
   "execution_count": 3,
   "metadata": {},
   "outputs": [
    {
     "data": {
      "text/plain": [
       "['Apple🍎',\n",
       " 'grape🍇',\n",
       " 'strawberry🍓',\n",
       " 'watermelon🍉',\n",
       " 'corn🌽',\n",
       " 'brinjal🍆',\n",
       " 'potatoes🥔',\n",
       " 'onion🧅']"
      ]
     },
     "execution_count": 3,
     "metadata": {},
     "output_type": "execute_result"
    }
   ],
   "source": [
    "grocerrylist"
   ]
  },
  {
   "cell_type": "code",
   "execution_count": 4,
   "metadata": {},
   "outputs": [
    {
     "data": {
      "text/plain": [
       "['iphone', 'oppo', 'lava', 'voda', 'airtel', 'voda']"
      ]
     },
     "execution_count": 4,
     "metadata": {},
     "output_type": "execute_result"
    }
   ],
   "source": [
    "mobile=[\"iphone\",\"oppo\",\"lava\"]\n",
    "channel=[\"voda\",\"airtel\",\"voda\"]\n",
    "totallist=mobile+channel\n",
    "totallist"
   ]
  },
  {
   "cell_type": "markdown",
   "metadata": {},
   "source": [
    "## Tuples"
   ]
  },
  {
   "cell_type": "markdown",
   "metadata": {},
   "source": [
    "#In tuples we have to use ()\n",
    "\n",
    "these are immutable means we cannot change the element once it is created\n",
    "\n",
    "lets do some practicle"
   ]
  },
  {
   "cell_type": "code",
   "execution_count": 6,
   "metadata": {},
   "outputs": [],
   "source": [
    "tuple1=(1,2,3,4)"
   ]
  },
  {
   "cell_type": "code",
   "execution_count": 7,
   "metadata": {},
   "outputs": [],
   "source": [
    "tuple2=(5,6,7,8)"
   ]
  },
  {
   "cell_type": "code",
   "execution_count": 8,
   "metadata": {},
   "outputs": [],
   "source": [
    "tuple3=tuple1+tuple2"
   ]
  },
  {
   "cell_type": "code",
   "execution_count": 9,
   "metadata": {},
   "outputs": [
    {
     "data": {
      "text/plain": [
       "(1, 2, 3, 4, 5, 6, 7, 8)"
      ]
     },
     "execution_count": 9,
     "metadata": {},
     "output_type": "execute_result"
    }
   ],
   "source": [
    "tuple3"
   ]
  },
  {
   "cell_type": "markdown",
   "metadata": {},
   "source": [
    "tuple3[2]=3\n",
    "\n",
    "\n",
    "#it is throwing error bcz tuples are immutable"
   ]
  },
  {
   "cell_type": "markdown",
   "metadata": {},
   "source": [
    "##  Dictionary"
   ]
  },
  {
   "cell_type": "markdown",
   "metadata": {},
   "source": [
    "#Dictionary have 2 important item:  1-> keys\n",
    "\n",
    "                                \n",
    "                            2-> values\n",
    "                                    \n",
    " for example-> dict1={ key:value,key:value,key:value }\n",
    " \n",
    " dictionary are mutable and can be changed after creation"
   ]
  },
  {
   "cell_type": "code",
   "execution_count": 12,
   "metadata": {},
   "outputs": [],
   "source": [
    "ali1={'place':'Renukoot','age':24,'edu':'BCOM'}"
   ]
  },
  {
   "cell_type": "code",
   "execution_count": 13,
   "metadata": {},
   "outputs": [
    {
     "data": {
      "text/plain": [
       "{'place': 'Renukoot', 'age': 24, 'edu': 'BCOM'}"
      ]
     },
     "execution_count": 13,
     "metadata": {},
     "output_type": "execute_result"
    }
   ],
   "source": [
    "ali1"
   ]
  },
  {
   "cell_type": "code",
   "execution_count": 14,
   "metadata": {},
   "outputs": [
    {
     "data": {
      "text/plain": [
       "'Renukoot'"
      ]
     },
     "execution_count": 14,
     "metadata": {},
     "output_type": "execute_result"
    }
   ],
   "source": [
    "ali1['place']"
   ]
  },
  {
   "cell_type": "code",
   "execution_count": 15,
   "metadata": {},
   "outputs": [
    {
     "data": {
      "text/plain": [
       "'BCOM'"
      ]
     },
     "execution_count": 15,
     "metadata": {},
     "output_type": "execute_result"
    }
   ],
   "source": [
    "ali1['edu']"
   ]
  },
  {
   "cell_type": "code",
   "execution_count": 17,
   "metadata": {},
   "outputs": [],
   "source": [
    "ali1['age']=25\n",
    "\n",
    "#this mean dictionary are mutable and can easily be changed after creation\n"
   ]
  },
  {
   "cell_type": "code",
   "execution_count": 18,
   "metadata": {
    "scrolled": true
   },
   "outputs": [
    {
     "data": {
      "text/plain": [
       "3"
      ]
     },
     "execution_count": 18,
     "metadata": {},
     "output_type": "execute_result"
    }
   ],
   "source": [
    "len(ali1)"
   ]
  },
  {
   "cell_type": "code",
   "execution_count": 19,
   "metadata": {},
   "outputs": [
    {
     "data": {
      "text/plain": [
       "dict_keys(['place', 'age', 'edu'])"
      ]
     },
     "execution_count": 19,
     "metadata": {},
     "output_type": "execute_result"
    }
   ],
   "source": [
    "ali1.keys()"
   ]
  },
  {
   "cell_type": "code",
   "execution_count": 21,
   "metadata": {},
   "outputs": [
    {
     "data": {
      "text/plain": [
       "dict_values(['Renukoot', 25, 'BCOM'])"
      ]
     },
     "execution_count": 21,
     "metadata": {},
     "output_type": "execute_result"
    }
   ],
   "source": [
    "ali1.values()"
   ]
  },
  {
   "cell_type": "code",
   "execution_count": 22,
   "metadata": {},
   "outputs": [
    {
     "data": {
      "text/plain": [
       "dict_items([('place', 'Renukoot'), ('age', 25), ('edu', 'BCOM')])"
      ]
     },
     "execution_count": 22,
     "metadata": {},
     "output_type": "execute_result"
    }
   ],
   "source": [
    "ali1.items()"
   ]
  },
  {
   "cell_type": "code",
   "execution_count": 23,
   "metadata": {},
   "outputs": [],
   "source": [
    "#if we want to add a new coloum in dictionary we use update command\n",
    "\n",
    "ali1.update({'DOB':1995})"
   ]
  },
  {
   "cell_type": "code",
   "execution_count": 24,
   "metadata": {},
   "outputs": [
    {
     "data": {
      "text/plain": [
       "{'place': 'Renukoot', 'age': 25, 'edu': 'BCOM', 'DOB': 1995}"
      ]
     },
     "execution_count": 24,
     "metadata": {},
     "output_type": "execute_result"
    }
   ],
   "source": [
    "ali1"
   ]
  },
  {
   "cell_type": "code",
   "execution_count": 25,
   "metadata": {},
   "outputs": [],
   "source": [
    "ali1['DOB']=1996"
   ]
  },
  {
   "cell_type": "code",
   "execution_count": 26,
   "metadata": {},
   "outputs": [
    {
     "data": {
      "text/plain": [
       "{'place': 'Renukoot', 'age': 25, 'edu': 'BCOM', 'DOB': 1996}"
      ]
     },
     "execution_count": 26,
     "metadata": {},
     "output_type": "execute_result"
    }
   ],
   "source": [
    "ali1"
   ]
  },
  {
   "cell_type": "code",
   "execution_count": 27,
   "metadata": {},
   "outputs": [],
   "source": [
    "ali1.update({'Native':'Indian','dream':'Millionaire'})"
   ]
  },
  {
   "cell_type": "code",
   "execution_count": 28,
   "metadata": {},
   "outputs": [
    {
     "data": {
      "text/plain": [
       "{'place': 'Renukoot',\n",
       " 'age': 25,\n",
       " 'edu': 'BCOM',\n",
       " 'DOB': 1996,\n",
       " 'Native': 'Indian',\n",
       " 'dream': 'Millionaire'}"
      ]
     },
     "execution_count": 28,
     "metadata": {},
     "output_type": "execute_result"
    }
   ],
   "source": [
    "ali1"
   ]
  },
  {
   "cell_type": "markdown",
   "metadata": {},
   "source": [
    "## SETS"
   ]
  },
  {
   "cell_type": "markdown",
   "metadata": {},
   "source": [
    "##### x={22,33,44,56,78,90}\n",
    "\n",
    "\n",
    "these are unordered item,as curly brackets are used only for dictinory which consist of keys &values ..but as taken here clearly states that this command is in unordered form\n",
    "\n",
    "#sets cannot be indexxed"
   ]
  },
  {
   "cell_type": "code",
   "execution_count": 29,
   "metadata": {},
   "outputs": [],
   "source": [
    "x={22,33,44,56,78,90}"
   ]
  },
  {
   "cell_type": "code",
   "execution_count": 30,
   "metadata": {},
   "outputs": [
    {
     "data": {
      "text/plain": [
       "{22, 33, 44, 56, 78, 90}"
      ]
     },
     "execution_count": 30,
     "metadata": {},
     "output_type": "execute_result"
    }
   ],
   "source": [
    "x"
   ]
  },
  {
   "cell_type": "code",
   "execution_count": 31,
   "metadata": {},
   "outputs": [],
   "source": [
    "x1={22,33,56,78,90,90,20}\n",
    "#here we have 2 duplicate items 90-90,one duplicate will be removed"
   ]
  },
  {
   "cell_type": "code",
   "execution_count": 32,
   "metadata": {},
   "outputs": [
    {
     "data": {
      "text/plain": [
       "{20, 22, 33, 56, 78, 90}"
      ]
     },
     "execution_count": 32,
     "metadata": {},
     "output_type": "execute_result"
    }
   ],
   "source": [
    "x1"
   ]
  },
  {
   "cell_type": "code",
   "execution_count": 33,
   "metadata": {},
   "outputs": [
    {
     "data": {
      "text/plain": [
       "set"
      ]
     },
     "execution_count": 33,
     "metadata": {},
     "output_type": "execute_result"
    }
   ],
   "source": [
    "type(x1)"
   ]
  },
  {
   "cell_type": "markdown",
   "metadata": {},
   "source": [
    "x1[3]\n",
    "\n",
    "#sets cannot be indexxed"
   ]
  },
  {
   "cell_type": "markdown",
   "metadata": {},
   "source": [
    "x1[1]=200\n",
    "\n",
    "#set are immutable cannot be assigned"
   ]
  },
  {
   "cell_type": "markdown",
   "metadata": {},
   "source": [
    "-------------------------------------------------------------------------------------------------------"
   ]
  },
  {
   "cell_type": "markdown",
   "metadata": {},
   "source": [
    "## LOOPS"
   ]
  },
  {
   "cell_type": "markdown",
   "metadata": {},
   "source": [
    "#THERE ARE TWO KIND OF LOOPS IN PYTHON\n",
    "1. WHILE LOOP\n",
    "2. FOR LOOP\n",
    "\n",
    "-->WHILE LOOP EXAMPLE:-\n",
    "1. INITIALIZATION\n",
    "2. CONDITION\n",
    "3. INCREMENT\n",
    "\n",
    "EXAMPLE OF WHILE LOOP"
   ]
  },
  {
   "cell_type": "code",
   "execution_count": 1,
   "metadata": {},
   "outputs": [],
   "source": [
    "import numpy as np"
   ]
  },
  {
   "cell_type": "code",
   "execution_count": 2,
   "metadata": {},
   "outputs": [],
   "source": [
    "import pandas as pd"
   ]
  },
  {
   "cell_type": "code",
   "execution_count": 6,
   "metadata": {},
   "outputs": [
    {
     "name": "stdout",
     "output_type": "stream",
     "text": [
      "0\n",
      "1\n",
      "2\n",
      "3\n",
      "4\n"
     ]
    }
   ],
   "source": [
    "i=0                                    #initialization\n",
    "while (i<5):                           #condition\n",
    "    print(i)\n",
    "    i=i+1                              #increment"
   ]
  },
  {
   "cell_type": "code",
   "execution_count": 11,
   "metadata": {},
   "outputs": [
    {
     "name": "stdout",
     "output_type": "stream",
     "text": [
      "0\n",
      "2\n",
      "4\n",
      "6\n",
      "8\n"
     ]
    }
   ],
   "source": [
    "r=0\n",
    "while (r<10):\n",
    "    print(r)\n",
    "    r=r+2"
   ]
  },
  {
   "cell_type": "code",
   "execution_count": 12,
   "metadata": {},
   "outputs": [
    {
     "name": "stdout",
     "output_type": "stream",
     "text": [
      "2\n",
      "6\n",
      "10\n",
      "14\n",
      "18\n"
     ]
    }
   ],
   "source": [
    "v=2\n",
    "while(v<20):\n",
    "    print(v)\n",
    "    v=v+4"
   ]
  },
  {
   "cell_type": "code",
   "execution_count": 1,
   "metadata": {},
   "outputs": [
    {
     "name": "stdout",
     "output_type": "stream",
     "text": [
      "3\n",
      "15\n"
     ]
    }
   ],
   "source": [
    "t=3\n",
    "while(t<50):\n",
    "    print(t)\n",
    "    t=t*5"
   ]
  },
  {
   "cell_type": "code",
   "execution_count": 14,
   "metadata": {},
   "outputs": [
    {
     "name": "stdout",
     "output_type": "stream",
     "text": [
      "0\n",
      "5\n",
      "10\n",
      "15\n",
      "20\n",
      "25\n"
     ]
    }
   ],
   "source": [
    "j=0\n",
    "while(j<30):\n",
    "    print(j)\n",
    "    j=j+5"
   ]
  },
  {
   "cell_type": "code",
   "execution_count": 4,
   "metadata": {},
   "outputs": [
    {
     "name": "stdout",
     "output_type": "stream",
     "text": [
      "0 5 10 15 20 25 "
     ]
    }
   ],
   "source": [
    "j=0\n",
    "while(j<30):\n",
    "    print(j,end= \" \")\n",
    "    j=j+5\n",
    "    \n",
    "    \n",
    "#if we want answer horizentally we use - end=\"\""
   ]
  },
  {
   "cell_type": "code",
   "execution_count": 5,
   "metadata": {},
   "outputs": [
    {
     "name": "stdout",
     "output_type": "stream",
     "text": [
      "2\n",
      "4\n",
      "6\n",
      "8\n",
      "10\n",
      "12\n",
      "14\n",
      "16\n",
      "18\n"
     ]
    }
   ],
   "source": [
    "m=2\n",
    "while(m<20):\n",
    "    print(m)\n",
    "    m=m+2"
   ]
  },
  {
   "cell_type": "code",
   "execution_count": 6,
   "metadata": {},
   "outputs": [
    {
     "name": "stdout",
     "output_type": "stream",
     "text": [
      "2 4 6 8 10 12 14 16 18 "
     ]
    }
   ],
   "source": [
    "m=2\n",
    "while(m<20):\n",
    "    print(m,end=\" \")\n",
    "    m=m+2"
   ]
  },
  {
   "cell_type": "code",
   "execution_count": 7,
   "metadata": {},
   "outputs": [
    {
     "name": "stdout",
     "output_type": "stream",
     "text": [
      "5\n",
      "10\n",
      "15\n"
     ]
    }
   ],
   "source": [
    "count=5\n",
    "while(count<17):\n",
    "    print(count)\n",
    "    count=count+5"
   ]
  },
  {
   "cell_type": "code",
   "execution_count": 8,
   "metadata": {},
   "outputs": [
    {
     "name": "stdout",
     "output_type": "stream",
     "text": [
      "10\n",
      "12\n",
      "14\n",
      "16\n",
      "18\n"
     ]
    }
   ],
   "source": [
    "t=10\n",
    "while(t<20):\n",
    "    print(t)\n",
    "    t=t+2"
   ]
  },
  {
   "cell_type": "code",
   "execution_count": 9,
   "metadata": {},
   "outputs": [
    {
     "name": "stdout",
     "output_type": "stream",
     "text": [
      "0\n",
      "5\n",
      "10\n",
      "15\n"
     ]
    }
   ],
   "source": [
    "k=0\n",
    "while(k<20):\n",
    "    print(k)\n",
    "    k+=5\n",
    "    \n",
    "#another way of doing this"
   ]
  },
  {
   "cell_type": "markdown",
   "metadata": {},
   "source": [
    "### For Loop"
   ]
  },
  {
   "cell_type": "code",
   "execution_count": 1,
   "metadata": {},
   "outputs": [
    {
     "name": "stdout",
     "output_type": "stream",
     "text": [
      "1\n",
      "2\n",
      "3\n",
      "4\n",
      "5\n"
     ]
    }
   ],
   "source": [
    "for i in [1,2,3,4,5]:\n",
    "    print(i)"
   ]
  },
  {
   "cell_type": "code",
   "execution_count": 3,
   "metadata": {},
   "outputs": [
    {
     "name": "stdout",
     "output_type": "stream",
     "text": [
      "Mohd\n",
      "Ali\n",
      "Khan\n"
     ]
    }
   ],
   "source": [
    "for ali in ['Mohd','Ali','Khan']:\n",
    "    print(ali)"
   ]
  },
  {
   "cell_type": "code",
   "execution_count": 4,
   "metadata": {},
   "outputs": [
    {
     "name": "stdout",
     "output_type": "stream",
     "text": [
      "100\n",
      "200\n",
      "300\n"
     ]
    }
   ],
   "source": [
    "for j in [100,200,300]:\n",
    "    print (j)"
   ]
  },
  {
   "cell_type": "code",
   "execution_count": 5,
   "metadata": {},
   "outputs": [
    {
     "name": "stdout",
     "output_type": "stream",
     "text": [
      "1\n",
      "2\n",
      "3\n",
      "4\n",
      "5\n"
     ]
    }
   ],
   "source": [
    "abc=[1,2,3,4,5]\n",
    "for i in abc:\n",
    "    print(i)"
   ]
  },
  {
   "cell_type": "code",
   "execution_count": 6,
   "metadata": {},
   "outputs": [
    {
     "name": "stdout",
     "output_type": "stream",
     "text": [
      "sky\n",
      "earth\n",
      "water\n"
     ]
    }
   ],
   "source": [
    "awe=['sky','earth','water']\n",
    "for i in awe:\n",
    "    print (i)"
   ]
  },
  {
   "cell_type": "code",
   "execution_count": 9,
   "metadata": {},
   "outputs": [
    {
     "name": "stdout",
     "output_type": "stream",
     "text": [
      "cola\n",
      "The last value is  cola\n",
      "over\n",
      "pepsi\n",
      "The last value is  pepsi\n",
      "over\n",
      "thumpsup\n",
      "The last value is  thumpsup\n",
      "over\n"
     ]
    }
   ],
   "source": [
    "fundrink=['cola','pepsi','thumpsup']\n",
    "for i in fundrink:\n",
    "    print(i)\n",
    "    print('The last value is ',i)\n",
    "    print ('over')"
   ]
  },
  {
   "cell_type": "code",
   "execution_count": 10,
   "metadata": {},
   "outputs": [
    {
     "name": "stdout",
     "output_type": "stream",
     "text": [
      "1\n",
      "the last value is  1\n",
      "end\n",
      "2\n",
      "the last value is  2\n",
      "end\n",
      "3\n",
      "the last value is  3\n",
      "end\n",
      "4\n",
      "the last value is  4\n",
      "end\n",
      "5\n",
      "the last value is  5\n",
      "end\n"
     ]
    }
   ],
   "source": [
    "for i in [1,2,3,4,5]:\n",
    "    print (i)\n",
    "    print ('the last value is ',i)\n",
    "    print ('end')"
   ]
  },
  {
   "cell_type": "markdown",
   "metadata": {},
   "source": [
    "## Iterating through the dictionary"
   ]
  },
  {
   "cell_type": "markdown",
   "metadata": {},
   "source": [
    "we will iterate a dictionary over here"
   ]
  },
  {
   "cell_type": "code",
   "execution_count": 2,
   "metadata": {},
   "outputs": [
    {
     "name": "stdout",
     "output_type": "stream",
     "text": [
      "1\n",
      "2\n",
      "3\n",
      "4\n"
     ]
    }
   ],
   "source": [
    "dict1={1:'earth',2:'water',3:'sky',4:'forest'}\n",
    "for k in dict1:\n",
    "    print (k)\n",
    "    \n",
    "    \n",
    "    \n",
    "#if we do it normally it will give the 'key' as answer"
   ]
  },
  {
   "cell_type": "code",
   "execution_count": 3,
   "metadata": {},
   "outputs": [
    {
     "name": "stdout",
     "output_type": "stream",
     "text": [
      "earth\n",
      "water\n",
      "sky\n",
      "forest\n"
     ]
    }
   ],
   "source": [
    "dict1={1:'earth',2:'water',3:'sky',4:'forest'}\n",
    "for k in dict1:\n",
    "    print(dict1[k])\n",
    "    \n",
    "#if we do like this it will give the answer in \"value\""
   ]
  },
  {
   "cell_type": "code",
   "execution_count": 8,
   "metadata": {},
   "outputs": [
    {
     "name": "stdout",
     "output_type": "stream",
     "text": [
      "color\n",
      "fruit\n",
      "pet\n"
     ]
    }
   ],
   "source": [
    "a_dict={'color':'blue','fruit':'apple','pet':'dog'}\n",
    "for k in a_dict:\n",
    "    print (k)"
   ]
  },
  {
   "cell_type": "code",
   "execution_count": 9,
   "metadata": {},
   "outputs": [
    {
     "name": "stdout",
     "output_type": "stream",
     "text": [
      "blue\n",
      "apple\n",
      "dog\n"
     ]
    }
   ],
   "source": [
    "a_dict={'color':'blue','fruit':'apple','pet':'dog'}\n",
    "for k in a_dict:\n",
    "    print (a_dict[k])"
   ]
  },
  {
   "cell_type": "code",
   "execution_count": 10,
   "metadata": {},
   "outputs": [
    {
     "data": {
      "text/plain": [
       "dict_items([('color', 'blue'), ('fruit', 'apple'), ('pet', 'dog')])"
      ]
     },
     "execution_count": 10,
     "metadata": {},
     "output_type": "execute_result"
    }
   ],
   "source": [
    "a_dict.items()"
   ]
  },
  {
   "cell_type": "markdown",
   "metadata": {},
   "source": [
    "#### RANGE LOOP"
   ]
  },
  {
   "cell_type": "markdown",
   "metadata": {},
   "source": [
    "### Range loops is very effective and it help to reduce time like if we want to write any number consecutively we can use range loop"
   ]
  },
  {
   "cell_type": "code",
   "execution_count": 11,
   "metadata": {},
   "outputs": [
    {
     "data": {
      "text/plain": [
       "range"
      ]
     },
     "execution_count": 11,
     "metadata": {},
     "output_type": "execute_result"
    }
   ],
   "source": [
    "type(range(0,10))"
   ]
  },
  {
   "cell_type": "code",
   "execution_count": 13,
   "metadata": {},
   "outputs": [
    {
     "data": {
      "text/plain": [
       "[0, 1, 2, 3, 4, 5, 6, 7, 8, 9, 10]"
      ]
     },
     "execution_count": 13,
     "metadata": {},
     "output_type": "execute_result"
    }
   ],
   "source": [
    "list(range(0,11))"
   ]
  },
  {
   "cell_type": "code",
   "execution_count": 14,
   "metadata": {},
   "outputs": [],
   "source": [
    "x=list(range(0,11))"
   ]
  },
  {
   "cell_type": "code",
   "execution_count": 15,
   "metadata": {},
   "outputs": [
    {
     "data": {
      "text/plain": [
       "[0, 1, 2, 3, 4, 5, 6, 7, 8, 9, 10]"
      ]
     },
     "execution_count": 15,
     "metadata": {},
     "output_type": "execute_result"
    }
   ],
   "source": [
    "x"
   ]
  },
  {
   "cell_type": "code",
   "execution_count": 16,
   "metadata": {},
   "outputs": [
    {
     "name": "stdout",
     "output_type": "stream",
     "text": [
      "0\n",
      "1\n",
      "2\n",
      "3\n",
      "4\n",
      "5\n",
      "6\n",
      "7\n",
      "8\n",
      "9\n",
      "10\n"
     ]
    }
   ],
   "source": [
    "for i in range(0,11):\n",
    "    print (i)"
   ]
  },
  {
   "cell_type": "code",
   "execution_count": 17,
   "metadata": {},
   "outputs": [
    {
     "name": "stdout",
     "output_type": "stream",
     "text": [
      "0 1 2 3 4 5 6 7 8 9 10 "
     ]
    }
   ],
   "source": [
    "for i in range(0,11):\n",
    "    print (i,end=\" \")"
   ]
  },
  {
   "cell_type": "code",
   "execution_count": 21,
   "metadata": {},
   "outputs": [
    {
     "name": "stdout",
     "output_type": "stream",
     "text": [
      "0\n",
      "1\n",
      "2\n",
      "3\n",
      "4\n",
      "5\n",
      "6\n",
      "7\n",
      "8\n",
      "9\n",
      "10\n",
      "11\n",
      "12\n",
      "13\n",
      "14\n",
      "15\n",
      "16\n",
      "17\n",
      "18\n",
      "19\n"
     ]
    }
   ],
   "source": [
    "p=range(0,20)\n",
    "for i in p:\n",
    "    print(i)"
   ]
  },
  {
   "cell_type": "code",
   "execution_count": 22,
   "metadata": {},
   "outputs": [
    {
     "name": "stdout",
     "output_type": "stream",
     "text": [
      "0 1 2 3 4 5 6 7 8 9 10 11 12 13 14 15 16 17 18 19 "
     ]
    }
   ],
   "source": [
    "for i in p:\n",
    "    print(i,end=\" \")"
   ]
  },
  {
   "cell_type": "markdown",
   "metadata": {},
   "source": [
    "#### JUMP FUNCTION\n"
   ]
  },
  {
   "cell_type": "code",
   "execution_count": 23,
   "metadata": {},
   "outputs": [
    {
     "data": {
      "text/plain": [
       "[0, 4, 8, 12, 16]"
      ]
     },
     "execution_count": 23,
     "metadata": {},
     "output_type": "execute_result"
    }
   ],
   "source": [
    "list(range(0,20,4))"
   ]
  },
  {
   "cell_type": "code",
   "execution_count": 26,
   "metadata": {},
   "outputs": [
    {
     "name": "stdout",
     "output_type": "stream",
     "text": [
      "0\n",
      "5\n",
      "10\n",
      "15\n",
      "20\n",
      "25\n"
     ]
    }
   ],
   "source": [
    "j=(range(0,30,5))\n",
    "for i in j:\n",
    "    print (i)"
   ]
  },
  {
   "cell_type": "code",
   "execution_count": 27,
   "metadata": {},
   "outputs": [
    {
     "name": "stdout",
     "output_type": "stream",
     "text": [
      "0 3 6 9 12 15 18 21 "
     ]
    }
   ],
   "source": [
    "g=(range(0,22,3))\n",
    "for i in g:\n",
    "    print (i,end=\" \")"
   ]
  },
  {
   "cell_type": "code",
   "execution_count": 28,
   "metadata": {},
   "outputs": [
    {
     "data": {
      "text/plain": [
       "range"
      ]
     },
     "execution_count": 28,
     "metadata": {},
     "output_type": "execute_result"
    }
   ],
   "source": [
    "type(g)"
   ]
  },
  {
   "cell_type": "code",
   "execution_count": 29,
   "metadata": {},
   "outputs": [
    {
     "data": {
      "text/plain": [
       "range(0, 22, 3)"
      ]
     },
     "execution_count": 29,
     "metadata": {},
     "output_type": "execute_result"
    }
   ],
   "source": [
    "g"
   ]
  },
  {
   "cell_type": "markdown",
   "metadata": {},
   "source": [
    "### Interuption of loop iteration"
   ]
  },
  {
   "cell_type": "markdown",
   "metadata": {},
   "source": [
    "BREAK : it will break the loop, and here the loop is terminated ....CONTINUE :it will jump it will not break the loop"
   ]
  },
  {
   "cell_type": "code",
   "execution_count": 1,
   "metadata": {},
   "outputs": [
    {
     "name": "stdout",
     "output_type": "stream",
     "text": [
      "lemon\n",
      "apple\n",
      "orange\n",
      "banana\n"
     ]
    }
   ],
   "source": [
    "for i in ['lemon','apple','orange','banana']:\n",
    "    print (i)"
   ]
  },
  {
   "cell_type": "markdown",
   "metadata": {},
   "source": [
    "##### Break and Continue Statement"
   ]
  },
  {
   "cell_type": "code",
   "execution_count": 5,
   "metadata": {},
   "outputs": [
    {
     "name": "stdout",
     "output_type": "stream",
     "text": [
      "lemon\n",
      "appple\n"
     ]
    }
   ],
   "source": [
    "for i in ['lemon','appple','orange','banana']:\n",
    "    if i == 'orange':\n",
    "        break\n",
    "    print(i)"
   ]
  },
  {
   "cell_type": "markdown",
   "metadata": {},
   "source": [
    "Here it has termintaed the operation after it reaches orange"
   ]
  },
  {
   "cell_type": "code",
   "execution_count": 6,
   "metadata": {},
   "outputs": [
    {
     "name": "stdout",
     "output_type": "stream",
     "text": [
      "lemon\n",
      "appple\n",
      "banana\n"
     ]
    }
   ],
   "source": [
    "for i in ['lemon','appple','orange','banana']:\n",
    "    if i == 'orange':\n",
    "        continue\n",
    "    print (i)"
   ]
  },
  {
   "cell_type": "markdown",
   "metadata": {},
   "source": [
    "Here we can see that in continue statement its has jumped the value when orange came in the operation"
   ]
  },
  {
   "cell_type": "code",
   "execution_count": 7,
   "metadata": {},
   "outputs": [
    {
     "name": "stdout",
     "output_type": "stream",
     "text": [
      "ali\n",
      "samreen\n",
      "humaid\n"
     ]
    }
   ],
   "source": [
    "for i in ['ali','samreen','aira','humaid']:\n",
    "    if i =='aira':\n",
    "        continue\n",
    "    print (i)"
   ]
  },
  {
   "cell_type": "code",
   "execution_count": 8,
   "metadata": {},
   "outputs": [
    {
     "name": "stdout",
     "output_type": "stream",
     "text": [
      "red\n",
      "yellow\n",
      "pink\n"
     ]
    }
   ],
   "source": [
    "color=['red','yellow','pink','green','blue','purple']\n",
    "for i in color:\n",
    "    if i == 'green':\n",
    "        break\n",
    "    print (i)"
   ]
  },
  {
   "cell_type": "code",
   "execution_count": 9,
   "metadata": {},
   "outputs": [
    {
     "name": "stdout",
     "output_type": "stream",
     "text": [
      "red\n",
      "yellow\n",
      "pink\n",
      "blue\n",
      "purple\n"
     ]
    }
   ],
   "source": [
    "color=['red','yellow','pink','green','blue','purple']\n",
    "for i in color:\n",
    "    if i == 'green':\n",
    "        continue\n",
    "    print (i)"
   ]
  },
  {
   "cell_type": "markdown",
   "metadata": {},
   "source": [
    "## IF constructs"
   ]
  },
  {
   "cell_type": "code",
   "execution_count": 1,
   "metadata": {},
   "outputs": [
    {
     "name": "stdout",
     "output_type": "stream",
     "text": [
      "GOOD\n"
     ]
    }
   ],
   "source": [
    "m=40\n",
    "if (m>20):\n",
    "    print ('GOOD')\n",
    "    \n",
    "else:\n",
    "    print('NOT GOOD')"
   ]
  },
  {
   "cell_type": "code",
   "execution_count": 2,
   "metadata": {},
   "outputs": [
    {
     "name": "stdout",
     "output_type": "stream",
     "text": [
      "OKAY OKAY\n"
     ]
    }
   ],
   "source": [
    "marks=100\n",
    "if (marks<90):\n",
    "    print ('NOT OKAY')\n",
    "else:\n",
    "    print('OKAY OKAY')"
   ]
  },
  {
   "cell_type": "code",
   "execution_count": 3,
   "metadata": {},
   "outputs": [
    {
     "name": "stdout",
     "output_type": "stream",
     "text": [
      "yes\n"
     ]
    }
   ],
   "source": [
    "fact=2\n",
    "num=12\n",
    "if num%fact==0:\n",
    "    print('yes')\n",
    "else:\n",
    "    print('no')"
   ]
  },
  {
   "cell_type": "code",
   "execution_count": 4,
   "metadata": {},
   "outputs": [
    {
     "name": "stdout",
     "output_type": "stream",
     "text": [
      "no\n"
     ]
    }
   ],
   "source": [
    "fact=2\n",
    "num=12\n",
    "if num/fact==0:\n",
    "    print('yes')\n",
    "else:\n",
    "    print('no')"
   ]
  },
  {
   "cell_type": "markdown",
   "metadata": {},
   "source": [
    "### String Function"
   ]
  },
  {
   "cell_type": "code",
   "execution_count": 5,
   "metadata": {},
   "outputs": [],
   "source": [
    "word='Welcome To Python'"
   ]
  },
  {
   "cell_type": "code",
   "execution_count": 6,
   "metadata": {},
   "outputs": [
    {
     "data": {
      "text/plain": [
       "'Welcome To Python'"
      ]
     },
     "execution_count": 6,
     "metadata": {},
     "output_type": "execute_result"
    }
   ],
   "source": [
    "word"
   ]
  },
  {
   "cell_type": "code",
   "execution_count": 7,
   "metadata": {},
   "outputs": [
    {
     "data": {
      "text/plain": [
       "'welcome to python'"
      ]
     },
     "execution_count": 7,
     "metadata": {},
     "output_type": "execute_result"
    }
   ],
   "source": [
    "word.lower()"
   ]
  },
  {
   "cell_type": "code",
   "execution_count": 9,
   "metadata": {},
   "outputs": [
    {
     "data": {
      "text/plain": [
       "'WELCOME TO PYTHON'"
      ]
     },
     "execution_count": 9,
     "metadata": {},
     "output_type": "execute_result"
    }
   ],
   "source": [
    "word.upper()"
   ]
  },
  {
   "cell_type": "code",
   "execution_count": 10,
   "metadata": {},
   "outputs": [
    {
     "data": {
      "text/plain": [
       "'wELCOME tO pYTHON'"
      ]
     },
     "execution_count": 10,
     "metadata": {},
     "output_type": "execute_result"
    }
   ],
   "source": [
    "word.swapcase()\n",
    "#it will do randomly"
   ]
  },
  {
   "cell_type": "code",
   "execution_count": 11,
   "metadata": {},
   "outputs": [
    {
     "data": {
      "text/plain": [
       "['Welcome', 'To', 'Python']"
      ]
     },
     "execution_count": 11,
     "metadata": {},
     "output_type": "execute_result"
    }
   ],
   "source": [
    "word.split()"
   ]
  },
  {
   "cell_type": "markdown",
   "metadata": {},
   "source": [
    "### String Concatnation "
   ]
  },
  {
   "cell_type": "code",
   "execution_count": 12,
   "metadata": {},
   "outputs": [
    {
     "name": "stdout",
     "output_type": "stream",
     "text": [
      "NewHorizon\n",
      "New Horizon\n"
     ]
    }
   ],
   "source": [
    "str1='New'\n",
    "str2='Horizon'\n",
    "print(str1 +str2)\n",
    "print(str1+' '+str2)"
   ]
  },
  {
   "cell_type": "code",
   "execution_count": 13,
   "metadata": {},
   "outputs": [
    {
     "name": "stdout",
     "output_type": "stream",
     "text": [
      "I Have Apple and Orange\n"
     ]
    }
   ],
   "source": [
    "x='Apple'\n",
    "y='Orange'\n",
    "z='I Have %s and %s' %(x,y)\n",
    "print (z)"
   ]
  },
  {
   "cell_type": "markdown",
   "metadata": {},
   "source": [
    "-----------------------------------------------------\n",
    "1: %s :- string\n",
    "2: %(x,y) :- is formatting sign"
   ]
  },
  {
   "cell_type": "code",
   "execution_count": 15,
   "metadata": {},
   "outputs": [
    {
     "name": "stdout",
     "output_type": "stream",
     "text": [
      "His name is ALI and he is 24 year old\n"
     ]
    }
   ],
   "source": [
    "Name='ALI'\n",
    "age=24\n",
    "print (\"His name is {} and he is {} year old\".format(Name,age))"
   ]
  },
  {
   "cell_type": "markdown",
   "metadata": {},
   "source": [
    "## FUNCTIONS IN PYTHON"
   ]
  },
  {
   "cell_type": "code",
   "execution_count": 16,
   "metadata": {},
   "outputs": [
    {
     "name": "stdout",
     "output_type": "stream",
     "text": [
      "\n",
      "Welcome to Python 3.8's help utility!\n",
      "\n",
      "If this is your first time using Python, you should definitely check out\n",
      "the tutorial on the Internet at https://docs.python.org/3.8/tutorial/.\n",
      "\n",
      "Enter the name of any module, keyword, or topic to get help on writing\n",
      "Python programs and using Python modules.  To quit this help utility and\n",
      "return to the interpreter, just type \"quit\".\n",
      "\n",
      "To get a list of available modules, keywords, symbols, or topics, type\n",
      "\"modules\", \"keywords\", \"symbols\", or \"topics\".  Each module also comes\n",
      "with a one-line summary of what it does; to list the modules whose name\n",
      "or summary contain a given string such as \"spam\", type \"modules spam\".\n",
      "\n",
      "help> max\n",
      "Help on built-in function max in module builtins:\n",
      "\n",
      "max(...)\n",
      "    max(iterable, *[, default=obj, key=func]) -> value\n",
      "    max(arg1, arg2, *args, *[, key=func]) -> value\n",
      "    \n",
      "    With a single iterable argument, return its biggest item. The\n",
      "    default keyword-only argument specifies an object to return if\n",
      "    the provided iterable is empty.\n",
      "    With two or more arguments, return the largest argument.\n",
      "\n",
      "help> min\n",
      "Help on built-in function min in module builtins:\n",
      "\n",
      "min(...)\n",
      "    min(iterable, *[, default=obj, key=func]) -> value\n",
      "    min(arg1, arg2, *args, *[, key=func]) -> value\n",
      "    \n",
      "    With a single iterable argument, return its smallest item. The\n",
      "    default keyword-only argument specifies an object to return if\n",
      "    the provided iterable is empty.\n",
      "    With two or more arguments, return the smallest argument.\n",
      "\n",
      "\n",
      "You are now leaving help and returning to the Python interpreter.\n",
      "If you want to ask for help on a particular object directly from the\n",
      "interpreter, you can type \"help(object)\".  Executing \"help('string')\"\n",
      "has the same effect as typing a particular string at the help> prompt.\n"
     ]
    }
   ],
   "source": [
    "help()"
   ]
  },
  {
   "cell_type": "code",
   "execution_count": 1,
   "metadata": {},
   "outputs": [],
   "source": [
    "k=[20,30,40,50]"
   ]
  },
  {
   "cell_type": "code",
   "execution_count": 2,
   "metadata": {},
   "outputs": [
    {
     "data": {
      "text/plain": [
       "20"
      ]
     },
     "execution_count": 2,
     "metadata": {},
     "output_type": "execute_result"
    }
   ],
   "source": [
    "min(k)"
   ]
  },
  {
   "cell_type": "code",
   "execution_count": 3,
   "metadata": {},
   "outputs": [
    {
     "data": {
      "text/plain": [
       "50"
      ]
     },
     "execution_count": 3,
     "metadata": {},
     "output_type": "execute_result"
    }
   ],
   "source": [
    "max(k)"
   ]
  },
  {
   "cell_type": "markdown",
   "metadata": {},
   "source": [
    "## Making Function"
   ]
  },
  {
   "cell_type": "code",
   "execution_count": 1,
   "metadata": {},
   "outputs": [],
   "source": [
    "def function1():\n",
    "    print ('Khansahab')"
   ]
  },
  {
   "cell_type": "code",
   "execution_count": 2,
   "metadata": {},
   "outputs": [
    {
     "name": "stdout",
     "output_type": "stream",
     "text": [
      "Khansahab\n"
     ]
    }
   ],
   "source": [
    "function1()"
   ]
  },
  {
   "cell_type": "code",
   "execution_count": 3,
   "metadata": {},
   "outputs": [],
   "source": [
    "def function2():\n",
    "    print ('HelloHelloYellowYellow')"
   ]
  },
  {
   "cell_type": "code",
   "execution_count": 5,
   "metadata": {},
   "outputs": [
    {
     "name": "stdout",
     "output_type": "stream",
     "text": [
      "HelloHelloYellowYellow\n"
     ]
    }
   ],
   "source": [
    "function2()"
   ]
  },
  {
   "cell_type": "code",
   "execution_count": 6,
   "metadata": {},
   "outputs": [],
   "source": [
    "def function3():\n",
    "    print ('yellow_yellow dirty fellow')\n",
    "    print ('humse na ho paega')"
   ]
  },
  {
   "cell_type": "code",
   "execution_count": 7,
   "metadata": {},
   "outputs": [
    {
     "name": "stdout",
     "output_type": "stream",
     "text": [
      "yellow_yellow dirty fellow\n",
      "humse na ho paega\n"
     ]
    }
   ],
   "source": [
    "function3()"
   ]
  },
  {
   "cell_type": "code",
   "execution_count": 8,
   "metadata": {},
   "outputs": [],
   "source": [
    "def addition():\n",
    "    print (5+5)"
   ]
  },
  {
   "cell_type": "code",
   "execution_count": 9,
   "metadata": {},
   "outputs": [
    {
     "name": "stdout",
     "output_type": "stream",
     "text": [
      "10\n"
     ]
    }
   ],
   "source": [
    "addition()"
   ]
  },
  {
   "cell_type": "code",
   "execution_count": 10,
   "metadata": {},
   "outputs": [],
   "source": [
    "def subtraction():\n",
    "    print (7-2)"
   ]
  },
  {
   "cell_type": "code",
   "execution_count": 11,
   "metadata": {},
   "outputs": [
    {
     "name": "stdout",
     "output_type": "stream",
     "text": [
      "5\n"
     ]
    }
   ],
   "source": [
    "subtraction()"
   ]
  },
  {
   "cell_type": "code",
   "execution_count": 12,
   "metadata": {},
   "outputs": [],
   "source": [
    "def add1():\n",
    "    a=10\n",
    "    b=20\n",
    "    c=40\n",
    "    print (a+b+c)"
   ]
  },
  {
   "cell_type": "code",
   "execution_count": 13,
   "metadata": {},
   "outputs": [
    {
     "name": "stdout",
     "output_type": "stream",
     "text": [
      "70\n"
     ]
    }
   ],
   "source": [
    "add1()"
   ]
  },
  {
   "cell_type": "code",
   "execution_count": 14,
   "metadata": {},
   "outputs": [],
   "source": [
    "def example():\n",
    "    print (\"this is my first example\")\n",
    "    s=4*4\n",
    "    print(s)"
   ]
  },
  {
   "cell_type": "code",
   "execution_count": 15,
   "metadata": {},
   "outputs": [
    {
     "name": "stdout",
     "output_type": "stream",
     "text": [
      "this is my first example\n",
      "16\n"
     ]
    }
   ],
   "source": [
    "example()"
   ]
  },
  {
   "cell_type": "code",
   "execution_count": 20,
   "metadata": {},
   "outputs": [],
   "source": [
    "def ali():\n",
    "    print ('yoyo honey singh')\n",
    "    print ('sallu bhai')\n",
    "    salary = 80000*12\n",
    "    print (salary)"
   ]
  },
  {
   "cell_type": "code",
   "execution_count": 21,
   "metadata": {},
   "outputs": [
    {
     "name": "stdout",
     "output_type": "stream",
     "text": [
      "yoyo honey singh\n",
      "sallu bhai\n",
      "960000\n"
     ]
    }
   ],
   "source": [
    "ali()"
   ]
  },
  {
   "cell_type": "markdown",
   "metadata": {},
   "source": [
    "## Functions with Parameter"
   ]
  },
  {
   "cell_type": "code",
   "execution_count": 2,
   "metadata": {},
   "outputs": [],
   "source": [
    "def addition(a,b):\n",
    "    sum1=a+b\n",
    "    print(sum1)"
   ]
  },
  {
   "cell_type": "code",
   "execution_count": 3,
   "metadata": {},
   "outputs": [
    {
     "name": "stdout",
     "output_type": "stream",
     "text": [
      "10\n"
     ]
    }
   ],
   "source": [
    "addition(6,4)"
   ]
  },
  {
   "cell_type": "markdown",
   "metadata": {},
   "source": [
    "\n",
    "\n",
    "sum1()\n",
    "\n",
    "\n",
    "#here sum1 is a local variable and it has no value of itself"
   ]
  },
  {
   "cell_type": "code",
   "execution_count": 8,
   "metadata": {},
   "outputs": [],
   "source": [
    "def subtraction(c,d):\n",
    "    sum2=c-d\n",
    "    print (sum2)\n",
    "    "
   ]
  },
  {
   "cell_type": "code",
   "execution_count": 10,
   "metadata": {},
   "outputs": [
    {
     "name": "stdout",
     "output_type": "stream",
     "text": [
      "10\n"
     ]
    }
   ],
   "source": [
    "subtraction(30,20)"
   ]
  },
  {
   "cell_type": "markdown",
   "metadata": {},
   "source": [
    "##### this question is for example:"
   ]
  },
  {
   "cell_type": "code",
   "execution_count": 11,
   "metadata": {},
   "outputs": [],
   "source": [
    "def f():\n",
    "    x=5                                         #here x is a local variable and dont have its own value\n",
    "    print(x)"
   ]
  },
  {
   "cell_type": "markdown",
   "metadata": {},
   "source": [
    "x()\n",
    "\n",
    "\n",
    "#here x has no value bcz it is a local variable "
   ]
  },
  {
   "cell_type": "code",
   "execution_count": 14,
   "metadata": {},
   "outputs": [
    {
     "name": "stdout",
     "output_type": "stream",
     "text": [
      "5\n"
     ]
    }
   ],
   "source": [
    "f()\n",
    "#here only wat we define has a value"
   ]
  },
  {
   "cell_type": "code",
   "execution_count": 15,
   "metadata": {},
   "outputs": [],
   "source": [
    "def blank():\n",
    "    name=input('My name is ')"
   ]
  },
  {
   "cell_type": "code",
   "execution_count": 16,
   "metadata": {},
   "outputs": [
    {
     "name": "stdout",
     "output_type": "stream",
     "text": [
      "My name is Ali khan\n"
     ]
    }
   ],
   "source": [
    "blank()"
   ]
  },
  {
   "cell_type": "code",
   "execution_count": 17,
   "metadata": {},
   "outputs": [],
   "source": [
    "def run():\n",
    "    for x in range(6):\n",
    "        print(x)"
   ]
  },
  {
   "cell_type": "code",
   "execution_count": 18,
   "metadata": {},
   "outputs": [
    {
     "name": "stdout",
     "output_type": "stream",
     "text": [
      "0\n",
      "1\n",
      "2\n",
      "3\n",
      "4\n",
      "5\n"
     ]
    }
   ],
   "source": [
    "run()"
   ]
  },
  {
   "cell_type": "code",
   "execution_count": 19,
   "metadata": {},
   "outputs": [],
   "source": [
    "def run():\n",
    "    for x in range(2,20,2):\n",
    "        print (x)"
   ]
  },
  {
   "cell_type": "code",
   "execution_count": 21,
   "metadata": {},
   "outputs": [
    {
     "name": "stdout",
     "output_type": "stream",
     "text": [
      "2\n",
      "4\n",
      "6\n",
      "8\n",
      "10\n",
      "12\n",
      "14\n",
      "16\n",
      "18\n"
     ]
    }
   ],
   "source": [
    "run()"
   ]
  },
  {
   "cell_type": "markdown",
   "metadata": {},
   "source": [
    "### Return Statement"
   ]
  },
  {
   "cell_type": "markdown",
   "metadata": {},
   "source": [
    "###### Learn how to do this,concepts not clear"
   ]
  },
  {
   "cell_type": "markdown",
   "metadata": {},
   "source": [
    "# LAMBDA FUNCTION"
   ]
  },
  {
   "cell_type": "markdown",
   "metadata": {},
   "source": [
    "###### lambda function is a \"small function\" containing a \"single expression.\n",
    "Lambda function can also act as anonymous function where they dont require any name.\n",
    "These are very helpful when we have to perform small task with less function.\n",
    "\n",
    "The expression is composed of :\n",
    "\n",
    "1:keyword -LAMBDA\n",
    "\n",
    "2: a variable  - x\n",
    "\n",
    "3: a body - x*2\n",
    "\n",
    "Lambda x :x*2 \n",
    "\n",
    "it is a one line function but inside the function we can write multiple lines"
   ]
  },
  {
   "cell_type": "code",
   "execution_count": 22,
   "metadata": {},
   "outputs": [],
   "source": [
    "test=lambda x:x*2;"
   ]
  },
  {
   "cell_type": "code",
   "execution_count": 23,
   "metadata": {},
   "outputs": [
    {
     "data": {
      "text/plain": [
       "6"
      ]
     },
     "execution_count": 23,
     "metadata": {},
     "output_type": "execute_result"
    }
   ],
   "source": [
    "test(3)"
   ]
  },
  {
   "cell_type": "code",
   "execution_count": 24,
   "metadata": {},
   "outputs": [
    {
     "data": {
      "text/plain": [
       "10"
      ]
     },
     "execution_count": 24,
     "metadata": {},
     "output_type": "execute_result"
    }
   ],
   "source": [
    "test(5)"
   ]
  },
  {
   "cell_type": "code",
   "execution_count": 6,
   "metadata": {},
   "outputs": [],
   "source": [
    "a=lambda x:x*3;"
   ]
  },
  {
   "cell_type": "code",
   "execution_count": 2,
   "metadata": {},
   "outputs": [
    {
     "data": {
      "text/plain": [
       "9"
      ]
     },
     "execution_count": 2,
     "metadata": {},
     "output_type": "execute_result"
    }
   ],
   "source": [
    "a(3)"
   ]
  },
  {
   "cell_type": "code",
   "execution_count": 3,
   "metadata": {},
   "outputs": [
    {
     "data": {
      "text/plain": [
       "15"
      ]
     },
     "execution_count": 3,
     "metadata": {},
     "output_type": "execute_result"
    }
   ],
   "source": [
    "a(5)"
   ]
  },
  {
   "cell_type": "code",
   "execution_count": 5,
   "metadata": {},
   "outputs": [],
   "source": [
    "add=lambda x,y:x+y;"
   ]
  },
  {
   "cell_type": "code",
   "execution_count": 7,
   "metadata": {},
   "outputs": [
    {
     "data": {
      "text/plain": [
       "10"
      ]
     },
     "execution_count": 7,
     "metadata": {},
     "output_type": "execute_result"
    }
   ],
   "source": [
    "add(3,7)"
   ]
  },
  {
   "cell_type": "code",
   "execution_count": 8,
   "metadata": {},
   "outputs": [
    {
     "data": {
      "text/plain": [
       "35"
      ]
     },
     "execution_count": 8,
     "metadata": {},
     "output_type": "execute_result"
    }
   ],
   "source": [
    "add(11,24)"
   ]
  },
  {
   "cell_type": "code",
   "execution_count": 9,
   "metadata": {},
   "outputs": [],
   "source": [
    "sub=lambda x,y:x-y"
   ]
  },
  {
   "cell_type": "code",
   "execution_count": 10,
   "metadata": {},
   "outputs": [
    {
     "data": {
      "text/plain": [
       "70"
      ]
     },
     "execution_count": 10,
     "metadata": {},
     "output_type": "execute_result"
    }
   ],
   "source": [
    "sub(100,30)"
   ]
  },
  {
   "cell_type": "code",
   "execution_count": 11,
   "metadata": {},
   "outputs": [
    {
     "data": {
      "text/plain": [
       "19"
      ]
     },
     "execution_count": 11,
     "metadata": {},
     "output_type": "execute_result"
    }
   ],
   "source": [
    "sub(30,11)"
   ]
  },
  {
   "cell_type": "code",
   "execution_count": 12,
   "metadata": {},
   "outputs": [
    {
     "data": {
      "text/plain": [
       "33"
      ]
     },
     "execution_count": 12,
     "metadata": {},
     "output_type": "execute_result"
    }
   ],
   "source": [
    "sub(44,11)"
   ]
  },
  {
   "cell_type": "code",
   "execution_count": 13,
   "metadata": {},
   "outputs": [],
   "source": [
    "add1=lambda x,y,z:x+y+z"
   ]
  },
  {
   "cell_type": "code",
   "execution_count": 15,
   "metadata": {},
   "outputs": [
    {
     "data": {
      "text/plain": [
       "30"
      ]
     },
     "execution_count": 15,
     "metadata": {},
     "output_type": "execute_result"
    }
   ],
   "source": [
    "add1(2,23,5)"
   ]
  },
  {
   "cell_type": "code",
   "execution_count": 17,
   "metadata": {},
   "outputs": [
    {
     "data": {
      "text/plain": [
       "90"
      ]
     },
     "execution_count": 17,
     "metadata": {},
     "output_type": "execute_result"
    }
   ],
   "source": [
    "add1(23,12,55)"
   ]
  },
  {
   "cell_type": "code",
   "execution_count": 18,
   "metadata": {},
   "outputs": [],
   "source": [
    "add2=lambda x,y,z:x+y-z"
   ]
  },
  {
   "cell_type": "code",
   "execution_count": 19,
   "metadata": {},
   "outputs": [
    {
     "data": {
      "text/plain": [
       "233"
      ]
     },
     "execution_count": 19,
     "metadata": {},
     "output_type": "execute_result"
    }
   ],
   "source": [
    "add2(110,234,111)"
   ]
  },
  {
   "cell_type": "code",
   "execution_count": 20,
   "metadata": {},
   "outputs": [
    {
     "data": {
      "text/plain": [
       "121"
      ]
     },
     "execution_count": 20,
     "metadata": {},
     "output_type": "execute_result"
    }
   ],
   "source": [
    "add2(230,321,430)"
   ]
  },
  {
   "cell_type": "code",
   "execution_count": 21,
   "metadata": {},
   "outputs": [],
   "source": [
    "square=lambda x:x**2"
   ]
  },
  {
   "cell_type": "code",
   "execution_count": 22,
   "metadata": {},
   "outputs": [
    {
     "data": {
      "text/plain": [
       "9"
      ]
     },
     "execution_count": 22,
     "metadata": {},
     "output_type": "execute_result"
    }
   ],
   "source": [
    "square(3)"
   ]
  },
  {
   "cell_type": "code",
   "execution_count": 23,
   "metadata": {},
   "outputs": [
    {
     "data": {
      "text/plain": [
       "49"
      ]
     },
     "execution_count": 23,
     "metadata": {},
     "output_type": "execute_result"
    }
   ],
   "source": [
    "square(7)"
   ]
  },
  {
   "cell_type": "code",
   "execution_count": 24,
   "metadata": {},
   "outputs": [
    {
     "name": "stdout",
     "output_type": "stream",
     "text": [
      "Value of total : 69\n",
      "Value of total : 90\n"
     ]
    }
   ],
   "source": [
    "# Important\n",
    "add=lambda ad1,ad2:ad1+ad2\n",
    "\n",
    "print ('Value of total :',add(23,46))\n",
    "print ('Value of total :',add(34,56))"
   ]
  },
  {
   "cell_type": "markdown",
   "metadata": {},
   "source": [
    "####  CONVERTING TEMPERATURE IN F✿"
   ]
  },
  {
   "cell_type": "markdown",
   "metadata": {},
   "source": [
    "#### CONVERTING CELCIUS IN F🎈🎈\n",
    "\n",
    "\n",
    "=============================================================="
   ]
  },
  {
   "cell_type": "markdown",
   "metadata": {},
   "source": [
    "### Map in Lambda"
   ]
  },
  {
   "cell_type": "markdown",
   "metadata": {},
   "source": [
    "#### it applies only on list"
   ]
  },
  {
   "cell_type": "code",
   "execution_count": 1,
   "metadata": {},
   "outputs": [],
   "source": [
    "#map(lambda x:x*2,mylist)"
   ]
  },
  {
   "cell_type": "code",
   "execution_count": 2,
   "metadata": {},
   "outputs": [],
   "source": [
    "List1=[1,2,3,4,5]"
   ]
  },
  {
   "cell_type": "code",
   "execution_count": 4,
   "metadata": {},
   "outputs": [
    {
     "data": {
      "text/plain": [
       "[2, 4, 6, 8, 10]"
      ]
     },
     "execution_count": 4,
     "metadata": {},
     "output_type": "execute_result"
    }
   ],
   "source": [
    "list(map(lambda x:x*2,List1))"
   ]
  },
  {
   "cell_type": "code",
   "execution_count": 4,
   "metadata": {},
   "outputs": [
    {
     "data": {
      "text/plain": [
       "[3, 6, 9, 12, 15]"
      ]
     },
     "execution_count": 4,
     "metadata": {},
     "output_type": "execute_result"
    }
   ],
   "source": [
    "list(map(lambda x:x*3,List1))"
   ]
  },
  {
   "cell_type": "code",
   "execution_count": 5,
   "metadata": {},
   "outputs": [],
   "source": [
    "c=[35.2,36.5,37.3,38,39.8]"
   ]
  },
  {
   "cell_type": "code",
   "execution_count": 6,
   "metadata": {},
   "outputs": [],
   "source": [
    "f=list(map(lambda x:x*4,c))"
   ]
  },
  {
   "cell_type": "code",
   "execution_count": 7,
   "metadata": {},
   "outputs": [
    {
     "data": {
      "text/plain": [
       "[140.8, 146.0, 149.2, 152, 159.2]"
      ]
     },
     "execution_count": 7,
     "metadata": {},
     "output_type": "execute_result"
    }
   ],
   "source": [
    "f"
   ]
  },
  {
   "cell_type": "markdown",
   "metadata": {},
   "source": [
    "### FILTERS IN LAMBDA "
   ]
  },
  {
   "cell_type": "markdown",
   "metadata": {},
   "source": [
    "###### filter() function\n",
    "it return the item where the function is true..if none of the element meets the condition ,it will return nothing\n"
   ]
  },
  {
   "cell_type": "markdown",
   "metadata": {},
   "source": [
    "#### concept not clear learnn this"
   ]
  },
  {
   "cell_type": "markdown",
   "metadata": {},
   "source": [
    "### OOPS AND INITIALIZATION METHOD IS IMP. TOPIC BUT CONCEPT NOT CLEAR"
   ]
  },
  {
   "cell_type": "markdown",
   "metadata": {},
   "source": [
    "## _________________________________________________________________"
   ]
  },
  {
   "cell_type": "markdown",
   "metadata": {},
   "source": [
    "## Modules"
   ]
  },
  {
   "cell_type": "code",
   "execution_count": 12,
   "metadata": {},
   "outputs": [],
   "source": [
    "import numpy as np"
   ]
  },
  {
   "cell_type": "code",
   "execution_count": 13,
   "metadata": {},
   "outputs": [],
   "source": [
    "import pandas as pd"
   ]
  },
  {
   "cell_type": "code",
   "execution_count": 14,
   "metadata": {},
   "outputs": [],
   "source": [
    "import math"
   ]
  },
  {
   "cell_type": "code",
   "execution_count": 15,
   "metadata": {},
   "outputs": [
    {
     "data": {
      "text/plain": [
       "3.141592653589793"
      ]
     },
     "execution_count": 15,
     "metadata": {},
     "output_type": "execute_result"
    }
   ],
   "source": [
    "math.pi"
   ]
  },
  {
   "cell_type": "markdown",
   "metadata": {},
   "source": [
    "##### MODULES ARE CODES OF LIBRARY"
   ]
  },
  {
   "cell_type": "code",
   "execution_count": 16,
   "metadata": {},
   "outputs": [],
   "source": [
    "import sys"
   ]
  },
  {
   "cell_type": "code",
   "execution_count": 17,
   "metadata": {},
   "outputs": [
    {
     "data": {
      "text/plain": [
       "['C:\\\\Users\\\\Ali khan',\n",
       " 'C:\\\\Users\\\\Ali khan\\\\anaconda3\\\\python38.zip',\n",
       " 'C:\\\\Users\\\\Ali khan\\\\anaconda3\\\\DLLs',\n",
       " 'C:\\\\Users\\\\Ali khan\\\\anaconda3\\\\lib',\n",
       " 'C:\\\\Users\\\\Ali khan\\\\anaconda3',\n",
       " '',\n",
       " 'C:\\\\Users\\\\Ali khan\\\\anaconda3\\\\lib\\\\site-packages',\n",
       " 'C:\\\\Users\\\\Ali khan\\\\anaconda3\\\\lib\\\\site-packages\\\\win32',\n",
       " 'C:\\\\Users\\\\Ali khan\\\\anaconda3\\\\lib\\\\site-packages\\\\win32\\\\lib',\n",
       " 'C:\\\\Users\\\\Ali khan\\\\anaconda3\\\\lib\\\\site-packages\\\\Pythonwin',\n",
       " 'C:\\\\Users\\\\Ali khan\\\\anaconda3\\\\lib\\\\site-packages\\\\IPython\\\\extensions',\n",
       " 'C:\\\\Users\\\\Ali khan\\\\.ipython']"
      ]
     },
     "execution_count": 17,
     "metadata": {},
     "output_type": "execute_result"
    }
   ],
   "source": [
    "sys.path"
   ]
  },
  {
   "cell_type": "markdown",
   "metadata": {},
   "source": [
    "###### if you want to know  ur path ,so for this u should 1st import sys as system than sys.path"
   ]
  },
  {
   "cell_type": "code",
   "execution_count": 1,
   "metadata": {},
   "outputs": [],
   "source": [
    "import os"
   ]
  },
  {
   "cell_type": "code",
   "execution_count": 3,
   "metadata": {},
   "outputs": [
    {
     "data": {
      "text/plain": [
       "'C:\\\\Users\\\\Ali khan'"
      ]
     },
     "execution_count": 3,
     "metadata": {},
     "output_type": "execute_result"
    }
   ],
   "source": [
    "# To get current working directory we will 1st import os that is operating system\n",
    "\n",
    "os.getcwd()"
   ]
  },
  {
   "cell_type": "code",
   "execution_count": 4,
   "metadata": {},
   "outputs": [
    {
     "data": {
      "text/plain": [
       "['.android',\n",
       " '.conda',\n",
       " '.condarc',\n",
       " '.ipynb_checkpoints',\n",
       " '.ipython',\n",
       " '.jupyter',\n",
       " '.matplotlib',\n",
       " '.node_repl_history',\n",
       " '3D Objects',\n",
       " 'anaconda3',\n",
       " 'AppData',\n",
       " 'Application Data',\n",
       " 'Contacts',\n",
       " 'Cookies',\n",
       " 'Desktop',\n",
       " 'Documents',\n",
       " 'Favorites',\n",
       " 'IntelGraphicsProfiles',\n",
       " 'Links',\n",
       " 'Local Settings',\n",
       " 'Microsoft',\n",
       " 'MicrosoftEdgeBackups',\n",
       " 'Music',\n",
       " 'My Documents',\n",
       " 'NetHood',\n",
       " 'New Revision file Ali.ipynb',\n",
       " 'NTUSER.DAT',\n",
       " 'ntuser.dat.LOG1',\n",
       " 'ntuser.dat.LOG2',\n",
       " 'NTUSER.DAT{62f9121e-8d97-11eb-aa81-e50f98ec781a}.TM.blf',\n",
       " 'NTUSER.DAT{62f9121e-8d97-11eb-aa81-e50f98ec781a}.TMContainer00000000000000000001.regtrans-ms',\n",
       " 'NTUSER.DAT{62f9121e-8d97-11eb-aa81-e50f98ec781a}.TMContainer00000000000000000002.regtrans-ms',\n",
       " 'ntuser.ini',\n",
       " 'OneDrive',\n",
       " \"part 13 'MODULES'.ipynb\",\n",
       " \"part 14 'file input&output operation'.ipynb\",\n",
       " \"part 15 'pickle in python'.ipynb\",\n",
       " 'PrintHood',\n",
       " 'Recent',\n",
       " 'Saved Games',\n",
       " 'Searches',\n",
       " 'SendTo',\n",
       " 'Start Menu',\n",
       " 'Templates',\n",
       " 'Videos']"
      ]
     },
     "execution_count": 4,
     "metadata": {},
     "output_type": "execute_result"
    }
   ],
   "source": [
    "# if we want the list of current working directory\n",
    "os.listdir()"
   ]
  },
  {
   "cell_type": "code",
   "execution_count": 5,
   "metadata": {},
   "outputs": [
    {
     "name": "stdout",
     "output_type": "stream",
     "text": [
      "\n",
      "Usage:   \n",
      "  pip <command> [options]\n",
      "\n",
      "Commands:\n",
      "  install                     Install packages.\n",
      "  download                    Download packages.\n",
      "  uninstall                   Uninstall packages.\n",
      "  freeze                      Output installed packages in requirements format.\n",
      "  list                        List installed packages.\n",
      "  show                        Show information about installed packages.\n",
      "  check                       Verify installed packages have compatible dependencies.\n",
      "  config                      Manage local and global configuration.\n",
      "  search                      Search PyPI for packages.\n",
      "  cache                       Inspect and manage pip's wheel cache.\n",
      "  wheel                       Build wheels from your requirements.\n",
      "  hash                        Compute hashes of package archives.\n",
      "  completion                  A helper command used for command completion.\n",
      "  debug                       Show information useful for debugging.\n",
      "  help                        Show help for commands.\n",
      "\n",
      "General Options:\n",
      "  -h, --help                  Show help.\n",
      "  --isolated                  Run pip in an isolated mode, ignoring\n",
      "                              environment variables and user configuration.\n",
      "  -v, --verbose               Give more output. Option is additive, and can be\n",
      "                              used up to 3 times.\n",
      "  -V, --version               Show version and exit.\n",
      "  -q, --quiet                 Give less output. Option is additive, and can be\n",
      "                              used up to 3 times (corresponding to WARNING,\n",
      "                              ERROR, and CRITICAL logging levels).\n",
      "  --log <path>                Path to a verbose appending log.\n",
      "  --no-input                  Disable prompting for input.\n",
      "  --proxy <proxy>             Specify a proxy in the form\n",
      "                              [user:passwd@]proxy.server:port.\n",
      "  --retries <retries>         Maximum number of retries each connection should\n",
      "                              attempt (default 5 times).\n",
      "  --timeout <sec>             Set the socket timeout (default 15 seconds).\n",
      "  --exists-action <action>    Default action when a path already exists:\n",
      "                              (s)witch, (i)gnore, (w)ipe, (b)ackup, (a)bort.\n",
      "  --trusted-host <hostname>   Mark this host or host:port pair as trusted,\n",
      "                              even though it does not have valid or any HTTPS.\n",
      "  --cert <path>               Path to alternate CA bundle.\n",
      "  --client-cert <path>        Path to SSL client certificate, a single file\n",
      "                              containing the private key and the certificate\n",
      "                              in PEM format.\n",
      "  --cache-dir <dir>           Store the cache data in <dir>.\n",
      "  --no-cache-dir              Disable the cache.\n",
      "  --disable-pip-version-check\n",
      "                              Don't periodically check PyPI to determine\n",
      "                              whether a new version of pip is available for\n",
      "                              download. Implied with --no-index.\n",
      "  --no-color                  Suppress colored output\n",
      "  --no-python-version-warning\n",
      "                              Silence deprecation warnings for upcoming\n",
      "                              unsupported Pythons.\n",
      "  --use-feature <feature>     Enable new functionality, that may be backward\n",
      "                              incompatible.\n",
      "  --use-deprecated <feature>  Enable deprecated functionality, that will be\n",
      "                              removed in the future.\n"
     ]
    }
   ],
   "source": [
    "!pip"
   ]
  },
  {
   "cell_type": "markdown",
   "metadata": {},
   "source": [
    "## File input and output operations"
   ]
  },
  {
   "cell_type": "code",
   "execution_count": 1,
   "metadata": {},
   "outputs": [],
   "source": [
    "# For doing input and output operation we must know the path were are files are getting saved"
   ]
  },
  {
   "cell_type": "code",
   "execution_count": 3,
   "metadata": {},
   "outputs": [],
   "source": [
    "import sys"
   ]
  },
  {
   "cell_type": "code",
   "execution_count": 4,
   "metadata": {},
   "outputs": [
    {
     "data": {
      "text/plain": [
       "['C:\\\\Users\\\\Ali khan',\n",
       " 'C:\\\\Users\\\\Ali khan\\\\anaconda3\\\\python38.zip',\n",
       " 'C:\\\\Users\\\\Ali khan\\\\anaconda3\\\\DLLs',\n",
       " 'C:\\\\Users\\\\Ali khan\\\\anaconda3\\\\lib',\n",
       " 'C:\\\\Users\\\\Ali khan\\\\anaconda3',\n",
       " '',\n",
       " 'C:\\\\Users\\\\Ali khan\\\\anaconda3\\\\lib\\\\site-packages',\n",
       " 'C:\\\\Users\\\\Ali khan\\\\anaconda3\\\\lib\\\\site-packages\\\\win32',\n",
       " 'C:\\\\Users\\\\Ali khan\\\\anaconda3\\\\lib\\\\site-packages\\\\win32\\\\lib',\n",
       " 'C:\\\\Users\\\\Ali khan\\\\anaconda3\\\\lib\\\\site-packages\\\\Pythonwin',\n",
       " 'C:\\\\Users\\\\Ali khan\\\\anaconda3\\\\lib\\\\site-packages\\\\IPython\\\\extensions',\n",
       " 'C:\\\\Users\\\\Ali khan\\\\.ipython']"
      ]
     },
     "execution_count": 4,
     "metadata": {},
     "output_type": "execute_result"
    }
   ],
   "source": [
    "sys.path"
   ]
  },
  {
   "cell_type": "markdown",
   "metadata": {},
   "source": [
    "##### f=open('e:\\python\\file1.txt','w'"
   ]
  },
  {
   "cell_type": "markdown",
   "metadata": {},
   "source": [
    "###### f=open('e:\\python\\file1.txt','r'"
   ]
  },
  {
   "cell_type": "code",
   "execution_count": 6,
   "metadata": {},
   "outputs": [],
   "source": [
    "x=open('C:\\\\Users\\\\Ali khan\\\\Ali_file_I&O','w')"
   ]
  },
  {
   "cell_type": "code",
   "execution_count": 7,
   "metadata": {},
   "outputs": [
    {
     "data": {
      "text/plain": [
       "48"
      ]
     },
     "execution_count": 7,
     "metadata": {},
     "output_type": "execute_result"
    }
   ],
   "source": [
    "x.write('by this method we do input and output operations')"
   ]
  },
  {
   "cell_type": "code",
   "execution_count": 8,
   "metadata": {},
   "outputs": [],
   "source": [
    "x.close()"
   ]
  },
  {
   "cell_type": "code",
   "execution_count": 9,
   "metadata": {},
   "outputs": [],
   "source": [
    "readme=open('C:\\\\Users\\\\Ali khan\\\\Ali_file_I&O','r')"
   ]
  },
  {
   "cell_type": "code",
   "execution_count": 10,
   "metadata": {},
   "outputs": [
    {
     "data": {
      "text/plain": [
       "'by this method we do input and output operations'"
      ]
     },
     "execution_count": 10,
     "metadata": {},
     "output_type": "execute_result"
    }
   ],
   "source": [
    "readme.read()"
   ]
  },
  {
   "cell_type": "code",
   "execution_count": 11,
   "metadata": {},
   "outputs": [],
   "source": [
    "readme.close()"
   ]
  },
  {
   "cell_type": "code",
   "execution_count": 12,
   "metadata": {},
   "outputs": [],
   "source": [
    "#we can use any variable in place of readme like--y"
   ]
  },
  {
   "cell_type": "code",
   "execution_count": 13,
   "metadata": {},
   "outputs": [],
   "source": [
    "appendfile=open('C:\\\\Users\\\\Ali khan\\\\Ali_file_I&O','a')"
   ]
  },
  {
   "cell_type": "code",
   "execution_count": 14,
   "metadata": {},
   "outputs": [
    {
     "data": {
      "text/plain": [
       "120"
      ]
     },
     "execution_count": 14,
     "metadata": {},
     "output_type": "execute_result"
    }
   ],
   "source": [
    "appendfile.write('\\n but before doing anything in file input and output operation we must 1st know the path,so import sys and know the path')"
   ]
  },
  {
   "cell_type": "code",
   "execution_count": 15,
   "metadata": {},
   "outputs": [],
   "source": [
    "appendfile.close()"
   ]
  },
  {
   "cell_type": "code",
   "execution_count": 16,
   "metadata": {},
   "outputs": [],
   "source": [
    "#yaha 3 variable banege"
   ]
  },
  {
   "cell_type": "code",
   "execution_count": 18,
   "metadata": {},
   "outputs": [],
   "source": [
    "readme=open('Ali_file_I&O','r')"
   ]
  },
  {
   "cell_type": "code",
   "execution_count": 19,
   "metadata": {},
   "outputs": [
    {
     "name": "stdout",
     "output_type": "stream",
     "text": [
      "by this method we do input and output operations\n",
      " but before doing anything in file input and output operation we must 1st know the path,so import sys and know the path\n"
     ]
    }
   ],
   "source": [
    "print(readme.read())"
   ]
  },
  {
   "cell_type": "code",
   "execution_count": 20,
   "metadata": {},
   "outputs": [],
   "source": [
    "readme.close()"
   ]
  },
  {
   "cell_type": "markdown",
   "metadata": {},
   "source": [
    "### Pickle in Python"
   ]
  },
  {
   "cell_type": "markdown",
   "metadata": {},
   "source": [
    "#### Know about this concept not clearr.."
   ]
  },
  {
   "cell_type": "markdown",
   "metadata": {},
   "source": [
    "## NumPy"
   ]
  },
  {
   "cell_type": "code",
   "execution_count": 1,
   "metadata": {},
   "outputs": [],
   "source": [
    "import numpy as np"
   ]
  },
  {
   "cell_type": "code",
   "execution_count": 2,
   "metadata": {},
   "outputs": [],
   "source": [
    "a=np.array([1,2,3,4,5])"
   ]
  },
  {
   "cell_type": "code",
   "execution_count": 3,
   "metadata": {},
   "outputs": [
    {
     "data": {
      "text/plain": [
       "array([1, 2, 3, 4, 5])"
      ]
     },
     "execution_count": 3,
     "metadata": {},
     "output_type": "execute_result"
    }
   ],
   "source": [
    "a"
   ]
  },
  {
   "cell_type": "code",
   "execution_count": 5,
   "metadata": {},
   "outputs": [
    {
     "data": {
      "text/plain": [
       "(5,)"
      ]
     },
     "execution_count": 5,
     "metadata": {},
     "output_type": "execute_result"
    }
   ],
   "source": [
    "a.shape\n",
    "#this tells how many elements are present"
   ]
  },
  {
   "cell_type": "code",
   "execution_count": 6,
   "metadata": {},
   "outputs": [],
   "source": [
    "b=np.array([22,11,33,44,55,66])"
   ]
  },
  {
   "cell_type": "code",
   "execution_count": 7,
   "metadata": {},
   "outputs": [
    {
     "data": {
      "text/plain": [
       "array([22, 11, 33, 44, 55, 66])"
      ]
     },
     "execution_count": 7,
     "metadata": {},
     "output_type": "execute_result"
    }
   ],
   "source": [
    "b"
   ]
  },
  {
   "cell_type": "code",
   "execution_count": 8,
   "metadata": {},
   "outputs": [
    {
     "data": {
      "text/plain": [
       "(6,)"
      ]
     },
     "execution_count": 8,
     "metadata": {},
     "output_type": "execute_result"
    }
   ],
   "source": [
    "b.shape"
   ]
  },
  {
   "cell_type": "code",
   "execution_count": 9,
   "metadata": {},
   "outputs": [],
   "source": [
    "c=np.array([23,24,13,15,56])"
   ]
  },
  {
   "cell_type": "code",
   "execution_count": 10,
   "metadata": {},
   "outputs": [
    {
     "data": {
      "text/plain": [
       "array([23, 24, 13, 15, 56])"
      ]
     },
     "execution_count": 10,
     "metadata": {},
     "output_type": "execute_result"
    }
   ],
   "source": [
    "c"
   ]
  },
  {
   "cell_type": "code",
   "execution_count": 11,
   "metadata": {},
   "outputs": [
    {
     "data": {
      "text/plain": [
       "(5,)"
      ]
     },
     "execution_count": 11,
     "metadata": {},
     "output_type": "execute_result"
    }
   ],
   "source": [
    "c.shape"
   ]
  },
  {
   "cell_type": "markdown",
   "metadata": {},
   "source": [
    "###  These are One dimensionals numpy array"
   ]
  },
  {
   "cell_type": "markdown",
   "metadata": {},
   "source": [
    "####         + ______________________________________________________________________+"
   ]
  },
  {
   "cell_type": "markdown",
   "metadata": {},
   "source": [
    "#### Two dimensional figures np array"
   ]
  },
  {
   "cell_type": "code",
   "execution_count": 12,
   "metadata": {},
   "outputs": [],
   "source": [
    "a1=np.array([[1,3],[4,6]])"
   ]
  },
  {
   "cell_type": "code",
   "execution_count": 13,
   "metadata": {},
   "outputs": [
    {
     "data": {
      "text/plain": [
       "array([[1, 3],\n",
       "       [4, 6]])"
      ]
     },
     "execution_count": 13,
     "metadata": {},
     "output_type": "execute_result"
    }
   ],
   "source": [
    "a1"
   ]
  },
  {
   "cell_type": "code",
   "execution_count": 14,
   "metadata": {},
   "outputs": [
    {
     "data": {
      "text/plain": [
       "(2, 2)"
      ]
     },
     "execution_count": 14,
     "metadata": {},
     "output_type": "execute_result"
    }
   ],
   "source": [
    "a1.shape\n"
   ]
  },
  {
   "cell_type": "code",
   "execution_count": 15,
   "metadata": {},
   "outputs": [],
   "source": [
    "a2=np.array([[1,3],[2,3],[5,6]])"
   ]
  },
  {
   "cell_type": "code",
   "execution_count": 16,
   "metadata": {},
   "outputs": [
    {
     "data": {
      "text/plain": [
       "array([[1, 3],\n",
       "       [2, 3],\n",
       "       [5, 6]])"
      ]
     },
     "execution_count": 16,
     "metadata": {},
     "output_type": "execute_result"
    }
   ],
   "source": [
    "a2"
   ]
  },
  {
   "cell_type": "code",
   "execution_count": 17,
   "metadata": {},
   "outputs": [
    {
     "data": {
      "text/plain": [
       "(3, 2)"
      ]
     },
     "execution_count": 17,
     "metadata": {},
     "output_type": "execute_result"
    }
   ],
   "source": [
    "a2.shape"
   ]
  },
  {
   "cell_type": "markdown",
   "metadata": {},
   "source": [
    "This means that a2 have 3 columns and 2 rows...."
   ]
  },
  {
   "cell_type": "code",
   "execution_count": 18,
   "metadata": {},
   "outputs": [],
   "source": [
    "a3=np.array([[61,21,89],[32,42,56]])"
   ]
  },
  {
   "cell_type": "code",
   "execution_count": 19,
   "metadata": {},
   "outputs": [
    {
     "data": {
      "text/plain": [
       "array([[61, 21, 89],\n",
       "       [32, 42, 56]])"
      ]
     },
     "execution_count": 19,
     "metadata": {},
     "output_type": "execute_result"
    }
   ],
   "source": [
    "a3"
   ]
  },
  {
   "cell_type": "code",
   "execution_count": 20,
   "metadata": {},
   "outputs": [
    {
     "data": {
      "text/plain": [
       "(2, 3)"
      ]
     },
     "execution_count": 20,
     "metadata": {},
     "output_type": "execute_result"
    }
   ],
   "source": [
    "a3.shape"
   ]
  },
  {
   "cell_type": "markdown",
   "metadata": {},
   "source": [
    "this means that a3 have 2 columns and 3 rows..."
   ]
  },
  {
   "cell_type": "code",
   "execution_count": 21,
   "metadata": {},
   "outputs": [
    {
     "data": {
      "text/plain": [
       "array([[61, 21],\n",
       "       [89, 32],\n",
       "       [42, 56]])"
      ]
     },
     "execution_count": 21,
     "metadata": {},
     "output_type": "execute_result"
    }
   ],
   "source": [
    "a3.reshape(3,2)"
   ]
  },
  {
   "cell_type": "markdown",
   "metadata": {},
   "source": [
    "By this method we can reshape any 2 dimensional aaray"
   ]
  },
  {
   "cell_type": "code",
   "execution_count": 22,
   "metadata": {},
   "outputs": [],
   "source": [
    "a4=np.array([[1,3,2],[4,5,6],[3,7,9]])"
   ]
  },
  {
   "cell_type": "code",
   "execution_count": 23,
   "metadata": {},
   "outputs": [
    {
     "data": {
      "text/plain": [
       "array([[1, 3, 2],\n",
       "       [4, 5, 6],\n",
       "       [3, 7, 9]])"
      ]
     },
     "execution_count": 23,
     "metadata": {},
     "output_type": "execute_result"
    }
   ],
   "source": [
    "a4"
   ]
  },
  {
   "cell_type": "code",
   "execution_count": 24,
   "metadata": {},
   "outputs": [
    {
     "data": {
      "text/plain": [
       "(3, 3)"
      ]
     },
     "execution_count": 24,
     "metadata": {},
     "output_type": "execute_result"
    }
   ],
   "source": [
    "a4.shape"
   ]
  },
  {
   "cell_type": "code",
   "execution_count": 31,
   "metadata": {},
   "outputs": [
    {
     "data": {
      "text/plain": [
       "array([[1],\n",
       "       [3],\n",
       "       [2],\n",
       "       [4],\n",
       "       [5],\n",
       "       [6],\n",
       "       [3],\n",
       "       [7],\n",
       "       [9]])"
      ]
     },
     "execution_count": 31,
     "metadata": {},
     "output_type": "execute_result"
    }
   ],
   "source": [
    "a4.reshape(9,1)"
   ]
  },
  {
   "cell_type": "code",
   "execution_count": 32,
   "metadata": {},
   "outputs": [
    {
     "data": {
      "text/plain": [
       "9"
      ]
     },
     "execution_count": 32,
     "metadata": {},
     "output_type": "execute_result"
    }
   ],
   "source": [
    "a4.size"
   ]
  },
  {
   "cell_type": "code",
   "execution_count": 33,
   "metadata": {},
   "outputs": [
    {
     "data": {
      "text/plain": [
       "4"
      ]
     },
     "execution_count": 33,
     "metadata": {},
     "output_type": "execute_result"
    }
   ],
   "source": [
    "a4.itemsize"
   ]
  },
  {
   "cell_type": "code",
   "execution_count": 40,
   "metadata": {},
   "outputs": [
    {
     "data": {
      "text/plain": [
       "dtype('int32')"
      ]
     },
     "execution_count": 40,
     "metadata": {},
     "output_type": "execute_result"
    }
   ],
   "source": [
    "a4.dtype"
   ]
  },
  {
   "cell_type": "markdown",
   "metadata": {},
   "source": [
    "Give the no. of byte and memory occupied by each element...interger take 4 byte"
   ]
  },
  {
   "cell_type": "code",
   "execution_count": 34,
   "metadata": {},
   "outputs": [
    {
     "data": {
      "text/plain": [
       "1"
      ]
     },
     "execution_count": 34,
     "metadata": {},
     "output_type": "execute_result"
    }
   ],
   "source": [
    "a4.min()"
   ]
  },
  {
   "cell_type": "code",
   "execution_count": 35,
   "metadata": {},
   "outputs": [
    {
     "data": {
      "text/plain": [
       "9"
      ]
     },
     "execution_count": 35,
     "metadata": {},
     "output_type": "execute_result"
    }
   ],
   "source": [
    "a4.max()"
   ]
  },
  {
   "cell_type": "code",
   "execution_count": 36,
   "metadata": {},
   "outputs": [],
   "source": [
    "z5=np.array([[23,2],[25,56],[45,76]],dtype='float64')"
   ]
  },
  {
   "cell_type": "code",
   "execution_count": 37,
   "metadata": {},
   "outputs": [
    {
     "data": {
      "text/plain": [
       "array([[23.,  2.],\n",
       "       [25., 56.],\n",
       "       [45., 76.]])"
      ]
     },
     "execution_count": 37,
     "metadata": {},
     "output_type": "execute_result"
    }
   ],
   "source": [
    "z5"
   ]
  },
  {
   "cell_type": "code",
   "execution_count": 38,
   "metadata": {},
   "outputs": [
    {
     "data": {
      "text/plain": [
       "dtype('float64')"
      ]
     },
     "execution_count": 38,
     "metadata": {},
     "output_type": "execute_result"
    }
   ],
   "source": [
    "\n",
    "z5.dtype"
   ]
  },
  {
   "cell_type": "code",
   "execution_count": 39,
   "metadata": {},
   "outputs": [
    {
     "data": {
      "text/plain": [
       "8"
      ]
     },
     "execution_count": 39,
     "metadata": {},
     "output_type": "execute_result"
    }
   ],
   "source": [
    "z5.itemsize"
   ]
  },
  {
   "cell_type": "markdown",
   "metadata": {},
   "source": [
    "float items take 8 byte to store.. and integer take 4 byte to store"
   ]
  },
  {
   "cell_type": "code",
   "execution_count": 43,
   "metadata": {},
   "outputs": [],
   "source": [
    "x=np.arange(16)"
   ]
  },
  {
   "cell_type": "code",
   "execution_count": 44,
   "metadata": {},
   "outputs": [
    {
     "data": {
      "text/plain": [
       "array([ 0,  1,  2,  3,  4,  5,  6,  7,  8,  9, 10, 11, 12, 13, 14, 15])"
      ]
     },
     "execution_count": 44,
     "metadata": {},
     "output_type": "execute_result"
    }
   ],
   "source": [
    "x"
   ]
  },
  {
   "cell_type": "code",
   "execution_count": 45,
   "metadata": {},
   "outputs": [
    {
     "name": "stdout",
     "output_type": "stream",
     "text": [
      "[ 0  1  2  3  4  5  6  7  8  9 10 11 12 13 14 15]\n"
     ]
    }
   ],
   "source": [
    "print (x)"
   ]
  },
  {
   "cell_type": "code",
   "execution_count": 50,
   "metadata": {},
   "outputs": [
    {
     "data": {
      "text/plain": [
       "array([[ 0,  1,  2,  3,  4,  5,  6,  7],\n",
       "       [ 8,  9, 10, 11, 12, 13, 14, 15]])"
      ]
     },
     "execution_count": 50,
     "metadata": {},
     "output_type": "execute_result"
    }
   ],
   "source": [
    "x.reshape(2,8)"
   ]
  },
  {
   "cell_type": "code",
   "execution_count": 2,
   "metadata": {},
   "outputs": [],
   "source": [
    "import numpy as np"
   ]
  },
  {
   "cell_type": "code",
   "execution_count": 3,
   "metadata": {},
   "outputs": [],
   "source": [
    "x1=np.arange(100).reshape(10,10)"
   ]
  },
  {
   "cell_type": "code",
   "execution_count": 4,
   "metadata": {},
   "outputs": [
    {
     "data": {
      "text/plain": [
       "array([[ 0,  1,  2,  3,  4,  5,  6,  7,  8,  9],\n",
       "       [10, 11, 12, 13, 14, 15, 16, 17, 18, 19],\n",
       "       [20, 21, 22, 23, 24, 25, 26, 27, 28, 29],\n",
       "       [30, 31, 32, 33, 34, 35, 36, 37, 38, 39],\n",
       "       [40, 41, 42, 43, 44, 45, 46, 47, 48, 49],\n",
       "       [50, 51, 52, 53, 54, 55, 56, 57, 58, 59],\n",
       "       [60, 61, 62, 63, 64, 65, 66, 67, 68, 69],\n",
       "       [70, 71, 72, 73, 74, 75, 76, 77, 78, 79],\n",
       "       [80, 81, 82, 83, 84, 85, 86, 87, 88, 89],\n",
       "       [90, 91, 92, 93, 94, 95, 96, 97, 98, 99]])"
      ]
     },
     "execution_count": 4,
     "metadata": {},
     "output_type": "execute_result"
    }
   ],
   "source": [
    "x1"
   ]
  },
  {
   "cell_type": "code",
   "execution_count": 5,
   "metadata": {},
   "outputs": [],
   "source": [
    "we=x1.reshape(2,50)"
   ]
  },
  {
   "cell_type": "code",
   "execution_count": 6,
   "metadata": {},
   "outputs": [
    {
     "data": {
      "text/plain": [
       "array([[ 0,  1,  2,  3,  4,  5,  6,  7,  8,  9, 10, 11, 12, 13, 14, 15,\n",
       "        16, 17, 18, 19, 20, 21, 22, 23, 24, 25, 26, 27, 28, 29, 30, 31,\n",
       "        32, 33, 34, 35, 36, 37, 38, 39, 40, 41, 42, 43, 44, 45, 46, 47,\n",
       "        48, 49],\n",
       "       [50, 51, 52, 53, 54, 55, 56, 57, 58, 59, 60, 61, 62, 63, 64, 65,\n",
       "        66, 67, 68, 69, 70, 71, 72, 73, 74, 75, 76, 77, 78, 79, 80, 81,\n",
       "        82, 83, 84, 85, 86, 87, 88, 89, 90, 91, 92, 93, 94, 95, 96, 97,\n",
       "        98, 99]])"
      ]
     },
     "execution_count": 6,
     "metadata": {},
     "output_type": "execute_result"
    }
   ],
   "source": [
    "we"
   ]
  },
  {
   "cell_type": "code",
   "execution_count": 7,
   "metadata": {},
   "outputs": [
    {
     "data": {
      "text/plain": [
       "2"
      ]
     },
     "execution_count": 7,
     "metadata": {},
     "output_type": "execute_result"
    }
   ],
   "source": [
    "we.ndim          #ndim -- stands for dimensional"
   ]
  },
  {
   "cell_type": "code",
   "execution_count": 8,
   "metadata": {},
   "outputs": [
    {
     "data": {
      "text/plain": [
       "100"
      ]
     },
     "execution_count": 8,
     "metadata": {},
     "output_type": "execute_result"
    }
   ],
   "source": [
    "we.size"
   ]
  },
  {
   "cell_type": "code",
   "execution_count": 9,
   "metadata": {},
   "outputs": [
    {
     "data": {
      "text/plain": [
       "numpy.ndarray"
      ]
     },
     "execution_count": 9,
     "metadata": {},
     "output_type": "execute_result"
    }
   ],
   "source": [
    "type(we)"
   ]
  },
  {
   "cell_type": "code",
   "execution_count": 10,
   "metadata": {},
   "outputs": [],
   "source": [
    "v=np.array([[1.2,3,4],[2.4,3,4]],dtype='float32')"
   ]
  },
  {
   "cell_type": "code",
   "execution_count": 11,
   "metadata": {},
   "outputs": [
    {
     "data": {
      "text/plain": [
       "array([[1.2, 3. , 4. ],\n",
       "       [2.4, 3. , 4. ]], dtype=float32)"
      ]
     },
     "execution_count": 11,
     "metadata": {},
     "output_type": "execute_result"
    }
   ],
   "source": [
    "v"
   ]
  },
  {
   "cell_type": "code",
   "execution_count": 12,
   "metadata": {},
   "outputs": [
    {
     "name": "stdout",
     "output_type": "stream",
     "text": [
      "[1.2 3.  4.  2.4 3.  4. ]\n"
     ]
    }
   ],
   "source": [
    "#RAVEL --ravel command can turn any numpy array into single row\n",
    "\n",
    "print (v.ravel())\n"
   ]
  },
  {
   "cell_type": "markdown",
   "metadata": {},
   "source": [
    "### Start ,End, Skip or Jump"
   ]
  },
  {
   "cell_type": "code",
   "execution_count": 13,
   "metadata": {},
   "outputs": [
    {
     "data": {
      "text/plain": [
       "array([10, 15, 20, 25])"
      ]
     },
     "execution_count": 13,
     "metadata": {},
     "output_type": "execute_result"
    }
   ],
   "source": [
    "np.arange(10,30,5)"
   ]
  },
  {
   "cell_type": "code",
   "execution_count": 15,
   "metadata": {},
   "outputs": [],
   "source": [
    "a=np.arange(10,110,5)"
   ]
  },
  {
   "cell_type": "code",
   "execution_count": 16,
   "metadata": {},
   "outputs": [
    {
     "data": {
      "text/plain": [
       "array([ 10,  15,  20,  25,  30,  35,  40,  45,  50,  55,  60,  65,  70,\n",
       "        75,  80,  85,  90,  95, 100, 105])"
      ]
     },
     "execution_count": 16,
     "metadata": {},
     "output_type": "execute_result"
    }
   ],
   "source": [
    "a"
   ]
  },
  {
   "cell_type": "code",
   "execution_count": 17,
   "metadata": {},
   "outputs": [
    {
     "data": {
      "text/plain": [
       "20"
      ]
     },
     "execution_count": 17,
     "metadata": {},
     "output_type": "execute_result"
    }
   ],
   "source": [
    "a.size"
   ]
  },
  {
   "cell_type": "code",
   "execution_count": 19,
   "metadata": {},
   "outputs": [],
   "source": [
    "b=np.arange(12).reshape(4,3)"
   ]
  },
  {
   "cell_type": "code",
   "execution_count": 20,
   "metadata": {},
   "outputs": [
    {
     "data": {
      "text/plain": [
       "array([[ 0,  1,  2],\n",
       "       [ 3,  4,  5],\n",
       "       [ 6,  7,  8],\n",
       "       [ 9, 10, 11]])"
      ]
     },
     "execution_count": 20,
     "metadata": {},
     "output_type": "execute_result"
    }
   ],
   "source": [
    "b"
   ]
  },
  {
   "cell_type": "code",
   "execution_count": 21,
   "metadata": {},
   "outputs": [],
   "source": [
    "q=np.array([10,20,30,40])\n",
    "w=np.arange(4)"
   ]
  },
  {
   "cell_type": "code",
   "execution_count": 22,
   "metadata": {},
   "outputs": [
    {
     "name": "stdout",
     "output_type": "stream",
     "text": [
      "[10 20 30 40]\n",
      "[0 1 2 3]\n"
     ]
    }
   ],
   "source": [
    "print(q)\n",
    "print(w)"
   ]
  },
  {
   "cell_type": "code",
   "execution_count": 23,
   "metadata": {},
   "outputs": [],
   "source": [
    "e=q-w"
   ]
  },
  {
   "cell_type": "code",
   "execution_count": 24,
   "metadata": {},
   "outputs": [
    {
     "data": {
      "text/plain": [
       "array([10, 19, 28, 37])"
      ]
     },
     "execution_count": 24,
     "metadata": {},
     "output_type": "execute_result"
    }
   ],
   "source": [
    "e"
   ]
  },
  {
   "cell_type": "code",
   "execution_count": 25,
   "metadata": {},
   "outputs": [
    {
     "data": {
      "text/plain": [
       "array([ 100,  361,  784, 1369], dtype=int32)"
      ]
     },
     "execution_count": 25,
     "metadata": {},
     "output_type": "execute_result"
    }
   ],
   "source": [
    "e**2"
   ]
  },
  {
   "cell_type": "code",
   "execution_count": 26,
   "metadata": {},
   "outputs": [],
   "source": [
    "r=np.random.random((2,3))"
   ]
  },
  {
   "cell_type": "code",
   "execution_count": 27,
   "metadata": {},
   "outputs": [
    {
     "data": {
      "text/plain": [
       "array([[0.23923292, 0.43838242, 0.25697974],\n",
       "       [0.32334465, 0.851281  , 0.73225741]])"
      ]
     },
     "execution_count": 27,
     "metadata": {},
     "output_type": "execute_result"
    }
   ],
   "source": [
    "r"
   ]
  },
  {
   "cell_type": "markdown",
   "metadata": {},
   "source": [
    "## Learn Universal Function and Indexing,slicing and iterating"
   ]
  },
  {
   "cell_type": "markdown",
   "metadata": {},
   "source": [
    "# --------------"
   ]
  },
  {
   "cell_type": "markdown",
   "metadata": {},
   "source": [
    "# PANDAS"
   ]
  },
  {
   "cell_type": "code",
   "execution_count": 1,
   "metadata": {},
   "outputs": [],
   "source": [
    "import numpy as np"
   ]
  },
  {
   "cell_type": "code",
   "execution_count": 2,
   "metadata": {},
   "outputs": [],
   "source": [
    "import pandas as pd"
   ]
  },
  {
   "cell_type": "code",
   "execution_count": 3,
   "metadata": {},
   "outputs": [],
   "source": [
    "a=pd.Series([1,2,3,4,5])"
   ]
  },
  {
   "cell_type": "code",
   "execution_count": 4,
   "metadata": {},
   "outputs": [
    {
     "data": {
      "text/plain": [
       "0    1\n",
       "1    2\n",
       "2    3\n",
       "3    4\n",
       "4    5\n",
       "dtype: int64"
      ]
     },
     "execution_count": 4,
     "metadata": {},
     "output_type": "execute_result"
    }
   ],
   "source": [
    "a"
   ]
  },
  {
   "cell_type": "code",
   "execution_count": 5,
   "metadata": {},
   "outputs": [],
   "source": [
    "b=pd.Series([11,22,33,44,55,66])"
   ]
  },
  {
   "cell_type": "code",
   "execution_count": 6,
   "metadata": {},
   "outputs": [
    {
     "data": {
      "text/plain": [
       "0    11\n",
       "1    22\n",
       "2    33\n",
       "3    44\n",
       "4    55\n",
       "5    66\n",
       "dtype: int64"
      ]
     },
     "execution_count": 6,
     "metadata": {},
     "output_type": "execute_result"
    }
   ],
   "source": [
    "b"
   ]
  },
  {
   "cell_type": "code",
   "execution_count": 7,
   "metadata": {},
   "outputs": [],
   "source": [
    "c=pd.Series([12,23,34,45],index=[100,200,300,400])"
   ]
  },
  {
   "cell_type": "code",
   "execution_count": 8,
   "metadata": {},
   "outputs": [
    {
     "data": {
      "text/plain": [
       "100    12\n",
       "200    23\n",
       "300    34\n",
       "400    45\n",
       "dtype: int64"
      ]
     },
     "execution_count": 8,
     "metadata": {},
     "output_type": "execute_result"
    }
   ],
   "source": [
    "c"
   ]
  },
  {
   "cell_type": "code",
   "execution_count": 11,
   "metadata": {},
   "outputs": [],
   "source": [
    "d=pd.Series([30,40,50,60],index=[1,2,3,4])"
   ]
  },
  {
   "cell_type": "code",
   "execution_count": 12,
   "metadata": {},
   "outputs": [
    {
     "data": {
      "text/plain": [
       "1    30\n",
       "2    40\n",
       "3    50\n",
       "4    60\n",
       "dtype: int64"
      ]
     },
     "execution_count": 12,
     "metadata": {},
     "output_type": "execute_result"
    }
   ],
   "source": [
    "d"
   ]
  },
  {
   "cell_type": "code",
   "execution_count": 14,
   "metadata": {},
   "outputs": [
    {
     "data": {
      "text/html": [
       "<div>\n",
       "<style scoped>\n",
       "    .dataframe tbody tr th:only-of-type {\n",
       "        vertical-align: middle;\n",
       "    }\n",
       "\n",
       "    .dataframe tbody tr th {\n",
       "        vertical-align: top;\n",
       "    }\n",
       "\n",
       "    .dataframe thead th {\n",
       "        text-align: right;\n",
       "    }\n",
       "</style>\n",
       "<table border=\"1\" class=\"dataframe\">\n",
       "  <thead>\n",
       "    <tr style=\"text-align: right;\">\n",
       "      <th></th>\n",
       "      <th>0</th>\n",
       "    </tr>\n",
       "  </thead>\n",
       "  <tbody>\n",
       "    <tr>\n",
       "      <th>0</th>\n",
       "      <td>1</td>\n",
       "    </tr>\n",
       "    <tr>\n",
       "      <th>1</th>\n",
       "      <td>2</td>\n",
       "    </tr>\n",
       "    <tr>\n",
       "      <th>2</th>\n",
       "      <td>3</td>\n",
       "    </tr>\n",
       "    <tr>\n",
       "      <th>3</th>\n",
       "      <td>4</td>\n",
       "    </tr>\n",
       "    <tr>\n",
       "      <th>4</th>\n",
       "      <td>5</td>\n",
       "    </tr>\n",
       "  </tbody>\n",
       "</table>\n",
       "</div>"
      ],
      "text/plain": [
       "   0\n",
       "0  1\n",
       "1  2\n",
       "2  3\n",
       "3  4\n",
       "4  5"
      ]
     },
     "execution_count": 14,
     "metadata": {},
     "output_type": "execute_result"
    }
   ],
   "source": [
    "data=[1,2,3,4,5]\n",
    "df=pd.DataFrame(data)\n",
    "df"
   ]
  },
  {
   "cell_type": "markdown",
   "metadata": {},
   "source": [
    "### DATAFRAME\n",
    "\n",
    "pandas.DataFrame(data,index,columns,dtype,copy)"
   ]
  },
  {
   "cell_type": "code",
   "execution_count": 15,
   "metadata": {},
   "outputs": [
    {
     "data": {
      "text/html": [
       "<div>\n",
       "<style scoped>\n",
       "    .dataframe tbody tr th:only-of-type {\n",
       "        vertical-align: middle;\n",
       "    }\n",
       "\n",
       "    .dataframe tbody tr th {\n",
       "        vertical-align: top;\n",
       "    }\n",
       "\n",
       "    .dataframe thead th {\n",
       "        text-align: right;\n",
       "    }\n",
       "</style>\n",
       "<table border=\"1\" class=\"dataframe\">\n",
       "  <thead>\n",
       "    <tr style=\"text-align: right;\">\n",
       "      <th></th>\n",
       "      <th>NAME</th>\n",
       "      <th>AGE</th>\n",
       "    </tr>\n",
       "  </thead>\n",
       "  <tbody>\n",
       "    <tr>\n",
       "      <th>0</th>\n",
       "      <td>ali</td>\n",
       "      <td>11</td>\n",
       "    </tr>\n",
       "    <tr>\n",
       "      <th>1</th>\n",
       "      <td>rocky</td>\n",
       "      <td>12</td>\n",
       "    </tr>\n",
       "    <tr>\n",
       "      <th>2</th>\n",
       "      <td>rahul</td>\n",
       "      <td>13</td>\n",
       "    </tr>\n",
       "    <tr>\n",
       "      <th>3</th>\n",
       "      <td>tatti</td>\n",
       "      <td>14</td>\n",
       "    </tr>\n",
       "  </tbody>\n",
       "</table>\n",
       "</div>"
      ],
      "text/plain": [
       "    NAME  AGE\n",
       "0    ali   11\n",
       "1  rocky   12\n",
       "2  rahul   13\n",
       "3  tatti   14"
      ]
     },
     "execution_count": 15,
     "metadata": {},
     "output_type": "execute_result"
    }
   ],
   "source": [
    "data=[['ali',11],['rocky',12],['rahul',13],['tatti',14]]\n",
    "df=pd.DataFrame(data,columns=['NAME','AGE'])\n",
    "df"
   ]
  },
  {
   "cell_type": "code",
   "execution_count": 16,
   "metadata": {},
   "outputs": [
    {
     "data": {
      "text/html": [
       "<div>\n",
       "<style scoped>\n",
       "    .dataframe tbody tr th:only-of-type {\n",
       "        vertical-align: middle;\n",
       "    }\n",
       "\n",
       "    .dataframe tbody tr th {\n",
       "        vertical-align: top;\n",
       "    }\n",
       "\n",
       "    .dataframe thead th {\n",
       "        text-align: right;\n",
       "    }\n",
       "</style>\n",
       "<table border=\"1\" class=\"dataframe\">\n",
       "  <thead>\n",
       "    <tr style=\"text-align: right;\">\n",
       "      <th></th>\n",
       "      <th>NAME</th>\n",
       "      <th>AGE</th>\n",
       "    </tr>\n",
       "  </thead>\n",
       "  <tbody>\n",
       "    <tr>\n",
       "      <th>0</th>\n",
       "      <td>ali</td>\n",
       "      <td>11.0</td>\n",
       "    </tr>\n",
       "    <tr>\n",
       "      <th>1</th>\n",
       "      <td>rocky</td>\n",
       "      <td>12.0</td>\n",
       "    </tr>\n",
       "    <tr>\n",
       "      <th>2</th>\n",
       "      <td>rahul</td>\n",
       "      <td>13.0</td>\n",
       "    </tr>\n",
       "    <tr>\n",
       "      <th>3</th>\n",
       "      <td>tatti</td>\n",
       "      <td>14.0</td>\n",
       "    </tr>\n",
       "  </tbody>\n",
       "</table>\n",
       "</div>"
      ],
      "text/plain": [
       "    NAME   AGE\n",
       "0    ali  11.0\n",
       "1  rocky  12.0\n",
       "2  rahul  13.0\n",
       "3  tatti  14.0"
      ]
     },
     "execution_count": 16,
     "metadata": {},
     "output_type": "execute_result"
    }
   ],
   "source": [
    "data=[['ali',11],['rocky',12],['rahul',13],['tatti',14]]\n",
    "df=pd.DataFrame(data,columns=['NAME','AGE'],dtype=float)\n",
    "df"
   ]
  },
  {
   "cell_type": "code",
   "execution_count": 17,
   "metadata": {},
   "outputs": [
    {
     "data": {
      "text/html": [
       "<div>\n",
       "<style scoped>\n",
       "    .dataframe tbody tr th:only-of-type {\n",
       "        vertical-align: middle;\n",
       "    }\n",
       "\n",
       "    .dataframe tbody tr th {\n",
       "        vertical-align: top;\n",
       "    }\n",
       "\n",
       "    .dataframe thead th {\n",
       "        text-align: right;\n",
       "    }\n",
       "</style>\n",
       "<table border=\"1\" class=\"dataframe\">\n",
       "  <thead>\n",
       "    <tr style=\"text-align: right;\">\n",
       "      <th></th>\n",
       "      <th>NAME</th>\n",
       "      <th>AGE</th>\n",
       "    </tr>\n",
       "  </thead>\n",
       "  <tbody>\n",
       "    <tr>\n",
       "      <th>0</th>\n",
       "      <td>Tom</td>\n",
       "      <td>22</td>\n",
       "    </tr>\n",
       "    <tr>\n",
       "      <th>1</th>\n",
       "      <td>Jack</td>\n",
       "      <td>33</td>\n",
       "    </tr>\n",
       "    <tr>\n",
       "      <th>2</th>\n",
       "      <td>Steve</td>\n",
       "      <td>44</td>\n",
       "    </tr>\n",
       "    <tr>\n",
       "      <th>3</th>\n",
       "      <td>Ricky</td>\n",
       "      <td>55</td>\n",
       "    </tr>\n",
       "  </tbody>\n",
       "</table>\n",
       "</div>"
      ],
      "text/plain": [
       "    NAME  AGE\n",
       "0    Tom   22\n",
       "1   Jack   33\n",
       "2  Steve   44\n",
       "3  Ricky   55"
      ]
     },
     "execution_count": 17,
     "metadata": {},
     "output_type": "execute_result"
    }
   ],
   "source": [
    "data={'NAME':['Tom','Jack','Steve','Ricky'],'AGE':[22,33,44,55]}\n",
    "df=pd.DataFrame(data)\n",
    "df"
   ]
  },
  {
   "cell_type": "code",
   "execution_count": 18,
   "metadata": {},
   "outputs": [
    {
     "data": {
      "text/html": [
       "<div>\n",
       "<style scoped>\n",
       "    .dataframe tbody tr th:only-of-type {\n",
       "        vertical-align: middle;\n",
       "    }\n",
       "\n",
       "    .dataframe tbody tr th {\n",
       "        vertical-align: top;\n",
       "    }\n",
       "\n",
       "    .dataframe thead th {\n",
       "        text-align: right;\n",
       "    }\n",
       "</style>\n",
       "<table border=\"1\" class=\"dataframe\">\n",
       "  <thead>\n",
       "    <tr style=\"text-align: right;\">\n",
       "      <th></th>\n",
       "      <th>a</th>\n",
       "      <th>b</th>\n",
       "      <th>c</th>\n",
       "    </tr>\n",
       "  </thead>\n",
       "  <tbody>\n",
       "    <tr>\n",
       "      <th>0</th>\n",
       "      <td>1</td>\n",
       "      <td>2</td>\n",
       "      <td>NaN</td>\n",
       "    </tr>\n",
       "    <tr>\n",
       "      <th>1</th>\n",
       "      <td>3</td>\n",
       "      <td>4</td>\n",
       "      <td>5.0</td>\n",
       "    </tr>\n",
       "  </tbody>\n",
       "</table>\n",
       "</div>"
      ],
      "text/plain": [
       "   a  b    c\n",
       "0  1  2  NaN\n",
       "1  3  4  5.0"
      ]
     },
     "execution_count": 18,
     "metadata": {},
     "output_type": "execute_result"
    }
   ],
   "source": [
    "# NOTE -- observe,NaN(not a number) is appended in missing areas..\n",
    "\n",
    "data=[{'a':1,'b':2},{'a':3,'b':4,'c':5}]\n",
    "df=pd.DataFrame(data)\n",
    "df"
   ]
  },
  {
   "cell_type": "code",
   "execution_count": 21,
   "metadata": {},
   "outputs": [
    {
     "data": {
      "text/html": [
       "<div>\n",
       "<style scoped>\n",
       "    .dataframe tbody tr th:only-of-type {\n",
       "        vertical-align: middle;\n",
       "    }\n",
       "\n",
       "    .dataframe tbody tr th {\n",
       "        vertical-align: top;\n",
       "    }\n",
       "\n",
       "    .dataframe thead th {\n",
       "        text-align: right;\n",
       "    }\n",
       "</style>\n",
       "<table border=\"1\" class=\"dataframe\">\n",
       "  <thead>\n",
       "    <tr style=\"text-align: right;\">\n",
       "      <th></th>\n",
       "      <th>a</th>\n",
       "      <th>b</th>\n",
       "      <th>c</th>\n",
       "    </tr>\n",
       "  </thead>\n",
       "  <tbody>\n",
       "    <tr>\n",
       "      <th>first</th>\n",
       "      <td>1.0</td>\n",
       "      <td>2.0</td>\n",
       "      <td>NaN</td>\n",
       "    </tr>\n",
       "    <tr>\n",
       "      <th>second</th>\n",
       "      <td>5.0</td>\n",
       "      <td>10.0</td>\n",
       "      <td>20.0</td>\n",
       "    </tr>\n",
       "  </tbody>\n",
       "</table>\n",
       "</div>"
      ],
      "text/plain": [
       "          a     b     c\n",
       "first   1.0   2.0   NaN\n",
       "second  5.0  10.0  20.0"
      ]
     },
     "execution_count": 21,
     "metadata": {},
     "output_type": "execute_result"
    }
   ],
   "source": [
    "data=[{'a':1,'b':2},{'a':5,'b':10,'c':20}]\n",
    "df=pd.DataFrame(data,index=['first','second'],dtype=float)\n",
    "df"
   ]
  },
  {
   "cell_type": "code",
   "execution_count": 1,
   "metadata": {},
   "outputs": [],
   "source": [
    "import numpy as np\n",
    "import pandas as pd"
   ]
  },
  {
   "cell_type": "code",
   "execution_count": 5,
   "metadata": {},
   "outputs": [
    {
     "name": "stdout",
     "output_type": "stream",
     "text": [
      "        a  b\n",
      "First   1  2\n",
      "Second  2  4\n",
      "\n",
      "\n",
      "        a  b1\n",
      "First   1 NaN\n",
      "Second  2 NaN\n",
      "\n",
      "\n",
      "        a    c\n",
      "first   1  NaN\n",
      "second  2  6.0\n"
     ]
    }
   ],
   "source": [
    "data=[{'a':1,'b':2},{'a':2,'b':4,'c':6}]\n",
    "df1=pd.DataFrame(data,index=['First','Second'],columns=['a','b'])\n",
    "df1\n",
    "\n",
    "df2=pd.DataFrame(data,index=['First','Second'],columns=['a','b1'])\n",
    "\n",
    "df3=pd.DataFrame(data,index=['first','second'],columns=['a','c'])\n",
    "\n",
    "print(df1)\n",
    "print(\"\\n\")\n",
    "print(df2)\n",
    "print(\"\\n\")\n",
    "print(df3)"
   ]
  },
  {
   "cell_type": "code",
   "execution_count": 8,
   "metadata": {},
   "outputs": [
    {
     "data": {
      "text/html": [
       "<div>\n",
       "<style scoped>\n",
       "    .dataframe tbody tr th:only-of-type {\n",
       "        vertical-align: middle;\n",
       "    }\n",
       "\n",
       "    .dataframe tbody tr th {\n",
       "        vertical-align: top;\n",
       "    }\n",
       "\n",
       "    .dataframe thead th {\n",
       "        text-align: right;\n",
       "    }\n",
       "</style>\n",
       "<table border=\"1\" class=\"dataframe\">\n",
       "  <thead>\n",
       "    <tr style=\"text-align: right;\">\n",
       "      <th></th>\n",
       "      <th>A</th>\n",
       "      <th>B</th>\n",
       "    </tr>\n",
       "  </thead>\n",
       "  <tbody>\n",
       "    <tr>\n",
       "      <th>0</th>\n",
       "      <td>1</td>\n",
       "      <td>2</td>\n",
       "    </tr>\n",
       "    <tr>\n",
       "      <th>1</th>\n",
       "      <td>3</td>\n",
       "      <td>4</td>\n",
       "    </tr>\n",
       "    <tr>\n",
       "      <th>0</th>\n",
       "      <td>5</td>\n",
       "      <td>6</td>\n",
       "    </tr>\n",
       "    <tr>\n",
       "      <th>1</th>\n",
       "      <td>7</td>\n",
       "      <td>8</td>\n",
       "    </tr>\n",
       "  </tbody>\n",
       "</table>\n",
       "</div>"
      ],
      "text/plain": [
       "   A  B\n",
       "0  1  2\n",
       "1  3  4\n",
       "0  5  6\n",
       "1  7  8"
      ]
     },
     "execution_count": 8,
     "metadata": {},
     "output_type": "execute_result"
    }
   ],
   "source": [
    "#addition of rows\n",
    "#ad new row to dataframe using append function..this function will append the rows at the end\n",
    "\n",
    "df1=pd.DataFrame([[1,2],[3,4]],columns=['A','B']) \n",
    "df2=pd.DataFrame([[5,6],[7,8]],columns=['A','B'])\n",
    "\n",
    "df3=df1.append(df2)\n",
    "df3"
   ]
  },
  {
   "cell_type": "markdown",
   "metadata": {},
   "source": [
    "##### NOW WORK ON DATAFRAME WITH  RANDOM FUNCTION"
   ]
  },
  {
   "cell_type": "code",
   "execution_count": 1,
   "metadata": {},
   "outputs": [],
   "source": [
    "import numpy as np"
   ]
  },
  {
   "cell_type": "code",
   "execution_count": 2,
   "metadata": {},
   "outputs": [],
   "source": [
    "import pandas as pd"
   ]
  },
  {
   "cell_type": "code",
   "execution_count": 3,
   "metadata": {},
   "outputs": [
    {
     "data": {
      "text/html": [
       "<div>\n",
       "<style scoped>\n",
       "    .dataframe tbody tr th:only-of-type {\n",
       "        vertical-align: middle;\n",
       "    }\n",
       "\n",
       "    .dataframe tbody tr th {\n",
       "        vertical-align: top;\n",
       "    }\n",
       "\n",
       "    .dataframe thead th {\n",
       "        text-align: right;\n",
       "    }\n",
       "</style>\n",
       "<table border=\"1\" class=\"dataframe\">\n",
       "  <thead>\n",
       "    <tr style=\"text-align: right;\">\n",
       "      <th></th>\n",
       "      <th>A</th>\n",
       "      <th>B</th>\n",
       "      <th>C</th>\n",
       "      <th>D</th>\n",
       "    </tr>\n",
       "  </thead>\n",
       "  <tbody>\n",
       "    <tr>\n",
       "      <th>0</th>\n",
       "      <td>0.645475</td>\n",
       "      <td>0.089883</td>\n",
       "      <td>-1.604896</td>\n",
       "      <td>0.514256</td>\n",
       "    </tr>\n",
       "    <tr>\n",
       "      <th>1</th>\n",
       "      <td>0.424662</td>\n",
       "      <td>-0.281339</td>\n",
       "      <td>-0.641630</td>\n",
       "      <td>1.251480</td>\n",
       "    </tr>\n",
       "    <tr>\n",
       "      <th>2</th>\n",
       "      <td>2.014034</td>\n",
       "      <td>-0.171701</td>\n",
       "      <td>-0.780611</td>\n",
       "      <td>-0.224278</td>\n",
       "    </tr>\n",
       "    <tr>\n",
       "      <th>3</th>\n",
       "      <td>-0.761828</td>\n",
       "      <td>0.359165</td>\n",
       "      <td>-0.263890</td>\n",
       "      <td>-0.490791</td>\n",
       "    </tr>\n",
       "    <tr>\n",
       "      <th>4</th>\n",
       "      <td>-0.116162</td>\n",
       "      <td>-1.227516</td>\n",
       "      <td>1.288768</td>\n",
       "      <td>-0.409262</td>\n",
       "    </tr>\n",
       "    <tr>\n",
       "      <th>5</th>\n",
       "      <td>-0.020895</td>\n",
       "      <td>0.942396</td>\n",
       "      <td>0.253535</td>\n",
       "      <td>0.545680</td>\n",
       "    </tr>\n",
       "    <tr>\n",
       "      <th>6</th>\n",
       "      <td>-0.929421</td>\n",
       "      <td>0.183887</td>\n",
       "      <td>1.375979</td>\n",
       "      <td>-0.882171</td>\n",
       "    </tr>\n",
       "    <tr>\n",
       "      <th>7</th>\n",
       "      <td>-0.750134</td>\n",
       "      <td>-1.114785</td>\n",
       "      <td>-0.222023</td>\n",
       "      <td>-0.578924</td>\n",
       "    </tr>\n",
       "  </tbody>\n",
       "</table>\n",
       "</div>"
      ],
      "text/plain": [
       "          A         B         C         D\n",
       "0  0.645475  0.089883 -1.604896  0.514256\n",
       "1  0.424662 -0.281339 -0.641630  1.251480\n",
       "2  2.014034 -0.171701 -0.780611 -0.224278\n",
       "3 -0.761828  0.359165 -0.263890 -0.490791\n",
       "4 -0.116162 -1.227516  1.288768 -0.409262\n",
       "5 -0.020895  0.942396  0.253535  0.545680\n",
       "6 -0.929421  0.183887  1.375979 -0.882171\n",
       "7 -0.750134 -1.114785 -0.222023 -0.578924"
      ]
     },
     "execution_count": 3,
     "metadata": {},
     "output_type": "execute_result"
    }
   ],
   "source": [
    "df=pd.DataFrame(np.random.randn(8,4),columns=['A','B','C','D'])\n",
    "df"
   ]
  },
  {
   "cell_type": "markdown",
   "metadata": {},
   "source": [
    "df.loc() = location based (df.loc[r,c])//\n",
    "\n",
    "[:,a]-->it will show all the coloumn in the row//\n",
    "\n",
    "(a:e,a)-->it will show all the rows from a to d(will not take e) of a column\n",
    "\n",
    "df.iloc()= index based ,,here columns and rows are index such as 0,1,2,3,4,5-->with iloc operation become more easier for callin function for example... \n",
    "\n",
    "df.iloc[:,0] ,,\n",
    "df.iloc[:,0:2].....,,\n",
    "df.iloc [1:4,0:3]"
   ]
  },
  {
   "cell_type": "markdown",
   "metadata": {},
   "source": [
    "#### ==========================="
   ]
  },
  {
   "cell_type": "code",
   "execution_count": 1,
   "metadata": {},
   "outputs": [],
   "source": [
    "import numpy as np"
   ]
  },
  {
   "cell_type": "code",
   "execution_count": 2,
   "metadata": {},
   "outputs": [],
   "source": [
    "import pandas as pd"
   ]
  },
  {
   "cell_type": "code",
   "execution_count": 3,
   "metadata": {},
   "outputs": [
    {
     "data": {
      "text/html": [
       "<div>\n",
       "<style scoped>\n",
       "    .dataframe tbody tr th:only-of-type {\n",
       "        vertical-align: middle;\n",
       "    }\n",
       "\n",
       "    .dataframe tbody tr th {\n",
       "        vertical-align: top;\n",
       "    }\n",
       "\n",
       "    .dataframe thead th {\n",
       "        text-align: right;\n",
       "    }\n",
       "</style>\n",
       "<table border=\"1\" class=\"dataframe\">\n",
       "  <thead>\n",
       "    <tr style=\"text-align: right;\">\n",
       "      <th></th>\n",
       "      <th>A</th>\n",
       "      <th>B</th>\n",
       "      <th>C</th>\n",
       "      <th>D</th>\n",
       "      <th>E</th>\n",
       "    </tr>\n",
       "  </thead>\n",
       "  <tbody>\n",
       "    <tr>\n",
       "      <th>0</th>\n",
       "      <td>1.280751</td>\n",
       "      <td>0.099224</td>\n",
       "      <td>2.269917</td>\n",
       "      <td>0.119978</td>\n",
       "      <td>2.030126</td>\n",
       "    </tr>\n",
       "    <tr>\n",
       "      <th>1</th>\n",
       "      <td>0.661349</td>\n",
       "      <td>-0.449777</td>\n",
       "      <td>0.033155</td>\n",
       "      <td>0.437714</td>\n",
       "      <td>1.160318</td>\n",
       "    </tr>\n",
       "    <tr>\n",
       "      <th>2</th>\n",
       "      <td>1.021499</td>\n",
       "      <td>0.099488</td>\n",
       "      <td>-0.482655</td>\n",
       "      <td>-0.827260</td>\n",
       "      <td>0.684983</td>\n",
       "    </tr>\n",
       "    <tr>\n",
       "      <th>3</th>\n",
       "      <td>-0.393015</td>\n",
       "      <td>-0.047687</td>\n",
       "      <td>-0.788021</td>\n",
       "      <td>-1.127172</td>\n",
       "      <td>-0.899855</td>\n",
       "    </tr>\n",
       "    <tr>\n",
       "      <th>4</th>\n",
       "      <td>0.379836</td>\n",
       "      <td>0.587973</td>\n",
       "      <td>-0.451428</td>\n",
       "      <td>1.005257</td>\n",
       "      <td>-0.573009</td>\n",
       "    </tr>\n",
       "    <tr>\n",
       "      <th>5</th>\n",
       "      <td>-0.624708</td>\n",
       "      <td>-1.661506</td>\n",
       "      <td>-2.010496</td>\n",
       "      <td>1.700036</td>\n",
       "      <td>-0.671616</td>\n",
       "    </tr>\n",
       "    <tr>\n",
       "      <th>6</th>\n",
       "      <td>0.918989</td>\n",
       "      <td>-0.585513</td>\n",
       "      <td>-1.583408</td>\n",
       "      <td>0.140385</td>\n",
       "      <td>0.458094</td>\n",
       "    </tr>\n",
       "    <tr>\n",
       "      <th>7</th>\n",
       "      <td>-1.015054</td>\n",
       "      <td>-0.290757</td>\n",
       "      <td>-0.193392</td>\n",
       "      <td>0.135194</td>\n",
       "      <td>-1.244034</td>\n",
       "    </tr>\n",
       "    <tr>\n",
       "      <th>8</th>\n",
       "      <td>1.138500</td>\n",
       "      <td>2.831401</td>\n",
       "      <td>-0.291056</td>\n",
       "      <td>0.077227</td>\n",
       "      <td>0.546371</td>\n",
       "    </tr>\n",
       "    <tr>\n",
       "      <th>9</th>\n",
       "      <td>-1.028152</td>\n",
       "      <td>0.582181</td>\n",
       "      <td>0.554981</td>\n",
       "      <td>-0.897077</td>\n",
       "      <td>-0.075474</td>\n",
       "    </tr>\n",
       "  </tbody>\n",
       "</table>\n",
       "</div>"
      ],
      "text/plain": [
       "          A         B         C         D         E\n",
       "0  1.280751  0.099224  2.269917  0.119978  2.030126\n",
       "1  0.661349 -0.449777  0.033155  0.437714  1.160318\n",
       "2  1.021499  0.099488 -0.482655 -0.827260  0.684983\n",
       "3 -0.393015 -0.047687 -0.788021 -1.127172 -0.899855\n",
       "4  0.379836  0.587973 -0.451428  1.005257 -0.573009\n",
       "5 -0.624708 -1.661506 -2.010496  1.700036 -0.671616\n",
       "6  0.918989 -0.585513 -1.583408  0.140385  0.458094\n",
       "7 -1.015054 -0.290757 -0.193392  0.135194 -1.244034\n",
       "8  1.138500  2.831401 -0.291056  0.077227  0.546371\n",
       "9 -1.028152  0.582181  0.554981 -0.897077 -0.075474"
      ]
     },
     "execution_count": 3,
     "metadata": {},
     "output_type": "execute_result"
    }
   ],
   "source": [
    "df=pd.DataFrame(np.random.randn(10,5),columns=['A','B','C','D','E'])\n",
    "df"
   ]
  },
  {
   "cell_type": "code",
   "execution_count": 4,
   "metadata": {},
   "outputs": [
    {
     "data": {
      "text/plain": [
       "0    1.280751\n",
       "1    0.661349\n",
       "2    1.021499\n",
       "3   -0.393015\n",
       "4    0.379836\n",
       "5   -0.624708\n",
       "6    0.918989\n",
       "7   -1.015054\n",
       "8    1.138500\n",
       "9   -1.028152\n",
       "Name: A, dtype: float64"
      ]
     },
     "execution_count": 4,
     "metadata": {},
     "output_type": "execute_result"
    }
   ],
   "source": [
    "df.loc[:,'A']"
   ]
  },
  {
   "cell_type": "code",
   "execution_count": 5,
   "metadata": {},
   "outputs": [
    {
     "data": {
      "text/plain": [
       "0    2.269917\n",
       "1    0.033155\n",
       "2   -0.482655\n",
       "3   -0.788021\n",
       "4   -0.451428\n",
       "5   -2.010496\n",
       "6   -1.583408\n",
       "7   -0.193392\n",
       "8   -0.291056\n",
       "9    0.554981\n",
       "Name: C, dtype: float64"
      ]
     },
     "execution_count": 5,
     "metadata": {},
     "output_type": "execute_result"
    }
   ],
   "source": [
    "df.loc[:,'C']"
   ]
  },
  {
   "cell_type": "code",
   "execution_count": 7,
   "metadata": {},
   "outputs": [
    {
     "data": {
      "text/html": [
       "<div>\n",
       "<style scoped>\n",
       "    .dataframe tbody tr th:only-of-type {\n",
       "        vertical-align: middle;\n",
       "    }\n",
       "\n",
       "    .dataframe tbody tr th {\n",
       "        vertical-align: top;\n",
       "    }\n",
       "\n",
       "    .dataframe thead th {\n",
       "        text-align: right;\n",
       "    }\n",
       "</style>\n",
       "<table border=\"1\" class=\"dataframe\">\n",
       "  <thead>\n",
       "    <tr style=\"text-align: right;\">\n",
       "      <th></th>\n",
       "      <th>A</th>\n",
       "      <th>B</th>\n",
       "      <th>C</th>\n",
       "    </tr>\n",
       "  </thead>\n",
       "  <tbody>\n",
       "    <tr>\n",
       "      <th>0</th>\n",
       "      <td>1.280751</td>\n",
       "      <td>0.099224</td>\n",
       "      <td>2.269917</td>\n",
       "    </tr>\n",
       "    <tr>\n",
       "      <th>1</th>\n",
       "      <td>0.661349</td>\n",
       "      <td>-0.449777</td>\n",
       "      <td>0.033155</td>\n",
       "    </tr>\n",
       "    <tr>\n",
       "      <th>2</th>\n",
       "      <td>1.021499</td>\n",
       "      <td>0.099488</td>\n",
       "      <td>-0.482655</td>\n",
       "    </tr>\n",
       "    <tr>\n",
       "      <th>3</th>\n",
       "      <td>-0.393015</td>\n",
       "      <td>-0.047687</td>\n",
       "      <td>-0.788021</td>\n",
       "    </tr>\n",
       "    <tr>\n",
       "      <th>4</th>\n",
       "      <td>0.379836</td>\n",
       "      <td>0.587973</td>\n",
       "      <td>-0.451428</td>\n",
       "    </tr>\n",
       "    <tr>\n",
       "      <th>5</th>\n",
       "      <td>-0.624708</td>\n",
       "      <td>-1.661506</td>\n",
       "      <td>-2.010496</td>\n",
       "    </tr>\n",
       "    <tr>\n",
       "      <th>6</th>\n",
       "      <td>0.918989</td>\n",
       "      <td>-0.585513</td>\n",
       "      <td>-1.583408</td>\n",
       "    </tr>\n",
       "    <tr>\n",
       "      <th>7</th>\n",
       "      <td>-1.015054</td>\n",
       "      <td>-0.290757</td>\n",
       "      <td>-0.193392</td>\n",
       "    </tr>\n",
       "    <tr>\n",
       "      <th>8</th>\n",
       "      <td>1.138500</td>\n",
       "      <td>2.831401</td>\n",
       "      <td>-0.291056</td>\n",
       "    </tr>\n",
       "    <tr>\n",
       "      <th>9</th>\n",
       "      <td>-1.028152</td>\n",
       "      <td>0.582181</td>\n",
       "      <td>0.554981</td>\n",
       "    </tr>\n",
       "  </tbody>\n",
       "</table>\n",
       "</div>"
      ],
      "text/plain": [
       "          A         B         C\n",
       "0  1.280751  0.099224  2.269917\n",
       "1  0.661349 -0.449777  0.033155\n",
       "2  1.021499  0.099488 -0.482655\n",
       "3 -0.393015 -0.047687 -0.788021\n",
       "4  0.379836  0.587973 -0.451428\n",
       "5 -0.624708 -1.661506 -2.010496\n",
       "6  0.918989 -0.585513 -1.583408\n",
       "7 -1.015054 -0.290757 -0.193392\n",
       "8  1.138500  2.831401 -0.291056\n",
       "9 -1.028152  0.582181  0.554981"
      ]
     },
     "execution_count": 7,
     "metadata": {},
     "output_type": "execute_result"
    }
   ],
   "source": [
    "df.loc[:,'A':'C']"
   ]
  },
  {
   "cell_type": "raw",
   "metadata": {},
   "source": [
    ".iloc() pandas provide various methodin order to get purely integer based indexing...like python and numpy,these are 0 based indexing"
   ]
  },
  {
   "cell_type": "code",
   "execution_count": 8,
   "metadata": {},
   "outputs": [
    {
     "data": {
      "text/html": [
       "<div>\n",
       "<style scoped>\n",
       "    .dataframe tbody tr th:only-of-type {\n",
       "        vertical-align: middle;\n",
       "    }\n",
       "\n",
       "    .dataframe tbody tr th {\n",
       "        vertical-align: top;\n",
       "    }\n",
       "\n",
       "    .dataframe thead th {\n",
       "        text-align: right;\n",
       "    }\n",
       "</style>\n",
       "<table border=\"1\" class=\"dataframe\">\n",
       "  <thead>\n",
       "    <tr style=\"text-align: right;\">\n",
       "      <th></th>\n",
       "      <th>a</th>\n",
       "      <th>b</th>\n",
       "      <th>c</th>\n",
       "      <th>d</th>\n",
       "    </tr>\n",
       "  </thead>\n",
       "  <tbody>\n",
       "    <tr>\n",
       "      <th>0</th>\n",
       "      <td>-0.058870</td>\n",
       "      <td>-0.978180</td>\n",
       "      <td>-0.303778</td>\n",
       "      <td>-0.432333</td>\n",
       "    </tr>\n",
       "    <tr>\n",
       "      <th>1</th>\n",
       "      <td>2.740284</td>\n",
       "      <td>0.619365</td>\n",
       "      <td>0.063198</td>\n",
       "      <td>-0.690904</td>\n",
       "    </tr>\n",
       "    <tr>\n",
       "      <th>2</th>\n",
       "      <td>-2.082999</td>\n",
       "      <td>-0.195337</td>\n",
       "      <td>-0.605617</td>\n",
       "      <td>-1.458147</td>\n",
       "    </tr>\n",
       "    <tr>\n",
       "      <th>3</th>\n",
       "      <td>-0.272547</td>\n",
       "      <td>1.797071</td>\n",
       "      <td>-0.207462</td>\n",
       "      <td>0.599889</td>\n",
       "    </tr>\n",
       "    <tr>\n",
       "      <th>4</th>\n",
       "      <td>-1.224019</td>\n",
       "      <td>0.374408</td>\n",
       "      <td>-1.377187</td>\n",
       "      <td>1.205013</td>\n",
       "    </tr>\n",
       "    <tr>\n",
       "      <th>5</th>\n",
       "      <td>1.606174</td>\n",
       "      <td>-1.566585</td>\n",
       "      <td>-0.051816</td>\n",
       "      <td>1.431599</td>\n",
       "    </tr>\n",
       "    <tr>\n",
       "      <th>6</th>\n",
       "      <td>0.890714</td>\n",
       "      <td>1.998192</td>\n",
       "      <td>-0.396498</td>\n",
       "      <td>0.212439</td>\n",
       "    </tr>\n",
       "    <tr>\n",
       "      <th>7</th>\n",
       "      <td>0.853609</td>\n",
       "      <td>0.498624</td>\n",
       "      <td>0.412359</td>\n",
       "      <td>0.393741</td>\n",
       "    </tr>\n",
       "  </tbody>\n",
       "</table>\n",
       "</div>"
      ],
      "text/plain": [
       "          a         b         c         d\n",
       "0 -0.058870 -0.978180 -0.303778 -0.432333\n",
       "1  2.740284  0.619365  0.063198 -0.690904\n",
       "2 -2.082999 -0.195337 -0.605617 -1.458147\n",
       "3 -0.272547  1.797071 -0.207462  0.599889\n",
       "4 -1.224019  0.374408 -1.377187  1.205013\n",
       "5  1.606174 -1.566585 -0.051816  1.431599\n",
       "6  0.890714  1.998192 -0.396498  0.212439\n",
       "7  0.853609  0.498624  0.412359  0.393741"
      ]
     },
     "execution_count": 8,
     "metadata": {},
     "output_type": "execute_result"
    }
   ],
   "source": [
    "df=pd.DataFrame(np.random.randn(8,4),columns=['a','b','c','d'])\n",
    "df"
   ]
  },
  {
   "cell_type": "code",
   "execution_count": 9,
   "metadata": {},
   "outputs": [
    {
     "data": {
      "text/html": [
       "<div>\n",
       "<style scoped>\n",
       "    .dataframe tbody tr th:only-of-type {\n",
       "        vertical-align: middle;\n",
       "    }\n",
       "\n",
       "    .dataframe tbody tr th {\n",
       "        vertical-align: top;\n",
       "    }\n",
       "\n",
       "    .dataframe thead th {\n",
       "        text-align: right;\n",
       "    }\n",
       "</style>\n",
       "<table border=\"1\" class=\"dataframe\">\n",
       "  <thead>\n",
       "    <tr style=\"text-align: right;\">\n",
       "      <th></th>\n",
       "      <th>a</th>\n",
       "      <th>b</th>\n",
       "      <th>c</th>\n",
       "      <th>d</th>\n",
       "    </tr>\n",
       "  </thead>\n",
       "  <tbody>\n",
       "    <tr>\n",
       "      <th>0</th>\n",
       "      <td>-0.058870</td>\n",
       "      <td>-0.978180</td>\n",
       "      <td>-0.303778</td>\n",
       "      <td>-0.432333</td>\n",
       "    </tr>\n",
       "    <tr>\n",
       "      <th>1</th>\n",
       "      <td>2.740284</td>\n",
       "      <td>0.619365</td>\n",
       "      <td>0.063198</td>\n",
       "      <td>-0.690904</td>\n",
       "    </tr>\n",
       "    <tr>\n",
       "      <th>2</th>\n",
       "      <td>-2.082999</td>\n",
       "      <td>-0.195337</td>\n",
       "      <td>-0.605617</td>\n",
       "      <td>-1.458147</td>\n",
       "    </tr>\n",
       "    <tr>\n",
       "      <th>3</th>\n",
       "      <td>-0.272547</td>\n",
       "      <td>1.797071</td>\n",
       "      <td>-0.207462</td>\n",
       "      <td>0.599889</td>\n",
       "    </tr>\n",
       "  </tbody>\n",
       "</table>\n",
       "</div>"
      ],
      "text/plain": [
       "          a         b         c         d\n",
       "0 -0.058870 -0.978180 -0.303778 -0.432333\n",
       "1  2.740284  0.619365  0.063198 -0.690904\n",
       "2 -2.082999 -0.195337 -0.605617 -1.458147\n",
       "3 -0.272547  1.797071 -0.207462  0.599889"
      ]
     },
     "execution_count": 9,
     "metadata": {},
     "output_type": "execute_result"
    }
   ],
   "source": [
    "df.iloc[:4,:]"
   ]
  },
  {
   "cell_type": "code",
   "execution_count": 9,
   "metadata": {},
   "outputs": [
    {
     "data": {
      "text/html": [
       "<div>\n",
       "<style scoped>\n",
       "    .dataframe tbody tr th:only-of-type {\n",
       "        vertical-align: middle;\n",
       "    }\n",
       "\n",
       "    .dataframe tbody tr th {\n",
       "        vertical-align: top;\n",
       "    }\n",
       "\n",
       "    .dataframe thead th {\n",
       "        text-align: right;\n",
       "    }\n",
       "</style>\n",
       "<table border=\"1\" class=\"dataframe\">\n",
       "  <thead>\n",
       "    <tr style=\"text-align: right;\">\n",
       "      <th></th>\n",
       "      <th>a</th>\n",
       "      <th>b</th>\n",
       "      <th>c</th>\n",
       "      <th>d</th>\n",
       "    </tr>\n",
       "  </thead>\n",
       "  <tbody>\n",
       "    <tr>\n",
       "      <th>0</th>\n",
       "      <td>-0.058870</td>\n",
       "      <td>-0.978180</td>\n",
       "      <td>-0.303778</td>\n",
       "      <td>-0.432333</td>\n",
       "    </tr>\n",
       "    <tr>\n",
       "      <th>1</th>\n",
       "      <td>2.740284</td>\n",
       "      <td>0.619365</td>\n",
       "      <td>0.063198</td>\n",
       "      <td>-0.690904</td>\n",
       "    </tr>\n",
       "    <tr>\n",
       "      <th>2</th>\n",
       "      <td>-2.082999</td>\n",
       "      <td>-0.195337</td>\n",
       "      <td>-0.605617</td>\n",
       "      <td>-1.458147</td>\n",
       "    </tr>\n",
       "    <tr>\n",
       "      <th>3</th>\n",
       "      <td>-0.272547</td>\n",
       "      <td>1.797071</td>\n",
       "      <td>-0.207462</td>\n",
       "      <td>0.599889</td>\n",
       "    </tr>\n",
       "  </tbody>\n",
       "</table>\n",
       "</div>"
      ],
      "text/plain": [
       "          a         b         c         d\n",
       "0 -0.058870 -0.978180 -0.303778 -0.432333\n",
       "1  2.740284  0.619365  0.063198 -0.690904\n",
       "2 -2.082999 -0.195337 -0.605617 -1.458147\n",
       "3 -0.272547  1.797071 -0.207462  0.599889"
      ]
     },
     "execution_count": 9,
     "metadata": {},
     "output_type": "execute_result"
    }
   ],
   "source": [
    "df.iloc[:4,:]"
   ]
  },
  {
   "cell_type": "code",
   "execution_count": 10,
   "metadata": {},
   "outputs": [
    {
     "data": {
      "text/plain": [
       "0   -0.058870\n",
       "1    2.740284\n",
       "2   -2.082999\n",
       "3   -0.272547\n",
       "4   -1.224019\n",
       "5    1.606174\n",
       "6    0.890714\n",
       "7    0.853609\n",
       "Name: a, dtype: float64"
      ]
     },
     "execution_count": 10,
     "metadata": {},
     "output_type": "execute_result"
    }
   ],
   "source": [
    "df.iloc[:,0]"
   ]
  },
  {
   "cell_type": "code",
   "execution_count": 13,
   "metadata": {},
   "outputs": [
    {
     "data": {
      "text/plain": [
       "a   -1.224019\n",
       "b    0.374408\n",
       "Name: 4, dtype: float64"
      ]
     },
     "execution_count": 13,
     "metadata": {},
     "output_type": "execute_result"
    }
   ],
   "source": [
    "df.iloc[4,0:2]"
   ]
  },
  {
   "cell_type": "code",
   "execution_count": 15,
   "metadata": {},
   "outputs": [
    {
     "data": {
      "text/html": [
       "<div>\n",
       "<style scoped>\n",
       "    .dataframe tbody tr th:only-of-type {\n",
       "        vertical-align: middle;\n",
       "    }\n",
       "\n",
       "    .dataframe tbody tr th {\n",
       "        vertical-align: top;\n",
       "    }\n",
       "\n",
       "    .dataframe thead th {\n",
       "        text-align: right;\n",
       "    }\n",
       "</style>\n",
       "<table border=\"1\" class=\"dataframe\">\n",
       "  <thead>\n",
       "    <tr style=\"text-align: right;\">\n",
       "      <th></th>\n",
       "      <th>a</th>\n",
       "      <th>b</th>\n",
       "      <th>c</th>\n",
       "    </tr>\n",
       "  </thead>\n",
       "  <tbody>\n",
       "    <tr>\n",
       "      <th>0</th>\n",
       "      <td>-0.058870</td>\n",
       "      <td>-0.978180</td>\n",
       "      <td>-0.303778</td>\n",
       "    </tr>\n",
       "    <tr>\n",
       "      <th>1</th>\n",
       "      <td>2.740284</td>\n",
       "      <td>0.619365</td>\n",
       "      <td>0.063198</td>\n",
       "    </tr>\n",
       "    <tr>\n",
       "      <th>2</th>\n",
       "      <td>-2.082999</td>\n",
       "      <td>-0.195337</td>\n",
       "      <td>-0.605617</td>\n",
       "    </tr>\n",
       "    <tr>\n",
       "      <th>3</th>\n",
       "      <td>-0.272547</td>\n",
       "      <td>1.797071</td>\n",
       "      <td>-0.207462</td>\n",
       "    </tr>\n",
       "    <tr>\n",
       "      <th>4</th>\n",
       "      <td>-1.224019</td>\n",
       "      <td>0.374408</td>\n",
       "      <td>-1.377187</td>\n",
       "    </tr>\n",
       "    <tr>\n",
       "      <th>5</th>\n",
       "      <td>1.606174</td>\n",
       "      <td>-1.566585</td>\n",
       "      <td>-0.051816</td>\n",
       "    </tr>\n",
       "    <tr>\n",
       "      <th>6</th>\n",
       "      <td>0.890714</td>\n",
       "      <td>1.998192</td>\n",
       "      <td>-0.396498</td>\n",
       "    </tr>\n",
       "    <tr>\n",
       "      <th>7</th>\n",
       "      <td>0.853609</td>\n",
       "      <td>0.498624</td>\n",
       "      <td>0.412359</td>\n",
       "    </tr>\n",
       "  </tbody>\n",
       "</table>\n",
       "</div>"
      ],
      "text/plain": [
       "          a         b         c\n",
       "0 -0.058870 -0.978180 -0.303778\n",
       "1  2.740284  0.619365  0.063198\n",
       "2 -2.082999 -0.195337 -0.605617\n",
       "3 -0.272547  1.797071 -0.207462\n",
       "4 -1.224019  0.374408 -1.377187\n",
       "5  1.606174 -1.566585 -0.051816\n",
       "6  0.890714  1.998192 -0.396498\n",
       "7  0.853609  0.498624  0.412359"
      ]
     },
     "execution_count": 15,
     "metadata": {},
     "output_type": "execute_result"
    }
   ],
   "source": [
    "df.iloc[:,0:3]"
   ]
  },
  {
   "cell_type": "code",
   "execution_count": 16,
   "metadata": {},
   "outputs": [
    {
     "data": {
      "text/plain": [
       "2   -1.458147\n",
       "3    0.599889\n",
       "4    1.205013\n",
       "Name: d, dtype: float64"
      ]
     },
     "execution_count": 16,
     "metadata": {},
     "output_type": "execute_result"
    }
   ],
   "source": [
    "df.iloc[2:5,3]"
   ]
  },
  {
   "cell_type": "code",
   "execution_count": 17,
   "metadata": {},
   "outputs": [
    {
     "data": {
      "text/html": [
       "<div>\n",
       "<style scoped>\n",
       "    .dataframe tbody tr th:only-of-type {\n",
       "        vertical-align: middle;\n",
       "    }\n",
       "\n",
       "    .dataframe tbody tr th {\n",
       "        vertical-align: top;\n",
       "    }\n",
       "\n",
       "    .dataframe thead th {\n",
       "        text-align: right;\n",
       "    }\n",
       "</style>\n",
       "<table border=\"1\" class=\"dataframe\">\n",
       "  <thead>\n",
       "    <tr style=\"text-align: right;\">\n",
       "      <th></th>\n",
       "      <th>a</th>\n",
       "      <th>b</th>\n",
       "      <th>c</th>\n",
       "      <th>d</th>\n",
       "    </tr>\n",
       "  </thead>\n",
       "  <tbody>\n",
       "    <tr>\n",
       "      <th>0</th>\n",
       "      <td>-0.058870</td>\n",
       "      <td>-0.978180</td>\n",
       "      <td>-0.303778</td>\n",
       "      <td>-0.432333</td>\n",
       "    </tr>\n",
       "    <tr>\n",
       "      <th>1</th>\n",
       "      <td>2.740284</td>\n",
       "      <td>0.619365</td>\n",
       "      <td>0.063198</td>\n",
       "      <td>-0.690904</td>\n",
       "    </tr>\n",
       "    <tr>\n",
       "      <th>2</th>\n",
       "      <td>-2.082999</td>\n",
       "      <td>-0.195337</td>\n",
       "      <td>-0.605617</td>\n",
       "      <td>-1.458147</td>\n",
       "    </tr>\n",
       "    <tr>\n",
       "      <th>3</th>\n",
       "      <td>-0.272547</td>\n",
       "      <td>1.797071</td>\n",
       "      <td>-0.207462</td>\n",
       "      <td>0.599889</td>\n",
       "    </tr>\n",
       "  </tbody>\n",
       "</table>\n",
       "</div>"
      ],
      "text/plain": [
       "          a         b         c         d\n",
       "0 -0.058870 -0.978180 -0.303778 -0.432333\n",
       "1  2.740284  0.619365  0.063198 -0.690904\n",
       "2 -2.082999 -0.195337 -0.605617 -1.458147\n",
       "3 -0.272547  1.797071 -0.207462  0.599889"
      ]
     },
     "execution_count": 17,
     "metadata": {},
     "output_type": "execute_result"
    }
   ],
   "source": [
    "df.iloc[:4,:]"
   ]
  },
  {
   "cell_type": "code",
   "execution_count": 18,
   "metadata": {},
   "outputs": [
    {
     "data": {
      "text/html": [
       "<div>\n",
       "<style scoped>\n",
       "    .dataframe tbody tr th:only-of-type {\n",
       "        vertical-align: middle;\n",
       "    }\n",
       "\n",
       "    .dataframe tbody tr th {\n",
       "        vertical-align: top;\n",
       "    }\n",
       "\n",
       "    .dataframe thead th {\n",
       "        text-align: right;\n",
       "    }\n",
       "</style>\n",
       "<table border=\"1\" class=\"dataframe\">\n",
       "  <thead>\n",
       "    <tr style=\"text-align: right;\">\n",
       "      <th></th>\n",
       "      <th>c</th>\n",
       "      <th>d</th>\n",
       "    </tr>\n",
       "  </thead>\n",
       "  <tbody>\n",
       "    <tr>\n",
       "      <th>1</th>\n",
       "      <td>0.063198</td>\n",
       "      <td>-0.690904</td>\n",
       "    </tr>\n",
       "    <tr>\n",
       "      <th>2</th>\n",
       "      <td>-0.605617</td>\n",
       "      <td>-1.458147</td>\n",
       "    </tr>\n",
       "    <tr>\n",
       "      <th>3</th>\n",
       "      <td>-0.207462</td>\n",
       "      <td>0.599889</td>\n",
       "    </tr>\n",
       "    <tr>\n",
       "      <th>4</th>\n",
       "      <td>-1.377187</td>\n",
       "      <td>1.205013</td>\n",
       "    </tr>\n",
       "  </tbody>\n",
       "</table>\n",
       "</div>"
      ],
      "text/plain": [
       "          c         d\n",
       "1  0.063198 -0.690904\n",
       "2 -0.605617 -1.458147\n",
       "3 -0.207462  0.599889\n",
       "4 -1.377187  1.205013"
      ]
     },
     "execution_count": 18,
     "metadata": {},
     "output_type": "execute_result"
    }
   ],
   "source": [
    "df.iloc[1:5,2:4]                       #here 4 is exclusive"
   ]
  },
  {
   "cell_type": "code",
   "execution_count": 22,
   "metadata": {},
   "outputs": [
    {
     "name": "stdout",
     "output_type": "stream",
     "text": [
      "          a         b         c         d\n",
      "1  2.740284  0.619365  0.063198 -0.690904\n",
      "2 -2.082999 -0.195337 -0.605617 -1.458147\n",
      "\n",
      "\n",
      "          b         c\n",
      "0 -0.978180 -0.303778\n",
      "1  0.619365  0.063198\n",
      "2 -0.195337 -0.605617\n",
      "3  1.797071 -0.207462\n",
      "4  0.374408 -1.377187\n",
      "5 -1.566585 -0.051816\n",
      "6  1.998192 -0.396498\n",
      "7  0.498624  0.412359\n"
     ]
    }
   ],
   "source": [
    "print (df.iloc[1:3,:])\n",
    "print ('\\n')\n",
    "print (df.iloc[:,1:3])"
   ]
  },
  {
   "cell_type": "code",
   "execution_count": 23,
   "metadata": {},
   "outputs": [
    {
     "data": {
      "text/plain": [
       "0   -0.432333\n",
       "1   -0.690904\n",
       "2   -1.458147\n",
       "3    0.599889\n",
       "4    1.205013\n",
       "5    1.431599\n",
       "6    0.212439\n",
       "7    0.393741\n",
       "Name: d, dtype: float64"
      ]
     },
     "execution_count": 23,
     "metadata": {},
     "output_type": "execute_result"
    }
   ],
   "source": [
    "df.iloc[:,-1]"
   ]
  },
  {
   "cell_type": "markdown",
   "metadata": {},
   "source": [
    "# PANDAS VISUALISATION"
   ]
  },
  {
   "cell_type": "raw",
   "metadata": {},
   "source": [
    "THESE METHOD CAN BE PROVIDED AS A KEYWORD AGGUMENT TO PLOT()..these include-\n",
    "\n",
    "bar or barth for bar plots\n",
    "\n",
    "hist for histogram\n",
    "\n",
    "box for boxplot\n",
    "\n",
    "'area' for area plots\n",
    "\n",
    "'scatter' for scatter plot"
   ]
  },
  {
   "cell_type": "code",
   "execution_count": 25,
   "metadata": {},
   "outputs": [
    {
     "name": "stdout",
     "output_type": "stream",
     "text": [
      "          A         B         C         D\n",
      "0  0.235904 -1.066257  0.623154  0.614623\n",
      "1  0.472713 -0.567216 -1.416867  1.136988\n",
      "2  0.979378 -0.958306  0.969643  0.301618\n",
      "3 -0.285519  0.441431 -0.448576  0.033495\n",
      "4 -0.476381  0.058956  2.240191  0.186630\n",
      "5  0.370429  0.265770  0.500462  0.848539\n",
      "6  0.280621  1.192761 -0.896150  0.606652\n",
      "7  0.095457 -0.180650  1.120675  2.354064\n"
     ]
    },
    {
     "data": {
      "text/plain": [
       "<AxesSubplot:>"
      ]
     },
     "execution_count": 25,
     "metadata": {},
     "output_type": "execute_result"
    },
    {
     "data": {
      "image/png": "[encoded data removed]",
      "text/plain": [
       "<Figure size 432x288 with 1 Axes>"
      ]
     },
     "metadata": {
      "needs_background": "light"
     },
     "output_type": "display_data"
    }
   ],
   "source": [
    "df=pd.DataFrame(np.random.randn(8,4),columns=['A','B','C','D'])\n",
    "print (df)\n",
    "df.plot.bar()"
   ]
  },
  {
   "cell_type": "code",
   "execution_count": 28,
   "metadata": {},
   "outputs": [
    {
     "name": "stdout",
     "output_type": "stream",
     "text": [
      "          a         b         c         d\n",
      "0  0.155125  0.970069  0.491954  0.029628\n",
      "1  0.443133  0.674720  0.146929  0.064623\n",
      "2  0.876150  0.856953  0.756756  0.394008\n",
      "3  0.440890  0.713427  0.561221  0.986255\n",
      "4  0.234812  0.348769  0.182855  0.815652\n",
      "5  0.265967  0.652569  0.560495  0.001258\n",
      "6  0.268825  0.842176  0.291805  0.694351\n",
      "7  0.739233  0.232568  0.517783  0.025956\n",
      "8  0.850778  0.339664  0.663990  0.745726\n",
      "9  0.273879  0.142623  0.978591  0.705904\n"
     ]
    },
    {
     "data": {
      "text/plain": [
       "<AxesSubplot:>"
      ]
     },
     "execution_count": 28,
     "metadata": {},
     "output_type": "execute_result"
    },
    {
     "data": {
      "image/png": "[encoded data removed]",
      "text/plain": [
       "<Figure size 432x288 with 1 Axes>"
      ]
     },
     "metadata": {
      "needs_background": "light"
     },
     "output_type": "display_data"
    }
   ],
   "source": [
    "df=pd.DataFrame(np.random.rand(10,4),columns=['a','b','c','d'])\n",
    "print (df)\n",
    "df.plot.bar(stacked=True)"
   ]
  },
  {
   "cell_type": "code",
   "execution_count": 29,
   "metadata": {},
   "outputs": [
    {
     "name": "stdout",
     "output_type": "stream",
     "text": [
      "          a         b         c         d\n",
      "0  0.287526  0.345758  0.397705  0.556636\n",
      "1  0.922169  0.235455  0.246571  0.514611\n",
      "2  0.164812  0.982180  0.543682  0.055652\n",
      "3  0.664889  0.645908  0.385350  0.726280\n",
      "4  0.396586  0.691979  0.808793  0.649813\n",
      "5  0.354021  0.970129  0.942658  0.512018\n",
      "6  0.684363  0.624871  0.579958  0.474572\n",
      "7  0.191189  0.424191  0.751148  0.199413\n",
      "8  0.515025  0.346152  0.162778  0.833288\n",
      "9  0.550467  0.357533  0.676370  0.759293\n"
     ]
    },
    {
     "data": {
      "text/plain": [
       "<AxesSubplot:>"
      ]
     },
     "execution_count": 29,
     "metadata": {},
     "output_type": "execute_result"
    },
    {
     "data": {
      "image/png": "[encoded data removed]",
      "text/plain": [
       "<Figure size 432x288 with 1 Axes>"
      ]
     },
     "metadata": {
      "needs_background": "light"
     },
     "output_type": "display_data"
    }
   ],
   "source": [
    "df=pd.DataFrame(np.random.rand(10,4),columns=['a','b','c','d'])\n",
    "print (df)                                                               #if we want it in horizontal we will use barh\n",
    "df.plot.barh(stacked=True)"
   ]
  },
  {
   "cell_type": "code",
   "execution_count": 30,
   "metadata": {},
   "outputs": [
    {
     "data": {
      "text/plain": [
       "<AxesSubplot:ylabel='Frequency'>"
      ]
     },
     "execution_count": 30,
     "metadata": {},
     "output_type": "execute_result"
    },
    {
     "data": {
      "image/png": "[encoded data removed]",
      "text/plain": [
       "<Figure size 432x288 with 1 Axes>"
      ]
     },
     "metadata": {
      "needs_background": "light"
     },
     "output_type": "display_data"
    }
   ],
   "source": [
    "#histogram can be plotted using plot.hist() method ...we can specify no. of bin\n",
    "\n",
    "df.plot.hist(bins=20)"
   ]
  },
  {
   "cell_type": "code",
   "execution_count": 1,
   "metadata": {},
   "outputs": [],
   "source": [
    "import numpy as np\n",
    "import pandas as pd"
   ]
  },
  {
   "cell_type": "code",
   "execution_count": 2,
   "metadata": {},
   "outputs": [
    {
     "data": {
      "text/plain": [
       "<AxesSubplot:>"
      ]
     },
     "execution_count": 2,
     "metadata": {},
     "output_type": "execute_result"
    },
    {
     "data": {
      "image/png": "[encoded data removed]",
      "text/plain": [
       "<Figure size 432x288 with 1 Axes>"
      ]
     },
     "metadata": {
      "needs_background": "light"
     },
     "output_type": "display_data"
    }
   ],
   "source": [
    "df=pd.DataFrame(np.random.randn(10,4),columns=('A','B','C','D'))\n",
    "df\n",
    "df.plot.box()"
   ]
  },
  {
   "cell_type": "code",
   "execution_count": 3,
   "metadata": {},
   "outputs": [
    {
     "data": {
      "text/plain": [
       "<AxesSubplot:>"
      ]
     },
     "execution_count": 3,
     "metadata": {},
     "output_type": "execute_result"
    },
    {
     "data": {
      "image/png": "[encoded data removed]",
      "text/plain": [
       "<Figure size 432x288 with 1 Axes>"
      ]
     },
     "metadata": {
      "needs_background": "light"
     },
     "output_type": "display_data"
    }
   ],
   "source": [
    "df=pd.DataFrame(np.random.rand(10,4),columns=['A','B','C','D'])\n",
    "df\n",
    "df.plot.area()"
   ]
  },
  {
   "cell_type": "code",
   "execution_count": 5,
   "metadata": {},
   "outputs": [
    {
     "data": {
      "text/plain": [
       "<AxesSubplot:xlabel='A', ylabel='B'>"
      ]
     },
     "execution_count": 5,
     "metadata": {},
     "output_type": "execute_result"
    },
    {
     "data": {
      "image/png": "[encoded data removed]",
      "text/plain": [
       "<Figure size 432x288 with 1 Axes>"
      ]
     },
     "metadata": {
      "needs_background": "light"
     },
     "output_type": "display_data"
    }
   ],
   "source": [
    "df=pd.DataFrame(np.random.rand(10,2),columns=['A','B'])\n",
    "df\n",
    "df.plot.scatter(x='A',y='B')"
   ]
  },
  {
   "cell_type": "markdown",
   "metadata": {},
   "source": [
    "## MERGE ,CONCATENATION,JOIN AND APPEND FUNCTION OPERATION"
   ]
  },
  {
   "cell_type": "code",
   "execution_count": 5,
   "metadata": {},
   "outputs": [
    {
     "data": {
      "text/html": [
       "<div>\n",
       "<style scoped>\n",
       "    .dataframe tbody tr th:only-of-type {\n",
       "        vertical-align: middle;\n",
       "    }\n",
       "\n",
       "    .dataframe tbody tr th {\n",
       "        vertical-align: top;\n",
       "    }\n",
       "\n",
       "    .dataframe thead th {\n",
       "        text-align: right;\n",
       "    }\n",
       "</style>\n",
       "<table border=\"1\" class=\"dataframe\">\n",
       "  <thead>\n",
       "    <tr style=\"text-align: right;\">\n",
       "      <th></th>\n",
       "      <th>Subject id</th>\n",
       "      <th>First name</th>\n",
       "      <th>last name</th>\n",
       "    </tr>\n",
       "  </thead>\n",
       "  <tbody>\n",
       "    <tr>\n",
       "      <th>0</th>\n",
       "      <td>1</td>\n",
       "      <td>paad</td>\n",
       "      <td>susu</td>\n",
       "    </tr>\n",
       "    <tr>\n",
       "      <th>1</th>\n",
       "      <td>2</td>\n",
       "      <td>tatti</td>\n",
       "      <td>chusu</td>\n",
       "    </tr>\n",
       "    <tr>\n",
       "      <th>2</th>\n",
       "      <td>3</td>\n",
       "      <td>leda</td>\n",
       "      <td>hippa</td>\n",
       "    </tr>\n",
       "    <tr>\n",
       "      <th>3</th>\n",
       "      <td>4</td>\n",
       "      <td>gobar</td>\n",
       "      <td>gob</td>\n",
       "    </tr>\n",
       "    <tr>\n",
       "      <th>4</th>\n",
       "      <td>5</td>\n",
       "      <td>mutra</td>\n",
       "      <td>duski</td>\n",
       "    </tr>\n",
       "  </tbody>\n",
       "</table>\n",
       "</div>"
      ],
      "text/plain": [
       "  Subject id First name last name\n",
       "0          1       paad      susu\n",
       "1          2      tatti     chusu\n",
       "2          3       leda     hippa\n",
       "3          4      gobar       gob\n",
       "4          5      mutra     duski"
      ]
     },
     "execution_count": 5,
     "metadata": {},
     "output_type": "execute_result"
    }
   ],
   "source": [
    "raw_data={\n",
    "    'Subject id':['1','2','3','4','5'],\n",
    "    'First name':['paad','tatti','leda','gobar','mutra'],\n",
    "    'last name' :['susu','chusu','hippa','gob','duski']}\n",
    "df_a=pd.DataFrame(raw_data,columns=['Subject id','First name','last name'])\n",
    "df_a"
   ]
  },
  {
   "cell_type": "code",
   "execution_count": 1,
   "metadata": {},
   "outputs": [],
   "source": [
    "#create 2nd DataFrame"
   ]
  },
  {
   "cell_type": "code",
   "execution_count": 6,
   "metadata": {},
   "outputs": [],
   "source": [
    "import numpy as np\n",
    "import pandas as pd"
   ]
  },
  {
   "cell_type": "code",
   "execution_count": 7,
   "metadata": {},
   "outputs": [
    {
     "data": {
      "text/html": [
       "<div>\n",
       "<style scoped>\n",
       "    .dataframe tbody tr th:only-of-type {\n",
       "        vertical-align: middle;\n",
       "    }\n",
       "\n",
       "    .dataframe tbody tr th {\n",
       "        vertical-align: top;\n",
       "    }\n",
       "\n",
       "    .dataframe thead th {\n",
       "        text-align: right;\n",
       "    }\n",
       "</style>\n",
       "<table border=\"1\" class=\"dataframe\">\n",
       "  <thead>\n",
       "    <tr style=\"text-align: right;\">\n",
       "      <th></th>\n",
       "      <th>Subject id</th>\n",
       "      <th>First name</th>\n",
       "      <th>last name</th>\n",
       "    </tr>\n",
       "  </thead>\n",
       "  <tbody>\n",
       "    <tr>\n",
       "      <th>0</th>\n",
       "      <td>4</td>\n",
       "      <td>billy</td>\n",
       "      <td>sharma</td>\n",
       "    </tr>\n",
       "    <tr>\n",
       "      <th>1</th>\n",
       "      <td>5</td>\n",
       "      <td>brook</td>\n",
       "      <td>khan</td>\n",
       "    </tr>\n",
       "    <tr>\n",
       "      <th>2</th>\n",
       "      <td>6</td>\n",
       "      <td>kelly</td>\n",
       "      <td>verma</td>\n",
       "    </tr>\n",
       "    <tr>\n",
       "      <th>3</th>\n",
       "      <td>7</td>\n",
       "      <td>yolanda</td>\n",
       "      <td>chutarwadi</td>\n",
       "    </tr>\n",
       "    <tr>\n",
       "      <th>4</th>\n",
       "      <td>8</td>\n",
       "      <td>hippo</td>\n",
       "      <td>singh</td>\n",
       "    </tr>\n",
       "  </tbody>\n",
       "</table>\n",
       "</div>"
      ],
      "text/plain": [
       "  Subject id First name   last name\n",
       "0          4      billy      sharma\n",
       "1          5      brook        khan\n",
       "2          6      kelly       verma\n",
       "3          7    yolanda  chutarwadi\n",
       "4          8      hippo       singh"
      ]
     },
     "execution_count": 7,
     "metadata": {},
     "output_type": "execute_result"
    }
   ],
   "source": [
    "raw_data={\n",
    "    'Subject id':['4','5','6','7','8'],\n",
    "    'First name':['billy','brook','kelly','yolanda','hippo'],\n",
    "    'last name' :['sharma','khan','verma','chutarwadi','singh']}\n",
    "df_b=pd.DataFrame(raw_data,columns=['Subject id','First name','last name'])\n",
    "df_b"
   ]
  },
  {
   "cell_type": "markdown",
   "metadata": {},
   "source": [
    "### CONCATENATION"
   ]
  },
  {
   "cell_type": "raw",
   "metadata": {},
   "source": [
    "concatenation basically glue the data frame together ..you can select the dimension on which u want to concatenate..for that,just use pd.concat and pass in the list of dataframe to concatenate together...consider the below example:=\n",
    "\n",
    "concatenation in dataframe concat the different dataframe along with rows and columns..\n",
    "\n",
    "concat the dataframe along rows,by default axis=0 that is rows"
   ]
  },
  {
   "cell_type": "code",
   "execution_count": 8,
   "metadata": {},
   "outputs": [],
   "source": [
    "df_new=pd.concat([df_a,df_b],ignore_index=True)"
   ]
  },
  {
   "cell_type": "code",
   "execution_count": 9,
   "metadata": {},
   "outputs": [
    {
     "data": {
      "text/html": [
       "<div>\n",
       "<style scoped>\n",
       "    .dataframe tbody tr th:only-of-type {\n",
       "        vertical-align: middle;\n",
       "    }\n",
       "\n",
       "    .dataframe tbody tr th {\n",
       "        vertical-align: top;\n",
       "    }\n",
       "\n",
       "    .dataframe thead th {\n",
       "        text-align: right;\n",
       "    }\n",
       "</style>\n",
       "<table border=\"1\" class=\"dataframe\">\n",
       "  <thead>\n",
       "    <tr style=\"text-align: right;\">\n",
       "      <th></th>\n",
       "      <th>Subject id</th>\n",
       "      <th>First name</th>\n",
       "      <th>last name</th>\n",
       "    </tr>\n",
       "  </thead>\n",
       "  <tbody>\n",
       "    <tr>\n",
       "      <th>0</th>\n",
       "      <td>1</td>\n",
       "      <td>paad</td>\n",
       "      <td>susu</td>\n",
       "    </tr>\n",
       "    <tr>\n",
       "      <th>1</th>\n",
       "      <td>2</td>\n",
       "      <td>tatti</td>\n",
       "      <td>chusu</td>\n",
       "    </tr>\n",
       "    <tr>\n",
       "      <th>2</th>\n",
       "      <td>3</td>\n",
       "      <td>leda</td>\n",
       "      <td>hippa</td>\n",
       "    </tr>\n",
       "    <tr>\n",
       "      <th>3</th>\n",
       "      <td>4</td>\n",
       "      <td>gobar</td>\n",
       "      <td>gob</td>\n",
       "    </tr>\n",
       "    <tr>\n",
       "      <th>4</th>\n",
       "      <td>5</td>\n",
       "      <td>mutra</td>\n",
       "      <td>duski</td>\n",
       "    </tr>\n",
       "    <tr>\n",
       "      <th>5</th>\n",
       "      <td>4</td>\n",
       "      <td>billy</td>\n",
       "      <td>sharma</td>\n",
       "    </tr>\n",
       "    <tr>\n",
       "      <th>6</th>\n",
       "      <td>5</td>\n",
       "      <td>brook</td>\n",
       "      <td>khan</td>\n",
       "    </tr>\n",
       "    <tr>\n",
       "      <th>7</th>\n",
       "      <td>6</td>\n",
       "      <td>kelly</td>\n",
       "      <td>verma</td>\n",
       "    </tr>\n",
       "    <tr>\n",
       "      <th>8</th>\n",
       "      <td>7</td>\n",
       "      <td>yolanda</td>\n",
       "      <td>chutarwadi</td>\n",
       "    </tr>\n",
       "    <tr>\n",
       "      <th>9</th>\n",
       "      <td>8</td>\n",
       "      <td>hippo</td>\n",
       "      <td>singh</td>\n",
       "    </tr>\n",
       "  </tbody>\n",
       "</table>\n",
       "</div>"
      ],
      "text/plain": [
       "  Subject id First name   last name\n",
       "0          1       paad        susu\n",
       "1          2      tatti       chusu\n",
       "2          3       leda       hippa\n",
       "3          4      gobar         gob\n",
       "4          5      mutra       duski\n",
       "5          4      billy      sharma\n",
       "6          5      brook        khan\n",
       "7          6      kelly       verma\n",
       "8          7    yolanda  chutarwadi\n",
       "9          8      hippo       singh"
      ]
     },
     "execution_count": 9,
     "metadata": {},
     "output_type": "execute_result"
    }
   ],
   "source": [
    "df_new\n",
    "\n",
    "#Yaha aap by default axis=0 hota hai"
   ]
  },
  {
   "cell_type": "code",
   "execution_count": 10,
   "metadata": {},
   "outputs": [],
   "source": [
    "df_new=pd.concat([df_a,df_b],axis=1)"
   ]
  },
  {
   "cell_type": "code",
   "execution_count": 11,
   "metadata": {},
   "outputs": [
    {
     "data": {
      "text/html": [
       "<div>\n",
       "<style scoped>\n",
       "    .dataframe tbody tr th:only-of-type {\n",
       "        vertical-align: middle;\n",
       "    }\n",
       "\n",
       "    .dataframe tbody tr th {\n",
       "        vertical-align: top;\n",
       "    }\n",
       "\n",
       "    .dataframe thead th {\n",
       "        text-align: right;\n",
       "    }\n",
       "</style>\n",
       "<table border=\"1\" class=\"dataframe\">\n",
       "  <thead>\n",
       "    <tr style=\"text-align: right;\">\n",
       "      <th></th>\n",
       "      <th>Subject id</th>\n",
       "      <th>First name</th>\n",
       "      <th>last name</th>\n",
       "      <th>Subject id</th>\n",
       "      <th>First name</th>\n",
       "      <th>last name</th>\n",
       "    </tr>\n",
       "  </thead>\n",
       "  <tbody>\n",
       "    <tr>\n",
       "      <th>0</th>\n",
       "      <td>1</td>\n",
       "      <td>paad</td>\n",
       "      <td>susu</td>\n",
       "      <td>4</td>\n",
       "      <td>billy</td>\n",
       "      <td>sharma</td>\n",
       "    </tr>\n",
       "    <tr>\n",
       "      <th>1</th>\n",
       "      <td>2</td>\n",
       "      <td>tatti</td>\n",
       "      <td>chusu</td>\n",
       "      <td>5</td>\n",
       "      <td>brook</td>\n",
       "      <td>khan</td>\n",
       "    </tr>\n",
       "    <tr>\n",
       "      <th>2</th>\n",
       "      <td>3</td>\n",
       "      <td>leda</td>\n",
       "      <td>hippa</td>\n",
       "      <td>6</td>\n",
       "      <td>kelly</td>\n",
       "      <td>verma</td>\n",
       "    </tr>\n",
       "    <tr>\n",
       "      <th>3</th>\n",
       "      <td>4</td>\n",
       "      <td>gobar</td>\n",
       "      <td>gob</td>\n",
       "      <td>7</td>\n",
       "      <td>yolanda</td>\n",
       "      <td>chutarwadi</td>\n",
       "    </tr>\n",
       "    <tr>\n",
       "      <th>4</th>\n",
       "      <td>5</td>\n",
       "      <td>mutra</td>\n",
       "      <td>duski</td>\n",
       "      <td>8</td>\n",
       "      <td>hippo</td>\n",
       "      <td>singh</td>\n",
       "    </tr>\n",
       "  </tbody>\n",
       "</table>\n",
       "</div>"
      ],
      "text/plain": [
       "  Subject id First name last name Subject id First name   last name\n",
       "0          1       paad      susu          4      billy      sharma\n",
       "1          2      tatti     chusu          5      brook        khan\n",
       "2          3       leda     hippa          6      kelly       verma\n",
       "3          4      gobar       gob          7    yolanda  chutarwadi\n",
       "4          5      mutra     duski          8      hippo       singh"
      ]
     },
     "execution_count": 11,
     "metadata": {},
     "output_type": "execute_result"
    }
   ],
   "source": [
    "df_new"
   ]
  },
  {
   "cell_type": "markdown",
   "metadata": {},
   "source": [
    "### MerGe Two DataFrame"
   ]
  },
  {
   "cell_type": "raw",
   "metadata": {},
   "source": [
    "#IT IS the another convenient method to combine diffently indexed dataframe into a single result dataframe\n",
    "\n",
    "#this is the merge operation,merging the column\n",
    "\n",
    "merging and joining\n",
    "\n",
    "in merging u can merge two dataframes to form single data frame..you can also decide which column u want to make a comman\n",
    "\n",
    "merge 2 dataframe with both the left and right dataframe using the subject_id key"
   ]
  },
  {
   "cell_type": "code",
   "execution_count": 12,
   "metadata": {},
   "outputs": [
    {
     "data": {
      "text/html": [
       "<div>\n",
       "<style scoped>\n",
       "    .dataframe tbody tr th:only-of-type {\n",
       "        vertical-align: middle;\n",
       "    }\n",
       "\n",
       "    .dataframe tbody tr th {\n",
       "        vertical-align: top;\n",
       "    }\n",
       "\n",
       "    .dataframe thead th {\n",
       "        text-align: right;\n",
       "    }\n",
       "</style>\n",
       "<table border=\"1\" class=\"dataframe\">\n",
       "  <thead>\n",
       "    <tr style=\"text-align: right;\">\n",
       "      <th></th>\n",
       "      <th>Subject id</th>\n",
       "      <th>First name_x</th>\n",
       "      <th>last name_x</th>\n",
       "      <th>First name_y</th>\n",
       "      <th>last name_y</th>\n",
       "    </tr>\n",
       "  </thead>\n",
       "  <tbody>\n",
       "    <tr>\n",
       "      <th>0</th>\n",
       "      <td>1</td>\n",
       "      <td>paad</td>\n",
       "      <td>susu</td>\n",
       "      <td>NaN</td>\n",
       "      <td>NaN</td>\n",
       "    </tr>\n",
       "    <tr>\n",
       "      <th>1</th>\n",
       "      <td>2</td>\n",
       "      <td>tatti</td>\n",
       "      <td>chusu</td>\n",
       "      <td>NaN</td>\n",
       "      <td>NaN</td>\n",
       "    </tr>\n",
       "    <tr>\n",
       "      <th>2</th>\n",
       "      <td>3</td>\n",
       "      <td>leda</td>\n",
       "      <td>hippa</td>\n",
       "      <td>NaN</td>\n",
       "      <td>NaN</td>\n",
       "    </tr>\n",
       "    <tr>\n",
       "      <th>3</th>\n",
       "      <td>4</td>\n",
       "      <td>gobar</td>\n",
       "      <td>gob</td>\n",
       "      <td>billy</td>\n",
       "      <td>sharma</td>\n",
       "    </tr>\n",
       "    <tr>\n",
       "      <th>4</th>\n",
       "      <td>5</td>\n",
       "      <td>mutra</td>\n",
       "      <td>duski</td>\n",
       "      <td>brook</td>\n",
       "      <td>khan</td>\n",
       "    </tr>\n",
       "    <tr>\n",
       "      <th>5</th>\n",
       "      <td>6</td>\n",
       "      <td>NaN</td>\n",
       "      <td>NaN</td>\n",
       "      <td>kelly</td>\n",
       "      <td>verma</td>\n",
       "    </tr>\n",
       "    <tr>\n",
       "      <th>6</th>\n",
       "      <td>7</td>\n",
       "      <td>NaN</td>\n",
       "      <td>NaN</td>\n",
       "      <td>yolanda</td>\n",
       "      <td>chutarwadi</td>\n",
       "    </tr>\n",
       "    <tr>\n",
       "      <th>7</th>\n",
       "      <td>8</td>\n",
       "      <td>NaN</td>\n",
       "      <td>NaN</td>\n",
       "      <td>hippo</td>\n",
       "      <td>singh</td>\n",
       "    </tr>\n",
       "  </tbody>\n",
       "</table>\n",
       "</div>"
      ],
      "text/plain": [
       "  Subject id First name_x last name_x First name_y last name_y\n",
       "0          1         paad        susu          NaN         NaN\n",
       "1          2        tatti       chusu          NaN         NaN\n",
       "2          3         leda       hippa          NaN         NaN\n",
       "3          4        gobar         gob        billy      sharma\n",
       "4          5        mutra       duski        brook        khan\n",
       "5          6          NaN         NaN        kelly       verma\n",
       "6          7          NaN         NaN      yolanda  chutarwadi\n",
       "7          8          NaN         NaN        hippo       singh"
      ]
     },
     "execution_count": 12,
     "metadata": {},
     "output_type": "execute_result"
    }
   ],
   "source": [
    "pd.merge(df_a,df_b,on='Subject id',how='outer')"
   ]
  },
  {
   "cell_type": "raw",
   "metadata": {},
   "source": [
    "#on matlb hum kaun sa column comman rakenge hum aur how ka matlb hai ki kaise show kerna hai,outer ya inner"
   ]
  },
  {
   "cell_type": "code",
   "execution_count": 14,
   "metadata": {},
   "outputs": [
    {
     "data": {
      "text/html": [
       "<div>\n",
       "<style scoped>\n",
       "    .dataframe tbody tr th:only-of-type {\n",
       "        vertical-align: middle;\n",
       "    }\n",
       "\n",
       "    .dataframe tbody tr th {\n",
       "        vertical-align: top;\n",
       "    }\n",
       "\n",
       "    .dataframe thead th {\n",
       "        text-align: right;\n",
       "    }\n",
       "</style>\n",
       "<table border=\"1\" class=\"dataframe\">\n",
       "  <thead>\n",
       "    <tr style=\"text-align: right;\">\n",
       "      <th></th>\n",
       "      <th>Subject id</th>\n",
       "      <th>First name_x</th>\n",
       "      <th>last name_x</th>\n",
       "      <th>First name_y</th>\n",
       "      <th>last name_y</th>\n",
       "    </tr>\n",
       "  </thead>\n",
       "  <tbody>\n",
       "    <tr>\n",
       "      <th>0</th>\n",
       "      <td>4</td>\n",
       "      <td>gobar</td>\n",
       "      <td>gob</td>\n",
       "      <td>billy</td>\n",
       "      <td>sharma</td>\n",
       "    </tr>\n",
       "    <tr>\n",
       "      <th>1</th>\n",
       "      <td>5</td>\n",
       "      <td>mutra</td>\n",
       "      <td>duski</td>\n",
       "      <td>brook</td>\n",
       "      <td>khan</td>\n",
       "    </tr>\n",
       "  </tbody>\n",
       "</table>\n",
       "</div>"
      ],
      "text/plain": [
       "  Subject id First name_x last name_x First name_y last name_y\n",
       "0          4        gobar         gob        billy      sharma\n",
       "1          5        mutra       duski        brook        khan"
      ]
     },
     "execution_count": 14,
     "metadata": {},
     "output_type": "execute_result"
    }
   ],
   "source": [
    "#merge with inner join\n",
    "#inner join prodeces only the set of record that match in both table A and table B\n",
    "\n",
    "pd.merge(df_a,df_b,on='Subject id',how='inner')"
   ]
  },
  {
   "cell_type": "markdown",
   "metadata": {},
   "source": [
    "### Append..(its one more method of joining 2 dataframe into single result dataframe)"
   ]
  },
  {
   "cell_type": "code",
   "execution_count": 15,
   "metadata": {},
   "outputs": [
    {
     "data": {
      "text/html": [
       "<div>\n",
       "<style scoped>\n",
       "    .dataframe tbody tr th:only-of-type {\n",
       "        vertical-align: middle;\n",
       "    }\n",
       "\n",
       "    .dataframe tbody tr th {\n",
       "        vertical-align: top;\n",
       "    }\n",
       "\n",
       "    .dataframe thead th {\n",
       "        text-align: right;\n",
       "    }\n",
       "</style>\n",
       "<table border=\"1\" class=\"dataframe\">\n",
       "  <thead>\n",
       "    <tr style=\"text-align: right;\">\n",
       "      <th></th>\n",
       "      <th>Subject id</th>\n",
       "      <th>First name</th>\n",
       "      <th>last name</th>\n",
       "    </tr>\n",
       "  </thead>\n",
       "  <tbody>\n",
       "    <tr>\n",
       "      <th>0</th>\n",
       "      <td>1</td>\n",
       "      <td>paad</td>\n",
       "      <td>susu</td>\n",
       "    </tr>\n",
       "    <tr>\n",
       "      <th>1</th>\n",
       "      <td>2</td>\n",
       "      <td>tatti</td>\n",
       "      <td>chusu</td>\n",
       "    </tr>\n",
       "    <tr>\n",
       "      <th>2</th>\n",
       "      <td>3</td>\n",
       "      <td>leda</td>\n",
       "      <td>hippa</td>\n",
       "    </tr>\n",
       "    <tr>\n",
       "      <th>3</th>\n",
       "      <td>4</td>\n",
       "      <td>gobar</td>\n",
       "      <td>gob</td>\n",
       "    </tr>\n",
       "    <tr>\n",
       "      <th>4</th>\n",
       "      <td>5</td>\n",
       "      <td>mutra</td>\n",
       "      <td>duski</td>\n",
       "    </tr>\n",
       "    <tr>\n",
       "      <th>5</th>\n",
       "      <td>4</td>\n",
       "      <td>billy</td>\n",
       "      <td>sharma</td>\n",
       "    </tr>\n",
       "    <tr>\n",
       "      <th>6</th>\n",
       "      <td>5</td>\n",
       "      <td>brook</td>\n",
       "      <td>khan</td>\n",
       "    </tr>\n",
       "    <tr>\n",
       "      <th>7</th>\n",
       "      <td>6</td>\n",
       "      <td>kelly</td>\n",
       "      <td>verma</td>\n",
       "    </tr>\n",
       "    <tr>\n",
       "      <th>8</th>\n",
       "      <td>7</td>\n",
       "      <td>yolanda</td>\n",
       "      <td>chutarwadi</td>\n",
       "    </tr>\n",
       "    <tr>\n",
       "      <th>9</th>\n",
       "      <td>8</td>\n",
       "      <td>hippo</td>\n",
       "      <td>singh</td>\n",
       "    </tr>\n",
       "  </tbody>\n",
       "</table>\n",
       "</div>"
      ],
      "text/plain": [
       "  Subject id First name   last name\n",
       "0          1       paad        susu\n",
       "1          2      tatti       chusu\n",
       "2          3       leda       hippa\n",
       "3          4      gobar         gob\n",
       "4          5      mutra       duski\n",
       "5          4      billy      sharma\n",
       "6          5      brook        khan\n",
       "7          6      kelly       verma\n",
       "8          7    yolanda  chutarwadi\n",
       "9          8      hippo       singh"
      ]
     },
     "execution_count": 15,
     "metadata": {},
     "output_type": "execute_result"
    }
   ],
   "source": [
    "df_a.append(df_b,ignore_index=True)"
   ]
  },
  {
   "cell_type": "code",
   "execution_count": 22,
   "metadata": {},
   "outputs": [
    {
     "name": "stdout",
     "output_type": "stream",
     "text": [
      "      HPI  int_rate  IND_GDP\n",
      "2001   80         2       50\n",
      "2002   90         1       45\n",
      "2003   70         2       45\n",
      "2004   60         3       67\n",
      "      HPI  int_rate  IND_GDP\n",
      "2005   80         2       50\n",
      "2006   90         1       45\n",
      "2007   70         2       45\n",
      "2008   60         3       67\n",
      "   HPI  int_rate_x  IND_GDP_x  int_rate_y  IND_GDP_y\n",
      "0   80           2         50           2         50\n",
      "1   90           1         45           1         45\n",
      "2   70           2         45           2         45\n",
      "3   60           3         67           3         67\n"
     ]
    }
   ],
   "source": [
    "df1=pd.DataFrame({\"HPI\":[80,90,70,60],\"int_rate\":[2,1,2,3],\"IND_GDP\":[50,45,45,67]},index=[2001,2002,2003,2004])\n",
    "\n",
    "df2=pd.DataFrame({\"HPI\":[80,90,70,60],\"int_rate\":[2,1,2,3],\"IND_GDP\":[50,45,45,67]},index=[2005,2006,2007,2008])\n",
    "                 \n",
    "print(df1)\n",
    "print(df2)\n",
    "merged=pd.merge(df1,df2,on= \"HPI\")\n",
    "\n",
    "print (merged)"
   ]
  },
  {
   "cell_type": "code",
   "execution_count": 25,
   "metadata": {},
   "outputs": [
    {
     "data": {
      "text/html": [
       "<div>\n",
       "<style scoped>\n",
       "    .dataframe tbody tr th:only-of-type {\n",
       "        vertical-align: middle;\n",
       "    }\n",
       "\n",
       "    .dataframe tbody tr th {\n",
       "        vertical-align: top;\n",
       "    }\n",
       "\n",
       "    .dataframe thead th {\n",
       "        text-align: right;\n",
       "    }\n",
       "</style>\n",
       "<table border=\"1\" class=\"dataframe\">\n",
       "  <thead>\n",
       "    <tr style=\"text-align: right;\">\n",
       "      <th></th>\n",
       "      <th>HPI_x</th>\n",
       "      <th>int_rate</th>\n",
       "      <th>IND_GDP_x</th>\n",
       "      <th>HPI_y</th>\n",
       "      <th>IND_GDP_y</th>\n",
       "    </tr>\n",
       "  </thead>\n",
       "  <tbody>\n",
       "    <tr>\n",
       "      <th>0</th>\n",
       "      <td>80</td>\n",
       "      <td>2</td>\n",
       "      <td>50</td>\n",
       "      <td>80</td>\n",
       "      <td>50</td>\n",
       "    </tr>\n",
       "    <tr>\n",
       "      <th>1</th>\n",
       "      <td>80</td>\n",
       "      <td>2</td>\n",
       "      <td>50</td>\n",
       "      <td>70</td>\n",
       "      <td>45</td>\n",
       "    </tr>\n",
       "    <tr>\n",
       "      <th>2</th>\n",
       "      <td>70</td>\n",
       "      <td>2</td>\n",
       "      <td>45</td>\n",
       "      <td>80</td>\n",
       "      <td>50</td>\n",
       "    </tr>\n",
       "    <tr>\n",
       "      <th>3</th>\n",
       "      <td>70</td>\n",
       "      <td>2</td>\n",
       "      <td>45</td>\n",
       "      <td>70</td>\n",
       "      <td>45</td>\n",
       "    </tr>\n",
       "    <tr>\n",
       "      <th>4</th>\n",
       "      <td>90</td>\n",
       "      <td>1</td>\n",
       "      <td>45</td>\n",
       "      <td>90</td>\n",
       "      <td>45</td>\n",
       "    </tr>\n",
       "    <tr>\n",
       "      <th>5</th>\n",
       "      <td>60</td>\n",
       "      <td>3</td>\n",
       "      <td>67</td>\n",
       "      <td>60</td>\n",
       "      <td>67</td>\n",
       "    </tr>\n",
       "  </tbody>\n",
       "</table>\n",
       "</div>"
      ],
      "text/plain": [
       "   HPI_x  int_rate  IND_GDP_x  HPI_y  IND_GDP_y\n",
       "0     80         2         50     80         50\n",
       "1     80         2         50     70         45\n",
       "2     70         2         45     80         50\n",
       "3     70         2         45     70         45\n",
       "4     90         1         45     90         45\n",
       "5     60         3         67     60         67"
      ]
     },
     "execution_count": 25,
     "metadata": {},
     "output_type": "execute_result"
    }
   ],
   "source": [
    "merged=pd.merge(df1,df2,on='int_rate')\n",
    "merged"
   ]
  },
  {
   "cell_type": "markdown",
   "metadata": {},
   "source": [
    "## JOIN operation works on index\n",
    "\n",
    "\n",
    "\n"
   ]
  },
  {
   "cell_type": "code",
   "execution_count": 24,
   "metadata": {},
   "outputs": [],
   "source": [
    "#join me kya hoga ki saare coloums aajaenge ek saath,aur jo coloumns missing hai wo nan value show karega"
   ]
  },
  {
   "cell_type": "code",
   "execution_count": 26,
   "metadata": {},
   "outputs": [
    {
     "name": "stdout",
     "output_type": "stream",
     "text": [
      "      Int_Rate  IND_GDP  low_tier_HPI  unemployment\n",
      "2001         2       50          50.0           1.0\n",
      "2002         1       45           NaN           NaN\n",
      "2003         2       45          45.0           3.0\n",
      "2004         3       67          67.0           5.0\n",
      "2004         3       67          34.0           6.0\n"
     ]
    }
   ],
   "source": [
    "\n",
    "df1=pd.DataFrame({\"Int_Rate\":[2,1,2,3],\"IND_GDP\":[50,45,45,67]},index=[2001,2002,2003,2004])\n",
    "df2=pd.DataFrame({\"low_tier_HPI\":[50,45,67,34],\"unemployment\":[1,3,5,6]},index=[2001,2003,2004,2004])\n",
    "\n",
    "joined=df1.join(df2)\n",
    "print(joined)"
   ]
  },
  {
   "cell_type": "markdown",
   "metadata": {},
   "source": [
    "## SET INDEX"
   ]
  },
  {
   "cell_type": "code",
   "execution_count": 27,
   "metadata": {},
   "outputs": [
    {
     "data": {
      "text/html": [
       "<div>\n",
       "<style scoped>\n",
       "    .dataframe tbody tr th:only-of-type {\n",
       "        vertical-align: middle;\n",
       "    }\n",
       "\n",
       "    .dataframe tbody tr th {\n",
       "        vertical-align: top;\n",
       "    }\n",
       "\n",
       "    .dataframe thead th {\n",
       "        text-align: right;\n",
       "    }\n",
       "</style>\n",
       "<table border=\"1\" class=\"dataframe\">\n",
       "  <thead>\n",
       "    <tr style=\"text-align: right;\">\n",
       "      <th></th>\n",
       "      <th>Day</th>\n",
       "      <th>Visitor</th>\n",
       "      <th>Bounce_rate</th>\n",
       "    </tr>\n",
       "  </thead>\n",
       "  <tbody>\n",
       "    <tr>\n",
       "      <th>0</th>\n",
       "      <td>1</td>\n",
       "      <td>200</td>\n",
       "      <td>20</td>\n",
       "    </tr>\n",
       "    <tr>\n",
       "      <th>1</th>\n",
       "      <td>2</td>\n",
       "      <td>350</td>\n",
       "      <td>45</td>\n",
       "    </tr>\n",
       "    <tr>\n",
       "      <th>2</th>\n",
       "      <td>3</td>\n",
       "      <td>400</td>\n",
       "      <td>60</td>\n",
       "    </tr>\n",
       "    <tr>\n",
       "      <th>3</th>\n",
       "      <td>4</td>\n",
       "      <td>520</td>\n",
       "      <td>10</td>\n",
       "    </tr>\n",
       "  </tbody>\n",
       "</table>\n",
       "</div>"
      ],
      "text/plain": [
       "   Day  Visitor  Bounce_rate\n",
       "0    1      200           20\n",
       "1    2      350           45\n",
       "2    3      400           60\n",
       "3    4      520           10"
      ]
     },
     "execution_count": 27,
     "metadata": {},
     "output_type": "execute_result"
    }
   ],
   "source": [
    "df=pd.DataFrame({'Day':[1,2,3,4],'Visitor':[200,350,400,520],'Bounce_rate':[20,45,60,10]})\n",
    "df"
   ]
  },
  {
   "cell_type": "code",
   "execution_count": 29,
   "metadata": {},
   "outputs": [
    {
     "data": {
      "text/html": [
       "<div>\n",
       "<style scoped>\n",
       "    .dataframe tbody tr th:only-of-type {\n",
       "        vertical-align: middle;\n",
       "    }\n",
       "\n",
       "    .dataframe tbody tr th {\n",
       "        vertical-align: top;\n",
       "    }\n",
       "\n",
       "    .dataframe thead th {\n",
       "        text-align: right;\n",
       "    }\n",
       "</style>\n",
       "<table border=\"1\" class=\"dataframe\">\n",
       "  <thead>\n",
       "    <tr style=\"text-align: right;\">\n",
       "      <th></th>\n",
       "      <th>Visitor</th>\n",
       "      <th>Bounce_rate</th>\n",
       "    </tr>\n",
       "    <tr>\n",
       "      <th>Day</th>\n",
       "      <th></th>\n",
       "      <th></th>\n",
       "    </tr>\n",
       "  </thead>\n",
       "  <tbody>\n",
       "    <tr>\n",
       "      <th>1</th>\n",
       "      <td>200</td>\n",
       "      <td>20</td>\n",
       "    </tr>\n",
       "    <tr>\n",
       "      <th>2</th>\n",
       "      <td>350</td>\n",
       "      <td>45</td>\n",
       "    </tr>\n",
       "    <tr>\n",
       "      <th>3</th>\n",
       "      <td>400</td>\n",
       "      <td>60</td>\n",
       "    </tr>\n",
       "    <tr>\n",
       "      <th>4</th>\n",
       "      <td>520</td>\n",
       "      <td>10</td>\n",
       "    </tr>\n",
       "  </tbody>\n",
       "</table>\n",
       "</div>"
      ],
      "text/plain": [
       "     Visitor  Bounce_rate\n",
       "Day                      \n",
       "1        200           20\n",
       "2        350           45\n",
       "3        400           60\n",
       "4        520           10"
      ]
     },
     "execution_count": 29,
     "metadata": {},
     "output_type": "execute_result"
    }
   ],
   "source": [
    "df_1=df.set_index('Day')\n",
    "df_1"
   ]
  },
  {
   "cell_type": "code",
   "execution_count": 30,
   "metadata": {},
   "outputs": [
    {
     "name": "stdout",
     "output_type": "stream",
     "text": [
      "   Day  Visitor  Bounce_rate\n",
      "0    1      200           20\n",
      "1    2      100           45\n",
      "2    3      230           60\n",
      "3    4      300           10\n",
      "     Visitor  Bounce_rate\n",
      "Day                      \n",
      "1        200           20\n",
      "2        100           45\n",
      "3        230           60\n",
      "4        300           10\n"
     ]
    }
   ],
   "source": [
    "df=pd.DataFrame({\"Day\":[1,2,3,4],\"Visitor\":[200,100,230,300],\"Bounce_rate\":[20,45,60,10]})\n",
    "print(df)\n",
    "\n",
    "df.set_index(\"Day\",inplace=True)\n",
    "print(df)\n"
   ]
  },
  {
   "cell_type": "markdown",
   "metadata": {},
   "source": [
    "### CHANGE THE COLUMN HEADER"
   ]
  },
  {
   "cell_type": "code",
   "execution_count": 31,
   "metadata": {},
   "outputs": [
    {
     "name": "stdout",
     "output_type": "stream",
     "text": [
      "   Day  Users  Bounce_rate\n",
      "0    1    200           20\n",
      "1    2    100           45\n",
      "2    3    230           60\n",
      "3    4    300           10\n"
     ]
    }
   ],
   "source": [
    "\n",
    "df=pd.DataFrame({\"Day\":[1,2,3,4],\"Visitor\":[200,100,230,300],\"Bounce_rate\":[20,45,60,10]})\n",
    "df=df.rename(columns={\"Visitor\":\"Users\"})\n",
    "print (df)"
   ]
  },
  {
   "cell_type": "raw",
   "metadata": {},
   "source": [
    "This is how we change the name of the column..(df.rename(columns=\"visitor\":\"Users\"))"
   ]
  },
  {
   "cell_type": "code",
   "execution_count": 32,
   "metadata": {},
   "outputs": [
    {
     "name": "stdout",
     "output_type": "stream",
     "text": [
      "   day  visitors  bounce_rate\n",
      "0    1      1000           20\n",
      "1    2       700           20\n",
      "2    3      6000           23\n",
      "3    4      1000           15\n",
      "4    5       400           10\n",
      "5    6       350           34\n"
     ]
    }
   ],
   "source": [
    "data={\"day\":[1,2,3,4,5,6],\"visitors\":[1000,700,6000,1000,400,350],\"bounce_rate\":[20,20,23,15,10,34]}\n",
    "\n",
    "df=pd.DataFrame(data)\n",
    "\n",
    "print (df)"
   ]
  },
  {
   "cell_type": "raw",
   "metadata": {},
   "source": [
    "#wheneva we make a data and want to use it in PANDAS,, soo we will we ll have to make a new variable..here 'df'."
   ]
  },
  {
   "cell_type": "code",
   "execution_count": 33,
   "metadata": {},
   "outputs": [
    {
     "data": {
      "text/html": [
       "<div>\n",
       "<style scoped>\n",
       "    .dataframe tbody tr th:only-of-type {\n",
       "        vertical-align: middle;\n",
       "    }\n",
       "\n",
       "    .dataframe tbody tr th {\n",
       "        vertical-align: top;\n",
       "    }\n",
       "\n",
       "    .dataframe thead th {\n",
       "        text-align: right;\n",
       "    }\n",
       "</style>\n",
       "<table border=\"1\" class=\"dataframe\">\n",
       "  <thead>\n",
       "    <tr style=\"text-align: right;\">\n",
       "      <th></th>\n",
       "      <th>day</th>\n",
       "      <th>visitors</th>\n",
       "      <th>bounce_rate</th>\n",
       "    </tr>\n",
       "  </thead>\n",
       "  <tbody>\n",
       "    <tr>\n",
       "      <th>0</th>\n",
       "      <td>1</td>\n",
       "      <td>1000</td>\n",
       "      <td>20</td>\n",
       "    </tr>\n",
       "    <tr>\n",
       "      <th>1</th>\n",
       "      <td>2</td>\n",
       "      <td>700</td>\n",
       "      <td>20</td>\n",
       "    </tr>\n",
       "    <tr>\n",
       "      <th>2</th>\n",
       "      <td>3</td>\n",
       "      <td>6000</td>\n",
       "      <td>23</td>\n",
       "    </tr>\n",
       "    <tr>\n",
       "      <th>3</th>\n",
       "      <td>4</td>\n",
       "      <td>1000</td>\n",
       "      <td>15</td>\n",
       "    </tr>\n",
       "    <tr>\n",
       "      <th>4</th>\n",
       "      <td>5</td>\n",
       "      <td>400</td>\n",
       "      <td>10</td>\n",
       "    </tr>\n",
       "  </tbody>\n",
       "</table>\n",
       "</div>"
      ],
      "text/plain": [
       "   day  visitors  bounce_rate\n",
       "0    1      1000           20\n",
       "1    2       700           20\n",
       "2    3      6000           23\n",
       "3    4      1000           15\n",
       "4    5       400           10"
      ]
     },
     "execution_count": 33,
     "metadata": {},
     "output_type": "execute_result"
    }
   ],
   "source": [
    "df.head()"
   ]
  },
  {
   "cell_type": "raw",
   "metadata": {},
   "source": [
    "this will show the 1st five columns"
   ]
  },
  {
   "cell_type": "code",
   "execution_count": 34,
   "metadata": {},
   "outputs": [
    {
     "data": {
      "text/html": [
       "<div>\n",
       "<style scoped>\n",
       "    .dataframe tbody tr th:only-of-type {\n",
       "        vertical-align: middle;\n",
       "    }\n",
       "\n",
       "    .dataframe tbody tr th {\n",
       "        vertical-align: top;\n",
       "    }\n",
       "\n",
       "    .dataframe thead th {\n",
       "        text-align: right;\n",
       "    }\n",
       "</style>\n",
       "<table border=\"1\" class=\"dataframe\">\n",
       "  <thead>\n",
       "    <tr style=\"text-align: right;\">\n",
       "      <th></th>\n",
       "      <th>day</th>\n",
       "      <th>visitors</th>\n",
       "      <th>bounce_rate</th>\n",
       "    </tr>\n",
       "  </thead>\n",
       "  <tbody>\n",
       "    <tr>\n",
       "      <th>1</th>\n",
       "      <td>2</td>\n",
       "      <td>700</td>\n",
       "      <td>20</td>\n",
       "    </tr>\n",
       "    <tr>\n",
       "      <th>2</th>\n",
       "      <td>3</td>\n",
       "      <td>6000</td>\n",
       "      <td>23</td>\n",
       "    </tr>\n",
       "    <tr>\n",
       "      <th>3</th>\n",
       "      <td>4</td>\n",
       "      <td>1000</td>\n",
       "      <td>15</td>\n",
       "    </tr>\n",
       "    <tr>\n",
       "      <th>4</th>\n",
       "      <td>5</td>\n",
       "      <td>400</td>\n",
       "      <td>10</td>\n",
       "    </tr>\n",
       "    <tr>\n",
       "      <th>5</th>\n",
       "      <td>6</td>\n",
       "      <td>350</td>\n",
       "      <td>34</td>\n",
       "    </tr>\n",
       "  </tbody>\n",
       "</table>\n",
       "</div>"
      ],
      "text/plain": [
       "   day  visitors  bounce_rate\n",
       "1    2       700           20\n",
       "2    3      6000           23\n",
       "3    4      1000           15\n",
       "4    5       400           10\n",
       "5    6       350           34"
      ]
     },
     "execution_count": 34,
     "metadata": {},
     "output_type": "execute_result"
    }
   ],
   "source": [
    "df.tail()"
   ]
  },
  {
   "cell_type": "raw",
   "metadata": {},
   "source": [
    "This will show the last five columns"
   ]
  },
  {
   "cell_type": "code",
   "execution_count": 35,
   "metadata": {},
   "outputs": [
    {
     "data": {
      "text/html": [
       "<div>\n",
       "<style scoped>\n",
       "    .dataframe tbody tr th:only-of-type {\n",
       "        vertical-align: middle;\n",
       "    }\n",
       "\n",
       "    .dataframe tbody tr th {\n",
       "        vertical-align: top;\n",
       "    }\n",
       "\n",
       "    .dataframe thead th {\n",
       "        text-align: right;\n",
       "    }\n",
       "</style>\n",
       "<table border=\"1\" class=\"dataframe\">\n",
       "  <thead>\n",
       "    <tr style=\"text-align: right;\">\n",
       "      <th></th>\n",
       "      <th>day</th>\n",
       "      <th>visitors</th>\n",
       "      <th>bounce_rate</th>\n",
       "    </tr>\n",
       "  </thead>\n",
       "  <tbody>\n",
       "    <tr>\n",
       "      <th>0</th>\n",
       "      <td>1</td>\n",
       "      <td>1000</td>\n",
       "      <td>20</td>\n",
       "    </tr>\n",
       "    <tr>\n",
       "      <th>1</th>\n",
       "      <td>2</td>\n",
       "      <td>700</td>\n",
       "      <td>20</td>\n",
       "    </tr>\n",
       "    <tr>\n",
       "      <th>2</th>\n",
       "      <td>3</td>\n",
       "      <td>6000</td>\n",
       "      <td>23</td>\n",
       "    </tr>\n",
       "  </tbody>\n",
       "</table>\n",
       "</div>"
      ],
      "text/plain": [
       "   day  visitors  bounce_rate\n",
       "0    1      1000           20\n",
       "1    2       700           20\n",
       "2    3      6000           23"
      ]
     },
     "execution_count": 35,
     "metadata": {},
     "output_type": "execute_result"
    }
   ],
   "source": [
    "df.head(3)                       #this will be showing top 3 rows"
   ]
  },
  {
   "cell_type": "code",
   "execution_count": 36,
   "metadata": {},
   "outputs": [
    {
     "data": {
      "text/html": [
       "<div>\n",
       "<style scoped>\n",
       "    .dataframe tbody tr th:only-of-type {\n",
       "        vertical-align: middle;\n",
       "    }\n",
       "\n",
       "    .dataframe tbody tr th {\n",
       "        vertical-align: top;\n",
       "    }\n",
       "\n",
       "    .dataframe thead th {\n",
       "        text-align: right;\n",
       "    }\n",
       "</style>\n",
       "<table border=\"1\" class=\"dataframe\">\n",
       "  <thead>\n",
       "    <tr style=\"text-align: right;\">\n",
       "      <th></th>\n",
       "      <th>day</th>\n",
       "      <th>visitors</th>\n",
       "      <th>bounce_rate</th>\n",
       "    </tr>\n",
       "  </thead>\n",
       "  <tbody>\n",
       "    <tr>\n",
       "      <th>3</th>\n",
       "      <td>4</td>\n",
       "      <td>1000</td>\n",
       "      <td>15</td>\n",
       "    </tr>\n",
       "    <tr>\n",
       "      <th>4</th>\n",
       "      <td>5</td>\n",
       "      <td>400</td>\n",
       "      <td>10</td>\n",
       "    </tr>\n",
       "    <tr>\n",
       "      <th>5</th>\n",
       "      <td>6</td>\n",
       "      <td>350</td>\n",
       "      <td>34</td>\n",
       "    </tr>\n",
       "  </tbody>\n",
       "</table>\n",
       "</div>"
      ],
      "text/plain": [
       "   day  visitors  bounce_rate\n",
       "3    4      1000           15\n",
       "4    5       400           10\n",
       "5    6       350           34"
      ]
     },
     "execution_count": 36,
     "metadata": {},
     "output_type": "execute_result"
    }
   ],
   "source": [
    "df.tail(3)                                         #this will show the last 3 rows"
   ]
  },
  {
   "cell_type": "code",
   "execution_count": 37,
   "metadata": {},
   "outputs": [
    {
     "data": {
      "text/html": [
       "<div>\n",
       "<style scoped>\n",
       "    .dataframe tbody tr th:only-of-type {\n",
       "        vertical-align: middle;\n",
       "    }\n",
       "\n",
       "    .dataframe tbody tr th {\n",
       "        vertical-align: top;\n",
       "    }\n",
       "\n",
       "    .dataframe thead th {\n",
       "        text-align: right;\n",
       "    }\n",
       "</style>\n",
       "<table border=\"1\" class=\"dataframe\">\n",
       "  <thead>\n",
       "    <tr style=\"text-align: right;\">\n",
       "      <th></th>\n",
       "      <th>day</th>\n",
       "      <th>visitors</th>\n",
       "      <th>bounce_rate</th>\n",
       "    </tr>\n",
       "  </thead>\n",
       "  <tbody>\n",
       "    <tr>\n",
       "      <th>2</th>\n",
       "      <td>3</td>\n",
       "      <td>6000</td>\n",
       "      <td>23</td>\n",
       "    </tr>\n",
       "    <tr>\n",
       "      <th>0</th>\n",
       "      <td>1</td>\n",
       "      <td>1000</td>\n",
       "      <td>20</td>\n",
       "    </tr>\n",
       "  </tbody>\n",
       "</table>\n",
       "</div>"
      ],
      "text/plain": [
       "   day  visitors  bounce_rate\n",
       "2    3      6000           23\n",
       "0    1      1000           20"
      ]
     },
     "execution_count": 37,
     "metadata": {},
     "output_type": "execute_result"
    }
   ],
   "source": [
    "df.sample(2)                              #will take any 2 rows from between"
   ]
  },
  {
   "cell_type": "markdown",
   "metadata": {},
   "source": [
    "## READING CSV FILE WITH PANDAS"
   ]
  },
  {
   "cell_type": "raw",
   "metadata": {},
   "source": [
    "PANDAS I/O--> input /output tools\n",
    "\n",
    "the pandas i/o is a set of top level reader function accessed like pd.read_csv() that genrally returns pandas object input output\n",
    "\n",
    "read_csv to_csv\n",
    "\n",
    "read_table to_table\n",
    "\n",
    "read_html to_html read_excel to_excel HDF5 format to store file in hard disk\n",
    "\n",
    "the two workhorse function for reading textfiles(or the flat files) are read_csv and read_table()..they both use the same praising code to intelligently covert tabular data into a dataframe object:\n",
    "\n",
    "read_csv(filepath_or_buffer,sep=',',delimiter=none,header='infer',name=none,index_col=none)"
   ]
  },
  {
   "cell_type": "code",
   "execution_count": 2,
   "metadata": {},
   "outputs": [
    {
     "data": {
      "text/html": [
       "<div>\n",
       "<style scoped>\n",
       "    .dataframe tbody tr th:only-of-type {\n",
       "        vertical-align: middle;\n",
       "    }\n",
       "\n",
       "    .dataframe tbody tr th {\n",
       "        vertical-align: top;\n",
       "    }\n",
       "\n",
       "    .dataframe thead th {\n",
       "        text-align: right;\n",
       "    }\n",
       "</style>\n",
       "<table border=\"1\" class=\"dataframe\">\n",
       "  <thead>\n",
       "    <tr style=\"text-align: right;\">\n",
       "      <th></th>\n",
       "      <th>Name</th>\n",
       "      <th>HireDate</th>\n",
       "      <th>Salary</th>\n",
       "      <th>SickDaysremaining</th>\n",
       "    </tr>\n",
       "  </thead>\n",
       "  <tbody>\n",
       "    <tr>\n",
       "      <th>0</th>\n",
       "      <td>Graham Chapman</td>\n",
       "      <td>03/15/14</td>\n",
       "      <td>50000.0</td>\n",
       "      <td>10</td>\n",
       "    </tr>\n",
       "    <tr>\n",
       "      <th>1</th>\n",
       "      <td>John Cleese</td>\n",
       "      <td>06/01/15</td>\n",
       "      <td>65000.0</td>\n",
       "      <td>8</td>\n",
       "    </tr>\n",
       "    <tr>\n",
       "      <th>2</th>\n",
       "      <td>Eric Idle</td>\n",
       "      <td>05/12/14</td>\n",
       "      <td>45000.0</td>\n",
       "      <td>10</td>\n",
       "    </tr>\n",
       "    <tr>\n",
       "      <th>3</th>\n",
       "      <td>Terry Jones</td>\n",
       "      <td>11/01/13</td>\n",
       "      <td>70000.0</td>\n",
       "      <td>3</td>\n",
       "    </tr>\n",
       "    <tr>\n",
       "      <th>4</th>\n",
       "      <td>Terry Gilliam</td>\n",
       "      <td>08/12/14</td>\n",
       "      <td>48000.0</td>\n",
       "      <td>7</td>\n",
       "    </tr>\n",
       "    <tr>\n",
       "      <th>5</th>\n",
       "      <td>Michael Palin</td>\n",
       "      <td>05/23/13</td>\n",
       "      <td>66000.0</td>\n",
       "      <td>8</td>\n",
       "    </tr>\n",
       "  </tbody>\n",
       "</table>\n",
       "</div>"
      ],
      "text/plain": [
       "             Name  HireDate   Salary  SickDaysremaining\n",
       "0  Graham Chapman  03/15/14  50000.0                 10\n",
       "1     John Cleese  06/01/15  65000.0                  8\n",
       "2       Eric Idle  05/12/14  45000.0                 10\n",
       "3     Terry Jones  11/01/13  70000.0                  3\n",
       "4   Terry Gilliam  08/12/14  48000.0                  7\n",
       "5   Michael Palin  05/23/13  66000.0                  8"
      ]
     },
     "execution_count": 2,
     "metadata": {},
     "output_type": "execute_result"
    }
   ],
   "source": [
    "df=pd.read_csv('hrdata.csv')\n",
    "df"
   ]
  },
  {
   "cell_type": "code",
   "execution_count": 3,
   "metadata": {},
   "outputs": [
    {
     "data": {
      "text/html": [
       "<div>\n",
       "<style scoped>\n",
       "    .dataframe tbody tr th:only-of-type {\n",
       "        vertical-align: middle;\n",
       "    }\n",
       "\n",
       "    .dataframe tbody tr th {\n",
       "        vertical-align: top;\n",
       "    }\n",
       "\n",
       "    .dataframe thead th {\n",
       "        text-align: right;\n",
       "    }\n",
       "</style>\n",
       "<table border=\"1\" class=\"dataframe\">\n",
       "  <thead>\n",
       "    <tr style=\"text-align: right;\">\n",
       "      <th></th>\n",
       "      <th>HireDate</th>\n",
       "      <th>Salary</th>\n",
       "      <th>SickDaysremaining</th>\n",
       "    </tr>\n",
       "    <tr>\n",
       "      <th>Name</th>\n",
       "      <th></th>\n",
       "      <th></th>\n",
       "      <th></th>\n",
       "    </tr>\n",
       "  </thead>\n",
       "  <tbody>\n",
       "    <tr>\n",
       "      <th>Graham Chapman</th>\n",
       "      <td>2014-03-15</td>\n",
       "      <td>50000.0</td>\n",
       "      <td>10</td>\n",
       "    </tr>\n",
       "    <tr>\n",
       "      <th>John Cleese</th>\n",
       "      <td>2015-06-01</td>\n",
       "      <td>65000.0</td>\n",
       "      <td>8</td>\n",
       "    </tr>\n",
       "    <tr>\n",
       "      <th>Eric Idle</th>\n",
       "      <td>2014-05-12</td>\n",
       "      <td>45000.0</td>\n",
       "      <td>10</td>\n",
       "    </tr>\n",
       "    <tr>\n",
       "      <th>Terry Jones</th>\n",
       "      <td>2013-11-01</td>\n",
       "      <td>70000.0</td>\n",
       "      <td>3</td>\n",
       "    </tr>\n",
       "    <tr>\n",
       "      <th>Terry Gilliam</th>\n",
       "      <td>2014-08-12</td>\n",
       "      <td>48000.0</td>\n",
       "      <td>7</td>\n",
       "    </tr>\n",
       "    <tr>\n",
       "      <th>Michael Palin</th>\n",
       "      <td>2013-05-23</td>\n",
       "      <td>66000.0</td>\n",
       "      <td>8</td>\n",
       "    </tr>\n",
       "  </tbody>\n",
       "</table>\n",
       "</div>"
      ],
      "text/plain": [
       "                 HireDate   Salary  SickDaysremaining\n",
       "Name                                                 \n",
       "Graham Chapman 2014-03-15  50000.0                 10\n",
       "John Cleese    2015-06-01  65000.0                  8\n",
       "Eric Idle      2014-05-12  45000.0                 10\n",
       "Terry Jones    2013-11-01  70000.0                  3\n",
       "Terry Gilliam  2014-08-12  48000.0                  7\n",
       "Michael Palin  2013-05-23  66000.0                  8"
      ]
     },
     "execution_count": 3,
     "metadata": {},
     "output_type": "execute_result"
    }
   ],
   "source": [
    "#parse_datas will change into exact date format\n",
    "\n",
    "df=pd.read_csv('hrdata.csv',index_col='Name',parse_dates=['HireDate'])\n",
    "df"
   ]
  },
  {
   "cell_type": "raw",
   "metadata": {},
   "source": [
    "#yaha ek hi line me sab bana diya hai\n",
    "#here 2 things have takken palce 1st is inplace of index name column has been placed......\n",
    "#2nd hiredate which where in string has been changed to exact date format"
   ]
  },
  {
   "cell_type": "code",
   "execution_count": 4,
   "metadata": {},
   "outputs": [
    {
     "name": "stdout",
     "output_type": "stream",
     "text": [
      "                    Hired   Salary  Sick days\n",
      "Employee                                     \n",
      "Graham Chapman 2014-03-15  50000.0         10\n",
      "John Cleese    2015-06-01  65000.0          8\n",
      "Eric Idle      2014-05-12  45000.0         10\n",
      "Terry Jones    2013-11-01  70000.0          3\n",
      "Terry Gilliam  2014-08-12  48000.0          7\n",
      "Michael Palin  2013-05-23  66000.0          8\n"
     ]
    }
   ],
   "source": [
    "#Explicity pass header=0 to be able to replace existing names\n",
    "df=pd.read_csv('hrdata.csv',\n",
    "              index_col='Employee',\n",
    "              parse_dates=['Hired'],\n",
    "              header=0,\n",
    "              names=['Employee','Hired','Salary','Sick days'])\n",
    "\n",
    "print (df)"
   ]
  },
  {
   "cell_type": "raw",
   "metadata": {},
   "source": [
    "#agr kisi bhi column ka name change ker rhe to uske liye header =0 kerna hi padega\n",
    "#agr kahi bhi date column hai to parse date likhenge ya phr agr jo date format usko uske sahi format me kerna hai to bhi use kernge"
   ]
  },
  {
   "cell_type": "code",
   "execution_count": 5,
   "metadata": {},
   "outputs": [
    {
     "data": {
      "text/html": [
       "<div>\n",
       "<style scoped>\n",
       "    .dataframe tbody tr th:only-of-type {\n",
       "        vertical-align: middle;\n",
       "    }\n",
       "\n",
       "    .dataframe tbody tr th {\n",
       "        vertical-align: top;\n",
       "    }\n",
       "\n",
       "    .dataframe thead th {\n",
       "        text-align: right;\n",
       "    }\n",
       "</style>\n",
       "<table border=\"1\" class=\"dataframe\">\n",
       "  <thead>\n",
       "    <tr style=\"text-align: right;\">\n",
       "      <th></th>\n",
       "      <th>Hired</th>\n",
       "      <th>Salary</th>\n",
       "      <th>Sick days</th>\n",
       "    </tr>\n",
       "    <tr>\n",
       "      <th>Employee</th>\n",
       "      <th></th>\n",
       "      <th></th>\n",
       "      <th></th>\n",
       "    </tr>\n",
       "  </thead>\n",
       "  <tbody>\n",
       "    <tr>\n",
       "      <th>Graham Chapman</th>\n",
       "      <td>2014-03-15</td>\n",
       "      <td>50000.0</td>\n",
       "      <td>10</td>\n",
       "    </tr>\n",
       "    <tr>\n",
       "      <th>John Cleese</th>\n",
       "      <td>2015-06-01</td>\n",
       "      <td>65000.0</td>\n",
       "      <td>8</td>\n",
       "    </tr>\n",
       "    <tr>\n",
       "      <th>Eric Idle</th>\n",
       "      <td>2014-05-12</td>\n",
       "      <td>45000.0</td>\n",
       "      <td>10</td>\n",
       "    </tr>\n",
       "    <tr>\n",
       "      <th>Terry Jones</th>\n",
       "      <td>2013-11-01</td>\n",
       "      <td>70000.0</td>\n",
       "      <td>3</td>\n",
       "    </tr>\n",
       "    <tr>\n",
       "      <th>Terry Gilliam</th>\n",
       "      <td>2014-08-12</td>\n",
       "      <td>48000.0</td>\n",
       "      <td>7</td>\n",
       "    </tr>\n",
       "    <tr>\n",
       "      <th>Michael Palin</th>\n",
       "      <td>2013-05-23</td>\n",
       "      <td>66000.0</td>\n",
       "      <td>8</td>\n",
       "    </tr>\n",
       "  </tbody>\n",
       "</table>\n",
       "</div>"
      ],
      "text/plain": [
       "                    Hired   Salary  Sick days\n",
       "Employee                                     \n",
       "Graham Chapman 2014-03-15  50000.0         10\n",
       "John Cleese    2015-06-01  65000.0          8\n",
       "Eric Idle      2014-05-12  45000.0         10\n",
       "Terry Jones    2013-11-01  70000.0          3\n",
       "Terry Gilliam  2014-08-12  48000.0          7\n",
       "Michael Palin  2013-05-23  66000.0          8"
      ]
     },
     "execution_count": 5,
     "metadata": {},
     "output_type": "execute_result"
    }
   ],
   "source": [
    "df"
   ]
  },
  {
   "cell_type": "code",
   "execution_count": 6,
   "metadata": {},
   "outputs": [],
   "source": [
    "#writting file with pandas \n",
    "\n",
    "df\n",
    "df.to_csv('hrdata_mod.csv')\n",
    "\n",
    "#yaha jo humne df file me jo changes kiya tha hum usko dusre new csv file me save ker rhe hain ,usko kerne ke liye \"to_csv\" use kerenge"
   ]
  },
  {
   "cell_type": "code",
   "execution_count": 7,
   "metadata": {},
   "outputs": [],
   "source": [
    "import numpy as np\n",
    "import pandas as pd"
   ]
  },
  {
   "cell_type": "code",
   "execution_count": 8,
   "metadata": {},
   "outputs": [
    {
     "data": {
      "text/html": [
       "<div>\n",
       "<style scoped>\n",
       "    .dataframe tbody tr th:only-of-type {\n",
       "        vertical-align: middle;\n",
       "    }\n",
       "\n",
       "    .dataframe tbody tr th {\n",
       "        vertical-align: top;\n",
       "    }\n",
       "\n",
       "    .dataframe thead th {\n",
       "        text-align: right;\n",
       "    }\n",
       "</style>\n",
       "<table border=\"1\" class=\"dataframe\">\n",
       "  <thead>\n",
       "    <tr style=\"text-align: right;\">\n",
       "      <th></th>\n",
       "      <th>Employee</th>\n",
       "      <th>Hired</th>\n",
       "      <th>Salary</th>\n",
       "      <th>Sick days</th>\n",
       "    </tr>\n",
       "  </thead>\n",
       "  <tbody>\n",
       "    <tr>\n",
       "      <th>0</th>\n",
       "      <td>Graham Chapman</td>\n",
       "      <td>2014-03-15</td>\n",
       "      <td>50000.0</td>\n",
       "      <td>10</td>\n",
       "    </tr>\n",
       "    <tr>\n",
       "      <th>1</th>\n",
       "      <td>John Cleese</td>\n",
       "      <td>2015-06-01</td>\n",
       "      <td>65000.0</td>\n",
       "      <td>8</td>\n",
       "    </tr>\n",
       "    <tr>\n",
       "      <th>2</th>\n",
       "      <td>Eric Idle</td>\n",
       "      <td>2014-05-12</td>\n",
       "      <td>45000.0</td>\n",
       "      <td>10</td>\n",
       "    </tr>\n",
       "    <tr>\n",
       "      <th>3</th>\n",
       "      <td>Terry Jones</td>\n",
       "      <td>2013-11-01</td>\n",
       "      <td>70000.0</td>\n",
       "      <td>3</td>\n",
       "    </tr>\n",
       "    <tr>\n",
       "      <th>4</th>\n",
       "      <td>Terry Gilliam</td>\n",
       "      <td>2014-08-12</td>\n",
       "      <td>48000.0</td>\n",
       "      <td>7</td>\n",
       "    </tr>\n",
       "    <tr>\n",
       "      <th>5</th>\n",
       "      <td>Michael Palin</td>\n",
       "      <td>2013-05-23</td>\n",
       "      <td>66000.0</td>\n",
       "      <td>8</td>\n",
       "    </tr>\n",
       "  </tbody>\n",
       "</table>\n",
       "</div>"
      ],
      "text/plain": [
       "         Employee       Hired   Salary  Sick days\n",
       "0  Graham Chapman  2014-03-15  50000.0         10\n",
       "1     John Cleese  2015-06-01  65000.0          8\n",
       "2       Eric Idle  2014-05-12  45000.0         10\n",
       "3     Terry Jones  2013-11-01  70000.0          3\n",
       "4   Terry Gilliam  2014-08-12  48000.0          7\n",
       "5   Michael Palin  2013-05-23  66000.0          8"
      ]
     },
     "execution_count": 8,
     "metadata": {},
     "output_type": "execute_result"
    }
   ],
   "source": [
    "dff=pd.read_csv('hrdata_mod.csv')\n",
    "dff"
   ]
  },
  {
   "cell_type": "code",
   "execution_count": 9,
   "metadata": {},
   "outputs": [
    {
     "data": {
      "text/plain": [
       "<AxesSubplot:>"
      ]
     },
     "execution_count": 9,
     "metadata": {},
     "output_type": "execute_result"
    },
    {
     "data": {
      "image/png": "[encoded data removed]",
      "text/plain": [
       "<Figure size 432x288 with 1 Axes>"
      ]
     },
     "metadata": {
      "needs_background": "light"
     },
     "output_type": "display_data"
    }
   ],
   "source": [
    "dff['Salary'].plot.bar()"
   ]
  },
  {
   "cell_type": "code",
   "execution_count": 10,
   "metadata": {},
   "outputs": [
    {
     "data": {
      "text/plain": [
       "<AxesSubplot:>"
      ]
     },
     "execution_count": 10,
     "metadata": {},
     "output_type": "execute_result"
    },
    {
     "data": {
      "image/png": "[encoded data removed]",
      "text/plain": [
       "<Figure size 432x288 with 1 Axes>"
      ]
     },
     "metadata": {
      "needs_background": "light"
     },
     "output_type": "display_data"
    }
   ],
   "source": [
    "dff['Sick days'].plot.bar()"
   ]
  },
  {
   "cell_type": "code",
   "execution_count": 11,
   "metadata": {},
   "outputs": [
    {
     "data": {
      "text/plain": [
       "45000.0"
      ]
     },
     "execution_count": 11,
     "metadata": {},
     "output_type": "execute_result"
    }
   ],
   "source": [
    "dff['Salary'].min()"
   ]
  },
  {
   "cell_type": "code",
   "execution_count": 12,
   "metadata": {},
   "outputs": [
    {
     "data": {
      "text/plain": [
       "70000.0"
      ]
     },
     "execution_count": 12,
     "metadata": {},
     "output_type": "execute_result"
    }
   ],
   "source": [
    "dff['Salary'].max()"
   ]
  },
  {
   "cell_type": "markdown",
   "metadata": {},
   "source": [
    "### I & O TOOLS PD.READ_CSV(DATA.INDEX_COL,DTYPE,NAMES)"
   ]
  },
  {
   "cell_type": "code",
   "execution_count": 1,
   "metadata": {},
   "outputs": [],
   "source": [
    "import pandas as pd\n",
    "import numpy as np"
   ]
  },
  {
   "cell_type": "code",
   "execution_count": 2,
   "metadata": {},
   "outputs": [
    {
     "data": {
      "text/html": [
       "<div>\n",
       "<style scoped>\n",
       "    .dataframe tbody tr th:only-of-type {\n",
       "        vertical-align: middle;\n",
       "    }\n",
       "\n",
       "    .dataframe tbody tr th {\n",
       "        vertical-align: top;\n",
       "    }\n",
       "\n",
       "    .dataframe thead th {\n",
       "        text-align: right;\n",
       "    }\n",
       "</style>\n",
       "<table border=\"1\" class=\"dataframe\">\n",
       "  <thead>\n",
       "    <tr style=\"text-align: right;\">\n",
       "      <th></th>\n",
       "      <th>SNo</th>\n",
       "      <th>Name</th>\n",
       "      <th>Age</th>\n",
       "      <th>City</th>\n",
       "      <th>Country</th>\n",
       "      <th>Salary</th>\n",
       "    </tr>\n",
       "  </thead>\n",
       "  <tbody>\n",
       "    <tr>\n",
       "      <th>0</th>\n",
       "      <td>1</td>\n",
       "      <td>Tom</td>\n",
       "      <td>28.0</td>\n",
       "      <td>Toronto</td>\n",
       "      <td>Canada</td>\n",
       "      <td>20000.0</td>\n",
       "    </tr>\n",
       "    <tr>\n",
       "      <th>1</th>\n",
       "      <td>2</td>\n",
       "      <td>Lee</td>\n",
       "      <td>31.0</td>\n",
       "      <td>Edmonto</td>\n",
       "      <td>Canada</td>\n",
       "      <td>3900.0</td>\n",
       "    </tr>\n",
       "    <tr>\n",
       "      <th>2</th>\n",
       "      <td>3</td>\n",
       "      <td>Dave</td>\n",
       "      <td>34.0</td>\n",
       "      <td>Toronto</td>\n",
       "      <td>Canada</td>\n",
       "      <td>8000.0</td>\n",
       "    </tr>\n",
       "    <tr>\n",
       "      <th>3</th>\n",
       "      <td>4</td>\n",
       "      <td>Anik</td>\n",
       "      <td>26.0</td>\n",
       "      <td>HongKong</td>\n",
       "      <td>Asia</td>\n",
       "      <td>66672.0</td>\n",
       "    </tr>\n",
       "    <tr>\n",
       "      <th>4</th>\n",
       "      <td>5</td>\n",
       "      <td>kamal</td>\n",
       "      <td>30.0</td>\n",
       "      <td>NaN</td>\n",
       "      <td>America</td>\n",
       "      <td>NaN</td>\n",
       "    </tr>\n",
       "    <tr>\n",
       "      <th>5</th>\n",
       "      <td>6</td>\n",
       "      <td>Geet</td>\n",
       "      <td>NaN</td>\n",
       "      <td>HongKong</td>\n",
       "      <td>Asia</td>\n",
       "      <td>30007.0</td>\n",
       "    </tr>\n",
       "    <tr>\n",
       "      <th>6</th>\n",
       "      <td>7</td>\n",
       "      <td>Steven</td>\n",
       "      <td>43.0</td>\n",
       "      <td>BayArea</td>\n",
       "      <td>America</td>\n",
       "      <td>8300.0</td>\n",
       "    </tr>\n",
       "    <tr>\n",
       "      <th>7</th>\n",
       "      <td>8</td>\n",
       "      <td>Ram</td>\n",
       "      <td>38.0</td>\n",
       "      <td>Hyderabad</td>\n",
       "      <td>Asia</td>\n",
       "      <td>54666.0</td>\n",
       "    </tr>\n",
       "    <tr>\n",
       "      <th>8</th>\n",
       "      <td>9</td>\n",
       "      <td>hari</td>\n",
       "      <td>50.0</td>\n",
       "      <td>newyork</td>\n",
       "      <td>America</td>\n",
       "      <td>67666.0</td>\n",
       "    </tr>\n",
       "    <tr>\n",
       "      <th>9</th>\n",
       "      <td>11</td>\n",
       "      <td>yami</td>\n",
       "      <td>NaN</td>\n",
       "      <td>newyork</td>\n",
       "      <td>America</td>\n",
       "      <td>8888.0</td>\n",
       "    </tr>\n",
       "    <tr>\n",
       "      <th>10</th>\n",
       "      <td>12</td>\n",
       "      <td>Anik</td>\n",
       "      <td>26.0</td>\n",
       "      <td>HongKong</td>\n",
       "      <td>Asia</td>\n",
       "      <td>66672.0</td>\n",
       "    </tr>\n",
       "    <tr>\n",
       "      <th>11</th>\n",
       "      <td>13</td>\n",
       "      <td>kamal</td>\n",
       "      <td>30.0</td>\n",
       "      <td>NaN</td>\n",
       "      <td>America</td>\n",
       "      <td>34344.0</td>\n",
       "    </tr>\n",
       "    <tr>\n",
       "      <th>12</th>\n",
       "      <td>14</td>\n",
       "      <td>Geet</td>\n",
       "      <td>22.0</td>\n",
       "      <td>HongKong</td>\n",
       "      <td>Asia</td>\n",
       "      <td>30007.0</td>\n",
       "    </tr>\n",
       "    <tr>\n",
       "      <th>13</th>\n",
       "      <td>15</td>\n",
       "      <td>Steven</td>\n",
       "      <td>43.0</td>\n",
       "      <td>NaN</td>\n",
       "      <td>America</td>\n",
       "      <td>8300.0</td>\n",
       "    </tr>\n",
       "    <tr>\n",
       "      <th>14</th>\n",
       "      <td>16</td>\n",
       "      <td>Ram</td>\n",
       "      <td>38.0</td>\n",
       "      <td>Hyderabad</td>\n",
       "      <td>Asia</td>\n",
       "      <td>54666.0</td>\n",
       "    </tr>\n",
       "    <tr>\n",
       "      <th>15</th>\n",
       "      <td>17</td>\n",
       "      <td>hari</td>\n",
       "      <td>NaN</td>\n",
       "      <td>newyork</td>\n",
       "      <td>America</td>\n",
       "      <td>67666.0</td>\n",
       "    </tr>\n",
       "    <tr>\n",
       "      <th>16</th>\n",
       "      <td>18</td>\n",
       "      <td>yami</td>\n",
       "      <td>27.0</td>\n",
       "      <td>newyork</td>\n",
       "      <td>America</td>\n",
       "      <td>8888.0</td>\n",
       "    </tr>\n",
       "    <tr>\n",
       "      <th>17</th>\n",
       "      <td>19</td>\n",
       "      <td>Lee</td>\n",
       "      <td>31.0</td>\n",
       "      <td>Edmonto</td>\n",
       "      <td>Canada</td>\n",
       "      <td>NaN</td>\n",
       "    </tr>\n",
       "    <tr>\n",
       "      <th>18</th>\n",
       "      <td>20</td>\n",
       "      <td>Andrew</td>\n",
       "      <td>34.0</td>\n",
       "      <td>Congo</td>\n",
       "      <td>Africa</td>\n",
       "      <td>34432.0</td>\n",
       "    </tr>\n",
       "    <tr>\n",
       "      <th>19</th>\n",
       "      <td>21</td>\n",
       "      <td>soham</td>\n",
       "      <td>32.0</td>\n",
       "      <td>Angola</td>\n",
       "      <td>Africa</td>\n",
       "      <td>34534.0</td>\n",
       "    </tr>\n",
       "    <tr>\n",
       "      <th>20</th>\n",
       "      <td>22</td>\n",
       "      <td>Grig</td>\n",
       "      <td>26.0</td>\n",
       "      <td>Finland</td>\n",
       "      <td>Europe</td>\n",
       "      <td>33451.0</td>\n",
       "    </tr>\n",
       "    <tr>\n",
       "      <th>21</th>\n",
       "      <td>23</td>\n",
       "      <td>Kiara</td>\n",
       "      <td>27.0</td>\n",
       "      <td>London</td>\n",
       "      <td>Europe</td>\n",
       "      <td>NaN</td>\n",
       "    </tr>\n",
       "  </tbody>\n",
       "</table>\n",
       "</div>"
      ],
      "text/plain": [
       "    SNo    Name   Age       City  Country   Salary\n",
       "0     1     Tom  28.0    Toronto   Canada  20000.0\n",
       "1     2     Lee  31.0    Edmonto   Canada   3900.0\n",
       "2     3    Dave  34.0    Toronto   Canada   8000.0\n",
       "3     4    Anik  26.0   HongKong     Asia  66672.0\n",
       "4     5   kamal  30.0        NaN  America      NaN\n",
       "5     6    Geet   NaN   HongKong     Asia  30007.0\n",
       "6     7  Steven  43.0    BayArea  America   8300.0\n",
       "7     8     Ram  38.0  Hyderabad     Asia  54666.0\n",
       "8     9    hari  50.0    newyork  America  67666.0\n",
       "9    11    yami   NaN    newyork  America   8888.0\n",
       "10   12    Anik  26.0   HongKong     Asia  66672.0\n",
       "11   13   kamal  30.0        NaN  America  34344.0\n",
       "12   14    Geet  22.0   HongKong     Asia  30007.0\n",
       "13   15  Steven  43.0        NaN  America   8300.0\n",
       "14   16     Ram  38.0  Hyderabad     Asia  54666.0\n",
       "15   17    hari   NaN    newyork  America  67666.0\n",
       "16   18    yami  27.0    newyork  America   8888.0\n",
       "17   19     Lee  31.0    Edmonto   Canada      NaN\n",
       "18   20  Andrew  34.0      Congo   Africa  34432.0\n",
       "19   21   soham  32.0     Angola   Africa  34534.0\n",
       "20   22    Grig  26.0    Finland   Europe  33451.0\n",
       "21   23   Kiara  27.0     London   Europe      NaN"
      ]
     },
     "execution_count": 2,
     "metadata": {},
     "output_type": "execute_result"
    }
   ],
   "source": [
    "dss=pd.read_csv('empl.csv')\n",
    "dss"
   ]
  },
  {
   "cell_type": "code",
   "execution_count": 3,
   "metadata": {},
   "outputs": [
    {
     "data": {
      "text/html": [
       "<div>\n",
       "<style scoped>\n",
       "    .dataframe tbody tr th:only-of-type {\n",
       "        vertical-align: middle;\n",
       "    }\n",
       "\n",
       "    .dataframe tbody tr th {\n",
       "        vertical-align: top;\n",
       "    }\n",
       "\n",
       "    .dataframe thead th {\n",
       "        text-align: right;\n",
       "    }\n",
       "</style>\n",
       "<table border=\"1\" class=\"dataframe\">\n",
       "  <thead>\n",
       "    <tr style=\"text-align: right;\">\n",
       "      <th></th>\n",
       "      <th>Name</th>\n",
       "      <th>Age</th>\n",
       "      <th>City</th>\n",
       "      <th>Country</th>\n",
       "      <th>Salary</th>\n",
       "    </tr>\n",
       "    <tr>\n",
       "      <th>SNo</th>\n",
       "      <th></th>\n",
       "      <th></th>\n",
       "      <th></th>\n",
       "      <th></th>\n",
       "      <th></th>\n",
       "    </tr>\n",
       "  </thead>\n",
       "  <tbody>\n",
       "    <tr>\n",
       "      <th>1</th>\n",
       "      <td>Tom</td>\n",
       "      <td>28.0</td>\n",
       "      <td>Toronto</td>\n",
       "      <td>Canada</td>\n",
       "      <td>20000.0</td>\n",
       "    </tr>\n",
       "    <tr>\n",
       "      <th>2</th>\n",
       "      <td>Lee</td>\n",
       "      <td>31.0</td>\n",
       "      <td>Edmonto</td>\n",
       "      <td>Canada</td>\n",
       "      <td>3900.0</td>\n",
       "    </tr>\n",
       "    <tr>\n",
       "      <th>3</th>\n",
       "      <td>Dave</td>\n",
       "      <td>34.0</td>\n",
       "      <td>Toronto</td>\n",
       "      <td>Canada</td>\n",
       "      <td>8000.0</td>\n",
       "    </tr>\n",
       "    <tr>\n",
       "      <th>4</th>\n",
       "      <td>Anik</td>\n",
       "      <td>26.0</td>\n",
       "      <td>HongKong</td>\n",
       "      <td>Asia</td>\n",
       "      <td>66672.0</td>\n",
       "    </tr>\n",
       "    <tr>\n",
       "      <th>5</th>\n",
       "      <td>kamal</td>\n",
       "      <td>30.0</td>\n",
       "      <td>NaN</td>\n",
       "      <td>America</td>\n",
       "      <td>NaN</td>\n",
       "    </tr>\n",
       "    <tr>\n",
       "      <th>6</th>\n",
       "      <td>Geet</td>\n",
       "      <td>NaN</td>\n",
       "      <td>HongKong</td>\n",
       "      <td>Asia</td>\n",
       "      <td>30007.0</td>\n",
       "    </tr>\n",
       "    <tr>\n",
       "      <th>7</th>\n",
       "      <td>Steven</td>\n",
       "      <td>43.0</td>\n",
       "      <td>BayArea</td>\n",
       "      <td>America</td>\n",
       "      <td>8300.0</td>\n",
       "    </tr>\n",
       "    <tr>\n",
       "      <th>8</th>\n",
       "      <td>Ram</td>\n",
       "      <td>38.0</td>\n",
       "      <td>Hyderabad</td>\n",
       "      <td>Asia</td>\n",
       "      <td>54666.0</td>\n",
       "    </tr>\n",
       "    <tr>\n",
       "      <th>9</th>\n",
       "      <td>hari</td>\n",
       "      <td>50.0</td>\n",
       "      <td>newyork</td>\n",
       "      <td>America</td>\n",
       "      <td>67666.0</td>\n",
       "    </tr>\n",
       "    <tr>\n",
       "      <th>11</th>\n",
       "      <td>yami</td>\n",
       "      <td>NaN</td>\n",
       "      <td>newyork</td>\n",
       "      <td>America</td>\n",
       "      <td>8888.0</td>\n",
       "    </tr>\n",
       "    <tr>\n",
       "      <th>12</th>\n",
       "      <td>Anik</td>\n",
       "      <td>26.0</td>\n",
       "      <td>HongKong</td>\n",
       "      <td>Asia</td>\n",
       "      <td>66672.0</td>\n",
       "    </tr>\n",
       "    <tr>\n",
       "      <th>13</th>\n",
       "      <td>kamal</td>\n",
       "      <td>30.0</td>\n",
       "      <td>NaN</td>\n",
       "      <td>America</td>\n",
       "      <td>34344.0</td>\n",
       "    </tr>\n",
       "    <tr>\n",
       "      <th>14</th>\n",
       "      <td>Geet</td>\n",
       "      <td>22.0</td>\n",
       "      <td>HongKong</td>\n",
       "      <td>Asia</td>\n",
       "      <td>30007.0</td>\n",
       "    </tr>\n",
       "    <tr>\n",
       "      <th>15</th>\n",
       "      <td>Steven</td>\n",
       "      <td>43.0</td>\n",
       "      <td>NaN</td>\n",
       "      <td>America</td>\n",
       "      <td>8300.0</td>\n",
       "    </tr>\n",
       "    <tr>\n",
       "      <th>16</th>\n",
       "      <td>Ram</td>\n",
       "      <td>38.0</td>\n",
       "      <td>Hyderabad</td>\n",
       "      <td>Asia</td>\n",
       "      <td>54666.0</td>\n",
       "    </tr>\n",
       "    <tr>\n",
       "      <th>17</th>\n",
       "      <td>hari</td>\n",
       "      <td>NaN</td>\n",
       "      <td>newyork</td>\n",
       "      <td>America</td>\n",
       "      <td>67666.0</td>\n",
       "    </tr>\n",
       "    <tr>\n",
       "      <th>18</th>\n",
       "      <td>yami</td>\n",
       "      <td>27.0</td>\n",
       "      <td>newyork</td>\n",
       "      <td>America</td>\n",
       "      <td>8888.0</td>\n",
       "    </tr>\n",
       "    <tr>\n",
       "      <th>19</th>\n",
       "      <td>Lee</td>\n",
       "      <td>31.0</td>\n",
       "      <td>Edmonto</td>\n",
       "      <td>Canada</td>\n",
       "      <td>NaN</td>\n",
       "    </tr>\n",
       "    <tr>\n",
       "      <th>20</th>\n",
       "      <td>Andrew</td>\n",
       "      <td>34.0</td>\n",
       "      <td>Congo</td>\n",
       "      <td>Africa</td>\n",
       "      <td>34432.0</td>\n",
       "    </tr>\n",
       "    <tr>\n",
       "      <th>21</th>\n",
       "      <td>soham</td>\n",
       "      <td>32.0</td>\n",
       "      <td>Angola</td>\n",
       "      <td>Africa</td>\n",
       "      <td>34534.0</td>\n",
       "    </tr>\n",
       "    <tr>\n",
       "      <th>22</th>\n",
       "      <td>Grig</td>\n",
       "      <td>26.0</td>\n",
       "      <td>Finland</td>\n",
       "      <td>Europe</td>\n",
       "      <td>33451.0</td>\n",
       "    </tr>\n",
       "    <tr>\n",
       "      <th>23</th>\n",
       "      <td>Kiara</td>\n",
       "      <td>27.0</td>\n",
       "      <td>London</td>\n",
       "      <td>Europe</td>\n",
       "      <td>NaN</td>\n",
       "    </tr>\n",
       "  </tbody>\n",
       "</table>\n",
       "</div>"
      ],
      "text/plain": [
       "       Name   Age       City  Country   Salary\n",
       "SNo                                           \n",
       "1       Tom  28.0    Toronto   Canada  20000.0\n",
       "2       Lee  31.0    Edmonto   Canada   3900.0\n",
       "3      Dave  34.0    Toronto   Canada   8000.0\n",
       "4      Anik  26.0   HongKong     Asia  66672.0\n",
       "5     kamal  30.0        NaN  America      NaN\n",
       "6      Geet   NaN   HongKong     Asia  30007.0\n",
       "7    Steven  43.0    BayArea  America   8300.0\n",
       "8       Ram  38.0  Hyderabad     Asia  54666.0\n",
       "9      hari  50.0    newyork  America  67666.0\n",
       "11     yami   NaN    newyork  America   8888.0\n",
       "12     Anik  26.0   HongKong     Asia  66672.0\n",
       "13    kamal  30.0        NaN  America  34344.0\n",
       "14     Geet  22.0   HongKong     Asia  30007.0\n",
       "15   Steven  43.0        NaN  America   8300.0\n",
       "16      Ram  38.0  Hyderabad     Asia  54666.0\n",
       "17     hari   NaN    newyork  America  67666.0\n",
       "18     yami  27.0    newyork  America   8888.0\n",
       "19      Lee  31.0    Edmonto   Canada      NaN\n",
       "20   Andrew  34.0      Congo   Africa  34432.0\n",
       "21    soham  32.0     Angola   Africa  34534.0\n",
       "22     Grig  26.0    Finland   Europe  33451.0\n",
       "23    Kiara  27.0     London   Europe      NaN"
      ]
     },
     "execution_count": 3,
     "metadata": {},
     "output_type": "execute_result"
    }
   ],
   "source": [
    "ds=pd.read_csv('empl.csv',index_col=['SNo'])\n",
    "ds"
   ]
  },
  {
   "cell_type": "code",
   "execution_count": 4,
   "metadata": {},
   "outputs": [
    {
     "name": "stdout",
     "output_type": "stream",
     "text": [
      "SNo          int64\n",
      "Name        object\n",
      "Age        float64\n",
      "City        object\n",
      "Country     object\n",
      "Salary     float64\n",
      "dtype: object\n"
     ]
    },
    {
     "data": {
      "text/html": [
       "<div>\n",
       "<style scoped>\n",
       "    .dataframe tbody tr th:only-of-type {\n",
       "        vertical-align: middle;\n",
       "    }\n",
       "\n",
       "    .dataframe tbody tr th {\n",
       "        vertical-align: top;\n",
       "    }\n",
       "\n",
       "    .dataframe thead th {\n",
       "        text-align: right;\n",
       "    }\n",
       "</style>\n",
       "<table border=\"1\" class=\"dataframe\">\n",
       "  <thead>\n",
       "    <tr style=\"text-align: right;\">\n",
       "      <th></th>\n",
       "      <th>SNo</th>\n",
       "      <th>Name</th>\n",
       "      <th>Age</th>\n",
       "      <th>City</th>\n",
       "      <th>Country</th>\n",
       "      <th>Salary</th>\n",
       "    </tr>\n",
       "  </thead>\n",
       "  <tbody>\n",
       "    <tr>\n",
       "      <th>0</th>\n",
       "      <td>1</td>\n",
       "      <td>Tom</td>\n",
       "      <td>28.0</td>\n",
       "      <td>Toronto</td>\n",
       "      <td>Canada</td>\n",
       "      <td>20000.0</td>\n",
       "    </tr>\n",
       "    <tr>\n",
       "      <th>1</th>\n",
       "      <td>2</td>\n",
       "      <td>Lee</td>\n",
       "      <td>31.0</td>\n",
       "      <td>Edmonto</td>\n",
       "      <td>Canada</td>\n",
       "      <td>3900.0</td>\n",
       "    </tr>\n",
       "    <tr>\n",
       "      <th>2</th>\n",
       "      <td>3</td>\n",
       "      <td>Dave</td>\n",
       "      <td>34.0</td>\n",
       "      <td>Toronto</td>\n",
       "      <td>Canada</td>\n",
       "      <td>8000.0</td>\n",
       "    </tr>\n",
       "    <tr>\n",
       "      <th>3</th>\n",
       "      <td>4</td>\n",
       "      <td>Anik</td>\n",
       "      <td>26.0</td>\n",
       "      <td>HongKong</td>\n",
       "      <td>Asia</td>\n",
       "      <td>66672.0</td>\n",
       "    </tr>\n",
       "    <tr>\n",
       "      <th>4</th>\n",
       "      <td>5</td>\n",
       "      <td>kamal</td>\n",
       "      <td>30.0</td>\n",
       "      <td>NaN</td>\n",
       "      <td>America</td>\n",
       "      <td>NaN</td>\n",
       "    </tr>\n",
       "    <tr>\n",
       "      <th>5</th>\n",
       "      <td>6</td>\n",
       "      <td>Geet</td>\n",
       "      <td>NaN</td>\n",
       "      <td>HongKong</td>\n",
       "      <td>Asia</td>\n",
       "      <td>30007.0</td>\n",
       "    </tr>\n",
       "    <tr>\n",
       "      <th>6</th>\n",
       "      <td>7</td>\n",
       "      <td>Steven</td>\n",
       "      <td>43.0</td>\n",
       "      <td>BayArea</td>\n",
       "      <td>America</td>\n",
       "      <td>8300.0</td>\n",
       "    </tr>\n",
       "    <tr>\n",
       "      <th>7</th>\n",
       "      <td>8</td>\n",
       "      <td>Ram</td>\n",
       "      <td>38.0</td>\n",
       "      <td>Hyderabad</td>\n",
       "      <td>Asia</td>\n",
       "      <td>54666.0</td>\n",
       "    </tr>\n",
       "    <tr>\n",
       "      <th>8</th>\n",
       "      <td>9</td>\n",
       "      <td>hari</td>\n",
       "      <td>50.0</td>\n",
       "      <td>newyork</td>\n",
       "      <td>America</td>\n",
       "      <td>67666.0</td>\n",
       "    </tr>\n",
       "    <tr>\n",
       "      <th>9</th>\n",
       "      <td>11</td>\n",
       "      <td>yami</td>\n",
       "      <td>NaN</td>\n",
       "      <td>newyork</td>\n",
       "      <td>America</td>\n",
       "      <td>8888.0</td>\n",
       "    </tr>\n",
       "    <tr>\n",
       "      <th>10</th>\n",
       "      <td>12</td>\n",
       "      <td>Anik</td>\n",
       "      <td>26.0</td>\n",
       "      <td>HongKong</td>\n",
       "      <td>Asia</td>\n",
       "      <td>66672.0</td>\n",
       "    </tr>\n",
       "    <tr>\n",
       "      <th>11</th>\n",
       "      <td>13</td>\n",
       "      <td>kamal</td>\n",
       "      <td>30.0</td>\n",
       "      <td>NaN</td>\n",
       "      <td>America</td>\n",
       "      <td>34344.0</td>\n",
       "    </tr>\n",
       "    <tr>\n",
       "      <th>12</th>\n",
       "      <td>14</td>\n",
       "      <td>Geet</td>\n",
       "      <td>22.0</td>\n",
       "      <td>HongKong</td>\n",
       "      <td>Asia</td>\n",
       "      <td>30007.0</td>\n",
       "    </tr>\n",
       "    <tr>\n",
       "      <th>13</th>\n",
       "      <td>15</td>\n",
       "      <td>Steven</td>\n",
       "      <td>43.0</td>\n",
       "      <td>NaN</td>\n",
       "      <td>America</td>\n",
       "      <td>8300.0</td>\n",
       "    </tr>\n",
       "    <tr>\n",
       "      <th>14</th>\n",
       "      <td>16</td>\n",
       "      <td>Ram</td>\n",
       "      <td>38.0</td>\n",
       "      <td>Hyderabad</td>\n",
       "      <td>Asia</td>\n",
       "      <td>54666.0</td>\n",
       "    </tr>\n",
       "    <tr>\n",
       "      <th>15</th>\n",
       "      <td>17</td>\n",
       "      <td>hari</td>\n",
       "      <td>NaN</td>\n",
       "      <td>newyork</td>\n",
       "      <td>America</td>\n",
       "      <td>67666.0</td>\n",
       "    </tr>\n",
       "    <tr>\n",
       "      <th>16</th>\n",
       "      <td>18</td>\n",
       "      <td>yami</td>\n",
       "      <td>27.0</td>\n",
       "      <td>newyork</td>\n",
       "      <td>America</td>\n",
       "      <td>8888.0</td>\n",
       "    </tr>\n",
       "    <tr>\n",
       "      <th>17</th>\n",
       "      <td>19</td>\n",
       "      <td>Lee</td>\n",
       "      <td>31.0</td>\n",
       "      <td>Edmonto</td>\n",
       "      <td>Canada</td>\n",
       "      <td>NaN</td>\n",
       "    </tr>\n",
       "    <tr>\n",
       "      <th>18</th>\n",
       "      <td>20</td>\n",
       "      <td>Andrew</td>\n",
       "      <td>34.0</td>\n",
       "      <td>Congo</td>\n",
       "      <td>Africa</td>\n",
       "      <td>34432.0</td>\n",
       "    </tr>\n",
       "    <tr>\n",
       "      <th>19</th>\n",
       "      <td>21</td>\n",
       "      <td>soham</td>\n",
       "      <td>32.0</td>\n",
       "      <td>Angola</td>\n",
       "      <td>Africa</td>\n",
       "      <td>34534.0</td>\n",
       "    </tr>\n",
       "    <tr>\n",
       "      <th>20</th>\n",
       "      <td>22</td>\n",
       "      <td>Grig</td>\n",
       "      <td>26.0</td>\n",
       "      <td>Finland</td>\n",
       "      <td>Europe</td>\n",
       "      <td>33451.0</td>\n",
       "    </tr>\n",
       "    <tr>\n",
       "      <th>21</th>\n",
       "      <td>23</td>\n",
       "      <td>Kiara</td>\n",
       "      <td>27.0</td>\n",
       "      <td>London</td>\n",
       "      <td>Europe</td>\n",
       "      <td>NaN</td>\n",
       "    </tr>\n",
       "  </tbody>\n",
       "</table>\n",
       "</div>"
      ],
      "text/plain": [
       "    SNo    Name   Age       City  Country   Salary\n",
       "0     1     Tom  28.0    Toronto   Canada  20000.0\n",
       "1     2     Lee  31.0    Edmonto   Canada   3900.0\n",
       "2     3    Dave  34.0    Toronto   Canada   8000.0\n",
       "3     4    Anik  26.0   HongKong     Asia  66672.0\n",
       "4     5   kamal  30.0        NaN  America      NaN\n",
       "5     6    Geet   NaN   HongKong     Asia  30007.0\n",
       "6     7  Steven  43.0    BayArea  America   8300.0\n",
       "7     8     Ram  38.0  Hyderabad     Asia  54666.0\n",
       "8     9    hari  50.0    newyork  America  67666.0\n",
       "9    11    yami   NaN    newyork  America   8888.0\n",
       "10   12    Anik  26.0   HongKong     Asia  66672.0\n",
       "11   13   kamal  30.0        NaN  America  34344.0\n",
       "12   14    Geet  22.0   HongKong     Asia  30007.0\n",
       "13   15  Steven  43.0        NaN  America   8300.0\n",
       "14   16     Ram  38.0  Hyderabad     Asia  54666.0\n",
       "15   17    hari   NaN    newyork  America  67666.0\n",
       "16   18    yami  27.0    newyork  America   8888.0\n",
       "17   19     Lee  31.0    Edmonto   Canada      NaN\n",
       "18   20  Andrew  34.0      Congo   Africa  34432.0\n",
       "19   21   soham  32.0     Angola   Africa  34534.0\n",
       "20   22    Grig  26.0    Finland   Europe  33451.0\n",
       "21   23   Kiara  27.0     London   Europe      NaN"
      ]
     },
     "execution_count": 4,
     "metadata": {},
     "output_type": "execute_result"
    }
   ],
   "source": [
    "dr=pd.read_csv('empl.csv',dtype={'Salary':np.float64})\n",
    "print (dr.dtypes)\n",
    "dr"
   ]
  },
  {
   "cell_type": "code",
   "execution_count": 5,
   "metadata": {},
   "outputs": [
    {
     "data": {
      "text/plain": [
       "3900.0"
      ]
     },
     "execution_count": 5,
     "metadata": {},
     "output_type": "execute_result"
    }
   ],
   "source": [
    "dr['Salary'].min()"
   ]
  },
  {
   "cell_type": "code",
   "execution_count": 6,
   "metadata": {},
   "outputs": [
    {
     "data": {
      "text/plain": [
       "67666.0"
      ]
     },
     "execution_count": 6,
     "metadata": {},
     "output_type": "execute_result"
    }
   ],
   "source": [
    "dr['Salary'].max()"
   ]
  },
  {
   "cell_type": "code",
   "execution_count": 7,
   "metadata": {},
   "outputs": [
    {
     "data": {
      "text/plain": [
       "<AxesSubplot:>"
      ]
     },
     "execution_count": 7,
     "metadata": {},
     "output_type": "execute_result"
    },
    {
     "data": {
      "image/png": "[encoded data removed]",
      "text/plain": [
       "<Figure size 432x288 with 1 Axes>"
      ]
     },
     "metadata": {
      "needs_background": "light"
     },
     "output_type": "display_data"
    }
   ],
   "source": [
    "dr['Salary'].plot.bar()"
   ]
  },
  {
   "cell_type": "code",
   "execution_count": 8,
   "metadata": {},
   "outputs": [
    {
     "data": {
      "text/html": [
       "<div>\n",
       "<style scoped>\n",
       "    .dataframe tbody tr th:only-of-type {\n",
       "        vertical-align: middle;\n",
       "    }\n",
       "\n",
       "    .dataframe tbody tr th {\n",
       "        vertical-align: top;\n",
       "    }\n",
       "\n",
       "    .dataframe thead th {\n",
       "        text-align: right;\n",
       "    }\n",
       "</style>\n",
       "<table border=\"1\" class=\"dataframe\">\n",
       "  <thead>\n",
       "    <tr style=\"text-align: right;\">\n",
       "      <th></th>\n",
       "      <th>SNo</th>\n",
       "      <th>Name</th>\n",
       "      <th>Age</th>\n",
       "      <th>City</th>\n",
       "      <th>Country</th>\n",
       "      <th>Salary</th>\n",
       "    </tr>\n",
       "  </thead>\n",
       "  <tbody>\n",
       "    <tr>\n",
       "      <th>0</th>\n",
       "      <td>1</td>\n",
       "      <td>Tom</td>\n",
       "      <td>28.0</td>\n",
       "      <td>Toronto</td>\n",
       "      <td>Canada</td>\n",
       "      <td>20000.0</td>\n",
       "    </tr>\n",
       "    <tr>\n",
       "      <th>1</th>\n",
       "      <td>2</td>\n",
       "      <td>Lee</td>\n",
       "      <td>31.0</td>\n",
       "      <td>Edmonto</td>\n",
       "      <td>Canada</td>\n",
       "      <td>3900.0</td>\n",
       "    </tr>\n",
       "    <tr>\n",
       "      <th>2</th>\n",
       "      <td>3</td>\n",
       "      <td>Dave</td>\n",
       "      <td>34.0</td>\n",
       "      <td>Toronto</td>\n",
       "      <td>Canada</td>\n",
       "      <td>8000.0</td>\n",
       "    </tr>\n",
       "    <tr>\n",
       "      <th>3</th>\n",
       "      <td>4</td>\n",
       "      <td>Anik</td>\n",
       "      <td>26.0</td>\n",
       "      <td>HongKong</td>\n",
       "      <td>Asia</td>\n",
       "      <td>66672.0</td>\n",
       "    </tr>\n",
       "    <tr>\n",
       "      <th>4</th>\n",
       "      <td>5</td>\n",
       "      <td>kamal</td>\n",
       "      <td>30.0</td>\n",
       "      <td>NaN</td>\n",
       "      <td>America</td>\n",
       "      <td>NaN</td>\n",
       "    </tr>\n",
       "    <tr>\n",
       "      <th>5</th>\n",
       "      <td>6</td>\n",
       "      <td>Geet</td>\n",
       "      <td>NaN</td>\n",
       "      <td>HongKong</td>\n",
       "      <td>Asia</td>\n",
       "      <td>30007.0</td>\n",
       "    </tr>\n",
       "    <tr>\n",
       "      <th>6</th>\n",
       "      <td>7</td>\n",
       "      <td>Steven</td>\n",
       "      <td>43.0</td>\n",
       "      <td>BayArea</td>\n",
       "      <td>America</td>\n",
       "      <td>8300.0</td>\n",
       "    </tr>\n",
       "    <tr>\n",
       "      <th>7</th>\n",
       "      <td>8</td>\n",
       "      <td>Ram</td>\n",
       "      <td>38.0</td>\n",
       "      <td>Hyderabad</td>\n",
       "      <td>Asia</td>\n",
       "      <td>54666.0</td>\n",
       "    </tr>\n",
       "    <tr>\n",
       "      <th>8</th>\n",
       "      <td>9</td>\n",
       "      <td>hari</td>\n",
       "      <td>50.0</td>\n",
       "      <td>newyork</td>\n",
       "      <td>America</td>\n",
       "      <td>67666.0</td>\n",
       "    </tr>\n",
       "    <tr>\n",
       "      <th>9</th>\n",
       "      <td>11</td>\n",
       "      <td>yami</td>\n",
       "      <td>NaN</td>\n",
       "      <td>newyork</td>\n",
       "      <td>America</td>\n",
       "      <td>8888.0</td>\n",
       "    </tr>\n",
       "    <tr>\n",
       "      <th>10</th>\n",
       "      <td>12</td>\n",
       "      <td>Anik</td>\n",
       "      <td>26.0</td>\n",
       "      <td>HongKong</td>\n",
       "      <td>Asia</td>\n",
       "      <td>66672.0</td>\n",
       "    </tr>\n",
       "    <tr>\n",
       "      <th>11</th>\n",
       "      <td>13</td>\n",
       "      <td>kamal</td>\n",
       "      <td>30.0</td>\n",
       "      <td>NaN</td>\n",
       "      <td>America</td>\n",
       "      <td>34344.0</td>\n",
       "    </tr>\n",
       "    <tr>\n",
       "      <th>12</th>\n",
       "      <td>14</td>\n",
       "      <td>Geet</td>\n",
       "      <td>22.0</td>\n",
       "      <td>HongKong</td>\n",
       "      <td>Asia</td>\n",
       "      <td>30007.0</td>\n",
       "    </tr>\n",
       "    <tr>\n",
       "      <th>13</th>\n",
       "      <td>15</td>\n",
       "      <td>Steven</td>\n",
       "      <td>43.0</td>\n",
       "      <td>NaN</td>\n",
       "      <td>America</td>\n",
       "      <td>8300.0</td>\n",
       "    </tr>\n",
       "    <tr>\n",
       "      <th>14</th>\n",
       "      <td>16</td>\n",
       "      <td>Ram</td>\n",
       "      <td>38.0</td>\n",
       "      <td>Hyderabad</td>\n",
       "      <td>Asia</td>\n",
       "      <td>54666.0</td>\n",
       "    </tr>\n",
       "    <tr>\n",
       "      <th>15</th>\n",
       "      <td>17</td>\n",
       "      <td>hari</td>\n",
       "      <td>NaN</td>\n",
       "      <td>newyork</td>\n",
       "      <td>America</td>\n",
       "      <td>67666.0</td>\n",
       "    </tr>\n",
       "    <tr>\n",
       "      <th>16</th>\n",
       "      <td>18</td>\n",
       "      <td>yami</td>\n",
       "      <td>27.0</td>\n",
       "      <td>newyork</td>\n",
       "      <td>America</td>\n",
       "      <td>8888.0</td>\n",
       "    </tr>\n",
       "    <tr>\n",
       "      <th>17</th>\n",
       "      <td>19</td>\n",
       "      <td>Lee</td>\n",
       "      <td>31.0</td>\n",
       "      <td>Edmonto</td>\n",
       "      <td>Canada</td>\n",
       "      <td>NaN</td>\n",
       "    </tr>\n",
       "    <tr>\n",
       "      <th>18</th>\n",
       "      <td>20</td>\n",
       "      <td>Andrew</td>\n",
       "      <td>34.0</td>\n",
       "      <td>Congo</td>\n",
       "      <td>Africa</td>\n",
       "      <td>34432.0</td>\n",
       "    </tr>\n",
       "    <tr>\n",
       "      <th>19</th>\n",
       "      <td>21</td>\n",
       "      <td>soham</td>\n",
       "      <td>32.0</td>\n",
       "      <td>Angola</td>\n",
       "      <td>Africa</td>\n",
       "      <td>34534.0</td>\n",
       "    </tr>\n",
       "    <tr>\n",
       "      <th>20</th>\n",
       "      <td>22</td>\n",
       "      <td>Grig</td>\n",
       "      <td>26.0</td>\n",
       "      <td>Finland</td>\n",
       "      <td>Europe</td>\n",
       "      <td>33451.0</td>\n",
       "    </tr>\n",
       "    <tr>\n",
       "      <th>21</th>\n",
       "      <td>23</td>\n",
       "      <td>Kiara</td>\n",
       "      <td>27.0</td>\n",
       "      <td>London</td>\n",
       "      <td>Europe</td>\n",
       "      <td>NaN</td>\n",
       "    </tr>\n",
       "  </tbody>\n",
       "</table>\n",
       "</div>"
      ],
      "text/plain": [
       "    SNo    Name   Age       City  Country   Salary\n",
       "0     1     Tom  28.0    Toronto   Canada  20000.0\n",
       "1     2     Lee  31.0    Edmonto   Canada   3900.0\n",
       "2     3    Dave  34.0    Toronto   Canada   8000.0\n",
       "3     4    Anik  26.0   HongKong     Asia  66672.0\n",
       "4     5   kamal  30.0        NaN  America      NaN\n",
       "5     6    Geet   NaN   HongKong     Asia  30007.0\n",
       "6     7  Steven  43.0    BayArea  America   8300.0\n",
       "7     8     Ram  38.0  Hyderabad     Asia  54666.0\n",
       "8     9    hari  50.0    newyork  America  67666.0\n",
       "9    11    yami   NaN    newyork  America   8888.0\n",
       "10   12    Anik  26.0   HongKong     Asia  66672.0\n",
       "11   13   kamal  30.0        NaN  America  34344.0\n",
       "12   14    Geet  22.0   HongKong     Asia  30007.0\n",
       "13   15  Steven  43.0        NaN  America   8300.0\n",
       "14   16     Ram  38.0  Hyderabad     Asia  54666.0\n",
       "15   17    hari   NaN    newyork  America  67666.0\n",
       "16   18    yami  27.0    newyork  America   8888.0\n",
       "17   19     Lee  31.0    Edmonto   Canada      NaN\n",
       "18   20  Andrew  34.0      Congo   Africa  34432.0\n",
       "19   21   soham  32.0     Angola   Africa  34534.0\n",
       "20   22    Grig  26.0    Finland   Europe  33451.0\n",
       "21   23   Kiara  27.0     London   Europe      NaN"
      ]
     },
     "execution_count": 8,
     "metadata": {},
     "output_type": "execute_result"
    }
   ],
   "source": [
    "dr1=pd.DataFrame(data=dr)\n",
    "dr1\n",
    "\n",
    "#very important must remember"
   ]
  },
  {
   "cell_type": "code",
   "execution_count": 9,
   "metadata": {},
   "outputs": [
    {
     "data": {
      "text/plain": [
       "0     20000.0\n",
       "1      3900.0\n",
       "2      8000.0\n",
       "3     66672.0\n",
       "4         NaN\n",
       "5     30007.0\n",
       "6      8300.0\n",
       "7     54666.0\n",
       "8     67666.0\n",
       "9      8888.0\n",
       "10    66672.0\n",
       "11    34344.0\n",
       "12    30007.0\n",
       "13     8300.0\n",
       "14    54666.0\n",
       "15    67666.0\n",
       "16     8888.0\n",
       "17        NaN\n",
       "18    34432.0\n",
       "19    34534.0\n",
       "20    33451.0\n",
       "21        NaN\n",
       "Name: Salary, dtype: float64"
      ]
     },
     "execution_count": 9,
     "metadata": {},
     "output_type": "execute_result"
    }
   ],
   "source": [
    "dr1.loc[:,'Salary']"
   ]
  },
  {
   "cell_type": "code",
   "execution_count": 10,
   "metadata": {},
   "outputs": [
    {
     "data": {
      "text/plain": [
       "19"
      ]
     },
     "execution_count": 10,
     "metadata": {},
     "output_type": "execute_result"
    }
   ],
   "source": [
    "dr1['Salary'].count()"
   ]
  },
  {
   "cell_type": "code",
   "execution_count": 11,
   "metadata": {},
   "outputs": [
    {
     "data": {
      "text/html": [
       "<div>\n",
       "<style scoped>\n",
       "    .dataframe tbody tr th:only-of-type {\n",
       "        vertical-align: middle;\n",
       "    }\n",
       "\n",
       "    .dataframe tbody tr th {\n",
       "        vertical-align: top;\n",
       "    }\n",
       "\n",
       "    .dataframe thead th {\n",
       "        text-align: right;\n",
       "    }\n",
       "</style>\n",
       "<table border=\"1\" class=\"dataframe\">\n",
       "  <thead>\n",
       "    <tr style=\"text-align: right;\">\n",
       "      <th></th>\n",
       "      <th>Country</th>\n",
       "      <th>Salary</th>\n",
       "    </tr>\n",
       "  </thead>\n",
       "  <tbody>\n",
       "    <tr>\n",
       "      <th>0</th>\n",
       "      <td>Canada</td>\n",
       "      <td>20000.0</td>\n",
       "    </tr>\n",
       "    <tr>\n",
       "      <th>1</th>\n",
       "      <td>Canada</td>\n",
       "      <td>3900.0</td>\n",
       "    </tr>\n",
       "    <tr>\n",
       "      <th>2</th>\n",
       "      <td>Canada</td>\n",
       "      <td>8000.0</td>\n",
       "    </tr>\n",
       "    <tr>\n",
       "      <th>3</th>\n",
       "      <td>Asia</td>\n",
       "      <td>66672.0</td>\n",
       "    </tr>\n",
       "    <tr>\n",
       "      <th>4</th>\n",
       "      <td>America</td>\n",
       "      <td>NaN</td>\n",
       "    </tr>\n",
       "    <tr>\n",
       "      <th>5</th>\n",
       "      <td>Asia</td>\n",
       "      <td>30007.0</td>\n",
       "    </tr>\n",
       "    <tr>\n",
       "      <th>6</th>\n",
       "      <td>America</td>\n",
       "      <td>8300.0</td>\n",
       "    </tr>\n",
       "    <tr>\n",
       "      <th>7</th>\n",
       "      <td>Asia</td>\n",
       "      <td>54666.0</td>\n",
       "    </tr>\n",
       "    <tr>\n",
       "      <th>8</th>\n",
       "      <td>America</td>\n",
       "      <td>67666.0</td>\n",
       "    </tr>\n",
       "    <tr>\n",
       "      <th>9</th>\n",
       "      <td>America</td>\n",
       "      <td>8888.0</td>\n",
       "    </tr>\n",
       "    <tr>\n",
       "      <th>10</th>\n",
       "      <td>Asia</td>\n",
       "      <td>66672.0</td>\n",
       "    </tr>\n",
       "    <tr>\n",
       "      <th>11</th>\n",
       "      <td>America</td>\n",
       "      <td>34344.0</td>\n",
       "    </tr>\n",
       "    <tr>\n",
       "      <th>12</th>\n",
       "      <td>Asia</td>\n",
       "      <td>30007.0</td>\n",
       "    </tr>\n",
       "    <tr>\n",
       "      <th>13</th>\n",
       "      <td>America</td>\n",
       "      <td>8300.0</td>\n",
       "    </tr>\n",
       "    <tr>\n",
       "      <th>14</th>\n",
       "      <td>Asia</td>\n",
       "      <td>54666.0</td>\n",
       "    </tr>\n",
       "    <tr>\n",
       "      <th>15</th>\n",
       "      <td>America</td>\n",
       "      <td>67666.0</td>\n",
       "    </tr>\n",
       "    <tr>\n",
       "      <th>16</th>\n",
       "      <td>America</td>\n",
       "      <td>8888.0</td>\n",
       "    </tr>\n",
       "    <tr>\n",
       "      <th>17</th>\n",
       "      <td>Canada</td>\n",
       "      <td>NaN</td>\n",
       "    </tr>\n",
       "    <tr>\n",
       "      <th>18</th>\n",
       "      <td>Africa</td>\n",
       "      <td>34432.0</td>\n",
       "    </tr>\n",
       "    <tr>\n",
       "      <th>19</th>\n",
       "      <td>Africa</td>\n",
       "      <td>34534.0</td>\n",
       "    </tr>\n",
       "    <tr>\n",
       "      <th>20</th>\n",
       "      <td>Europe</td>\n",
       "      <td>33451.0</td>\n",
       "    </tr>\n",
       "    <tr>\n",
       "      <th>21</th>\n",
       "      <td>Europe</td>\n",
       "      <td>NaN</td>\n",
       "    </tr>\n",
       "  </tbody>\n",
       "</table>\n",
       "</div>"
      ],
      "text/plain": [
       "    Country   Salary\n",
       "0    Canada  20000.0\n",
       "1    Canada   3900.0\n",
       "2    Canada   8000.0\n",
       "3      Asia  66672.0\n",
       "4   America      NaN\n",
       "5      Asia  30007.0\n",
       "6   America   8300.0\n",
       "7      Asia  54666.0\n",
       "8   America  67666.0\n",
       "9   America   8888.0\n",
       "10     Asia  66672.0\n",
       "11  America  34344.0\n",
       "12     Asia  30007.0\n",
       "13  America   8300.0\n",
       "14     Asia  54666.0\n",
       "15  America  67666.0\n",
       "16  America   8888.0\n",
       "17   Canada      NaN\n",
       "18   Africa  34432.0\n",
       "19   Africa  34534.0\n",
       "20   Europe  33451.0\n",
       "21   Europe      NaN"
      ]
     },
     "execution_count": 11,
     "metadata": {},
     "output_type": "execute_result"
    }
   ],
   "source": [
    "dr1.loc[:,['Country','Salary']]"
   ]
  },
  {
   "cell_type": "code",
   "execution_count": 12,
   "metadata": {},
   "outputs": [
    {
     "data": {
      "text/html": [
       "<div>\n",
       "<style scoped>\n",
       "    .dataframe tbody tr th:only-of-type {\n",
       "        vertical-align: middle;\n",
       "    }\n",
       "\n",
       "    .dataframe tbody tr th {\n",
       "        vertical-align: top;\n",
       "    }\n",
       "\n",
       "    .dataframe thead th {\n",
       "        text-align: right;\n",
       "    }\n",
       "</style>\n",
       "<table border=\"1\" class=\"dataframe\">\n",
       "  <thead>\n",
       "    <tr style=\"text-align: right;\">\n",
       "      <th></th>\n",
       "      <th>Name</th>\n",
       "      <th>Age</th>\n",
       "    </tr>\n",
       "  </thead>\n",
       "  <tbody>\n",
       "    <tr>\n",
       "      <th>0</th>\n",
       "      <td>Tom</td>\n",
       "      <td>28.0</td>\n",
       "    </tr>\n",
       "    <tr>\n",
       "      <th>1</th>\n",
       "      <td>Lee</td>\n",
       "      <td>31.0</td>\n",
       "    </tr>\n",
       "    <tr>\n",
       "      <th>2</th>\n",
       "      <td>Dave</td>\n",
       "      <td>34.0</td>\n",
       "    </tr>\n",
       "    <tr>\n",
       "      <th>3</th>\n",
       "      <td>Anik</td>\n",
       "      <td>26.0</td>\n",
       "    </tr>\n",
       "    <tr>\n",
       "      <th>4</th>\n",
       "      <td>kamal</td>\n",
       "      <td>30.0</td>\n",
       "    </tr>\n",
       "    <tr>\n",
       "      <th>5</th>\n",
       "      <td>Geet</td>\n",
       "      <td>NaN</td>\n",
       "    </tr>\n",
       "    <tr>\n",
       "      <th>6</th>\n",
       "      <td>Steven</td>\n",
       "      <td>43.0</td>\n",
       "    </tr>\n",
       "    <tr>\n",
       "      <th>7</th>\n",
       "      <td>Ram</td>\n",
       "      <td>38.0</td>\n",
       "    </tr>\n",
       "    <tr>\n",
       "      <th>8</th>\n",
       "      <td>hari</td>\n",
       "      <td>50.0</td>\n",
       "    </tr>\n",
       "    <tr>\n",
       "      <th>9</th>\n",
       "      <td>yami</td>\n",
       "      <td>NaN</td>\n",
       "    </tr>\n",
       "    <tr>\n",
       "      <th>10</th>\n",
       "      <td>Anik</td>\n",
       "      <td>26.0</td>\n",
       "    </tr>\n",
       "    <tr>\n",
       "      <th>11</th>\n",
       "      <td>kamal</td>\n",
       "      <td>30.0</td>\n",
       "    </tr>\n",
       "    <tr>\n",
       "      <th>12</th>\n",
       "      <td>Geet</td>\n",
       "      <td>22.0</td>\n",
       "    </tr>\n",
       "    <tr>\n",
       "      <th>13</th>\n",
       "      <td>Steven</td>\n",
       "      <td>43.0</td>\n",
       "    </tr>\n",
       "    <tr>\n",
       "      <th>14</th>\n",
       "      <td>Ram</td>\n",
       "      <td>38.0</td>\n",
       "    </tr>\n",
       "    <tr>\n",
       "      <th>15</th>\n",
       "      <td>hari</td>\n",
       "      <td>NaN</td>\n",
       "    </tr>\n",
       "    <tr>\n",
       "      <th>16</th>\n",
       "      <td>yami</td>\n",
       "      <td>27.0</td>\n",
       "    </tr>\n",
       "    <tr>\n",
       "      <th>17</th>\n",
       "      <td>Lee</td>\n",
       "      <td>31.0</td>\n",
       "    </tr>\n",
       "    <tr>\n",
       "      <th>18</th>\n",
       "      <td>Andrew</td>\n",
       "      <td>34.0</td>\n",
       "    </tr>\n",
       "    <tr>\n",
       "      <th>19</th>\n",
       "      <td>soham</td>\n",
       "      <td>32.0</td>\n",
       "    </tr>\n",
       "    <tr>\n",
       "      <th>20</th>\n",
       "      <td>Grig</td>\n",
       "      <td>26.0</td>\n",
       "    </tr>\n",
       "    <tr>\n",
       "      <th>21</th>\n",
       "      <td>Kiara</td>\n",
       "      <td>27.0</td>\n",
       "    </tr>\n",
       "  </tbody>\n",
       "</table>\n",
       "</div>"
      ],
      "text/plain": [
       "      Name   Age\n",
       "0      Tom  28.0\n",
       "1      Lee  31.0\n",
       "2     Dave  34.0\n",
       "3     Anik  26.0\n",
       "4    kamal  30.0\n",
       "5     Geet   NaN\n",
       "6   Steven  43.0\n",
       "7      Ram  38.0\n",
       "8     hari  50.0\n",
       "9     yami   NaN\n",
       "10    Anik  26.0\n",
       "11   kamal  30.0\n",
       "12    Geet  22.0\n",
       "13  Steven  43.0\n",
       "14     Ram  38.0\n",
       "15    hari   NaN\n",
       "16    yami  27.0\n",
       "17     Lee  31.0\n",
       "18  Andrew  34.0\n",
       "19   soham  32.0\n",
       "20    Grig  26.0\n",
       "21   Kiara  27.0"
      ]
     },
     "execution_count": 12,
     "metadata": {},
     "output_type": "execute_result"
    }
   ],
   "source": [
    "dr1.iloc[:,1:3]"
   ]
  },
  {
   "cell_type": "code",
   "execution_count": 13,
   "metadata": {},
   "outputs": [
    {
     "data": {
      "text/html": [
       "<div>\n",
       "<style scoped>\n",
       "    .dataframe tbody tr th:only-of-type {\n",
       "        vertical-align: middle;\n",
       "    }\n",
       "\n",
       "    .dataframe tbody tr th {\n",
       "        vertical-align: top;\n",
       "    }\n",
       "\n",
       "    .dataframe thead th {\n",
       "        text-align: right;\n",
       "    }\n",
       "</style>\n",
       "<table border=\"1\" class=\"dataframe\">\n",
       "  <thead>\n",
       "    <tr style=\"text-align: right;\">\n",
       "      <th></th>\n",
       "      <th>Name</th>\n",
       "      <th>Age</th>\n",
       "      <th>City</th>\n",
       "    </tr>\n",
       "  </thead>\n",
       "  <tbody>\n",
       "    <tr>\n",
       "      <th>0</th>\n",
       "      <td>Tom</td>\n",
       "      <td>28.0</td>\n",
       "      <td>Toronto</td>\n",
       "    </tr>\n",
       "    <tr>\n",
       "      <th>1</th>\n",
       "      <td>Lee</td>\n",
       "      <td>31.0</td>\n",
       "      <td>Edmonto</td>\n",
       "    </tr>\n",
       "    <tr>\n",
       "      <th>2</th>\n",
       "      <td>Dave</td>\n",
       "      <td>34.0</td>\n",
       "      <td>Toronto</td>\n",
       "    </tr>\n",
       "    <tr>\n",
       "      <th>3</th>\n",
       "      <td>Anik</td>\n",
       "      <td>26.0</td>\n",
       "      <td>HongKong</td>\n",
       "    </tr>\n",
       "    <tr>\n",
       "      <th>4</th>\n",
       "      <td>kamal</td>\n",
       "      <td>30.0</td>\n",
       "      <td>NaN</td>\n",
       "    </tr>\n",
       "    <tr>\n",
       "      <th>5</th>\n",
       "      <td>Geet</td>\n",
       "      <td>NaN</td>\n",
       "      <td>HongKong</td>\n",
       "    </tr>\n",
       "    <tr>\n",
       "      <th>6</th>\n",
       "      <td>Steven</td>\n",
       "      <td>43.0</td>\n",
       "      <td>BayArea</td>\n",
       "    </tr>\n",
       "    <tr>\n",
       "      <th>7</th>\n",
       "      <td>Ram</td>\n",
       "      <td>38.0</td>\n",
       "      <td>Hyderabad</td>\n",
       "    </tr>\n",
       "    <tr>\n",
       "      <th>8</th>\n",
       "      <td>hari</td>\n",
       "      <td>50.0</td>\n",
       "      <td>newyork</td>\n",
       "    </tr>\n",
       "    <tr>\n",
       "      <th>9</th>\n",
       "      <td>yami</td>\n",
       "      <td>NaN</td>\n",
       "      <td>newyork</td>\n",
       "    </tr>\n",
       "    <tr>\n",
       "      <th>10</th>\n",
       "      <td>Anik</td>\n",
       "      <td>26.0</td>\n",
       "      <td>HongKong</td>\n",
       "    </tr>\n",
       "    <tr>\n",
       "      <th>11</th>\n",
       "      <td>kamal</td>\n",
       "      <td>30.0</td>\n",
       "      <td>NaN</td>\n",
       "    </tr>\n",
       "    <tr>\n",
       "      <th>12</th>\n",
       "      <td>Geet</td>\n",
       "      <td>22.0</td>\n",
       "      <td>HongKong</td>\n",
       "    </tr>\n",
       "    <tr>\n",
       "      <th>13</th>\n",
       "      <td>Steven</td>\n",
       "      <td>43.0</td>\n",
       "      <td>NaN</td>\n",
       "    </tr>\n",
       "    <tr>\n",
       "      <th>14</th>\n",
       "      <td>Ram</td>\n",
       "      <td>38.0</td>\n",
       "      <td>Hyderabad</td>\n",
       "    </tr>\n",
       "    <tr>\n",
       "      <th>15</th>\n",
       "      <td>hari</td>\n",
       "      <td>NaN</td>\n",
       "      <td>newyork</td>\n",
       "    </tr>\n",
       "    <tr>\n",
       "      <th>16</th>\n",
       "      <td>yami</td>\n",
       "      <td>27.0</td>\n",
       "      <td>newyork</td>\n",
       "    </tr>\n",
       "    <tr>\n",
       "      <th>17</th>\n",
       "      <td>Lee</td>\n",
       "      <td>31.0</td>\n",
       "      <td>Edmonto</td>\n",
       "    </tr>\n",
       "    <tr>\n",
       "      <th>18</th>\n",
       "      <td>Andrew</td>\n",
       "      <td>34.0</td>\n",
       "      <td>Congo</td>\n",
       "    </tr>\n",
       "    <tr>\n",
       "      <th>19</th>\n",
       "      <td>soham</td>\n",
       "      <td>32.0</td>\n",
       "      <td>Angola</td>\n",
       "    </tr>\n",
       "    <tr>\n",
       "      <th>20</th>\n",
       "      <td>Grig</td>\n",
       "      <td>26.0</td>\n",
       "      <td>Finland</td>\n",
       "    </tr>\n",
       "    <tr>\n",
       "      <th>21</th>\n",
       "      <td>Kiara</td>\n",
       "      <td>27.0</td>\n",
       "      <td>London</td>\n",
       "    </tr>\n",
       "  </tbody>\n",
       "</table>\n",
       "</div>"
      ],
      "text/plain": [
       "      Name   Age       City\n",
       "0      Tom  28.0    Toronto\n",
       "1      Lee  31.0    Edmonto\n",
       "2     Dave  34.0    Toronto\n",
       "3     Anik  26.0   HongKong\n",
       "4    kamal  30.0        NaN\n",
       "5     Geet   NaN   HongKong\n",
       "6   Steven  43.0    BayArea\n",
       "7      Ram  38.0  Hyderabad\n",
       "8     hari  50.0    newyork\n",
       "9     yami   NaN    newyork\n",
       "10    Anik  26.0   HongKong\n",
       "11   kamal  30.0        NaN\n",
       "12    Geet  22.0   HongKong\n",
       "13  Steven  43.0        NaN\n",
       "14     Ram  38.0  Hyderabad\n",
       "15    hari   NaN    newyork\n",
       "16    yami  27.0    newyork\n",
       "17     Lee  31.0    Edmonto\n",
       "18  Andrew  34.0      Congo\n",
       "19   soham  32.0     Angola\n",
       "20    Grig  26.0    Finland\n",
       "21   Kiara  27.0     London"
      ]
     },
     "execution_count": 13,
     "metadata": {},
     "output_type": "execute_result"
    }
   ],
   "source": [
    "dr1.iloc[:,1:4]"
   ]
  },
  {
   "cell_type": "code",
   "execution_count": 14,
   "metadata": {},
   "outputs": [
    {
     "data": {
      "text/plain": [
       "0     20000.0\n",
       "1      3900.0\n",
       "2      8000.0\n",
       "3     66672.0\n",
       "4         NaN\n",
       "5     30007.0\n",
       "6      8300.0\n",
       "7     54666.0\n",
       "8     67666.0\n",
       "9      8888.0\n",
       "10    66672.0\n",
       "11    34344.0\n",
       "12    30007.0\n",
       "13     8300.0\n",
       "14    54666.0\n",
       "15    67666.0\n",
       "16     8888.0\n",
       "17        NaN\n",
       "18    34432.0\n",
       "19    34534.0\n",
       "20    33451.0\n",
       "21        NaN\n",
       "Name: Salary, dtype: float64"
      ]
     },
     "execution_count": 14,
     "metadata": {},
     "output_type": "execute_result"
    }
   ],
   "source": [
    "dr1.iloc[:,-1]"
   ]
  },
  {
   "cell_type": "code",
   "execution_count": 15,
   "metadata": {},
   "outputs": [
    {
     "data": {
      "text/plain": [
       "array(['Tom', 'Lee', 'Dave', 'Anik', 'kamal', 'Geet', 'Steven', 'Ram',\n",
       "       'hari', 'yami', 'Andrew', 'soham', 'Grig', 'Kiara'], dtype=object)"
      ]
     },
     "execution_count": 15,
     "metadata": {},
     "output_type": "execute_result"
    }
   ],
   "source": [
    "dr1['Name'].unique()                      #it will show individual name present in the dataframe"
   ]
  },
  {
   "cell_type": "code",
   "execution_count": 16,
   "metadata": {},
   "outputs": [
    {
     "data": {
      "text/plain": [
       "array(['Canada', 'Asia', 'America', 'Africa', 'Europe'], dtype=object)"
      ]
     },
     "execution_count": 16,
     "metadata": {},
     "output_type": "execute_result"
    }
   ],
   "source": [
    "dr1['Country'].unique()"
   ]
  },
  {
   "cell_type": "code",
   "execution_count": 17,
   "metadata": {},
   "outputs": [
    {
     "name": "stdout",
     "output_type": "stream",
     "text": [
      "count       22\n",
      "unique      14\n",
      "top       yami\n",
      "freq         2\n",
      "Name: Name, dtype: object\n"
     ]
    }
   ],
   "source": [
    "print(dr1['Name'].describe())"
   ]
  },
  {
   "cell_type": "code",
   "execution_count": 18,
   "metadata": {},
   "outputs": [
    {
     "data": {
      "text/html": [
       "<div>\n",
       "<style scoped>\n",
       "    .dataframe tbody tr th:only-of-type {\n",
       "        vertical-align: middle;\n",
       "    }\n",
       "\n",
       "    .dataframe tbody tr th {\n",
       "        vertical-align: top;\n",
       "    }\n",
       "\n",
       "    .dataframe thead th {\n",
       "        text-align: right;\n",
       "    }\n",
       "</style>\n",
       "<table border=\"1\" class=\"dataframe\">\n",
       "  <thead>\n",
       "    <tr style=\"text-align: right;\">\n",
       "      <th></th>\n",
       "      <th>SNo</th>\n",
       "      <th>Age</th>\n",
       "      <th>Salary</th>\n",
       "    </tr>\n",
       "  </thead>\n",
       "  <tbody>\n",
       "    <tr>\n",
       "      <th>count</th>\n",
       "      <td>22.000000</td>\n",
       "      <td>19.000000</td>\n",
       "      <td>19.000000</td>\n",
       "    </tr>\n",
       "    <tr>\n",
       "      <th>mean</th>\n",
       "      <td>12.090909</td>\n",
       "      <td>32.421053</td>\n",
       "      <td>33739.947368</td>\n",
       "    </tr>\n",
       "    <tr>\n",
       "      <th>std</th>\n",
       "      <td>6.927578</td>\n",
       "      <td>7.174924</td>\n",
       "      <td>23151.188084</td>\n",
       "    </tr>\n",
       "    <tr>\n",
       "      <th>min</th>\n",
       "      <td>1.000000</td>\n",
       "      <td>22.000000</td>\n",
       "      <td>3900.000000</td>\n",
       "    </tr>\n",
       "    <tr>\n",
       "      <th>25%</th>\n",
       "      <td>6.250000</td>\n",
       "      <td>27.000000</td>\n",
       "      <td>8888.000000</td>\n",
       "    </tr>\n",
       "    <tr>\n",
       "      <th>50%</th>\n",
       "      <td>12.500000</td>\n",
       "      <td>31.000000</td>\n",
       "      <td>33451.000000</td>\n",
       "    </tr>\n",
       "    <tr>\n",
       "      <th>75%</th>\n",
       "      <td>17.750000</td>\n",
       "      <td>36.000000</td>\n",
       "      <td>54666.000000</td>\n",
       "    </tr>\n",
       "    <tr>\n",
       "      <th>max</th>\n",
       "      <td>23.000000</td>\n",
       "      <td>50.000000</td>\n",
       "      <td>67666.000000</td>\n",
       "    </tr>\n",
       "  </tbody>\n",
       "</table>\n",
       "</div>"
      ],
      "text/plain": [
       "             SNo        Age        Salary\n",
       "count  22.000000  19.000000     19.000000\n",
       "mean   12.090909  32.421053  33739.947368\n",
       "std     6.927578   7.174924  23151.188084\n",
       "min     1.000000  22.000000   3900.000000\n",
       "25%     6.250000  27.000000   8888.000000\n",
       "50%    12.500000  31.000000  33451.000000\n",
       "75%    17.750000  36.000000  54666.000000\n",
       "max    23.000000  50.000000  67666.000000"
      ]
     },
     "execution_count": 18,
     "metadata": {},
     "output_type": "execute_result"
    }
   ],
   "source": [
    "dr1.describe()"
   ]
  },
  {
   "cell_type": "markdown",
   "metadata": {},
   "source": [
    "##### Droping of Rows and ColumnS"
   ]
  },
  {
   "cell_type": "code",
   "execution_count": 19,
   "metadata": {},
   "outputs": [
    {
     "data": {
      "text/html": [
       "<div>\n",
       "<style scoped>\n",
       "    .dataframe tbody tr th:only-of-type {\n",
       "        vertical-align: middle;\n",
       "    }\n",
       "\n",
       "    .dataframe tbody tr th {\n",
       "        vertical-align: top;\n",
       "    }\n",
       "\n",
       "    .dataframe thead th {\n",
       "        text-align: right;\n",
       "    }\n",
       "</style>\n",
       "<table border=\"1\" class=\"dataframe\">\n",
       "  <thead>\n",
       "    <tr style=\"text-align: right;\">\n",
       "      <th></th>\n",
       "      <th>SNo</th>\n",
       "      <th>Name</th>\n",
       "      <th>Age</th>\n",
       "      <th>City</th>\n",
       "      <th>Country</th>\n",
       "      <th>Salary</th>\n",
       "    </tr>\n",
       "  </thead>\n",
       "  <tbody>\n",
       "    <tr>\n",
       "      <th>0</th>\n",
       "      <td>1</td>\n",
       "      <td>Tom</td>\n",
       "      <td>28.0</td>\n",
       "      <td>Toronto</td>\n",
       "      <td>Canada</td>\n",
       "      <td>20000.0</td>\n",
       "    </tr>\n",
       "    <tr>\n",
       "      <th>1</th>\n",
       "      <td>2</td>\n",
       "      <td>Lee</td>\n",
       "      <td>31.0</td>\n",
       "      <td>Edmonto</td>\n",
       "      <td>Canada</td>\n",
       "      <td>3900.0</td>\n",
       "    </tr>\n",
       "    <tr>\n",
       "      <th>2</th>\n",
       "      <td>3</td>\n",
       "      <td>Dave</td>\n",
       "      <td>34.0</td>\n",
       "      <td>Toronto</td>\n",
       "      <td>Canada</td>\n",
       "      <td>8000.0</td>\n",
       "    </tr>\n",
       "    <tr>\n",
       "      <th>3</th>\n",
       "      <td>4</td>\n",
       "      <td>Anik</td>\n",
       "      <td>26.0</td>\n",
       "      <td>HongKong</td>\n",
       "      <td>Asia</td>\n",
       "      <td>66672.0</td>\n",
       "    </tr>\n",
       "    <tr>\n",
       "      <th>4</th>\n",
       "      <td>5</td>\n",
       "      <td>kamal</td>\n",
       "      <td>30.0</td>\n",
       "      <td>NaN</td>\n",
       "      <td>America</td>\n",
       "      <td>NaN</td>\n",
       "    </tr>\n",
       "    <tr>\n",
       "      <th>5</th>\n",
       "      <td>6</td>\n",
       "      <td>Geet</td>\n",
       "      <td>NaN</td>\n",
       "      <td>HongKong</td>\n",
       "      <td>Asia</td>\n",
       "      <td>30007.0</td>\n",
       "    </tr>\n",
       "    <tr>\n",
       "      <th>6</th>\n",
       "      <td>7</td>\n",
       "      <td>Steven</td>\n",
       "      <td>43.0</td>\n",
       "      <td>BayArea</td>\n",
       "      <td>America</td>\n",
       "      <td>8300.0</td>\n",
       "    </tr>\n",
       "    <tr>\n",
       "      <th>7</th>\n",
       "      <td>8</td>\n",
       "      <td>Ram</td>\n",
       "      <td>38.0</td>\n",
       "      <td>Hyderabad</td>\n",
       "      <td>Asia</td>\n",
       "      <td>54666.0</td>\n",
       "    </tr>\n",
       "    <tr>\n",
       "      <th>8</th>\n",
       "      <td>9</td>\n",
       "      <td>hari</td>\n",
       "      <td>50.0</td>\n",
       "      <td>newyork</td>\n",
       "      <td>America</td>\n",
       "      <td>67666.0</td>\n",
       "    </tr>\n",
       "    <tr>\n",
       "      <th>9</th>\n",
       "      <td>11</td>\n",
       "      <td>yami</td>\n",
       "      <td>NaN</td>\n",
       "      <td>newyork</td>\n",
       "      <td>America</td>\n",
       "      <td>8888.0</td>\n",
       "    </tr>\n",
       "    <tr>\n",
       "      <th>10</th>\n",
       "      <td>12</td>\n",
       "      <td>Anik</td>\n",
       "      <td>26.0</td>\n",
       "      <td>HongKong</td>\n",
       "      <td>Asia</td>\n",
       "      <td>66672.0</td>\n",
       "    </tr>\n",
       "    <tr>\n",
       "      <th>11</th>\n",
       "      <td>13</td>\n",
       "      <td>kamal</td>\n",
       "      <td>30.0</td>\n",
       "      <td>NaN</td>\n",
       "      <td>America</td>\n",
       "      <td>34344.0</td>\n",
       "    </tr>\n",
       "    <tr>\n",
       "      <th>12</th>\n",
       "      <td>14</td>\n",
       "      <td>Geet</td>\n",
       "      <td>22.0</td>\n",
       "      <td>HongKong</td>\n",
       "      <td>Asia</td>\n",
       "      <td>30007.0</td>\n",
       "    </tr>\n",
       "    <tr>\n",
       "      <th>13</th>\n",
       "      <td>15</td>\n",
       "      <td>Steven</td>\n",
       "      <td>43.0</td>\n",
       "      <td>NaN</td>\n",
       "      <td>America</td>\n",
       "      <td>8300.0</td>\n",
       "    </tr>\n",
       "    <tr>\n",
       "      <th>14</th>\n",
       "      <td>16</td>\n",
       "      <td>Ram</td>\n",
       "      <td>38.0</td>\n",
       "      <td>Hyderabad</td>\n",
       "      <td>Asia</td>\n",
       "      <td>54666.0</td>\n",
       "    </tr>\n",
       "    <tr>\n",
       "      <th>15</th>\n",
       "      <td>17</td>\n",
       "      <td>hari</td>\n",
       "      <td>NaN</td>\n",
       "      <td>newyork</td>\n",
       "      <td>America</td>\n",
       "      <td>67666.0</td>\n",
       "    </tr>\n",
       "    <tr>\n",
       "      <th>16</th>\n",
       "      <td>18</td>\n",
       "      <td>yami</td>\n",
       "      <td>27.0</td>\n",
       "      <td>newyork</td>\n",
       "      <td>America</td>\n",
       "      <td>8888.0</td>\n",
       "    </tr>\n",
       "    <tr>\n",
       "      <th>17</th>\n",
       "      <td>19</td>\n",
       "      <td>Lee</td>\n",
       "      <td>31.0</td>\n",
       "      <td>Edmonto</td>\n",
       "      <td>Canada</td>\n",
       "      <td>NaN</td>\n",
       "    </tr>\n",
       "    <tr>\n",
       "      <th>18</th>\n",
       "      <td>20</td>\n",
       "      <td>Andrew</td>\n",
       "      <td>34.0</td>\n",
       "      <td>Congo</td>\n",
       "      <td>Africa</td>\n",
       "      <td>34432.0</td>\n",
       "    </tr>\n",
       "    <tr>\n",
       "      <th>19</th>\n",
       "      <td>21</td>\n",
       "      <td>soham</td>\n",
       "      <td>32.0</td>\n",
       "      <td>Angola</td>\n",
       "      <td>Africa</td>\n",
       "      <td>34534.0</td>\n",
       "    </tr>\n",
       "    <tr>\n",
       "      <th>20</th>\n",
       "      <td>22</td>\n",
       "      <td>Grig</td>\n",
       "      <td>26.0</td>\n",
       "      <td>Finland</td>\n",
       "      <td>Europe</td>\n",
       "      <td>33451.0</td>\n",
       "    </tr>\n",
       "    <tr>\n",
       "      <th>21</th>\n",
       "      <td>23</td>\n",
       "      <td>Kiara</td>\n",
       "      <td>27.0</td>\n",
       "      <td>London</td>\n",
       "      <td>Europe</td>\n",
       "      <td>NaN</td>\n",
       "    </tr>\n",
       "  </tbody>\n",
       "</table>\n",
       "</div>"
      ],
      "text/plain": [
       "    SNo    Name   Age       City  Country   Salary\n",
       "0     1     Tom  28.0    Toronto   Canada  20000.0\n",
       "1     2     Lee  31.0    Edmonto   Canada   3900.0\n",
       "2     3    Dave  34.0    Toronto   Canada   8000.0\n",
       "3     4    Anik  26.0   HongKong     Asia  66672.0\n",
       "4     5   kamal  30.0        NaN  America      NaN\n",
       "5     6    Geet   NaN   HongKong     Asia  30007.0\n",
       "6     7  Steven  43.0    BayArea  America   8300.0\n",
       "7     8     Ram  38.0  Hyderabad     Asia  54666.0\n",
       "8     9    hari  50.0    newyork  America  67666.0\n",
       "9    11    yami   NaN    newyork  America   8888.0\n",
       "10   12    Anik  26.0   HongKong     Asia  66672.0\n",
       "11   13   kamal  30.0        NaN  America  34344.0\n",
       "12   14    Geet  22.0   HongKong     Asia  30007.0\n",
       "13   15  Steven  43.0        NaN  America   8300.0\n",
       "14   16     Ram  38.0  Hyderabad     Asia  54666.0\n",
       "15   17    hari   NaN    newyork  America  67666.0\n",
       "16   18    yami  27.0    newyork  America   8888.0\n",
       "17   19     Lee  31.0    Edmonto   Canada      NaN\n",
       "18   20  Andrew  34.0      Congo   Africa  34432.0\n",
       "19   21   soham  32.0     Angola   Africa  34534.0\n",
       "20   22    Grig  26.0    Finland   Europe  33451.0\n",
       "21   23   Kiara  27.0     London   Europe      NaN"
      ]
     },
     "execution_count": 19,
     "metadata": {},
     "output_type": "execute_result"
    }
   ],
   "source": [
    "dr1"
   ]
  },
  {
   "cell_type": "code",
   "execution_count": 20,
   "metadata": {},
   "outputs": [
    {
     "data": {
      "text/plain": [
       "Index(['SNo', 'Name', 'Age', 'City', 'Country', 'Salary'], dtype='object')"
      ]
     },
     "execution_count": 20,
     "metadata": {},
     "output_type": "execute_result"
    }
   ],
   "source": [
    "dr1.columns"
   ]
  },
  {
   "cell_type": "code",
   "execution_count": 21,
   "metadata": {},
   "outputs": [
    {
     "data": {
      "text/html": [
       "<div>\n",
       "<style scoped>\n",
       "    .dataframe tbody tr th:only-of-type {\n",
       "        vertical-align: middle;\n",
       "    }\n",
       "\n",
       "    .dataframe tbody tr th {\n",
       "        vertical-align: top;\n",
       "    }\n",
       "\n",
       "    .dataframe thead th {\n",
       "        text-align: right;\n",
       "    }\n",
       "</style>\n",
       "<table border=\"1\" class=\"dataframe\">\n",
       "  <thead>\n",
       "    <tr style=\"text-align: right;\">\n",
       "      <th></th>\n",
       "      <th>SNo</th>\n",
       "      <th>Name</th>\n",
       "      <th>Age</th>\n",
       "      <th>City</th>\n",
       "      <th>Country</th>\n",
       "      <th>Salary</th>\n",
       "    </tr>\n",
       "  </thead>\n",
       "  <tbody>\n",
       "    <tr>\n",
       "      <th>0</th>\n",
       "      <td>1</td>\n",
       "      <td>Tom</td>\n",
       "      <td>28.0</td>\n",
       "      <td>Toronto</td>\n",
       "      <td>Canada</td>\n",
       "      <td>20000.0</td>\n",
       "    </tr>\n",
       "    <tr>\n",
       "      <th>1</th>\n",
       "      <td>2</td>\n",
       "      <td>Lee</td>\n",
       "      <td>31.0</td>\n",
       "      <td>Edmonto</td>\n",
       "      <td>Canada</td>\n",
       "      <td>3900.0</td>\n",
       "    </tr>\n",
       "    <tr>\n",
       "      <th>2</th>\n",
       "      <td>3</td>\n",
       "      <td>Dave</td>\n",
       "      <td>34.0</td>\n",
       "      <td>Toronto</td>\n",
       "      <td>Canada</td>\n",
       "      <td>8000.0</td>\n",
       "    </tr>\n",
       "    <tr>\n",
       "      <th>3</th>\n",
       "      <td>4</td>\n",
       "      <td>Anik</td>\n",
       "      <td>26.0</td>\n",
       "      <td>HongKong</td>\n",
       "      <td>Asia</td>\n",
       "      <td>66672.0</td>\n",
       "    </tr>\n",
       "    <tr>\n",
       "      <th>4</th>\n",
       "      <td>5</td>\n",
       "      <td>kamal</td>\n",
       "      <td>30.0</td>\n",
       "      <td>NaN</td>\n",
       "      <td>America</td>\n",
       "      <td>NaN</td>\n",
       "    </tr>\n",
       "    <tr>\n",
       "      <th>5</th>\n",
       "      <td>6</td>\n",
       "      <td>Geet</td>\n",
       "      <td>NaN</td>\n",
       "      <td>HongKong</td>\n",
       "      <td>Asia</td>\n",
       "      <td>30007.0</td>\n",
       "    </tr>\n",
       "    <tr>\n",
       "      <th>6</th>\n",
       "      <td>7</td>\n",
       "      <td>Steven</td>\n",
       "      <td>43.0</td>\n",
       "      <td>BayArea</td>\n",
       "      <td>America</td>\n",
       "      <td>8300.0</td>\n",
       "    </tr>\n",
       "    <tr>\n",
       "      <th>7</th>\n",
       "      <td>8</td>\n",
       "      <td>Ram</td>\n",
       "      <td>38.0</td>\n",
       "      <td>Hyderabad</td>\n",
       "      <td>Asia</td>\n",
       "      <td>54666.0</td>\n",
       "    </tr>\n",
       "    <tr>\n",
       "      <th>8</th>\n",
       "      <td>9</td>\n",
       "      <td>hari</td>\n",
       "      <td>50.0</td>\n",
       "      <td>newyork</td>\n",
       "      <td>America</td>\n",
       "      <td>67666.0</td>\n",
       "    </tr>\n",
       "    <tr>\n",
       "      <th>9</th>\n",
       "      <td>11</td>\n",
       "      <td>yami</td>\n",
       "      <td>NaN</td>\n",
       "      <td>newyork</td>\n",
       "      <td>America</td>\n",
       "      <td>8888.0</td>\n",
       "    </tr>\n",
       "    <tr>\n",
       "      <th>10</th>\n",
       "      <td>12</td>\n",
       "      <td>Anik</td>\n",
       "      <td>26.0</td>\n",
       "      <td>HongKong</td>\n",
       "      <td>Asia</td>\n",
       "      <td>66672.0</td>\n",
       "    </tr>\n",
       "    <tr>\n",
       "      <th>11</th>\n",
       "      <td>13</td>\n",
       "      <td>kamal</td>\n",
       "      <td>30.0</td>\n",
       "      <td>NaN</td>\n",
       "      <td>America</td>\n",
       "      <td>34344.0</td>\n",
       "    </tr>\n",
       "    <tr>\n",
       "      <th>13</th>\n",
       "      <td>15</td>\n",
       "      <td>Steven</td>\n",
       "      <td>43.0</td>\n",
       "      <td>NaN</td>\n",
       "      <td>America</td>\n",
       "      <td>8300.0</td>\n",
       "    </tr>\n",
       "    <tr>\n",
       "      <th>15</th>\n",
       "      <td>17</td>\n",
       "      <td>hari</td>\n",
       "      <td>NaN</td>\n",
       "      <td>newyork</td>\n",
       "      <td>America</td>\n",
       "      <td>67666.0</td>\n",
       "    </tr>\n",
       "    <tr>\n",
       "      <th>17</th>\n",
       "      <td>19</td>\n",
       "      <td>Lee</td>\n",
       "      <td>31.0</td>\n",
       "      <td>Edmonto</td>\n",
       "      <td>Canada</td>\n",
       "      <td>NaN</td>\n",
       "    </tr>\n",
       "    <tr>\n",
       "      <th>18</th>\n",
       "      <td>20</td>\n",
       "      <td>Andrew</td>\n",
       "      <td>34.0</td>\n",
       "      <td>Congo</td>\n",
       "      <td>Africa</td>\n",
       "      <td>34432.0</td>\n",
       "    </tr>\n",
       "    <tr>\n",
       "      <th>19</th>\n",
       "      <td>21</td>\n",
       "      <td>soham</td>\n",
       "      <td>32.0</td>\n",
       "      <td>Angola</td>\n",
       "      <td>Africa</td>\n",
       "      <td>34534.0</td>\n",
       "    </tr>\n",
       "    <tr>\n",
       "      <th>21</th>\n",
       "      <td>23</td>\n",
       "      <td>Kiara</td>\n",
       "      <td>27.0</td>\n",
       "      <td>London</td>\n",
       "      <td>Europe</td>\n",
       "      <td>NaN</td>\n",
       "    </tr>\n",
       "  </tbody>\n",
       "</table>\n",
       "</div>"
      ],
      "text/plain": [
       "    SNo    Name   Age       City  Country   Salary\n",
       "0     1     Tom  28.0    Toronto   Canada  20000.0\n",
       "1     2     Lee  31.0    Edmonto   Canada   3900.0\n",
       "2     3    Dave  34.0    Toronto   Canada   8000.0\n",
       "3     4    Anik  26.0   HongKong     Asia  66672.0\n",
       "4     5   kamal  30.0        NaN  America      NaN\n",
       "5     6    Geet   NaN   HongKong     Asia  30007.0\n",
       "6     7  Steven  43.0    BayArea  America   8300.0\n",
       "7     8     Ram  38.0  Hyderabad     Asia  54666.0\n",
       "8     9    hari  50.0    newyork  America  67666.0\n",
       "9    11    yami   NaN    newyork  America   8888.0\n",
       "10   12    Anik  26.0   HongKong     Asia  66672.0\n",
       "11   13   kamal  30.0        NaN  America  34344.0\n",
       "13   15  Steven  43.0        NaN  America   8300.0\n",
       "15   17    hari   NaN    newyork  America  67666.0\n",
       "17   19     Lee  31.0    Edmonto   Canada      NaN\n",
       "18   20  Andrew  34.0      Congo   Africa  34432.0\n",
       "19   21   soham  32.0     Angola   Africa  34534.0\n",
       "21   23   Kiara  27.0     London   Europe      NaN"
      ]
     },
     "execution_count": 21,
     "metadata": {},
     "output_type": "execute_result"
    }
   ],
   "source": [
    "dr2=dr1.drop([14,16,12,20])\n",
    "dr2\n",
    "\n",
    "#whenever we are dropping any column we have to store the resultant into another dataframe here dr2"
   ]
  },
  {
   "cell_type": "code",
   "execution_count": 22,
   "metadata": {},
   "outputs": [
    {
     "data": {
      "text/html": [
       "<div>\n",
       "<style scoped>\n",
       "    .dataframe tbody tr th:only-of-type {\n",
       "        vertical-align: middle;\n",
       "    }\n",
       "\n",
       "    .dataframe tbody tr th {\n",
       "        vertical-align: top;\n",
       "    }\n",
       "\n",
       "    .dataframe thead th {\n",
       "        text-align: right;\n",
       "    }\n",
       "</style>\n",
       "<table border=\"1\" class=\"dataframe\">\n",
       "  <thead>\n",
       "    <tr style=\"text-align: right;\">\n",
       "      <th></th>\n",
       "      <th>SNo</th>\n",
       "      <th>Name</th>\n",
       "      <th>Age</th>\n",
       "      <th>City</th>\n",
       "      <th>Country</th>\n",
       "      <th>Salary</th>\n",
       "    </tr>\n",
       "  </thead>\n",
       "  <tbody>\n",
       "    <tr>\n",
       "      <th>0</th>\n",
       "      <td>1</td>\n",
       "      <td>Tom</td>\n",
       "      <td>28.0</td>\n",
       "      <td>Toronto</td>\n",
       "      <td>Canada</td>\n",
       "      <td>20000.0</td>\n",
       "    </tr>\n",
       "    <tr>\n",
       "      <th>4</th>\n",
       "      <td>5</td>\n",
       "      <td>kamal</td>\n",
       "      <td>30.0</td>\n",
       "      <td>NaN</td>\n",
       "      <td>America</td>\n",
       "      <td>NaN</td>\n",
       "    </tr>\n",
       "    <tr>\n",
       "      <th>5</th>\n",
       "      <td>6</td>\n",
       "      <td>Geet</td>\n",
       "      <td>NaN</td>\n",
       "      <td>HongKong</td>\n",
       "      <td>Asia</td>\n",
       "      <td>30007.0</td>\n",
       "    </tr>\n",
       "    <tr>\n",
       "      <th>6</th>\n",
       "      <td>7</td>\n",
       "      <td>Steven</td>\n",
       "      <td>43.0</td>\n",
       "      <td>BayArea</td>\n",
       "      <td>America</td>\n",
       "      <td>8300.0</td>\n",
       "    </tr>\n",
       "    <tr>\n",
       "      <th>7</th>\n",
       "      <td>8</td>\n",
       "      <td>Ram</td>\n",
       "      <td>38.0</td>\n",
       "      <td>Hyderabad</td>\n",
       "      <td>Asia</td>\n",
       "      <td>54666.0</td>\n",
       "    </tr>\n",
       "    <tr>\n",
       "      <th>8</th>\n",
       "      <td>9</td>\n",
       "      <td>hari</td>\n",
       "      <td>50.0</td>\n",
       "      <td>newyork</td>\n",
       "      <td>America</td>\n",
       "      <td>67666.0</td>\n",
       "    </tr>\n",
       "    <tr>\n",
       "      <th>9</th>\n",
       "      <td>11</td>\n",
       "      <td>yami</td>\n",
       "      <td>NaN</td>\n",
       "      <td>newyork</td>\n",
       "      <td>America</td>\n",
       "      <td>8888.0</td>\n",
       "    </tr>\n",
       "    <tr>\n",
       "      <th>10</th>\n",
       "      <td>12</td>\n",
       "      <td>Anik</td>\n",
       "      <td>26.0</td>\n",
       "      <td>HongKong</td>\n",
       "      <td>Asia</td>\n",
       "      <td>66672.0</td>\n",
       "    </tr>\n",
       "    <tr>\n",
       "      <th>11</th>\n",
       "      <td>13</td>\n",
       "      <td>kamal</td>\n",
       "      <td>30.0</td>\n",
       "      <td>NaN</td>\n",
       "      <td>America</td>\n",
       "      <td>34344.0</td>\n",
       "    </tr>\n",
       "    <tr>\n",
       "      <th>12</th>\n",
       "      <td>14</td>\n",
       "      <td>Geet</td>\n",
       "      <td>22.0</td>\n",
       "      <td>HongKong</td>\n",
       "      <td>Asia</td>\n",
       "      <td>30007.0</td>\n",
       "    </tr>\n",
       "    <tr>\n",
       "      <th>13</th>\n",
       "      <td>15</td>\n",
       "      <td>Steven</td>\n",
       "      <td>43.0</td>\n",
       "      <td>NaN</td>\n",
       "      <td>America</td>\n",
       "      <td>8300.0</td>\n",
       "    </tr>\n",
       "    <tr>\n",
       "      <th>14</th>\n",
       "      <td>16</td>\n",
       "      <td>Ram</td>\n",
       "      <td>38.0</td>\n",
       "      <td>Hyderabad</td>\n",
       "      <td>Asia</td>\n",
       "      <td>54666.0</td>\n",
       "    </tr>\n",
       "    <tr>\n",
       "      <th>15</th>\n",
       "      <td>17</td>\n",
       "      <td>hari</td>\n",
       "      <td>NaN</td>\n",
       "      <td>newyork</td>\n",
       "      <td>America</td>\n",
       "      <td>67666.0</td>\n",
       "    </tr>\n",
       "    <tr>\n",
       "      <th>16</th>\n",
       "      <td>18</td>\n",
       "      <td>yami</td>\n",
       "      <td>27.0</td>\n",
       "      <td>newyork</td>\n",
       "      <td>America</td>\n",
       "      <td>8888.0</td>\n",
       "    </tr>\n",
       "    <tr>\n",
       "      <th>17</th>\n",
       "      <td>19</td>\n",
       "      <td>Lee</td>\n",
       "      <td>31.0</td>\n",
       "      <td>Edmonto</td>\n",
       "      <td>Canada</td>\n",
       "      <td>NaN</td>\n",
       "    </tr>\n",
       "    <tr>\n",
       "      <th>18</th>\n",
       "      <td>20</td>\n",
       "      <td>Andrew</td>\n",
       "      <td>34.0</td>\n",
       "      <td>Congo</td>\n",
       "      <td>Africa</td>\n",
       "      <td>34432.0</td>\n",
       "    </tr>\n",
       "    <tr>\n",
       "      <th>19</th>\n",
       "      <td>21</td>\n",
       "      <td>soham</td>\n",
       "      <td>32.0</td>\n",
       "      <td>Angola</td>\n",
       "      <td>Africa</td>\n",
       "      <td>34534.0</td>\n",
       "    </tr>\n",
       "    <tr>\n",
       "      <th>20</th>\n",
       "      <td>22</td>\n",
       "      <td>Grig</td>\n",
       "      <td>26.0</td>\n",
       "      <td>Finland</td>\n",
       "      <td>Europe</td>\n",
       "      <td>33451.0</td>\n",
       "    </tr>\n",
       "    <tr>\n",
       "      <th>21</th>\n",
       "      <td>23</td>\n",
       "      <td>Kiara</td>\n",
       "      <td>27.0</td>\n",
       "      <td>London</td>\n",
       "      <td>Europe</td>\n",
       "      <td>NaN</td>\n",
       "    </tr>\n",
       "  </tbody>\n",
       "</table>\n",
       "</div>"
      ],
      "text/plain": [
       "    SNo    Name   Age       City  Country   Salary\n",
       "0     1     Tom  28.0    Toronto   Canada  20000.0\n",
       "4     5   kamal  30.0        NaN  America      NaN\n",
       "5     6    Geet   NaN   HongKong     Asia  30007.0\n",
       "6     7  Steven  43.0    BayArea  America   8300.0\n",
       "7     8     Ram  38.0  Hyderabad     Asia  54666.0\n",
       "8     9    hari  50.0    newyork  America  67666.0\n",
       "9    11    yami   NaN    newyork  America   8888.0\n",
       "10   12    Anik  26.0   HongKong     Asia  66672.0\n",
       "11   13   kamal  30.0        NaN  America  34344.0\n",
       "12   14    Geet  22.0   HongKong     Asia  30007.0\n",
       "13   15  Steven  43.0        NaN  America   8300.0\n",
       "14   16     Ram  38.0  Hyderabad     Asia  54666.0\n",
       "15   17    hari   NaN    newyork  America  67666.0\n",
       "16   18    yami  27.0    newyork  America   8888.0\n",
       "17   19     Lee  31.0    Edmonto   Canada      NaN\n",
       "18   20  Andrew  34.0      Congo   Africa  34432.0\n",
       "19   21   soham  32.0     Angola   Africa  34534.0\n",
       "20   22    Grig  26.0    Finland   Europe  33451.0\n",
       "21   23   Kiara  27.0     London   Europe      NaN"
      ]
     },
     "execution_count": 22,
     "metadata": {},
     "output_type": "execute_result"
    }
   ],
   "source": [
    "#but if we want to make changes in original dataframe we have to do so by inplace parameter otherwise we  cannot me changes\n",
    "#in same dataframe and we will have to store it in another dataframe\n",
    "#agr hum kabhi nhi chahte hai ki hamara original dr na change ho to uppar waala use kerenge otherwise ye wala\n",
    "\n",
    "dr1.drop([1,2,3],inplace=True)\n",
    "dr1\n",
    "\n",
    "#here 1,2,3 rows are not present in the original frame"
   ]
  },
  {
   "cell_type": "code",
   "execution_count": 23,
   "metadata": {},
   "outputs": [
    {
     "data": {
      "text/html": [
       "<div>\n",
       "<style scoped>\n",
       "    .dataframe tbody tr th:only-of-type {\n",
       "        vertical-align: middle;\n",
       "    }\n",
       "\n",
       "    .dataframe tbody tr th {\n",
       "        vertical-align: top;\n",
       "    }\n",
       "\n",
       "    .dataframe thead th {\n",
       "        text-align: right;\n",
       "    }\n",
       "</style>\n",
       "<table border=\"1\" class=\"dataframe\">\n",
       "  <thead>\n",
       "    <tr style=\"text-align: right;\">\n",
       "      <th></th>\n",
       "      <th>SNo</th>\n",
       "      <th>Age</th>\n",
       "      <th>City</th>\n",
       "      <th>Country</th>\n",
       "      <th>Salary</th>\n",
       "    </tr>\n",
       "  </thead>\n",
       "  <tbody>\n",
       "    <tr>\n",
       "      <th>0</th>\n",
       "      <td>1</td>\n",
       "      <td>28.0</td>\n",
       "      <td>Toronto</td>\n",
       "      <td>Canada</td>\n",
       "      <td>20000.0</td>\n",
       "    </tr>\n",
       "    <tr>\n",
       "      <th>4</th>\n",
       "      <td>5</td>\n",
       "      <td>30.0</td>\n",
       "      <td>NaN</td>\n",
       "      <td>America</td>\n",
       "      <td>NaN</td>\n",
       "    </tr>\n",
       "    <tr>\n",
       "      <th>5</th>\n",
       "      <td>6</td>\n",
       "      <td>NaN</td>\n",
       "      <td>HongKong</td>\n",
       "      <td>Asia</td>\n",
       "      <td>30007.0</td>\n",
       "    </tr>\n",
       "    <tr>\n",
       "      <th>6</th>\n",
       "      <td>7</td>\n",
       "      <td>43.0</td>\n",
       "      <td>BayArea</td>\n",
       "      <td>America</td>\n",
       "      <td>8300.0</td>\n",
       "    </tr>\n",
       "    <tr>\n",
       "      <th>7</th>\n",
       "      <td>8</td>\n",
       "      <td>38.0</td>\n",
       "      <td>Hyderabad</td>\n",
       "      <td>Asia</td>\n",
       "      <td>54666.0</td>\n",
       "    </tr>\n",
       "    <tr>\n",
       "      <th>8</th>\n",
       "      <td>9</td>\n",
       "      <td>50.0</td>\n",
       "      <td>newyork</td>\n",
       "      <td>America</td>\n",
       "      <td>67666.0</td>\n",
       "    </tr>\n",
       "    <tr>\n",
       "      <th>9</th>\n",
       "      <td>11</td>\n",
       "      <td>NaN</td>\n",
       "      <td>newyork</td>\n",
       "      <td>America</td>\n",
       "      <td>8888.0</td>\n",
       "    </tr>\n",
       "    <tr>\n",
       "      <th>10</th>\n",
       "      <td>12</td>\n",
       "      <td>26.0</td>\n",
       "      <td>HongKong</td>\n",
       "      <td>Asia</td>\n",
       "      <td>66672.0</td>\n",
       "    </tr>\n",
       "    <tr>\n",
       "      <th>11</th>\n",
       "      <td>13</td>\n",
       "      <td>30.0</td>\n",
       "      <td>NaN</td>\n",
       "      <td>America</td>\n",
       "      <td>34344.0</td>\n",
       "    </tr>\n",
       "    <tr>\n",
       "      <th>12</th>\n",
       "      <td>14</td>\n",
       "      <td>22.0</td>\n",
       "      <td>HongKong</td>\n",
       "      <td>Asia</td>\n",
       "      <td>30007.0</td>\n",
       "    </tr>\n",
       "    <tr>\n",
       "      <th>13</th>\n",
       "      <td>15</td>\n",
       "      <td>43.0</td>\n",
       "      <td>NaN</td>\n",
       "      <td>America</td>\n",
       "      <td>8300.0</td>\n",
       "    </tr>\n",
       "    <tr>\n",
       "      <th>14</th>\n",
       "      <td>16</td>\n",
       "      <td>38.0</td>\n",
       "      <td>Hyderabad</td>\n",
       "      <td>Asia</td>\n",
       "      <td>54666.0</td>\n",
       "    </tr>\n",
       "    <tr>\n",
       "      <th>15</th>\n",
       "      <td>17</td>\n",
       "      <td>NaN</td>\n",
       "      <td>newyork</td>\n",
       "      <td>America</td>\n",
       "      <td>67666.0</td>\n",
       "    </tr>\n",
       "    <tr>\n",
       "      <th>16</th>\n",
       "      <td>18</td>\n",
       "      <td>27.0</td>\n",
       "      <td>newyork</td>\n",
       "      <td>America</td>\n",
       "      <td>8888.0</td>\n",
       "    </tr>\n",
       "    <tr>\n",
       "      <th>17</th>\n",
       "      <td>19</td>\n",
       "      <td>31.0</td>\n",
       "      <td>Edmonto</td>\n",
       "      <td>Canada</td>\n",
       "      <td>NaN</td>\n",
       "    </tr>\n",
       "    <tr>\n",
       "      <th>18</th>\n",
       "      <td>20</td>\n",
       "      <td>34.0</td>\n",
       "      <td>Congo</td>\n",
       "      <td>Africa</td>\n",
       "      <td>34432.0</td>\n",
       "    </tr>\n",
       "    <tr>\n",
       "      <th>19</th>\n",
       "      <td>21</td>\n",
       "      <td>32.0</td>\n",
       "      <td>Angola</td>\n",
       "      <td>Africa</td>\n",
       "      <td>34534.0</td>\n",
       "    </tr>\n",
       "    <tr>\n",
       "      <th>20</th>\n",
       "      <td>22</td>\n",
       "      <td>26.0</td>\n",
       "      <td>Finland</td>\n",
       "      <td>Europe</td>\n",
       "      <td>33451.0</td>\n",
       "    </tr>\n",
       "    <tr>\n",
       "      <th>21</th>\n",
       "      <td>23</td>\n",
       "      <td>27.0</td>\n",
       "      <td>London</td>\n",
       "      <td>Europe</td>\n",
       "      <td>NaN</td>\n",
       "    </tr>\n",
       "  </tbody>\n",
       "</table>\n",
       "</div>"
      ],
      "text/plain": [
       "    SNo   Age       City  Country   Salary\n",
       "0     1  28.0    Toronto   Canada  20000.0\n",
       "4     5  30.0        NaN  America      NaN\n",
       "5     6   NaN   HongKong     Asia  30007.0\n",
       "6     7  43.0    BayArea  America   8300.0\n",
       "7     8  38.0  Hyderabad     Asia  54666.0\n",
       "8     9  50.0    newyork  America  67666.0\n",
       "9    11   NaN    newyork  America   8888.0\n",
       "10   12  26.0   HongKong     Asia  66672.0\n",
       "11   13  30.0        NaN  America  34344.0\n",
       "12   14  22.0   HongKong     Asia  30007.0\n",
       "13   15  43.0        NaN  America   8300.0\n",
       "14   16  38.0  Hyderabad     Asia  54666.0\n",
       "15   17   NaN    newyork  America  67666.0\n",
       "16   18  27.0    newyork  America   8888.0\n",
       "17   19  31.0    Edmonto   Canada      NaN\n",
       "18   20  34.0      Congo   Africa  34432.0\n",
       "19   21  32.0     Angola   Africa  34534.0\n",
       "20   22  26.0    Finland   Europe  33451.0\n",
       "21   23  27.0     London   Europe      NaN"
      ]
     },
     "execution_count": 23,
     "metadata": {},
     "output_type": "execute_result"
    }
   ],
   "source": [
    "dr3=dr1.drop('Name',axis=1)\n",
    "dr3"
   ]
  },
  {
   "cell_type": "raw",
   "metadata": {},
   "source": [
    "Here we had made a alternate dataset in name of dr3 for dropping name\n",
    "\n",
    "Aur agar column ko hatana hai datset se to axis=1"
   ]
  },
  {
   "cell_type": "code",
   "execution_count": 24,
   "metadata": {},
   "outputs": [
    {
     "data": {
      "text/html": [
       "<div>\n",
       "<style scoped>\n",
       "    .dataframe tbody tr th:only-of-type {\n",
       "        vertical-align: middle;\n",
       "    }\n",
       "\n",
       "    .dataframe tbody tr th {\n",
       "        vertical-align: top;\n",
       "    }\n",
       "\n",
       "    .dataframe thead th {\n",
       "        text-align: right;\n",
       "    }\n",
       "</style>\n",
       "<table border=\"1\" class=\"dataframe\">\n",
       "  <thead>\n",
       "    <tr style=\"text-align: right;\">\n",
       "      <th></th>\n",
       "      <th>SNo</th>\n",
       "      <th>Name</th>\n",
       "      <th>Age</th>\n",
       "      <th>City</th>\n",
       "      <th>Country</th>\n",
       "      <th>Salary</th>\n",
       "    </tr>\n",
       "  </thead>\n",
       "  <tbody>\n",
       "    <tr>\n",
       "      <th>0</th>\n",
       "      <td>1</td>\n",
       "      <td>Tom</td>\n",
       "      <td>28.0</td>\n",
       "      <td>Toronto</td>\n",
       "      <td>Canada</td>\n",
       "      <td>20000.0</td>\n",
       "    </tr>\n",
       "    <tr>\n",
       "      <th>4</th>\n",
       "      <td>5</td>\n",
       "      <td>kamal</td>\n",
       "      <td>30.0</td>\n",
       "      <td>NaN</td>\n",
       "      <td>America</td>\n",
       "      <td>NaN</td>\n",
       "    </tr>\n",
       "    <tr>\n",
       "      <th>5</th>\n",
       "      <td>6</td>\n",
       "      <td>Geet</td>\n",
       "      <td>NaN</td>\n",
       "      <td>HongKong</td>\n",
       "      <td>Asia</td>\n",
       "      <td>30007.0</td>\n",
       "    </tr>\n",
       "    <tr>\n",
       "      <th>6</th>\n",
       "      <td>7</td>\n",
       "      <td>Steven</td>\n",
       "      <td>43.0</td>\n",
       "      <td>BayArea</td>\n",
       "      <td>America</td>\n",
       "      <td>8300.0</td>\n",
       "    </tr>\n",
       "    <tr>\n",
       "      <th>7</th>\n",
       "      <td>8</td>\n",
       "      <td>Ram</td>\n",
       "      <td>38.0</td>\n",
       "      <td>Hyderabad</td>\n",
       "      <td>Asia</td>\n",
       "      <td>54666.0</td>\n",
       "    </tr>\n",
       "    <tr>\n",
       "      <th>8</th>\n",
       "      <td>9</td>\n",
       "      <td>hari</td>\n",
       "      <td>50.0</td>\n",
       "      <td>newyork</td>\n",
       "      <td>America</td>\n",
       "      <td>67666.0</td>\n",
       "    </tr>\n",
       "    <tr>\n",
       "      <th>9</th>\n",
       "      <td>11</td>\n",
       "      <td>yami</td>\n",
       "      <td>NaN</td>\n",
       "      <td>newyork</td>\n",
       "      <td>America</td>\n",
       "      <td>8888.0</td>\n",
       "    </tr>\n",
       "    <tr>\n",
       "      <th>10</th>\n",
       "      <td>12</td>\n",
       "      <td>Anik</td>\n",
       "      <td>26.0</td>\n",
       "      <td>HongKong</td>\n",
       "      <td>Asia</td>\n",
       "      <td>66672.0</td>\n",
       "    </tr>\n",
       "    <tr>\n",
       "      <th>11</th>\n",
       "      <td>13</td>\n",
       "      <td>kamal</td>\n",
       "      <td>30.0</td>\n",
       "      <td>NaN</td>\n",
       "      <td>America</td>\n",
       "      <td>34344.0</td>\n",
       "    </tr>\n",
       "    <tr>\n",
       "      <th>12</th>\n",
       "      <td>14</td>\n",
       "      <td>Geet</td>\n",
       "      <td>22.0</td>\n",
       "      <td>HongKong</td>\n",
       "      <td>Asia</td>\n",
       "      <td>30007.0</td>\n",
       "    </tr>\n",
       "    <tr>\n",
       "      <th>13</th>\n",
       "      <td>15</td>\n",
       "      <td>Steven</td>\n",
       "      <td>43.0</td>\n",
       "      <td>NaN</td>\n",
       "      <td>America</td>\n",
       "      <td>8300.0</td>\n",
       "    </tr>\n",
       "    <tr>\n",
       "      <th>14</th>\n",
       "      <td>16</td>\n",
       "      <td>Ram</td>\n",
       "      <td>38.0</td>\n",
       "      <td>Hyderabad</td>\n",
       "      <td>Asia</td>\n",
       "      <td>54666.0</td>\n",
       "    </tr>\n",
       "    <tr>\n",
       "      <th>15</th>\n",
       "      <td>17</td>\n",
       "      <td>hari</td>\n",
       "      <td>NaN</td>\n",
       "      <td>newyork</td>\n",
       "      <td>America</td>\n",
       "      <td>67666.0</td>\n",
       "    </tr>\n",
       "    <tr>\n",
       "      <th>16</th>\n",
       "      <td>18</td>\n",
       "      <td>yami</td>\n",
       "      <td>27.0</td>\n",
       "      <td>newyork</td>\n",
       "      <td>America</td>\n",
       "      <td>8888.0</td>\n",
       "    </tr>\n",
       "    <tr>\n",
       "      <th>17</th>\n",
       "      <td>19</td>\n",
       "      <td>Lee</td>\n",
       "      <td>31.0</td>\n",
       "      <td>Edmonto</td>\n",
       "      <td>Canada</td>\n",
       "      <td>NaN</td>\n",
       "    </tr>\n",
       "    <tr>\n",
       "      <th>18</th>\n",
       "      <td>20</td>\n",
       "      <td>Andrew</td>\n",
       "      <td>34.0</td>\n",
       "      <td>Congo</td>\n",
       "      <td>Africa</td>\n",
       "      <td>34432.0</td>\n",
       "    </tr>\n",
       "    <tr>\n",
       "      <th>19</th>\n",
       "      <td>21</td>\n",
       "      <td>soham</td>\n",
       "      <td>32.0</td>\n",
       "      <td>Angola</td>\n",
       "      <td>Africa</td>\n",
       "      <td>34534.0</td>\n",
       "    </tr>\n",
       "    <tr>\n",
       "      <th>20</th>\n",
       "      <td>22</td>\n",
       "      <td>Grig</td>\n",
       "      <td>26.0</td>\n",
       "      <td>Finland</td>\n",
       "      <td>Europe</td>\n",
       "      <td>33451.0</td>\n",
       "    </tr>\n",
       "    <tr>\n",
       "      <th>21</th>\n",
       "      <td>23</td>\n",
       "      <td>Kiara</td>\n",
       "      <td>27.0</td>\n",
       "      <td>London</td>\n",
       "      <td>Europe</td>\n",
       "      <td>NaN</td>\n",
       "    </tr>\n",
       "  </tbody>\n",
       "</table>\n",
       "</div>"
      ],
      "text/plain": [
       "    SNo    Name   Age       City  Country   Salary\n",
       "0     1     Tom  28.0    Toronto   Canada  20000.0\n",
       "4     5   kamal  30.0        NaN  America      NaN\n",
       "5     6    Geet   NaN   HongKong     Asia  30007.0\n",
       "6     7  Steven  43.0    BayArea  America   8300.0\n",
       "7     8     Ram  38.0  Hyderabad     Asia  54666.0\n",
       "8     9    hari  50.0    newyork  America  67666.0\n",
       "9    11    yami   NaN    newyork  America   8888.0\n",
       "10   12    Anik  26.0   HongKong     Asia  66672.0\n",
       "11   13   kamal  30.0        NaN  America  34344.0\n",
       "12   14    Geet  22.0   HongKong     Asia  30007.0\n",
       "13   15  Steven  43.0        NaN  America   8300.0\n",
       "14   16     Ram  38.0  Hyderabad     Asia  54666.0\n",
       "15   17    hari   NaN    newyork  America  67666.0\n",
       "16   18    yami  27.0    newyork  America   8888.0\n",
       "17   19     Lee  31.0    Edmonto   Canada      NaN\n",
       "18   20  Andrew  34.0      Congo   Africa  34432.0\n",
       "19   21   soham  32.0     Angola   Africa  34534.0\n",
       "20   22    Grig  26.0    Finland   Europe  33451.0\n",
       "21   23   Kiara  27.0     London   Europe      NaN"
      ]
     },
     "execution_count": 24,
     "metadata": {},
     "output_type": "execute_result"
    }
   ],
   "source": [
    "dr1"
   ]
  },
  {
   "cell_type": "code",
   "execution_count": 25,
   "metadata": {},
   "outputs": [
    {
     "data": {
      "text/html": [
       "<div>\n",
       "<style scoped>\n",
       "    .dataframe tbody tr th:only-of-type {\n",
       "        vertical-align: middle;\n",
       "    }\n",
       "\n",
       "    .dataframe tbody tr th {\n",
       "        vertical-align: top;\n",
       "    }\n",
       "\n",
       "    .dataframe thead th {\n",
       "        text-align: right;\n",
       "    }\n",
       "</style>\n",
       "<table border=\"1\" class=\"dataframe\">\n",
       "  <thead>\n",
       "    <tr style=\"text-align: right;\">\n",
       "      <th></th>\n",
       "      <th>SNo</th>\n",
       "      <th>City</th>\n",
       "      <th>Country</th>\n",
       "      <th>Salary</th>\n",
       "    </tr>\n",
       "  </thead>\n",
       "  <tbody>\n",
       "    <tr>\n",
       "      <th>0</th>\n",
       "      <td>1</td>\n",
       "      <td>Toronto</td>\n",
       "      <td>Canada</td>\n",
       "      <td>20000.0</td>\n",
       "    </tr>\n",
       "    <tr>\n",
       "      <th>4</th>\n",
       "      <td>5</td>\n",
       "      <td>NaN</td>\n",
       "      <td>America</td>\n",
       "      <td>NaN</td>\n",
       "    </tr>\n",
       "    <tr>\n",
       "      <th>5</th>\n",
       "      <td>6</td>\n",
       "      <td>HongKong</td>\n",
       "      <td>Asia</td>\n",
       "      <td>30007.0</td>\n",
       "    </tr>\n",
       "    <tr>\n",
       "      <th>6</th>\n",
       "      <td>7</td>\n",
       "      <td>BayArea</td>\n",
       "      <td>America</td>\n",
       "      <td>8300.0</td>\n",
       "    </tr>\n",
       "    <tr>\n",
       "      <th>7</th>\n",
       "      <td>8</td>\n",
       "      <td>Hyderabad</td>\n",
       "      <td>Asia</td>\n",
       "      <td>54666.0</td>\n",
       "    </tr>\n",
       "    <tr>\n",
       "      <th>8</th>\n",
       "      <td>9</td>\n",
       "      <td>newyork</td>\n",
       "      <td>America</td>\n",
       "      <td>67666.0</td>\n",
       "    </tr>\n",
       "    <tr>\n",
       "      <th>9</th>\n",
       "      <td>11</td>\n",
       "      <td>newyork</td>\n",
       "      <td>America</td>\n",
       "      <td>8888.0</td>\n",
       "    </tr>\n",
       "    <tr>\n",
       "      <th>10</th>\n",
       "      <td>12</td>\n",
       "      <td>HongKong</td>\n",
       "      <td>Asia</td>\n",
       "      <td>66672.0</td>\n",
       "    </tr>\n",
       "    <tr>\n",
       "      <th>11</th>\n",
       "      <td>13</td>\n",
       "      <td>NaN</td>\n",
       "      <td>America</td>\n",
       "      <td>34344.0</td>\n",
       "    </tr>\n",
       "    <tr>\n",
       "      <th>12</th>\n",
       "      <td>14</td>\n",
       "      <td>HongKong</td>\n",
       "      <td>Asia</td>\n",
       "      <td>30007.0</td>\n",
       "    </tr>\n",
       "    <tr>\n",
       "      <th>13</th>\n",
       "      <td>15</td>\n",
       "      <td>NaN</td>\n",
       "      <td>America</td>\n",
       "      <td>8300.0</td>\n",
       "    </tr>\n",
       "    <tr>\n",
       "      <th>14</th>\n",
       "      <td>16</td>\n",
       "      <td>Hyderabad</td>\n",
       "      <td>Asia</td>\n",
       "      <td>54666.0</td>\n",
       "    </tr>\n",
       "    <tr>\n",
       "      <th>15</th>\n",
       "      <td>17</td>\n",
       "      <td>newyork</td>\n",
       "      <td>America</td>\n",
       "      <td>67666.0</td>\n",
       "    </tr>\n",
       "    <tr>\n",
       "      <th>16</th>\n",
       "      <td>18</td>\n",
       "      <td>newyork</td>\n",
       "      <td>America</td>\n",
       "      <td>8888.0</td>\n",
       "    </tr>\n",
       "    <tr>\n",
       "      <th>17</th>\n",
       "      <td>19</td>\n",
       "      <td>Edmonto</td>\n",
       "      <td>Canada</td>\n",
       "      <td>NaN</td>\n",
       "    </tr>\n",
       "    <tr>\n",
       "      <th>18</th>\n",
       "      <td>20</td>\n",
       "      <td>Congo</td>\n",
       "      <td>Africa</td>\n",
       "      <td>34432.0</td>\n",
       "    </tr>\n",
       "    <tr>\n",
       "      <th>19</th>\n",
       "      <td>21</td>\n",
       "      <td>Angola</td>\n",
       "      <td>Africa</td>\n",
       "      <td>34534.0</td>\n",
       "    </tr>\n",
       "    <tr>\n",
       "      <th>20</th>\n",
       "      <td>22</td>\n",
       "      <td>Finland</td>\n",
       "      <td>Europe</td>\n",
       "      <td>33451.0</td>\n",
       "    </tr>\n",
       "    <tr>\n",
       "      <th>21</th>\n",
       "      <td>23</td>\n",
       "      <td>London</td>\n",
       "      <td>Europe</td>\n",
       "      <td>NaN</td>\n",
       "    </tr>\n",
       "  </tbody>\n",
       "</table>\n",
       "</div>"
      ],
      "text/plain": [
       "    SNo       City  Country   Salary\n",
       "0     1    Toronto   Canada  20000.0\n",
       "4     5        NaN  America      NaN\n",
       "5     6   HongKong     Asia  30007.0\n",
       "6     7    BayArea  America   8300.0\n",
       "7     8  Hyderabad     Asia  54666.0\n",
       "8     9    newyork  America  67666.0\n",
       "9    11    newyork  America   8888.0\n",
       "10   12   HongKong     Asia  66672.0\n",
       "11   13        NaN  America  34344.0\n",
       "12   14   HongKong     Asia  30007.0\n",
       "13   15        NaN  America   8300.0\n",
       "14   16  Hyderabad     Asia  54666.0\n",
       "15   17    newyork  America  67666.0\n",
       "16   18    newyork  America   8888.0\n",
       "17   19    Edmonto   Canada      NaN\n",
       "18   20      Congo   Africa  34432.0\n",
       "19   21     Angola   Africa  34534.0\n",
       "20   22    Finland   Europe  33451.0\n",
       "21   23     London   Europe      NaN"
      ]
     },
     "execution_count": 25,
     "metadata": {},
     "output_type": "execute_result"
    }
   ],
   "source": [
    "dr1.drop(['Name','Age'],inplace=True,axis=1)\n",
    "dr1"
   ]
  },
  {
   "cell_type": "raw",
   "metadata": {},
   "source": [
    "Now we can see that er have made change in original dataframe"
   ]
  },
  {
   "cell_type": "markdown",
   "metadata": {},
   "source": [
    "## DATA MUNGING\n",
    "\n",
    "In data munging,u can convert particular data into a different format ..for example,,if u have a .csv file u can covert into html or any other data format as well"
   ]
  },
  {
   "cell_type": "code",
   "execution_count": 2,
   "metadata": {},
   "outputs": [],
   "source": [
    "import pandas as pd\n",
    "\n",
    "country=pd.read_csv(\"empl.csv\",index_col=0)                          \n",
    "\n",
    "country.to_html('empltest.html')"
   ]
  },
  {
   "cell_type": "markdown",
   "metadata": {},
   "source": [
    "### PANDAS"
   ]
  },
  {
   "cell_type": "code",
   "execution_count": 1,
   "metadata": {},
   "outputs": [],
   "source": [
    "import pandas as pd\n",
    "import numpy as np"
   ]
  },
  {
   "cell_type": "code",
   "execution_count": 2,
   "metadata": {},
   "outputs": [
    {
     "data": {
      "text/html": [
       "<div>\n",
       "<style scoped>\n",
       "    .dataframe tbody tr th:only-of-type {\n",
       "        vertical-align: middle;\n",
       "    }\n",
       "\n",
       "    .dataframe tbody tr th {\n",
       "        vertical-align: top;\n",
       "    }\n",
       "\n",
       "    .dataframe thead th {\n",
       "        text-align: right;\n",
       "    }\n",
       "</style>\n",
       "<table border=\"1\" class=\"dataframe\">\n",
       "  <thead>\n",
       "    <tr style=\"text-align: right;\">\n",
       "      <th></th>\n",
       "      <th>Unique Key</th>\n",
       "      <th>Created Date</th>\n",
       "      <th>Closed Date</th>\n",
       "      <th>Agency</th>\n",
       "      <th>Agency Name</th>\n",
       "      <th>Complaint Type</th>\n",
       "      <th>Descriptor</th>\n",
       "      <th>Location Type</th>\n",
       "      <th>Incident Zip</th>\n",
       "      <th>Incident Address</th>\n",
       "      <th>Street Name</th>\n",
       "      <th>Cross Street 1</th>\n",
       "      <th>Cross Street 2</th>\n",
       "      <th>Intersection Street 1</th>\n",
       "      <th>Intersection Street 2</th>\n",
       "      <th>Address Type</th>\n",
       "      <th>City</th>\n",
       "    </tr>\n",
       "  </thead>\n",
       "  <tbody>\n",
       "    <tr>\n",
       "      <th>0</th>\n",
       "      <td>26589651</td>\n",
       "      <td>10/31/2013 02:08:41 AM</td>\n",
       "      <td>NaN</td>\n",
       "      <td>NYPD</td>\n",
       "      <td>New York City Police Department</td>\n",
       "      <td>Noise - Street/Sidewalk</td>\n",
       "      <td>Loud Talking</td>\n",
       "      <td>Street/Sidewalk</td>\n",
       "      <td>11432.0</td>\n",
       "      <td>90-03 169 STREET</td>\n",
       "      <td>169 STREET</td>\n",
       "      <td>90 AVENUE</td>\n",
       "      <td>91 AVENUE</td>\n",
       "      <td>NaN</td>\n",
       "      <td>NaN</td>\n",
       "      <td>ADDRESS</td>\n",
       "      <td>JAMAICA</td>\n",
       "    </tr>\n",
       "    <tr>\n",
       "      <th>1</th>\n",
       "      <td>26593698</td>\n",
       "      <td>10/31/2013 02:01:04 AM</td>\n",
       "      <td>NaN</td>\n",
       "      <td>NYPD</td>\n",
       "      <td>New York City Police Department</td>\n",
       "      <td>Illegal Parking</td>\n",
       "      <td>Commercial Overnight Parking</td>\n",
       "      <td>Street/Sidewalk</td>\n",
       "      <td>11378.0</td>\n",
       "      <td>58 AVENUE</td>\n",
       "      <td>58 AVENUE</td>\n",
       "      <td>58 PLACE</td>\n",
       "      <td>59 STREET</td>\n",
       "      <td>NaN</td>\n",
       "      <td>NaN</td>\n",
       "      <td>BLOCKFACE</td>\n",
       "      <td>MASPETH</td>\n",
       "    </tr>\n",
       "    <tr>\n",
       "      <th>2</th>\n",
       "      <td>26594139</td>\n",
       "      <td>10/31/2013 02:00:24 AM</td>\n",
       "      <td>10/31/2013 02:40:32 AM</td>\n",
       "      <td>NYPD</td>\n",
       "      <td>New York City Police Department</td>\n",
       "      <td>Noise - Commercial</td>\n",
       "      <td>Loud Music/Party</td>\n",
       "      <td>Club/Bar/Restaurant</td>\n",
       "      <td>10032.0</td>\n",
       "      <td>4060 BROADWAY</td>\n",
       "      <td>BROADWAY</td>\n",
       "      <td>WEST 171 STREET</td>\n",
       "      <td>WEST 172 STREET</td>\n",
       "      <td>NaN</td>\n",
       "      <td>NaN</td>\n",
       "      <td>ADDRESS</td>\n",
       "      <td>NEW YORK</td>\n",
       "    </tr>\n",
       "    <tr>\n",
       "      <th>3</th>\n",
       "      <td>26595721</td>\n",
       "      <td>10/31/2013 01:56:23 AM</td>\n",
       "      <td>10/31/2013 02:21:48 AM</td>\n",
       "      <td>NYPD</td>\n",
       "      <td>New York City Police Department</td>\n",
       "      <td>Noise - Vehicle</td>\n",
       "      <td>Car/Truck Horn</td>\n",
       "      <td>Street/Sidewalk</td>\n",
       "      <td>10023.0</td>\n",
       "      <td>WEST 72 STREET</td>\n",
       "      <td>WEST 72 STREET</td>\n",
       "      <td>COLUMBUS AVENUE</td>\n",
       "      <td>AMSTERDAM AVENUE</td>\n",
       "      <td>NaN</td>\n",
       "      <td>NaN</td>\n",
       "      <td>BLOCKFACE</td>\n",
       "      <td>NEW YORK</td>\n",
       "    </tr>\n",
       "    <tr>\n",
       "      <th>4</th>\n",
       "      <td>26590930</td>\n",
       "      <td>10/31/2013 01:53:44 AM</td>\n",
       "      <td>NaN</td>\n",
       "      <td>DOHMH</td>\n",
       "      <td>Department of Health and Mental Hygiene</td>\n",
       "      <td>Rodent</td>\n",
       "      <td>Condition Attracting Rodents</td>\n",
       "      <td>Vacant Lot</td>\n",
       "      <td>10027.0</td>\n",
       "      <td>WEST 124 STREET</td>\n",
       "      <td>WEST 124 STREET</td>\n",
       "      <td>LENOX AVENUE</td>\n",
       "      <td>ADAM CLAYTON POWELL JR BOULEVARD</td>\n",
       "      <td>NaN</td>\n",
       "      <td>NaN</td>\n",
       "      <td>BLOCKFACE</td>\n",
       "      <td>NEW YORK</td>\n",
       "    </tr>\n",
       "    <tr>\n",
       "      <th>5</th>\n",
       "      <td>26592370</td>\n",
       "      <td>10/31/2013 01:46:52 AM</td>\n",
       "      <td>NaN</td>\n",
       "      <td>NYPD</td>\n",
       "      <td>New York City Police Department</td>\n",
       "      <td>Noise - Commercial</td>\n",
       "      <td>Banging/Pounding</td>\n",
       "      <td>Club/Bar/Restaurant</td>\n",
       "      <td>11372.0</td>\n",
       "      <td>37 AVENUE</td>\n",
       "      <td>37 AVENUE</td>\n",
       "      <td>84 STREET</td>\n",
       "      <td>85 STREET</td>\n",
       "      <td>NaN</td>\n",
       "      <td>NaN</td>\n",
       "      <td>BLOCKFACE</td>\n",
       "      <td>JACKSON HEIGHTS</td>\n",
       "    </tr>\n",
       "    <tr>\n",
       "      <th>6</th>\n",
       "      <td>26595682</td>\n",
       "      <td>10/31/2013 01:46:40 AM</td>\n",
       "      <td>NaN</td>\n",
       "      <td>NYPD</td>\n",
       "      <td>New York City Police Department</td>\n",
       "      <td>Blocked Driveway</td>\n",
       "      <td>No Access</td>\n",
       "      <td>Street/Sidewalk</td>\n",
       "      <td>11419.0</td>\n",
       "      <td>107-50 109 STREET</td>\n",
       "      <td>109 STREET</td>\n",
       "      <td>107 AVENUE</td>\n",
       "      <td>109 AVENUE</td>\n",
       "      <td>NaN</td>\n",
       "      <td>NaN</td>\n",
       "      <td>ADDRESS</td>\n",
       "      <td>SOUTH RICHMOND HILL</td>\n",
       "    </tr>\n",
       "    <tr>\n",
       "      <th>7</th>\n",
       "      <td>26595195</td>\n",
       "      <td>10/31/2013 01:44:19 AM</td>\n",
       "      <td>10/31/2013 01:58:49 AM</td>\n",
       "      <td>NYPD</td>\n",
       "      <td>New York City Police Department</td>\n",
       "      <td>Noise - Commercial</td>\n",
       "      <td>Loud Music/Party</td>\n",
       "      <td>Club/Bar/Restaurant</td>\n",
       "      <td>11417.0</td>\n",
       "      <td>137-09 CROSSBAY BOULEVARD</td>\n",
       "      <td>CROSSBAY BOULEVARD</td>\n",
       "      <td>PITKIN AVENUE</td>\n",
       "      <td>VAN WICKLEN ROAD</td>\n",
       "      <td>NaN</td>\n",
       "      <td>NaN</td>\n",
       "      <td>ADDRESS</td>\n",
       "      <td>OZONE PARK</td>\n",
       "    </tr>\n",
       "    <tr>\n",
       "      <th>8</th>\n",
       "      <td>26590540</td>\n",
       "      <td>10/31/2013 01:44:14 AM</td>\n",
       "      <td>10/31/2013 02:28:04 AM</td>\n",
       "      <td>NYPD</td>\n",
       "      <td>New York City Police Department</td>\n",
       "      <td>Noise - Commercial</td>\n",
       "      <td>Loud Talking</td>\n",
       "      <td>Club/Bar/Restaurant</td>\n",
       "      <td>10011.0</td>\n",
       "      <td>258 WEST 15 STREET</td>\n",
       "      <td>WEST 15 STREET</td>\n",
       "      <td>7 AVENUE</td>\n",
       "      <td>8 AVENUE</td>\n",
       "      <td>NaN</td>\n",
       "      <td>NaN</td>\n",
       "      <td>ADDRESS</td>\n",
       "      <td>NEW YORK</td>\n",
       "    </tr>\n",
       "    <tr>\n",
       "      <th>9</th>\n",
       "      <td>26594392</td>\n",
       "      <td>10/31/2013 01:34:41 AM</td>\n",
       "      <td>10/31/2013 02:23:51 AM</td>\n",
       "      <td>NYPD</td>\n",
       "      <td>New York City Police Department</td>\n",
       "      <td>Noise - Commercial</td>\n",
       "      <td>Loud Music/Party</td>\n",
       "      <td>Club/Bar/Restaurant</td>\n",
       "      <td>11225.0</td>\n",
       "      <td>835 NOSTRAND AVENUE</td>\n",
       "      <td>NOSTRAND AVENUE</td>\n",
       "      <td>UNION STREET</td>\n",
       "      <td>PRESIDENT STREET</td>\n",
       "      <td>NaN</td>\n",
       "      <td>NaN</td>\n",
       "      <td>ADDRESS</td>\n",
       "      <td>BROOKLYN</td>\n",
       "    </tr>\n",
       "    <tr>\n",
       "      <th>10</th>\n",
       "      <td>26595176</td>\n",
       "      <td>10/31/2013 01:25:12 AM</td>\n",
       "      <td>NaN</td>\n",
       "      <td>NYPD</td>\n",
       "      <td>New York City Police Department</td>\n",
       "      <td>Noise - House of Worship</td>\n",
       "      <td>Loud Music/Party</td>\n",
       "      <td>House of Worship</td>\n",
       "      <td>11218.0</td>\n",
       "      <td>3775 18 AVENUE</td>\n",
       "      <td>18 AVENUE</td>\n",
       "      <td>EAST 9 STREET</td>\n",
       "      <td>EAST 8 STREET</td>\n",
       "      <td>NaN</td>\n",
       "      <td>NaN</td>\n",
       "      <td>ADDRESS</td>\n",
       "      <td>BROOKLYN</td>\n",
       "    </tr>\n",
       "    <tr>\n",
       "      <th>11</th>\n",
       "      <td>26591982</td>\n",
       "      <td>10/31/2013 01:24:14 AM</td>\n",
       "      <td>10/31/2013 01:54:39 AM</td>\n",
       "      <td>NYPD</td>\n",
       "      <td>New York City Police Department</td>\n",
       "      <td>Noise - Commercial</td>\n",
       "      <td>Loud Music/Party</td>\n",
       "      <td>Club/Bar/Restaurant</td>\n",
       "      <td>10003.0</td>\n",
       "      <td>187 2 AVENUE</td>\n",
       "      <td>2 AVENUE</td>\n",
       "      <td>EAST 11 STREET</td>\n",
       "      <td>EAST 12 STREET</td>\n",
       "      <td>NaN</td>\n",
       "      <td>NaN</td>\n",
       "      <td>ADDRESS</td>\n",
       "      <td>NEW YORK</td>\n",
       "    </tr>\n",
       "    <tr>\n",
       "      <th>12</th>\n",
       "      <td>26594169</td>\n",
       "      <td>10/31/2013 01:20:57 AM</td>\n",
       "      <td>10/31/2013 02:12:31 AM</td>\n",
       "      <td>NYPD</td>\n",
       "      <td>New York City Police Department</td>\n",
       "      <td>Illegal Parking</td>\n",
       "      <td>Double Parked Blocking Vehicle</td>\n",
       "      <td>Street/Sidewalk</td>\n",
       "      <td>10029.0</td>\n",
       "      <td>65 EAST 99 STREET</td>\n",
       "      <td>EAST 99 STREET</td>\n",
       "      <td>MADISON AVENUE</td>\n",
       "      <td>PARK AVENUE</td>\n",
       "      <td>NaN</td>\n",
       "      <td>NaN</td>\n",
       "      <td>ADDRESS</td>\n",
       "      <td>NEW YORK</td>\n",
       "    </tr>\n",
       "    <tr>\n",
       "      <th>13</th>\n",
       "      <td>26594391</td>\n",
       "      <td>10/31/2013 01:20:13 AM</td>\n",
       "      <td>NaN</td>\n",
       "      <td>NYPD</td>\n",
       "      <td>New York City Police Department</td>\n",
       "      <td>Noise - Vehicle</td>\n",
       "      <td>Engine Idling</td>\n",
       "      <td>Street/Sidewalk</td>\n",
       "      <td>10466.0</td>\n",
       "      <td>NaN</td>\n",
       "      <td>NaN</td>\n",
       "      <td>NaN</td>\n",
       "      <td>NaN</td>\n",
       "      <td>STRANG AVENUE</td>\n",
       "      <td>AMUNDSON AVENUE</td>\n",
       "      <td>INTERSECTION</td>\n",
       "      <td>BRONX</td>\n",
       "    </tr>\n",
       "    <tr>\n",
       "      <th>14</th>\n",
       "      <td>26590917</td>\n",
       "      <td>10/31/2013 01:19:54 AM</td>\n",
       "      <td>NaN</td>\n",
       "      <td>DOHMH</td>\n",
       "      <td>Department of Health and Mental Hygiene</td>\n",
       "      <td>Rodent</td>\n",
       "      <td>Rat Sighting</td>\n",
       "      <td>1-2 Family Mixed Use Building</td>\n",
       "      <td>11219.0</td>\n",
       "      <td>63 STREET</td>\n",
       "      <td>63 STREET</td>\n",
       "      <td>13 AVENUE</td>\n",
       "      <td>14 AVENUE</td>\n",
       "      <td>NaN</td>\n",
       "      <td>NaN</td>\n",
       "      <td>BLOCKFACE</td>\n",
       "      <td>BROOKLYN</td>\n",
       "    </tr>\n",
       "    <tr>\n",
       "      <th>15</th>\n",
       "      <td>26591458</td>\n",
       "      <td>10/31/2013 01:14:02 AM</td>\n",
       "      <td>10/31/2013 01:30:34 AM</td>\n",
       "      <td>NYPD</td>\n",
       "      <td>New York City Police Department</td>\n",
       "      <td>Noise - House of Worship</td>\n",
       "      <td>Loud Music/Party</td>\n",
       "      <td>House of Worship</td>\n",
       "      <td>10025.0</td>\n",
       "      <td>NaN</td>\n",
       "      <td>NaN</td>\n",
       "      <td>NaN</td>\n",
       "      <td>NaN</td>\n",
       "      <td>WEST   99 STREET</td>\n",
       "      <td>BROADWAY</td>\n",
       "      <td>INTERSECTION</td>\n",
       "      <td>NEW YORK</td>\n",
       "    </tr>\n",
       "    <tr>\n",
       "      <th>16</th>\n",
       "      <td>26594086</td>\n",
       "      <td>10/31/2013 12:54:03 AM</td>\n",
       "      <td>10/31/2013 02:16:39 AM</td>\n",
       "      <td>NYPD</td>\n",
       "      <td>New York City Police Department</td>\n",
       "      <td>Noise - Street/Sidewalk</td>\n",
       "      <td>Loud Music/Party</td>\n",
       "      <td>Street/Sidewalk</td>\n",
       "      <td>10310.0</td>\n",
       "      <td>173 CAMPBELL AVENUE</td>\n",
       "      <td>CAMPBELL AVENUE</td>\n",
       "      <td>HENDERSON AVENUE</td>\n",
       "      <td>WINEGAR LANE</td>\n",
       "      <td>NaN</td>\n",
       "      <td>NaN</td>\n",
       "      <td>ADDRESS</td>\n",
       "      <td>STATEN ISLAND</td>\n",
       "    </tr>\n",
       "    <tr>\n",
       "      <th>17</th>\n",
       "      <td>26595117</td>\n",
       "      <td>10/31/2013 12:52:46 AM</td>\n",
       "      <td>NaN</td>\n",
       "      <td>NYPD</td>\n",
       "      <td>New York City Police Department</td>\n",
       "      <td>Illegal Parking</td>\n",
       "      <td>Posted Parking Sign Violation</td>\n",
       "      <td>Street/Sidewalk</td>\n",
       "      <td>11236.0</td>\n",
       "      <td>NaN</td>\n",
       "      <td>NaN</td>\n",
       "      <td>NaN</td>\n",
       "      <td>NaN</td>\n",
       "      <td>ROCKAWAY PARKWAY</td>\n",
       "      <td>SKIDMORE AVENUE</td>\n",
       "      <td>INTERSECTION</td>\n",
       "      <td>BROOKLYN</td>\n",
       "    </tr>\n",
       "    <tr>\n",
       "      <th>18</th>\n",
       "      <td>26590389</td>\n",
       "      <td>10/31/2013 12:51:00 AM</td>\n",
       "      <td>NaN</td>\n",
       "      <td>DOT</td>\n",
       "      <td>Department of Transportation</td>\n",
       "      <td>Street Light Condition</td>\n",
       "      <td>Street Light Out</td>\n",
       "      <td>NaN</td>\n",
       "      <td>NaN</td>\n",
       "      <td>226 42 ST E</td>\n",
       "      <td>42 ST E</td>\n",
       "      <td>CHURCH AVE</td>\n",
       "      <td>SNYDER AVE</td>\n",
       "      <td>NaN</td>\n",
       "      <td>NaN</td>\n",
       "      <td>ADDRESS</td>\n",
       "      <td>NaN</td>\n",
       "    </tr>\n",
       "    <tr>\n",
       "      <th>19</th>\n",
       "      <td>26594210</td>\n",
       "      <td>10/31/2013 12:46:27 AM</td>\n",
       "      <td>NaN</td>\n",
       "      <td>NYPD</td>\n",
       "      <td>New York City Police Department</td>\n",
       "      <td>Noise - Commercial</td>\n",
       "      <td>Loud Music/Party</td>\n",
       "      <td>Club/Bar/Restaurant</td>\n",
       "      <td>10033.0</td>\n",
       "      <td>NaN</td>\n",
       "      <td>NaN</td>\n",
       "      <td>NaN</td>\n",
       "      <td>NaN</td>\n",
       "      <td>WEST  184 STREET</td>\n",
       "      <td>BROADWAY</td>\n",
       "      <td>INTERSECTION</td>\n",
       "      <td>NEW YORK</td>\n",
       "    </tr>\n",
       "    <tr>\n",
       "      <th>20</th>\n",
       "      <td>26592932</td>\n",
       "      <td>10/31/2013 12:43:47 AM</td>\n",
       "      <td>10/31/2013 12:56:20 AM</td>\n",
       "      <td>NYPD</td>\n",
       "      <td>New York City Police Department</td>\n",
       "      <td>Noise - House of Worship</td>\n",
       "      <td>Loud Music/Party</td>\n",
       "      <td>House of Worship</td>\n",
       "      <td>11216.0</td>\n",
       "      <td>778 PARK PLACE</td>\n",
       "      <td>PARK PLACE</td>\n",
       "      <td>ROGERS AVENUE</td>\n",
       "      <td>NOSTRAND AVENUE</td>\n",
       "      <td>NaN</td>\n",
       "      <td>NaN</td>\n",
       "      <td>ADDRESS</td>\n",
       "      <td>BROOKLYN</td>\n",
       "    </tr>\n",
       "    <tr>\n",
       "      <th>21</th>\n",
       "      <td>26594152</td>\n",
       "      <td>10/31/2013 12:41:17 AM</td>\n",
       "      <td>10/31/2013 01:04:37 AM</td>\n",
       "      <td>NYPD</td>\n",
       "      <td>New York City Police Department</td>\n",
       "      <td>Noise - Commercial</td>\n",
       "      <td>Banging/Pounding</td>\n",
       "      <td>Store/Commercial</td>\n",
       "      <td>10016.0</td>\n",
       "      <td>155 E 34TH ST</td>\n",
       "      <td>E 34TH ST</td>\n",
       "      <td>NaN</td>\n",
       "      <td>NaN</td>\n",
       "      <td>NaN</td>\n",
       "      <td>NaN</td>\n",
       "      <td>LATLONG</td>\n",
       "      <td>NEW YORK</td>\n",
       "    </tr>\n",
       "    <tr>\n",
       "      <th>22</th>\n",
       "      <td>26589678</td>\n",
       "      <td>10/31/2013 12:39:55 AM</td>\n",
       "      <td>NaN</td>\n",
       "      <td>NYPD</td>\n",
       "      <td>New York City Police Department</td>\n",
       "      <td>Noise - Vehicle</td>\n",
       "      <td>Car/Truck Music</td>\n",
       "      <td>Street/Sidewalk</td>\n",
       "      <td>11419.0</td>\n",
       "      <td>NaN</td>\n",
       "      <td>NaN</td>\n",
       "      <td>NaN</td>\n",
       "      <td>NaN</td>\n",
       "      <td>112 STREET</td>\n",
       "      <td>ATLANTIC AVENUE</td>\n",
       "      <td>INTERSECTION</td>\n",
       "      <td>SOUTH RICHMOND HILL</td>\n",
       "    </tr>\n",
       "    <tr>\n",
       "      <th>23</th>\n",
       "      <td>26592304</td>\n",
       "      <td>10/31/2013 12:38:00 AM</td>\n",
       "      <td>NaN</td>\n",
       "      <td>NYPD</td>\n",
       "      <td>New York City Police Department</td>\n",
       "      <td>Noise - Commercial</td>\n",
       "      <td>Loud Music/Party</td>\n",
       "      <td>Club/Bar/Restaurant</td>\n",
       "      <td>11216.0</td>\n",
       "      <td>371 TOMPKINS AVENUE</td>\n",
       "      <td>TOMPKINS AVENUE</td>\n",
       "      <td>MADISON STREET</td>\n",
       "      <td>PUTNAM AVENUE</td>\n",
       "      <td>NaN</td>\n",
       "      <td>NaN</td>\n",
       "      <td>ADDRESS</td>\n",
       "      <td>BROOKLYN</td>\n",
       "    </tr>\n",
       "    <tr>\n",
       "      <th>24</th>\n",
       "      <td>26591892</td>\n",
       "      <td>10/31/2013 12:37:16 AM</td>\n",
       "      <td>NaN</td>\n",
       "      <td>NYPD</td>\n",
       "      <td>New York City Police Department</td>\n",
       "      <td>Blocked Driveway</td>\n",
       "      <td>Partial Access</td>\n",
       "      <td>Street/Sidewalk</td>\n",
       "      <td>10305.0</td>\n",
       "      <td>1496 BAY STREET</td>\n",
       "      <td>BAY STREET</td>\n",
       "      <td>LYMAN AVENUE</td>\n",
       "      <td>SCHOOL ROAD</td>\n",
       "      <td>NaN</td>\n",
       "      <td>NaN</td>\n",
       "      <td>ADDRESS</td>\n",
       "      <td>STATEN ISLAND</td>\n",
       "    </tr>\n",
       "    <tr>\n",
       "      <th>25</th>\n",
       "      <td>26591573</td>\n",
       "      <td>10/31/2013 12:35:18 AM</td>\n",
       "      <td>10/31/2013 02:41:35 AM</td>\n",
       "      <td>NYPD</td>\n",
       "      <td>New York City Police Department</td>\n",
       "      <td>Noise - Street/Sidewalk</td>\n",
       "      <td>Loud Talking</td>\n",
       "      <td>Street/Sidewalk</td>\n",
       "      <td>10312.0</td>\n",
       "      <td>24 PRINCETON LANE</td>\n",
       "      <td>PRINCETON LANE</td>\n",
       "      <td>HAMPTON GREEN</td>\n",
       "      <td>DEAD END</td>\n",
       "      <td>NaN</td>\n",
       "      <td>NaN</td>\n",
       "      <td>ADDRESS</td>\n",
       "      <td>STATEN ISLAND</td>\n",
       "    </tr>\n",
       "    <tr>\n",
       "      <th>26</th>\n",
       "      <td>26590509</td>\n",
       "      <td>10/31/2013 12:33:00 AM</td>\n",
       "      <td>NaN</td>\n",
       "      <td>DOT</td>\n",
       "      <td>Department of Transportation</td>\n",
       "      <td>Street Light Condition</td>\n",
       "      <td>Street Light Out</td>\n",
       "      <td>NaN</td>\n",
       "      <td>NaN</td>\n",
       "      <td>38 ST E</td>\n",
       "      <td>38 ST E</td>\n",
       "      <td>CHURCH AVE</td>\n",
       "      <td>LINDEN BLVD</td>\n",
       "      <td>NaN</td>\n",
       "      <td>NaN</td>\n",
       "      <td>BLOCKFACE</td>\n",
       "      <td>NaN</td>\n",
       "    </tr>\n",
       "    <tr>\n",
       "      <th>27</th>\n",
       "      <td>26591379</td>\n",
       "      <td>10/31/2013 12:32:44 AM</td>\n",
       "      <td>NaN</td>\n",
       "      <td>DOHMH</td>\n",
       "      <td>Department of Health and Mental Hygiene</td>\n",
       "      <td>Harboring Bees/Wasps</td>\n",
       "      <td>Bees/Wasps - Not a beekeper</td>\n",
       "      <td>3+ Family Mixed Use Building</td>\n",
       "      <td>10025.0</td>\n",
       "      <td>501 WEST 110 STREET</td>\n",
       "      <td>WEST 110 STREET</td>\n",
       "      <td>AMSTERDAM AVENUE</td>\n",
       "      <td>BROADWAY</td>\n",
       "      <td>NaN</td>\n",
       "      <td>NaN</td>\n",
       "      <td>ADDRESS</td>\n",
       "      <td>NEW YORK</td>\n",
       "    </tr>\n",
       "    <tr>\n",
       "      <th>28</th>\n",
       "      <td>26594085</td>\n",
       "      <td>10/31/2013 12:32:08 AM</td>\n",
       "      <td>NaN</td>\n",
       "      <td>NYPD</td>\n",
       "      <td>New York City Police Department</td>\n",
       "      <td>Noise - Street/Sidewalk</td>\n",
       "      <td>Loud Talking</td>\n",
       "      <td>Street/Sidewalk</td>\n",
       "      <td>10026.0</td>\n",
       "      <td>121 WEST 116 STREET</td>\n",
       "      <td>WEST 116 STREET</td>\n",
       "      <td>LENOX AVENUE</td>\n",
       "      <td>7 AVENUE</td>\n",
       "      <td>NaN</td>\n",
       "      <td>NaN</td>\n",
       "      <td>ADDRESS</td>\n",
       "      <td>NEW YORK</td>\n",
       "    </tr>\n",
       "    <tr>\n",
       "      <th>29</th>\n",
       "      <td>26589201</td>\n",
       "      <td>10/31/2013 12:32:00 AM</td>\n",
       "      <td>NaN</td>\n",
       "      <td>DOT</td>\n",
       "      <td>Department of Transportation</td>\n",
       "      <td>Street Light Condition</td>\n",
       "      <td>Street Light Out</td>\n",
       "      <td>NaN</td>\n",
       "      <td>10309.0</td>\n",
       "      <td>295 BAYVIEW AVENUE</td>\n",
       "      <td>BAYVIEW AVENUE</td>\n",
       "      <td>VAIL AVENUE</td>\n",
       "      <td>BAYVIEW LANE</td>\n",
       "      <td>NaN</td>\n",
       "      <td>NaN</td>\n",
       "      <td>ADDRESS</td>\n",
       "      <td>STATEN ISLAND</td>\n",
       "    </tr>\n",
       "    <tr>\n",
       "      <th>30</th>\n",
       "      <td>26591641</td>\n",
       "      <td>10/31/2013 12:31:17 AM</td>\n",
       "      <td>10/31/2013 02:41:36 AM</td>\n",
       "      <td>NYPD</td>\n",
       "      <td>New York City Police Department</td>\n",
       "      <td>Blocked Driveway</td>\n",
       "      <td>No Access</td>\n",
       "      <td>Street/Sidewalk</td>\n",
       "      <td>10312.0</td>\n",
       "      <td>24 PRINCETON LANE</td>\n",
       "      <td>PRINCETON LANE</td>\n",
       "      <td>HAMPTON GREEN</td>\n",
       "      <td>DEAD END</td>\n",
       "      <td>NaN</td>\n",
       "      <td>NaN</td>\n",
       "      <td>ADDRESS</td>\n",
       "      <td>STATEN ISLAND</td>\n",
       "    </tr>\n",
       "    <tr>\n",
       "      <th>31</th>\n",
       "      <td>26595564</td>\n",
       "      <td>10/31/2013 12:30:36 AM</td>\n",
       "      <td>NaN</td>\n",
       "      <td>NYPD</td>\n",
       "      <td>New York City Police Department</td>\n",
       "      <td>Noise - Street/Sidewalk</td>\n",
       "      <td>Loud Music/Party</td>\n",
       "      <td>Street/Sidewalk</td>\n",
       "      <td>11236.0</td>\n",
       "      <td>AVENUE J</td>\n",
       "      <td>AVENUE J</td>\n",
       "      <td>EAST 80 STREET</td>\n",
       "      <td>EAST 81 STREET</td>\n",
       "      <td>NaN</td>\n",
       "      <td>NaN</td>\n",
       "      <td>BLOCKFACE</td>\n",
       "      <td>BROOKLYN</td>\n",
       "    </tr>\n",
       "    <tr>\n",
       "      <th>32</th>\n",
       "      <td>26591378</td>\n",
       "      <td>10/31/2013 12:30:31 AM</td>\n",
       "      <td>NaN</td>\n",
       "      <td>TLC</td>\n",
       "      <td>Taxi and Limousine Commission</td>\n",
       "      <td>Taxi Complaint</td>\n",
       "      <td>Driver Complaint</td>\n",
       "      <td>NaN</td>\n",
       "      <td>10036.0</td>\n",
       "      <td>645 10 AVENUE</td>\n",
       "      <td>10 AVENUE</td>\n",
       "      <td>WEST 45 STREET</td>\n",
       "      <td>WEST 46 STREET</td>\n",
       "      <td>NaN</td>\n",
       "      <td>NaN</td>\n",
       "      <td>ADDRESS</td>\n",
       "      <td>NEW YORK</td>\n",
       "    </tr>\n",
       "    <tr>\n",
       "      <th>33</th>\n",
       "      <td>26593872</td>\n",
       "      <td>10/31/2013 12:29:47 AM</td>\n",
       "      <td>10/31/2013 12:38:29 AM</td>\n",
       "      <td>NYPD</td>\n",
       "      <td>New York City Police Department</td>\n",
       "      <td>Noise - House of Worship</td>\n",
       "      <td>Banging/Pounding</td>\n",
       "      <td>House of Worship</td>\n",
       "      <td>10025.0</td>\n",
       "      <td>NaN</td>\n",
       "      <td>NaN</td>\n",
       "      <td>NaN</td>\n",
       "      <td>NaN</td>\n",
       "      <td>WEST   99 STREET</td>\n",
       "      <td>AMSTERDAM AVENUE</td>\n",
       "      <td>INTERSECTION</td>\n",
       "      <td>NEW YORK</td>\n",
       "    </tr>\n",
       "    <tr>\n",
       "      <th>34</th>\n",
       "      <td>26591420</td>\n",
       "      <td>10/31/2013 12:28:30 AM</td>\n",
       "      <td>10/31/2013 02:06:11 AM</td>\n",
       "      <td>NYPD</td>\n",
       "      <td>New York City Police Department</td>\n",
       "      <td>Homeless Encampment</td>\n",
       "      <td>NaN</td>\n",
       "      <td>Residential Building/House</td>\n",
       "      <td>10025.0</td>\n",
       "      <td>2754 BROADWAY</td>\n",
       "      <td>BROADWAY</td>\n",
       "      <td>WEST 105 STREET</td>\n",
       "      <td>WEST 106 STREET</td>\n",
       "      <td>NaN</td>\n",
       "      <td>NaN</td>\n",
       "      <td>ADDRESS</td>\n",
       "      <td>NEW YORK</td>\n",
       "    </tr>\n",
       "    <tr>\n",
       "      <th>35</th>\n",
       "      <td>26592976</td>\n",
       "      <td>10/31/2013 12:23:24 AM</td>\n",
       "      <td>10/31/2013 01:05:41 AM</td>\n",
       "      <td>NYPD</td>\n",
       "      <td>New York City Police Department</td>\n",
       "      <td>Blocked Driveway</td>\n",
       "      <td>No Access</td>\n",
       "      <td>Street/Sidewalk</td>\n",
       "      <td>11433.0</td>\n",
       "      <td>173-41 103 ROAD</td>\n",
       "      <td>103 ROAD</td>\n",
       "      <td>173 STREET</td>\n",
       "      <td>177 STREET</td>\n",
       "      <td>NaN</td>\n",
       "      <td>NaN</td>\n",
       "      <td>ADDRESS</td>\n",
       "      <td>JAMAICA</td>\n",
       "    </tr>\n",
       "    <tr>\n",
       "      <th>36</th>\n",
       "      <td>26590262</td>\n",
       "      <td>10/31/2013 12:23:00 AM</td>\n",
       "      <td>NaN</td>\n",
       "      <td>DOT</td>\n",
       "      <td>Department of Transportation</td>\n",
       "      <td>Traffic Signal Condition</td>\n",
       "      <td>Controller</td>\n",
       "      <td>NaN</td>\n",
       "      <td>11235.0</td>\n",
       "      <td>NaN</td>\n",
       "      <td>NaN</td>\n",
       "      <td>NaN</td>\n",
       "      <td>NaN</td>\n",
       "      <td>SHORE BOULEVARD</td>\n",
       "      <td>CASS PLACE</td>\n",
       "      <td>INTERSECTION</td>\n",
       "      <td>BROOKLYN</td>\n",
       "    </tr>\n",
       "    <tr>\n",
       "      <th>37</th>\n",
       "      <td>26589606</td>\n",
       "      <td>10/31/2013 12:20:44 AM</td>\n",
       "      <td>10/31/2013 02:10:24 AM</td>\n",
       "      <td>NYPD</td>\n",
       "      <td>New York City Police Department</td>\n",
       "      <td>Noise - Commercial</td>\n",
       "      <td>Loud Music/Party</td>\n",
       "      <td>Club/Bar/Restaurant</td>\n",
       "      <td>11216.0</td>\n",
       "      <td>826 ST JOHN'S PLACE</td>\n",
       "      <td>ST JOHN'S PLACE</td>\n",
       "      <td>ROGERS AVENUE</td>\n",
       "      <td>NOSTRAND AVENUE</td>\n",
       "      <td>NaN</td>\n",
       "      <td>NaN</td>\n",
       "      <td>ADDRESS</td>\n",
       "      <td>BROOKLYN</td>\n",
       "    </tr>\n",
       "    <tr>\n",
       "      <th>38</th>\n",
       "      <td>26592083</td>\n",
       "      <td>10/31/2013 12:20:00 AM</td>\n",
       "      <td>NaN</td>\n",
       "      <td>DOT</td>\n",
       "      <td>Department of Transportation</td>\n",
       "      <td>Traffic Signal Condition</td>\n",
       "      <td>Controller</td>\n",
       "      <td>NaN</td>\n",
       "      <td>11213.0</td>\n",
       "      <td>NaN</td>\n",
       "      <td>NaN</td>\n",
       "      <td>NaN</td>\n",
       "      <td>NaN</td>\n",
       "      <td>BUFFALO AVENUE</td>\n",
       "      <td>PARK PLACE</td>\n",
       "      <td>INTERSECTION</td>\n",
       "      <td>BROOKLYN</td>\n",
       "    </tr>\n",
       "    <tr>\n",
       "      <th>39</th>\n",
       "      <td>26593840</td>\n",
       "      <td>10/31/2013 12:19:48 AM</td>\n",
       "      <td>NaN</td>\n",
       "      <td>NYPD</td>\n",
       "      <td>New York City Police Department</td>\n",
       "      <td>Blocked Driveway</td>\n",
       "      <td>No Access</td>\n",
       "      <td>Street/Sidewalk</td>\n",
       "      <td>11379.0</td>\n",
       "      <td>78-41 68 ROAD</td>\n",
       "      <td>68 ROAD</td>\n",
       "      <td>78 STREET</td>\n",
       "      <td>79 STREET</td>\n",
       "      <td>NaN</td>\n",
       "      <td>NaN</td>\n",
       "      <td>ADDRESS</td>\n",
       "      <td>MIDDLE VILLAGE</td>\n",
       "    </tr>\n",
       "    <tr>\n",
       "      <th>40</th>\n",
       "      <td>26589646</td>\n",
       "      <td>10/31/2013 12:18:05 AM</td>\n",
       "      <td>10/31/2013 01:26:15 AM</td>\n",
       "      <td>NYPD</td>\n",
       "      <td>New York City Police Department</td>\n",
       "      <td>Noise - Commercial</td>\n",
       "      <td>Loud Music/Party</td>\n",
       "      <td>Club/Bar/Restaurant</td>\n",
       "      <td>11101.0</td>\n",
       "      <td>34-19 STEINWAY STREET</td>\n",
       "      <td>STEINWAY STREET</td>\n",
       "      <td>34 AVENUE</td>\n",
       "      <td>35 AVENUE</td>\n",
       "      <td>NaN</td>\n",
       "      <td>NaN</td>\n",
       "      <td>ADDRESS</td>\n",
       "      <td>LONG ISLAND CITY</td>\n",
       "    </tr>\n",
       "    <tr>\n",
       "      <th>41</th>\n",
       "      <td>26593296</td>\n",
       "      <td>10/31/2013 12:16:25 AM</td>\n",
       "      <td>NaN</td>\n",
       "      <td>DOHMH</td>\n",
       "      <td>Department of Health and Mental Hygiene</td>\n",
       "      <td>Food Establishment</td>\n",
       "      <td>Rodents/Insects/Garbage</td>\n",
       "      <td>Restaurant/Bar/Deli/Bakery</td>\n",
       "      <td>10014.0</td>\n",
       "      <td>12 CHRISTOPHER STREET</td>\n",
       "      <td>CHRISTOPHER STREET</td>\n",
       "      <td>GREENWICH AVENUE</td>\n",
       "      <td>GAY STREET</td>\n",
       "      <td>NaN</td>\n",
       "      <td>NaN</td>\n",
       "      <td>ADDRESS</td>\n",
       "      <td>NEW YORK</td>\n",
       "    </tr>\n",
       "    <tr>\n",
       "      <th>42</th>\n",
       "      <td>26590480</td>\n",
       "      <td>10/31/2013 12:15:06 AM</td>\n",
       "      <td>10/31/2013 03:00:20 AM</td>\n",
       "      <td>NYPD</td>\n",
       "      <td>New York City Police Department</td>\n",
       "      <td>Noise - Commercial</td>\n",
       "      <td>Loud Music/Party</td>\n",
       "      <td>Store/Commercial</td>\n",
       "      <td>11231.0</td>\n",
       "      <td>325 COLUMBIA STREET</td>\n",
       "      <td>COLUMBIA STREET</td>\n",
       "      <td>NaN</td>\n",
       "      <td>NaN</td>\n",
       "      <td>NaN</td>\n",
       "      <td>NaN</td>\n",
       "      <td>LATLONG</td>\n",
       "      <td>BROOKLYN</td>\n",
       "    </tr>\n",
       "    <tr>\n",
       "      <th>43</th>\n",
       "      <td>26589626</td>\n",
       "      <td>10/31/2013 12:14:42 AM</td>\n",
       "      <td>10/31/2013 01:39:00 AM</td>\n",
       "      <td>NYPD</td>\n",
       "      <td>New York City Police Department</td>\n",
       "      <td>Noise - Commercial</td>\n",
       "      <td>Loud Music/Party</td>\n",
       "      <td>Club/Bar/Restaurant</td>\n",
       "      <td>11234.0</td>\n",
       "      <td>2192 FLATBUSH AVENUE</td>\n",
       "      <td>FLATBUSH AVENUE</td>\n",
       "      <td>EAST 46 STREET</td>\n",
       "      <td>AVENUE O</td>\n",
       "      <td>NaN</td>\n",
       "      <td>NaN</td>\n",
       "      <td>ADDRESS</td>\n",
       "      <td>BROOKLYN</td>\n",
       "    </tr>\n",
       "    <tr>\n",
       "      <th>44</th>\n",
       "      <td>26592898</td>\n",
       "      <td>10/31/2013 12:12:08 AM</td>\n",
       "      <td>10/31/2013 01:13:45 AM</td>\n",
       "      <td>NYPD</td>\n",
       "      <td>New York City Police Department</td>\n",
       "      <td>Noise - Park</td>\n",
       "      <td>Loud Talking</td>\n",
       "      <td>Park/Playground</td>\n",
       "      <td>10457.0</td>\n",
       "      <td>CROTONA PARK NORTH</td>\n",
       "      <td>CROTONA PARK NORTH</td>\n",
       "      <td>CLINTON AVENUE</td>\n",
       "      <td>PROSPECT AVENUE</td>\n",
       "      <td>NaN</td>\n",
       "      <td>NaN</td>\n",
       "      <td>BLOCKFACE</td>\n",
       "      <td>BRONX</td>\n",
       "    </tr>\n",
       "    <tr>\n",
       "      <th>45</th>\n",
       "      <td>26590446</td>\n",
       "      <td>10/31/2013 12:11:58 AM</td>\n",
       "      <td>10/31/2013 01:54:38 AM</td>\n",
       "      <td>NYPD</td>\n",
       "      <td>New York City Police Department</td>\n",
       "      <td>Noise - Street/Sidewalk</td>\n",
       "      <td>Loud Music/Party</td>\n",
       "      <td>Street/Sidewalk</td>\n",
       "      <td>10459.0</td>\n",
       "      <td>819 EAST 167 STREET</td>\n",
       "      <td>EAST 167 STREET</td>\n",
       "      <td>UNION AVENUE</td>\n",
       "      <td>PROSPECT AVENUE</td>\n",
       "      <td>NaN</td>\n",
       "      <td>NaN</td>\n",
       "      <td>ADDRESS</td>\n",
       "      <td>BRONX</td>\n",
       "    </tr>\n",
       "    <tr>\n",
       "      <th>46</th>\n",
       "      <td>26595546</td>\n",
       "      <td>10/31/2013 12:09:07 AM</td>\n",
       "      <td>10/31/2013 12:53:12 AM</td>\n",
       "      <td>NYPD</td>\n",
       "      <td>New York City Police Department</td>\n",
       "      <td>Noise - Commercial</td>\n",
       "      <td>Loud Music/Party</td>\n",
       "      <td>Club/Bar/Restaurant</td>\n",
       "      <td>10465.0</td>\n",
       "      <td>4005 EAST TREMONT AVENUE</td>\n",
       "      <td>EAST TREMONT AVENUE</td>\n",
       "      <td>SAMPSON AVENUE</td>\n",
       "      <td>GERBER PLACE</td>\n",
       "      <td>NaN</td>\n",
       "      <td>NaN</td>\n",
       "      <td>ADDRESS</td>\n",
       "      <td>BRONX</td>\n",
       "    </tr>\n",
       "    <tr>\n",
       "      <th>47</th>\n",
       "      <td>26595944</td>\n",
       "      <td>10/31/2013 12:08:47 AM</td>\n",
       "      <td>NaN</td>\n",
       "      <td>TLC</td>\n",
       "      <td>Taxi and Limousine Commission</td>\n",
       "      <td>Taxi Complaint</td>\n",
       "      <td>Driver Complaint</td>\n",
       "      <td>NaN</td>\n",
       "      <td>10036.0</td>\n",
       "      <td>NaN</td>\n",
       "      <td>NaN</td>\n",
       "      <td>NaN</td>\n",
       "      <td>NaN</td>\n",
       "      <td>WEST   46 STREET</td>\n",
       "      <td>10 AVENUE</td>\n",
       "      <td>INTERSECTION</td>\n",
       "      <td>NEW YORK</td>\n",
       "    </tr>\n",
       "    <tr>\n",
       "      <th>48</th>\n",
       "      <td>26595084</td>\n",
       "      <td>10/31/2013 12:07:45 AM</td>\n",
       "      <td>10/31/2013 01:43:11 AM</td>\n",
       "      <td>NYPD</td>\n",
       "      <td>New York City Police Department</td>\n",
       "      <td>Noise - Commercial</td>\n",
       "      <td>Loud Music/Party</td>\n",
       "      <td>Club/Bar/Restaurant</td>\n",
       "      <td>10014.0</td>\n",
       "      <td>12 CHRISTOPHER STREET</td>\n",
       "      <td>CHRISTOPHER STREET</td>\n",
       "      <td>GREENWICH AVENUE</td>\n",
       "      <td>GAY STREET</td>\n",
       "      <td>NaN</td>\n",
       "      <td>NaN</td>\n",
       "      <td>ADDRESS</td>\n",
       "      <td>NEW YORK</td>\n",
       "    </tr>\n",
       "  </tbody>\n",
       "</table>\n",
       "</div>"
      ],
      "text/plain": [
       "    Unique Key            Created Date             Closed Date Agency  \\\n",
       "0     26589651  10/31/2013 02:08:41 AM                     NaN   NYPD   \n",
       "1     26593698  10/31/2013 02:01:04 AM                     NaN   NYPD   \n",
       "2     26594139  10/31/2013 02:00:24 AM  10/31/2013 02:40:32 AM   NYPD   \n",
       "3     26595721  10/31/2013 01:56:23 AM  10/31/2013 02:21:48 AM   NYPD   \n",
       "4     26590930  10/31/2013 01:53:44 AM                     NaN  DOHMH   \n",
       "5     26592370  10/31/2013 01:46:52 AM                     NaN   NYPD   \n",
       "6     26595682  10/31/2013 01:46:40 AM                     NaN   NYPD   \n",
       "7     26595195  10/31/2013 01:44:19 AM  10/31/2013 01:58:49 AM   NYPD   \n",
       "8     26590540  10/31/2013 01:44:14 AM  10/31/2013 02:28:04 AM   NYPD   \n",
       "9     26594392  10/31/2013 01:34:41 AM  10/31/2013 02:23:51 AM   NYPD   \n",
       "10    26595176  10/31/2013 01:25:12 AM                     NaN   NYPD   \n",
       "11    26591982  10/31/2013 01:24:14 AM  10/31/2013 01:54:39 AM   NYPD   \n",
       "12    26594169  10/31/2013 01:20:57 AM  10/31/2013 02:12:31 AM   NYPD   \n",
       "13    26594391  10/31/2013 01:20:13 AM                     NaN   NYPD   \n",
       "14    26590917  10/31/2013 01:19:54 AM                     NaN  DOHMH   \n",
       "15    26591458  10/31/2013 01:14:02 AM  10/31/2013 01:30:34 AM   NYPD   \n",
       "16    26594086  10/31/2013 12:54:03 AM  10/31/2013 02:16:39 AM   NYPD   \n",
       "17    26595117  10/31/2013 12:52:46 AM                     NaN   NYPD   \n",
       "18    26590389  10/31/2013 12:51:00 AM                     NaN    DOT   \n",
       "19    26594210  10/31/2013 12:46:27 AM                     NaN   NYPD   \n",
       "20    26592932  10/31/2013 12:43:47 AM  10/31/2013 12:56:20 AM   NYPD   \n",
       "21    26594152  10/31/2013 12:41:17 AM  10/31/2013 01:04:37 AM   NYPD   \n",
       "22    26589678  10/31/2013 12:39:55 AM                     NaN   NYPD   \n",
       "23    26592304  10/31/2013 12:38:00 AM                     NaN   NYPD   \n",
       "24    26591892  10/31/2013 12:37:16 AM                     NaN   NYPD   \n",
       "25    26591573  10/31/2013 12:35:18 AM  10/31/2013 02:41:35 AM   NYPD   \n",
       "26    26590509  10/31/2013 12:33:00 AM                     NaN    DOT   \n",
       "27    26591379  10/31/2013 12:32:44 AM                     NaN  DOHMH   \n",
       "28    26594085  10/31/2013 12:32:08 AM                     NaN   NYPD   \n",
       "29    26589201  10/31/2013 12:32:00 AM                     NaN    DOT   \n",
       "30    26591641  10/31/2013 12:31:17 AM  10/31/2013 02:41:36 AM   NYPD   \n",
       "31    26595564  10/31/2013 12:30:36 AM                     NaN   NYPD   \n",
       "32    26591378  10/31/2013 12:30:31 AM                     NaN    TLC   \n",
       "33    26593872  10/31/2013 12:29:47 AM  10/31/2013 12:38:29 AM   NYPD   \n",
       "34    26591420  10/31/2013 12:28:30 AM  10/31/2013 02:06:11 AM   NYPD   \n",
       "35    26592976  10/31/2013 12:23:24 AM  10/31/2013 01:05:41 AM   NYPD   \n",
       "36    26590262  10/31/2013 12:23:00 AM                     NaN    DOT   \n",
       "37    26589606  10/31/2013 12:20:44 AM  10/31/2013 02:10:24 AM   NYPD   \n",
       "38    26592083  10/31/2013 12:20:00 AM                     NaN    DOT   \n",
       "39    26593840  10/31/2013 12:19:48 AM                     NaN   NYPD   \n",
       "40    26589646  10/31/2013 12:18:05 AM  10/31/2013 01:26:15 AM   NYPD   \n",
       "41    26593296  10/31/2013 12:16:25 AM                     NaN  DOHMH   \n",
       "42    26590480  10/31/2013 12:15:06 AM  10/31/2013 03:00:20 AM   NYPD   \n",
       "43    26589626  10/31/2013 12:14:42 AM  10/31/2013 01:39:00 AM   NYPD   \n",
       "44    26592898  10/31/2013 12:12:08 AM  10/31/2013 01:13:45 AM   NYPD   \n",
       "45    26590446  10/31/2013 12:11:58 AM  10/31/2013 01:54:38 AM   NYPD   \n",
       "46    26595546  10/31/2013 12:09:07 AM  10/31/2013 12:53:12 AM   NYPD   \n",
       "47    26595944  10/31/2013 12:08:47 AM                     NaN    TLC   \n",
       "48    26595084  10/31/2013 12:07:45 AM  10/31/2013 01:43:11 AM   NYPD   \n",
       "\n",
       "                                Agency Name            Complaint Type  \\\n",
       "0           New York City Police Department   Noise - Street/Sidewalk   \n",
       "1           New York City Police Department           Illegal Parking   \n",
       "2           New York City Police Department        Noise - Commercial   \n",
       "3           New York City Police Department           Noise - Vehicle   \n",
       "4   Department of Health and Mental Hygiene                    Rodent   \n",
       "5           New York City Police Department        Noise - Commercial   \n",
       "6           New York City Police Department          Blocked Driveway   \n",
       "7           New York City Police Department        Noise - Commercial   \n",
       "8           New York City Police Department        Noise - Commercial   \n",
       "9           New York City Police Department        Noise - Commercial   \n",
       "10          New York City Police Department  Noise - House of Worship   \n",
       "11          New York City Police Department        Noise - Commercial   \n",
       "12          New York City Police Department           Illegal Parking   \n",
       "13          New York City Police Department           Noise - Vehicle   \n",
       "14  Department of Health and Mental Hygiene                    Rodent   \n",
       "15          New York City Police Department  Noise - House of Worship   \n",
       "16          New York City Police Department   Noise - Street/Sidewalk   \n",
       "17          New York City Police Department           Illegal Parking   \n",
       "18             Department of Transportation    Street Light Condition   \n",
       "19          New York City Police Department        Noise - Commercial   \n",
       "20          New York City Police Department  Noise - House of Worship   \n",
       "21          New York City Police Department        Noise - Commercial   \n",
       "22          New York City Police Department           Noise - Vehicle   \n",
       "23          New York City Police Department        Noise - Commercial   \n",
       "24          New York City Police Department          Blocked Driveway   \n",
       "25          New York City Police Department   Noise - Street/Sidewalk   \n",
       "26             Department of Transportation    Street Light Condition   \n",
       "27  Department of Health and Mental Hygiene      Harboring Bees/Wasps   \n",
       "28          New York City Police Department   Noise - Street/Sidewalk   \n",
       "29             Department of Transportation    Street Light Condition   \n",
       "30          New York City Police Department          Blocked Driveway   \n",
       "31          New York City Police Department   Noise - Street/Sidewalk   \n",
       "32            Taxi and Limousine Commission            Taxi Complaint   \n",
       "33          New York City Police Department  Noise - House of Worship   \n",
       "34          New York City Police Department       Homeless Encampment   \n",
       "35          New York City Police Department          Blocked Driveway   \n",
       "36             Department of Transportation  Traffic Signal Condition   \n",
       "37          New York City Police Department        Noise - Commercial   \n",
       "38             Department of Transportation  Traffic Signal Condition   \n",
       "39          New York City Police Department          Blocked Driveway   \n",
       "40          New York City Police Department        Noise - Commercial   \n",
       "41  Department of Health and Mental Hygiene        Food Establishment   \n",
       "42          New York City Police Department        Noise - Commercial   \n",
       "43          New York City Police Department        Noise - Commercial   \n",
       "44          New York City Police Department              Noise - Park   \n",
       "45          New York City Police Department   Noise - Street/Sidewalk   \n",
       "46          New York City Police Department        Noise - Commercial   \n",
       "47            Taxi and Limousine Commission            Taxi Complaint   \n",
       "48          New York City Police Department        Noise - Commercial   \n",
       "\n",
       "                        Descriptor                  Location Type  \\\n",
       "0                     Loud Talking                Street/Sidewalk   \n",
       "1     Commercial Overnight Parking                Street/Sidewalk   \n",
       "2                 Loud Music/Party            Club/Bar/Restaurant   \n",
       "3                   Car/Truck Horn                Street/Sidewalk   \n",
       "4     Condition Attracting Rodents                     Vacant Lot   \n",
       "5                 Banging/Pounding            Club/Bar/Restaurant   \n",
       "6                        No Access                Street/Sidewalk   \n",
       "7                 Loud Music/Party            Club/Bar/Restaurant   \n",
       "8                     Loud Talking            Club/Bar/Restaurant   \n",
       "9                 Loud Music/Party            Club/Bar/Restaurant   \n",
       "10                Loud Music/Party               House of Worship   \n",
       "11                Loud Music/Party            Club/Bar/Restaurant   \n",
       "12  Double Parked Blocking Vehicle                Street/Sidewalk   \n",
       "13                   Engine Idling                Street/Sidewalk   \n",
       "14                    Rat Sighting  1-2 Family Mixed Use Building   \n",
       "15                Loud Music/Party               House of Worship   \n",
       "16                Loud Music/Party                Street/Sidewalk   \n",
       "17   Posted Parking Sign Violation                Street/Sidewalk   \n",
       "18                Street Light Out                            NaN   \n",
       "19                Loud Music/Party            Club/Bar/Restaurant   \n",
       "20                Loud Music/Party               House of Worship   \n",
       "21                Banging/Pounding               Store/Commercial   \n",
       "22                 Car/Truck Music                Street/Sidewalk   \n",
       "23                Loud Music/Party            Club/Bar/Restaurant   \n",
       "24                  Partial Access                Street/Sidewalk   \n",
       "25                    Loud Talking                Street/Sidewalk   \n",
       "26                Street Light Out                            NaN   \n",
       "27     Bees/Wasps - Not a beekeper   3+ Family Mixed Use Building   \n",
       "28                    Loud Talking                Street/Sidewalk   \n",
       "29                Street Light Out                            NaN   \n",
       "30                       No Access                Street/Sidewalk   \n",
       "31                Loud Music/Party                Street/Sidewalk   \n",
       "32                Driver Complaint                            NaN   \n",
       "33                Banging/Pounding               House of Worship   \n",
       "34                             NaN     Residential Building/House   \n",
       "35                       No Access                Street/Sidewalk   \n",
       "36                      Controller                            NaN   \n",
       "37                Loud Music/Party            Club/Bar/Restaurant   \n",
       "38                      Controller                            NaN   \n",
       "39                       No Access                Street/Sidewalk   \n",
       "40                Loud Music/Party            Club/Bar/Restaurant   \n",
       "41         Rodents/Insects/Garbage     Restaurant/Bar/Deli/Bakery   \n",
       "42                Loud Music/Party               Store/Commercial   \n",
       "43                Loud Music/Party            Club/Bar/Restaurant   \n",
       "44                    Loud Talking                Park/Playground   \n",
       "45                Loud Music/Party                Street/Sidewalk   \n",
       "46                Loud Music/Party            Club/Bar/Restaurant   \n",
       "47                Driver Complaint                            NaN   \n",
       "48                Loud Music/Party            Club/Bar/Restaurant   \n",
       "\n",
       "    Incident Zip           Incident Address          Street Name  \\\n",
       "0        11432.0           90-03 169 STREET           169 STREET   \n",
       "1        11378.0                  58 AVENUE            58 AVENUE   \n",
       "2        10032.0              4060 BROADWAY             BROADWAY   \n",
       "3        10023.0             WEST 72 STREET       WEST 72 STREET   \n",
       "4        10027.0            WEST 124 STREET      WEST 124 STREET   \n",
       "5        11372.0                  37 AVENUE            37 AVENUE   \n",
       "6        11419.0          107-50 109 STREET           109 STREET   \n",
       "7        11417.0  137-09 CROSSBAY BOULEVARD   CROSSBAY BOULEVARD   \n",
       "8        10011.0         258 WEST 15 STREET       WEST 15 STREET   \n",
       "9        11225.0        835 NOSTRAND AVENUE      NOSTRAND AVENUE   \n",
       "10       11218.0             3775 18 AVENUE            18 AVENUE   \n",
       "11       10003.0               187 2 AVENUE             2 AVENUE   \n",
       "12       10029.0          65 EAST 99 STREET       EAST 99 STREET   \n",
       "13       10466.0                        NaN                  NaN   \n",
       "14       11219.0                  63 STREET            63 STREET   \n",
       "15       10025.0                        NaN                  NaN   \n",
       "16       10310.0        173 CAMPBELL AVENUE      CAMPBELL AVENUE   \n",
       "17       11236.0                        NaN                  NaN   \n",
       "18           NaN                226 42 ST E              42 ST E   \n",
       "19       10033.0                        NaN                  NaN   \n",
       "20       11216.0             778 PARK PLACE           PARK PLACE   \n",
       "21       10016.0              155 E 34TH ST            E 34TH ST   \n",
       "22       11419.0                        NaN                  NaN   \n",
       "23       11216.0        371 TOMPKINS AVENUE      TOMPKINS AVENUE   \n",
       "24       10305.0            1496 BAY STREET           BAY STREET   \n",
       "25       10312.0          24 PRINCETON LANE       PRINCETON LANE   \n",
       "26           NaN                    38 ST E              38 ST E   \n",
       "27       10025.0        501 WEST 110 STREET      WEST 110 STREET   \n",
       "28       10026.0        121 WEST 116 STREET      WEST 116 STREET   \n",
       "29       10309.0         295 BAYVIEW AVENUE       BAYVIEW AVENUE   \n",
       "30       10312.0          24 PRINCETON LANE       PRINCETON LANE   \n",
       "31       11236.0                   AVENUE J             AVENUE J   \n",
       "32       10036.0              645 10 AVENUE            10 AVENUE   \n",
       "33       10025.0                        NaN                  NaN   \n",
       "34       10025.0              2754 BROADWAY             BROADWAY   \n",
       "35       11433.0            173-41 103 ROAD             103 ROAD   \n",
       "36       11235.0                        NaN                  NaN   \n",
       "37       11216.0        826 ST JOHN'S PLACE      ST JOHN'S PLACE   \n",
       "38       11213.0                        NaN                  NaN   \n",
       "39       11379.0              78-41 68 ROAD              68 ROAD   \n",
       "40       11101.0      34-19 STEINWAY STREET      STEINWAY STREET   \n",
       "41       10014.0      12 CHRISTOPHER STREET   CHRISTOPHER STREET   \n",
       "42       11231.0        325 COLUMBIA STREET      COLUMBIA STREET   \n",
       "43       11234.0       2192 FLATBUSH AVENUE      FLATBUSH AVENUE   \n",
       "44       10457.0         CROTONA PARK NORTH   CROTONA PARK NORTH   \n",
       "45       10459.0        819 EAST 167 STREET      EAST 167 STREET   \n",
       "46       10465.0   4005 EAST TREMONT AVENUE  EAST TREMONT AVENUE   \n",
       "47       10036.0                        NaN                  NaN   \n",
       "48       10014.0      12 CHRISTOPHER STREET   CHRISTOPHER STREET   \n",
       "\n",
       "      Cross Street 1                    Cross Street 2 Intersection Street 1  \\\n",
       "0          90 AVENUE                         91 AVENUE                   NaN   \n",
       "1           58 PLACE                         59 STREET                   NaN   \n",
       "2    WEST 171 STREET                   WEST 172 STREET                   NaN   \n",
       "3    COLUMBUS AVENUE                  AMSTERDAM AVENUE                   NaN   \n",
       "4       LENOX AVENUE  ADAM CLAYTON POWELL JR BOULEVARD                   NaN   \n",
       "5          84 STREET                         85 STREET                   NaN   \n",
       "6         107 AVENUE                        109 AVENUE                   NaN   \n",
       "7      PITKIN AVENUE                  VAN WICKLEN ROAD                   NaN   \n",
       "8           7 AVENUE                          8 AVENUE                   NaN   \n",
       "9       UNION STREET                  PRESIDENT STREET                   NaN   \n",
       "10     EAST 9 STREET                     EAST 8 STREET                   NaN   \n",
       "11    EAST 11 STREET                    EAST 12 STREET                   NaN   \n",
       "12    MADISON AVENUE                       PARK AVENUE                   NaN   \n",
       "13               NaN                               NaN         STRANG AVENUE   \n",
       "14         13 AVENUE                         14 AVENUE                   NaN   \n",
       "15               NaN                               NaN      WEST   99 STREET   \n",
       "16  HENDERSON AVENUE                      WINEGAR LANE                   NaN   \n",
       "17               NaN                               NaN      ROCKAWAY PARKWAY   \n",
       "18        CHURCH AVE                        SNYDER AVE                   NaN   \n",
       "19               NaN                               NaN      WEST  184 STREET   \n",
       "20     ROGERS AVENUE                   NOSTRAND AVENUE                   NaN   \n",
       "21               NaN                               NaN                   NaN   \n",
       "22               NaN                               NaN            112 STREET   \n",
       "23    MADISON STREET                     PUTNAM AVENUE                   NaN   \n",
       "24      LYMAN AVENUE                       SCHOOL ROAD                   NaN   \n",
       "25     HAMPTON GREEN                          DEAD END                   NaN   \n",
       "26        CHURCH AVE                       LINDEN BLVD                   NaN   \n",
       "27  AMSTERDAM AVENUE                          BROADWAY                   NaN   \n",
       "28      LENOX AVENUE                          7 AVENUE                   NaN   \n",
       "29       VAIL AVENUE                      BAYVIEW LANE                   NaN   \n",
       "30     HAMPTON GREEN                          DEAD END                   NaN   \n",
       "31    EAST 80 STREET                    EAST 81 STREET                   NaN   \n",
       "32    WEST 45 STREET                    WEST 46 STREET                   NaN   \n",
       "33               NaN                               NaN      WEST   99 STREET   \n",
       "34   WEST 105 STREET                   WEST 106 STREET                   NaN   \n",
       "35        173 STREET                        177 STREET                   NaN   \n",
       "36               NaN                               NaN       SHORE BOULEVARD   \n",
       "37     ROGERS AVENUE                   NOSTRAND AVENUE                   NaN   \n",
       "38               NaN                               NaN        BUFFALO AVENUE   \n",
       "39         78 STREET                         79 STREET                   NaN   \n",
       "40         34 AVENUE                         35 AVENUE                   NaN   \n",
       "41  GREENWICH AVENUE                        GAY STREET                   NaN   \n",
       "42               NaN                               NaN                   NaN   \n",
       "43    EAST 46 STREET                          AVENUE O                   NaN   \n",
       "44    CLINTON AVENUE                   PROSPECT AVENUE                   NaN   \n",
       "45      UNION AVENUE                   PROSPECT AVENUE                   NaN   \n",
       "46    SAMPSON AVENUE                      GERBER PLACE                   NaN   \n",
       "47               NaN                               NaN      WEST   46 STREET   \n",
       "48  GREENWICH AVENUE                        GAY STREET                   NaN   \n",
       "\n",
       "   Intersection Street 2  Address Type                 City  \n",
       "0                    NaN       ADDRESS              JAMAICA  \n",
       "1                    NaN     BLOCKFACE              MASPETH  \n",
       "2                    NaN       ADDRESS             NEW YORK  \n",
       "3                    NaN     BLOCKFACE             NEW YORK  \n",
       "4                    NaN     BLOCKFACE             NEW YORK  \n",
       "5                    NaN     BLOCKFACE      JACKSON HEIGHTS  \n",
       "6                    NaN       ADDRESS  SOUTH RICHMOND HILL  \n",
       "7                    NaN       ADDRESS           OZONE PARK  \n",
       "8                    NaN       ADDRESS             NEW YORK  \n",
       "9                    NaN       ADDRESS             BROOKLYN  \n",
       "10                   NaN       ADDRESS             BROOKLYN  \n",
       "11                   NaN       ADDRESS             NEW YORK  \n",
       "12                   NaN       ADDRESS             NEW YORK  \n",
       "13       AMUNDSON AVENUE  INTERSECTION                BRONX  \n",
       "14                   NaN     BLOCKFACE             BROOKLYN  \n",
       "15              BROADWAY  INTERSECTION             NEW YORK  \n",
       "16                   NaN       ADDRESS        STATEN ISLAND  \n",
       "17       SKIDMORE AVENUE  INTERSECTION             BROOKLYN  \n",
       "18                   NaN       ADDRESS                  NaN  \n",
       "19              BROADWAY  INTERSECTION             NEW YORK  \n",
       "20                   NaN       ADDRESS             BROOKLYN  \n",
       "21                   NaN       LATLONG             NEW YORK  \n",
       "22       ATLANTIC AVENUE  INTERSECTION  SOUTH RICHMOND HILL  \n",
       "23                   NaN       ADDRESS             BROOKLYN  \n",
       "24                   NaN       ADDRESS        STATEN ISLAND  \n",
       "25                   NaN       ADDRESS        STATEN ISLAND  \n",
       "26                   NaN     BLOCKFACE                  NaN  \n",
       "27                   NaN       ADDRESS             NEW YORK  \n",
       "28                   NaN       ADDRESS             NEW YORK  \n",
       "29                   NaN       ADDRESS        STATEN ISLAND  \n",
       "30                   NaN       ADDRESS        STATEN ISLAND  \n",
       "31                   NaN     BLOCKFACE             BROOKLYN  \n",
       "32                   NaN       ADDRESS             NEW YORK  \n",
       "33      AMSTERDAM AVENUE  INTERSECTION             NEW YORK  \n",
       "34                   NaN       ADDRESS             NEW YORK  \n",
       "35                   NaN       ADDRESS              JAMAICA  \n",
       "36            CASS PLACE  INTERSECTION             BROOKLYN  \n",
       "37                   NaN       ADDRESS             BROOKLYN  \n",
       "38            PARK PLACE  INTERSECTION             BROOKLYN  \n",
       "39                   NaN       ADDRESS       MIDDLE VILLAGE  \n",
       "40                   NaN       ADDRESS     LONG ISLAND CITY  \n",
       "41                   NaN       ADDRESS             NEW YORK  \n",
       "42                   NaN       LATLONG             BROOKLYN  \n",
       "43                   NaN       ADDRESS             BROOKLYN  \n",
       "44                   NaN     BLOCKFACE                BRONX  \n",
       "45                   NaN       ADDRESS                BRONX  \n",
       "46                   NaN       ADDRESS                BRONX  \n",
       "47             10 AVENUE  INTERSECTION             NEW YORK  \n",
       "48                   NaN       ADDRESS             NEW YORK  "
      ]
     },
     "execution_count": 2,
     "metadata": {},
     "output_type": "execute_result"
    }
   ],
   "source": [
    "ss=pd.read_csv('Service_dataset.csv')\n",
    "ss"
   ]
  },
  {
   "cell_type": "code",
   "execution_count": 3,
   "metadata": {
    "scrolled": true
   },
   "outputs": [
    {
     "data": {
      "text/plain": [
       "0      Noise - Street/Sidewalk\n",
       "1              Illegal Parking\n",
       "2           Noise - Commercial\n",
       "3              Noise - Vehicle\n",
       "4                       Rodent\n",
       "5           Noise - Commercial\n",
       "6             Blocked Driveway\n",
       "7           Noise - Commercial\n",
       "8           Noise - Commercial\n",
       "9           Noise - Commercial\n",
       "10    Noise - House of Worship\n",
       "11          Noise - Commercial\n",
       "12             Illegal Parking\n",
       "13             Noise - Vehicle\n",
       "14                      Rodent\n",
       "15    Noise - House of Worship\n",
       "16     Noise - Street/Sidewalk\n",
       "17             Illegal Parking\n",
       "18      Street Light Condition\n",
       "19          Noise - Commercial\n",
       "20    Noise - House of Worship\n",
       "21          Noise - Commercial\n",
       "22             Noise - Vehicle\n",
       "23          Noise - Commercial\n",
       "24            Blocked Driveway\n",
       "25     Noise - Street/Sidewalk\n",
       "26      Street Light Condition\n",
       "27        Harboring Bees/Wasps\n",
       "28     Noise - Street/Sidewalk\n",
       "29      Street Light Condition\n",
       "30            Blocked Driveway\n",
       "31     Noise - Street/Sidewalk\n",
       "32              Taxi Complaint\n",
       "33    Noise - House of Worship\n",
       "34         Homeless Encampment\n",
       "35            Blocked Driveway\n",
       "36    Traffic Signal Condition\n",
       "37          Noise - Commercial\n",
       "38    Traffic Signal Condition\n",
       "39            Blocked Driveway\n",
       "40          Noise - Commercial\n",
       "41          Food Establishment\n",
       "42          Noise - Commercial\n",
       "43          Noise - Commercial\n",
       "44                Noise - Park\n",
       "45     Noise - Street/Sidewalk\n",
       "46          Noise - Commercial\n",
       "47              Taxi Complaint\n",
       "48          Noise - Commercial\n",
       "Name: Complaint Type, dtype: object"
      ]
     },
     "execution_count": 3,
     "metadata": {},
     "output_type": "execute_result"
    }
   ],
   "source": [
    "ss['Complaint Type']"
   ]
  },
  {
   "cell_type": "code",
   "execution_count": 4,
   "metadata": {
    "scrolled": true
   },
   "outputs": [
    {
     "data": {
      "text/plain": [
       "array(['Noise - Street/Sidewalk', 'Illegal Parking', 'Noise - Commercial',\n",
       "       'Noise - Vehicle', 'Rodent', 'Blocked Driveway',\n",
       "       'Noise - House of Worship', 'Street Light Condition',\n",
       "       'Harboring Bees/Wasps', 'Taxi Complaint', 'Homeless Encampment',\n",
       "       'Traffic Signal Condition', 'Food Establishment', 'Noise - Park'],\n",
       "      dtype=object)"
      ]
     },
     "execution_count": 4,
     "metadata": {},
     "output_type": "execute_result"
    }
   ],
   "source": [
    "ss['Complaint Type'].unique()"
   ]
  },
  {
   "cell_type": "code",
   "execution_count": 5,
   "metadata": {},
   "outputs": [
    {
     "data": {
      "text/plain": [
       "49"
      ]
     },
     "execution_count": 5,
     "metadata": {},
     "output_type": "execute_result"
    }
   ],
   "source": [
    "ss['Complaint Type'].count()"
   ]
  },
  {
   "cell_type": "code",
   "execution_count": 6,
   "metadata": {},
   "outputs": [
    {
     "data": {
      "text/plain": [
       "0          ADDRESS\n",
       "1        BLOCKFACE\n",
       "2          ADDRESS\n",
       "3        BLOCKFACE\n",
       "4        BLOCKFACE\n",
       "5        BLOCKFACE\n",
       "6          ADDRESS\n",
       "7          ADDRESS\n",
       "8          ADDRESS\n",
       "9          ADDRESS\n",
       "10         ADDRESS\n",
       "11         ADDRESS\n",
       "12         ADDRESS\n",
       "13    INTERSECTION\n",
       "14       BLOCKFACE\n",
       "15    INTERSECTION\n",
       "16         ADDRESS\n",
       "17    INTERSECTION\n",
       "18         ADDRESS\n",
       "19    INTERSECTION\n",
       "20         ADDRESS\n",
       "21         LATLONG\n",
       "22    INTERSECTION\n",
       "23         ADDRESS\n",
       "24         ADDRESS\n",
       "25         ADDRESS\n",
       "26       BLOCKFACE\n",
       "27         ADDRESS\n",
       "28         ADDRESS\n",
       "29         ADDRESS\n",
       "30         ADDRESS\n",
       "31       BLOCKFACE\n",
       "32         ADDRESS\n",
       "33    INTERSECTION\n",
       "34         ADDRESS\n",
       "35         ADDRESS\n",
       "36    INTERSECTION\n",
       "37         ADDRESS\n",
       "38    INTERSECTION\n",
       "39         ADDRESS\n",
       "40         ADDRESS\n",
       "41         ADDRESS\n",
       "42         LATLONG\n",
       "43         ADDRESS\n",
       "44       BLOCKFACE\n",
       "45         ADDRESS\n",
       "46         ADDRESS\n",
       "47    INTERSECTION\n",
       "48         ADDRESS\n",
       "Name: Address Type, dtype: object"
      ]
     },
     "execution_count": 6,
     "metadata": {},
     "output_type": "execute_result"
    }
   ],
   "source": [
    "ss['Address Type']"
   ]
  },
  {
   "cell_type": "code",
   "execution_count": 7,
   "metadata": {},
   "outputs": [
    {
     "data": {
      "text/plain": [
       "array(['ADDRESS', 'BLOCKFACE', 'INTERSECTION', 'LATLONG'], dtype=object)"
      ]
     },
     "execution_count": 7,
     "metadata": {},
     "output_type": "execute_result"
    }
   ],
   "source": [
    "ss['Address Type'].unique()"
   ]
  },
  {
   "cell_type": "code",
   "execution_count": 8,
   "metadata": {},
   "outputs": [
    {
     "data": {
      "text/plain": [
       "0                 JAMAICA\n",
       "1                 MASPETH\n",
       "2                NEW YORK\n",
       "3                NEW YORK\n",
       "4                NEW YORK\n",
       "5         JACKSON HEIGHTS\n",
       "6     SOUTH RICHMOND HILL\n",
       "7              OZONE PARK\n",
       "8                NEW YORK\n",
       "9                BROOKLYN\n",
       "10               BROOKLYN\n",
       "11               NEW YORK\n",
       "12               NEW YORK\n",
       "13                  BRONX\n",
       "14               BROOKLYN\n",
       "15               NEW YORK\n",
       "16          STATEN ISLAND\n",
       "17               BROOKLYN\n",
       "18                    NaN\n",
       "19               NEW YORK\n",
       "20               BROOKLYN\n",
       "21               NEW YORK\n",
       "22    SOUTH RICHMOND HILL\n",
       "23               BROOKLYN\n",
       "24          STATEN ISLAND\n",
       "25          STATEN ISLAND\n",
       "26                    NaN\n",
       "27               NEW YORK\n",
       "28               NEW YORK\n",
       "29          STATEN ISLAND\n",
       "30          STATEN ISLAND\n",
       "31               BROOKLYN\n",
       "32               NEW YORK\n",
       "33               NEW YORK\n",
       "34               NEW YORK\n",
       "35                JAMAICA\n",
       "36               BROOKLYN\n",
       "37               BROOKLYN\n",
       "38               BROOKLYN\n",
       "39         MIDDLE VILLAGE\n",
       "40       LONG ISLAND CITY\n",
       "41               NEW YORK\n",
       "42               BROOKLYN\n",
       "43               BROOKLYN\n",
       "44                  BRONX\n",
       "45                  BRONX\n",
       "46                  BRONX\n",
       "47               NEW YORK\n",
       "48               NEW YORK\n",
       "Name: City, dtype: object"
      ]
     },
     "execution_count": 8,
     "metadata": {},
     "output_type": "execute_result"
    }
   ],
   "source": [
    "ss['City']"
   ]
  },
  {
   "cell_type": "code",
   "execution_count": 9,
   "metadata": {},
   "outputs": [
    {
     "data": {
      "text/plain": [
       "array(['JAMAICA', 'MASPETH', 'NEW YORK', 'JACKSON HEIGHTS',\n",
       "       'SOUTH RICHMOND HILL', 'OZONE PARK', 'BROOKLYN', 'BRONX',\n",
       "       'STATEN ISLAND', nan, 'MIDDLE VILLAGE', 'LONG ISLAND CITY'],\n",
       "      dtype=object)"
      ]
     },
     "execution_count": 9,
     "metadata": {},
     "output_type": "execute_result"
    }
   ],
   "source": [
    "ss['City'].unique()"
   ]
  },
  {
   "cell_type": "code",
   "execution_count": 10,
   "metadata": {},
   "outputs": [
    {
     "data": {
      "text/html": [
       "<div>\n",
       "<style scoped>\n",
       "    .dataframe tbody tr th:only-of-type {\n",
       "        vertical-align: middle;\n",
       "    }\n",
       "\n",
       "    .dataframe tbody tr th {\n",
       "        vertical-align: top;\n",
       "    }\n",
       "\n",
       "    .dataframe thead th {\n",
       "        text-align: right;\n",
       "    }\n",
       "</style>\n",
       "<table border=\"1\" class=\"dataframe\">\n",
       "  <thead>\n",
       "    <tr style=\"text-align: right;\">\n",
       "      <th></th>\n",
       "      <th>Complaint Type</th>\n",
       "      <th>Descriptor</th>\n",
       "    </tr>\n",
       "  </thead>\n",
       "  <tbody>\n",
       "    <tr>\n",
       "      <th>0</th>\n",
       "      <td>Noise - Street/Sidewalk</td>\n",
       "      <td>Loud Talking</td>\n",
       "    </tr>\n",
       "    <tr>\n",
       "      <th>1</th>\n",
       "      <td>Illegal Parking</td>\n",
       "      <td>Commercial Overnight Parking</td>\n",
       "    </tr>\n",
       "    <tr>\n",
       "      <th>2</th>\n",
       "      <td>Noise - Commercial</td>\n",
       "      <td>Loud Music/Party</td>\n",
       "    </tr>\n",
       "    <tr>\n",
       "      <th>3</th>\n",
       "      <td>Noise - Vehicle</td>\n",
       "      <td>Car/Truck Horn</td>\n",
       "    </tr>\n",
       "    <tr>\n",
       "      <th>4</th>\n",
       "      <td>Rodent</td>\n",
       "      <td>Condition Attracting Rodents</td>\n",
       "    </tr>\n",
       "    <tr>\n",
       "      <th>5</th>\n",
       "      <td>Noise - Commercial</td>\n",
       "      <td>Banging/Pounding</td>\n",
       "    </tr>\n",
       "    <tr>\n",
       "      <th>6</th>\n",
       "      <td>Blocked Driveway</td>\n",
       "      <td>No Access</td>\n",
       "    </tr>\n",
       "    <tr>\n",
       "      <th>7</th>\n",
       "      <td>Noise - Commercial</td>\n",
       "      <td>Loud Music/Party</td>\n",
       "    </tr>\n",
       "    <tr>\n",
       "      <th>8</th>\n",
       "      <td>Noise - Commercial</td>\n",
       "      <td>Loud Talking</td>\n",
       "    </tr>\n",
       "    <tr>\n",
       "      <th>9</th>\n",
       "      <td>Noise - Commercial</td>\n",
       "      <td>Loud Music/Party</td>\n",
       "    </tr>\n",
       "    <tr>\n",
       "      <th>10</th>\n",
       "      <td>Noise - House of Worship</td>\n",
       "      <td>Loud Music/Party</td>\n",
       "    </tr>\n",
       "    <tr>\n",
       "      <th>11</th>\n",
       "      <td>Noise - Commercial</td>\n",
       "      <td>Loud Music/Party</td>\n",
       "    </tr>\n",
       "    <tr>\n",
       "      <th>12</th>\n",
       "      <td>Illegal Parking</td>\n",
       "      <td>Double Parked Blocking Vehicle</td>\n",
       "    </tr>\n",
       "    <tr>\n",
       "      <th>13</th>\n",
       "      <td>Noise - Vehicle</td>\n",
       "      <td>Engine Idling</td>\n",
       "    </tr>\n",
       "    <tr>\n",
       "      <th>14</th>\n",
       "      <td>Rodent</td>\n",
       "      <td>Rat Sighting</td>\n",
       "    </tr>\n",
       "    <tr>\n",
       "      <th>15</th>\n",
       "      <td>Noise - House of Worship</td>\n",
       "      <td>Loud Music/Party</td>\n",
       "    </tr>\n",
       "    <tr>\n",
       "      <th>16</th>\n",
       "      <td>Noise - Street/Sidewalk</td>\n",
       "      <td>Loud Music/Party</td>\n",
       "    </tr>\n",
       "    <tr>\n",
       "      <th>17</th>\n",
       "      <td>Illegal Parking</td>\n",
       "      <td>Posted Parking Sign Violation</td>\n",
       "    </tr>\n",
       "    <tr>\n",
       "      <th>18</th>\n",
       "      <td>Street Light Condition</td>\n",
       "      <td>Street Light Out</td>\n",
       "    </tr>\n",
       "    <tr>\n",
       "      <th>19</th>\n",
       "      <td>Noise - Commercial</td>\n",
       "      <td>Loud Music/Party</td>\n",
       "    </tr>\n",
       "    <tr>\n",
       "      <th>20</th>\n",
       "      <td>Noise - House of Worship</td>\n",
       "      <td>Loud Music/Party</td>\n",
       "    </tr>\n",
       "    <tr>\n",
       "      <th>21</th>\n",
       "      <td>Noise - Commercial</td>\n",
       "      <td>Banging/Pounding</td>\n",
       "    </tr>\n",
       "    <tr>\n",
       "      <th>22</th>\n",
       "      <td>Noise - Vehicle</td>\n",
       "      <td>Car/Truck Music</td>\n",
       "    </tr>\n",
       "    <tr>\n",
       "      <th>23</th>\n",
       "      <td>Noise - Commercial</td>\n",
       "      <td>Loud Music/Party</td>\n",
       "    </tr>\n",
       "    <tr>\n",
       "      <th>24</th>\n",
       "      <td>Blocked Driveway</td>\n",
       "      <td>Partial Access</td>\n",
       "    </tr>\n",
       "    <tr>\n",
       "      <th>25</th>\n",
       "      <td>Noise - Street/Sidewalk</td>\n",
       "      <td>Loud Talking</td>\n",
       "    </tr>\n",
       "    <tr>\n",
       "      <th>26</th>\n",
       "      <td>Street Light Condition</td>\n",
       "      <td>Street Light Out</td>\n",
       "    </tr>\n",
       "    <tr>\n",
       "      <th>27</th>\n",
       "      <td>Harboring Bees/Wasps</td>\n",
       "      <td>Bees/Wasps - Not a beekeper</td>\n",
       "    </tr>\n",
       "    <tr>\n",
       "      <th>28</th>\n",
       "      <td>Noise - Street/Sidewalk</td>\n",
       "      <td>Loud Talking</td>\n",
       "    </tr>\n",
       "    <tr>\n",
       "      <th>29</th>\n",
       "      <td>Street Light Condition</td>\n",
       "      <td>Street Light Out</td>\n",
       "    </tr>\n",
       "    <tr>\n",
       "      <th>30</th>\n",
       "      <td>Blocked Driveway</td>\n",
       "      <td>No Access</td>\n",
       "    </tr>\n",
       "    <tr>\n",
       "      <th>31</th>\n",
       "      <td>Noise - Street/Sidewalk</td>\n",
       "      <td>Loud Music/Party</td>\n",
       "    </tr>\n",
       "    <tr>\n",
       "      <th>32</th>\n",
       "      <td>Taxi Complaint</td>\n",
       "      <td>Driver Complaint</td>\n",
       "    </tr>\n",
       "    <tr>\n",
       "      <th>33</th>\n",
       "      <td>Noise - House of Worship</td>\n",
       "      <td>Banging/Pounding</td>\n",
       "    </tr>\n",
       "    <tr>\n",
       "      <th>34</th>\n",
       "      <td>Homeless Encampment</td>\n",
       "      <td>NaN</td>\n",
       "    </tr>\n",
       "    <tr>\n",
       "      <th>35</th>\n",
       "      <td>Blocked Driveway</td>\n",
       "      <td>No Access</td>\n",
       "    </tr>\n",
       "    <tr>\n",
       "      <th>36</th>\n",
       "      <td>Traffic Signal Condition</td>\n",
       "      <td>Controller</td>\n",
       "    </tr>\n",
       "    <tr>\n",
       "      <th>37</th>\n",
       "      <td>Noise - Commercial</td>\n",
       "      <td>Loud Music/Party</td>\n",
       "    </tr>\n",
       "    <tr>\n",
       "      <th>38</th>\n",
       "      <td>Traffic Signal Condition</td>\n",
       "      <td>Controller</td>\n",
       "    </tr>\n",
       "    <tr>\n",
       "      <th>39</th>\n",
       "      <td>Blocked Driveway</td>\n",
       "      <td>No Access</td>\n",
       "    </tr>\n",
       "    <tr>\n",
       "      <th>40</th>\n",
       "      <td>Noise - Commercial</td>\n",
       "      <td>Loud Music/Party</td>\n",
       "    </tr>\n",
       "    <tr>\n",
       "      <th>41</th>\n",
       "      <td>Food Establishment</td>\n",
       "      <td>Rodents/Insects/Garbage</td>\n",
       "    </tr>\n",
       "    <tr>\n",
       "      <th>42</th>\n",
       "      <td>Noise - Commercial</td>\n",
       "      <td>Loud Music/Party</td>\n",
       "    </tr>\n",
       "    <tr>\n",
       "      <th>43</th>\n",
       "      <td>Noise - Commercial</td>\n",
       "      <td>Loud Music/Party</td>\n",
       "    </tr>\n",
       "    <tr>\n",
       "      <th>44</th>\n",
       "      <td>Noise - Park</td>\n",
       "      <td>Loud Talking</td>\n",
       "    </tr>\n",
       "    <tr>\n",
       "      <th>45</th>\n",
       "      <td>Noise - Street/Sidewalk</td>\n",
       "      <td>Loud Music/Party</td>\n",
       "    </tr>\n",
       "    <tr>\n",
       "      <th>46</th>\n",
       "      <td>Noise - Commercial</td>\n",
       "      <td>Loud Music/Party</td>\n",
       "    </tr>\n",
       "    <tr>\n",
       "      <th>47</th>\n",
       "      <td>Taxi Complaint</td>\n",
       "      <td>Driver Complaint</td>\n",
       "    </tr>\n",
       "    <tr>\n",
       "      <th>48</th>\n",
       "      <td>Noise - Commercial</td>\n",
       "      <td>Loud Music/Party</td>\n",
       "    </tr>\n",
       "  </tbody>\n",
       "</table>\n",
       "</div>"
      ],
      "text/plain": [
       "              Complaint Type                      Descriptor\n",
       "0    Noise - Street/Sidewalk                    Loud Talking\n",
       "1            Illegal Parking    Commercial Overnight Parking\n",
       "2         Noise - Commercial                Loud Music/Party\n",
       "3            Noise - Vehicle                  Car/Truck Horn\n",
       "4                     Rodent    Condition Attracting Rodents\n",
       "5         Noise - Commercial                Banging/Pounding\n",
       "6           Blocked Driveway                       No Access\n",
       "7         Noise - Commercial                Loud Music/Party\n",
       "8         Noise - Commercial                    Loud Talking\n",
       "9         Noise - Commercial                Loud Music/Party\n",
       "10  Noise - House of Worship                Loud Music/Party\n",
       "11        Noise - Commercial                Loud Music/Party\n",
       "12           Illegal Parking  Double Parked Blocking Vehicle\n",
       "13           Noise - Vehicle                   Engine Idling\n",
       "14                    Rodent                    Rat Sighting\n",
       "15  Noise - House of Worship                Loud Music/Party\n",
       "16   Noise - Street/Sidewalk                Loud Music/Party\n",
       "17           Illegal Parking   Posted Parking Sign Violation\n",
       "18    Street Light Condition                Street Light Out\n",
       "19        Noise - Commercial                Loud Music/Party\n",
       "20  Noise - House of Worship                Loud Music/Party\n",
       "21        Noise - Commercial                Banging/Pounding\n",
       "22           Noise - Vehicle                 Car/Truck Music\n",
       "23        Noise - Commercial                Loud Music/Party\n",
       "24          Blocked Driveway                  Partial Access\n",
       "25   Noise - Street/Sidewalk                    Loud Talking\n",
       "26    Street Light Condition                Street Light Out\n",
       "27      Harboring Bees/Wasps     Bees/Wasps - Not a beekeper\n",
       "28   Noise - Street/Sidewalk                    Loud Talking\n",
       "29    Street Light Condition                Street Light Out\n",
       "30          Blocked Driveway                       No Access\n",
       "31   Noise - Street/Sidewalk                Loud Music/Party\n",
       "32            Taxi Complaint                Driver Complaint\n",
       "33  Noise - House of Worship                Banging/Pounding\n",
       "34       Homeless Encampment                             NaN\n",
       "35          Blocked Driveway                       No Access\n",
       "36  Traffic Signal Condition                      Controller\n",
       "37        Noise - Commercial                Loud Music/Party\n",
       "38  Traffic Signal Condition                      Controller\n",
       "39          Blocked Driveway                       No Access\n",
       "40        Noise - Commercial                Loud Music/Party\n",
       "41        Food Establishment         Rodents/Insects/Garbage\n",
       "42        Noise - Commercial                Loud Music/Party\n",
       "43        Noise - Commercial                Loud Music/Party\n",
       "44              Noise - Park                    Loud Talking\n",
       "45   Noise - Street/Sidewalk                Loud Music/Party\n",
       "46        Noise - Commercial                Loud Music/Party\n",
       "47            Taxi Complaint                Driver Complaint\n",
       "48        Noise - Commercial                Loud Music/Party"
      ]
     },
     "execution_count": 10,
     "metadata": {},
     "output_type": "execute_result"
    }
   ],
   "source": [
    "ss[['Complaint Type','Descriptor']]"
   ]
  },
  {
   "cell_type": "code",
   "execution_count": 11,
   "metadata": {},
   "outputs": [
    {
     "data": {
      "text/html": [
       "<div>\n",
       "<style scoped>\n",
       "    .dataframe tbody tr th:only-of-type {\n",
       "        vertical-align: middle;\n",
       "    }\n",
       "\n",
       "    .dataframe tbody tr th {\n",
       "        vertical-align: top;\n",
       "    }\n",
       "\n",
       "    .dataframe thead th {\n",
       "        text-align: right;\n",
       "    }\n",
       "</style>\n",
       "<table border=\"1\" class=\"dataframe\">\n",
       "  <thead>\n",
       "    <tr style=\"text-align: right;\">\n",
       "      <th></th>\n",
       "      <th>Complaint Type</th>\n",
       "      <th>Descriptor</th>\n",
       "      <th>City</th>\n",
       "    </tr>\n",
       "  </thead>\n",
       "  <tbody>\n",
       "    <tr>\n",
       "      <th>0</th>\n",
       "      <td>Noise - Street/Sidewalk</td>\n",
       "      <td>Loud Talking</td>\n",
       "      <td>JAMAICA</td>\n",
       "    </tr>\n",
       "    <tr>\n",
       "      <th>1</th>\n",
       "      <td>Illegal Parking</td>\n",
       "      <td>Commercial Overnight Parking</td>\n",
       "      <td>MASPETH</td>\n",
       "    </tr>\n",
       "    <tr>\n",
       "      <th>2</th>\n",
       "      <td>Noise - Commercial</td>\n",
       "      <td>Loud Music/Party</td>\n",
       "      <td>NEW YORK</td>\n",
       "    </tr>\n",
       "    <tr>\n",
       "      <th>3</th>\n",
       "      <td>Noise - Vehicle</td>\n",
       "      <td>Car/Truck Horn</td>\n",
       "      <td>NEW YORK</td>\n",
       "    </tr>\n",
       "    <tr>\n",
       "      <th>4</th>\n",
       "      <td>Rodent</td>\n",
       "      <td>Condition Attracting Rodents</td>\n",
       "      <td>NEW YORK</td>\n",
       "    </tr>\n",
       "    <tr>\n",
       "      <th>5</th>\n",
       "      <td>Noise - Commercial</td>\n",
       "      <td>Banging/Pounding</td>\n",
       "      <td>JACKSON HEIGHTS</td>\n",
       "    </tr>\n",
       "    <tr>\n",
       "      <th>6</th>\n",
       "      <td>Blocked Driveway</td>\n",
       "      <td>No Access</td>\n",
       "      <td>SOUTH RICHMOND HILL</td>\n",
       "    </tr>\n",
       "  </tbody>\n",
       "</table>\n",
       "</div>"
      ],
      "text/plain": [
       "            Complaint Type                    Descriptor                 City\n",
       "0  Noise - Street/Sidewalk                  Loud Talking              JAMAICA\n",
       "1          Illegal Parking  Commercial Overnight Parking              MASPETH\n",
       "2       Noise - Commercial              Loud Music/Party             NEW YORK\n",
       "3          Noise - Vehicle                Car/Truck Horn             NEW YORK\n",
       "4                   Rodent  Condition Attracting Rodents             NEW YORK\n",
       "5       Noise - Commercial              Banging/Pounding      JACKSON HEIGHTS\n",
       "6         Blocked Driveway                     No Access  SOUTH RICHMOND HILL"
      ]
     },
     "execution_count": 11,
     "metadata": {},
     "output_type": "execute_result"
    }
   ],
   "source": [
    "ss[['Complaint Type','Descriptor','City']][:7]"
   ]
  },
  {
   "cell_type": "code",
   "execution_count": 12,
   "metadata": {},
   "outputs": [
    {
     "data": {
      "text/plain": [
       "Noise - Commercial          15\n",
       "Noise - Street/Sidewalk      6\n",
       "Blocked Driveway             5\n",
       "Noise - House of Worship     4\n",
       "Illegal Parking              3\n",
       "Noise - Vehicle              3\n",
       "Street Light Condition       3\n",
       "Rodent                       2\n",
       "Taxi Complaint               2\n",
       "Traffic Signal Condition     2\n",
       "Harboring Bees/Wasps         1\n",
       "Noise - Park                 1\n",
       "Homeless Encampment          1\n",
       "Food Establishment           1\n",
       "Name: Complaint Type, dtype: int64"
      ]
     },
     "execution_count": 12,
     "metadata": {},
     "output_type": "execute_result"
    }
   ],
   "source": [
    "ss['Complaint Type'].value_counts()\n",
    "\n",
    "#complaint type ke ander jo chiz hai uske value count jo hain wo bataega"
   ]
  },
  {
   "cell_type": "code",
   "execution_count": 13,
   "metadata": {},
   "outputs": [
    {
     "data": {
      "text/plain": [
       "NEW YORK               17\n",
       "BROOKLYN               12\n",
       "STATEN ISLAND           5\n",
       "BRONX                   4\n",
       "JAMAICA                 2\n",
       "SOUTH RICHMOND HILL     2\n",
       "LONG ISLAND CITY        1\n",
       "MASPETH                 1\n",
       "MIDDLE VILLAGE          1\n",
       "OZONE PARK              1\n",
       "JACKSON HEIGHTS         1\n",
       "Name: City, dtype: int64"
      ]
     },
     "execution_count": 13,
     "metadata": {},
     "output_type": "execute_result"
    }
   ],
   "source": [
    "ss['City'].value_counts()\n"
   ]
  },
  {
   "cell_type": "code",
   "execution_count": 14,
   "metadata": {},
   "outputs": [
    {
     "data": {
      "text/plain": [
       "Noise - Commercial          15\n",
       "Noise - Street/Sidewalk      6\n",
       "Blocked Driveway             5\n",
       "Noise - House of Worship     4\n",
       "Illegal Parking              3\n",
       "Noise - Vehicle              3\n",
       "Street Light Condition       3\n",
       "Rodent                       2\n",
       "Taxi Complaint               2\n",
       "Traffic Signal Condition     2\n",
       "Harboring Bees/Wasps         1\n",
       "Noise - Park                 1\n",
       "Homeless Encampment          1\n",
       "Food Establishment           1\n",
       "Name: Complaint Type, dtype: int64"
      ]
     },
     "execution_count": 14,
     "metadata": {},
     "output_type": "execute_result"
    }
   ],
   "source": [
    "se=ss['Complaint Type'].value_counts()\n",
    "se"
   ]
  },
  {
   "cell_type": "code",
   "execution_count": 15,
   "metadata": {},
   "outputs": [
    {
     "data": {
      "text/plain": [
       "<AxesSubplot:>"
      ]
     },
     "execution_count": 15,
     "metadata": {},
     "output_type": "execute_result"
    },
    {
     "data": {
      "image/png": "[encoded data removed]",
      "text/plain": [
       "<Figure size 432x288 with 1 Axes>"
      ]
     },
     "metadata": {
      "needs_background": "light"
     },
     "output_type": "display_data"
    }
   ],
   "source": [
    "se[:20].plot(kind='bar')"
   ]
  },
  {
   "cell_type": "code",
   "execution_count": 17,
   "metadata": {},
   "outputs": [
    {
     "data": {
      "text/plain": [
       "array(['NYPD', 'DOHMH', 'DOT', 'TLC'], dtype=object)"
      ]
     },
     "execution_count": 17,
     "metadata": {},
     "output_type": "execute_result"
    }
   ],
   "source": [
    "ss['Agency'].unique()"
   ]
  },
  {
   "cell_type": "code",
   "execution_count": 18,
   "metadata": {},
   "outputs": [
    {
     "data": {
      "text/plain": [
       "'TLC'"
      ]
     },
     "execution_count": 18,
     "metadata": {},
     "output_type": "execute_result"
    }
   ],
   "source": [
    "ss['Agency'].max()"
   ]
  },
  {
   "cell_type": "code",
   "execution_count": null,
   "metadata": {},
   "outputs": [],
   "source": []
  }
 ],
 "metadata": {
  "kernelspec": {
   "display_name": "Python 3",
   "language": "python",
   "name": "python3"
  },
  "language_info": {
   "codemirror_mode": {
    "name": "ipython",
    "version": 3
   },
   "file_extension": ".py",
   "mimetype": "text/x-python",
   "name": "python",
   "nbconvert_exporter": "python",
   "pygments_lexer": "ipython3",
   "version": "3.8.5"
  }
 },
 "nbformat": 4,
 "nbformat_minor": 4
}
